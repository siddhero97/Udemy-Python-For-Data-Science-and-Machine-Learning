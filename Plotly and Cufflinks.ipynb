{
 "cells": [
  {
   "cell_type": "markdown",
   "metadata": {},
   "source": [
    "# Plotly and Cufflinks"
   ]
  },
  {
   "cell_type": "code",
   "execution_count": 7,
   "metadata": {},
   "outputs": [
    {
     "name": "stdout",
     "output_type": "stream",
     "text": [
      "Requirement already satisfied: plotly in c:\\users\\thoma\\anaconda3\\lib\\site-packages (4.9.0)\n",
      "Requirement already satisfied: retrying>=1.3.3 in c:\\users\\thoma\\anaconda3\\lib\\site-packages (from plotly) (1.3.3)\n",
      "Requirement already satisfied: six in c:\\users\\thoma\\anaconda3\\lib\\site-packages (from plotly) (1.14.0)\n",
      "Note: you may need to restart the kernel to use updated packages.\n"
     ]
    }
   ],
   "source": [
    "pip install plotly"
   ]
  },
  {
   "cell_type": "code",
   "execution_count": 8,
   "metadata": {},
   "outputs": [
    {
     "name": "stdout",
     "output_type": "stream",
     "text": [
      "Requirement already satisfied: cufflinks in c:\\users\\thoma\\anaconda3\\lib\\site-packages (0.17.3)\n",
      "Requirement already satisfied: setuptools>=34.4.1 in c:\\users\\thoma\\anaconda3\\lib\\site-packages (from cufflinks) (45.2.0.post20200210)\n",
      "Requirement already satisfied: ipywidgets>=7.0.0 in c:\\users\\thoma\\anaconda3\\lib\\site-packages (from cufflinks) (7.5.1)\n",
      "Requirement already satisfied: ipython>=5.3.0 in c:\\users\\thoma\\anaconda3\\lib\\site-packages (from cufflinks) (7.12.0)\n",
      "Requirement already satisfied: pandas>=0.19.2 in c:\\users\\thoma\\anaconda3\\lib\\site-packages (from cufflinks) (1.0.1)\n",
      "Requirement already satisfied: plotly>=4.1.1 in c:\\users\\thoma\\anaconda3\\lib\\site-packages (from cufflinks) (4.9.0)\n",
      "Requirement already satisfied: colorlover>=0.2.1 in c:\\users\\thoma\\anaconda3\\lib\\site-packages (from cufflinks) (0.3.0)\n",
      "Requirement already satisfied: numpy>=1.9.2 in c:\\users\\thoma\\anaconda3\\lib\\site-packages (from cufflinks) (1.18.1)\n",
      "Requirement already satisfied: six>=1.9.0 in c:\\users\\thoma\\anaconda3\\lib\\site-packages (from cufflinks) (1.14.0)\n",
      "Requirement already satisfied: traitlets>=4.3.1 in c:\\users\\thoma\\anaconda3\\lib\\site-packages (from ipywidgets>=7.0.0->cufflinks) (4.3.3)\n",
      "Requirement already satisfied: widgetsnbextension~=3.5.0 in c:\\users\\thoma\\anaconda3\\lib\\site-packages (from ipywidgets>=7.0.0->cufflinks) (3.5.1)\n",
      "Requirement already satisfied: nbformat>=4.2.0 in c:\\users\\thoma\\anaconda3\\lib\\site-packages (from ipywidgets>=7.0.0->cufflinks) (5.0.4)\n",
      "Requirement already satisfied: ipykernel>=4.5.1 in c:\\users\\thoma\\anaconda3\\lib\\site-packages (from ipywidgets>=7.0.0->cufflinks) (5.1.4)\n",
      "Requirement already satisfied: jedi>=0.10 in c:\\users\\thoma\\anaconda3\\lib\\site-packages (from ipython>=5.3.0->cufflinks) (0.14.1)\n",
      "Requirement already satisfied: colorama; sys_platform == \"win32\" in c:\\users\\thoma\\anaconda3\\lib\\site-packages (from ipython>=5.3.0->cufflinks) (0.4.3)\n",
      "Requirement already satisfied: pickleshare in c:\\users\\thoma\\anaconda3\\lib\\site-packages (from ipython>=5.3.0->cufflinks) (0.7.5)\n",
      "Requirement already satisfied: backcall in c:\\users\\thoma\\anaconda3\\lib\\site-packages (from ipython>=5.3.0->cufflinks) (0.1.0)\n",
      "Requirement already satisfied: pygments in c:\\users\\thoma\\anaconda3\\lib\\site-packages (from ipython>=5.3.0->cufflinks) (2.5.2)\n",
      "Requirement already satisfied: decorator in c:\\users\\thoma\\anaconda3\\lib\\site-packages (from ipython>=5.3.0->cufflinks) (4.4.1)\n",
      "Requirement already satisfied: prompt-toolkit!=3.0.0,!=3.0.1,<3.1.0,>=2.0.0 in c:\\users\\thoma\\anaconda3\\lib\\site-packages (from ipython>=5.3.0->cufflinks) (3.0.3)\n",
      "Requirement already satisfied: pytz>=2017.2 in c:\\users\\thoma\\anaconda3\\lib\\site-packages (from pandas>=0.19.2->cufflinks) (2019.3)\n",
      "Requirement already satisfied: python-dateutil>=2.6.1 in c:\\users\\thoma\\anaconda3\\lib\\site-packages (from pandas>=0.19.2->cufflinks) (2.8.1)\n",
      "Requirement already satisfied: retrying>=1.3.3 in c:\\users\\thoma\\anaconda3\\lib\\site-packages (from plotly>=4.1.1->cufflinks) (1.3.3)\n",
      "Requirement already satisfied: ipython-genutils in c:\\users\\thoma\\anaconda3\\lib\\site-packages (from traitlets>=4.3.1->ipywidgets>=7.0.0->cufflinks) (0.2.0)\n",
      "Requirement already satisfied: notebook>=4.4.1 in c:\\users\\thoma\\anaconda3\\lib\\site-packages (from widgetsnbextension~=3.5.0->ipywidgets>=7.0.0->cufflinks) (6.0.3)\n",
      "Requirement already satisfied: jupyter-core in c:\\users\\thoma\\anaconda3\\lib\\site-packages (from nbformat>=4.2.0->ipywidgets>=7.0.0->cufflinks) (4.6.1)\n",
      "Requirement already satisfied: jsonschema!=2.5.0,>=2.4 in c:\\users\\thoma\\anaconda3\\lib\\site-packages (from nbformat>=4.2.0->ipywidgets>=7.0.0->cufflinks) (3.2.0)\n",
      "Requirement already satisfied: jupyter-client in c:\\users\\thoma\\anaconda3\\lib\\site-packages (from ipykernel>=4.5.1->ipywidgets>=7.0.0->cufflinks) (5.3.4)\n",
      "Requirement already satisfied: tornado>=4.2 in c:\\users\\thoma\\anaconda3\\lib\\site-packages (from ipykernel>=4.5.1->ipywidgets>=7.0.0->cufflinks) (6.0.3)\n",
      "Requirement already satisfied: parso>=0.5.0 in c:\\users\\thoma\\anaconda3\\lib\\site-packages (from jedi>=0.10->ipython>=5.3.0->cufflinks) (0.5.2)\n",
      "Requirement already satisfied: wcwidth in c:\\users\\thoma\\anaconda3\\lib\\site-packages (from prompt-toolkit!=3.0.0,!=3.0.1,<3.1.0,>=2.0.0->ipython>=5.3.0->cufflinks) (0.1.8)\n",
      "Requirement already satisfied: Send2Trash in c:\\users\\thoma\\anaconda3\\lib\\site-packages (from notebook>=4.4.1->widgetsnbextension~=3.5.0->ipywidgets>=7.0.0->cufflinks) (1.5.0)\n",
      "Requirement already satisfied: terminado>=0.8.1 in c:\\users\\thoma\\anaconda3\\lib\\site-packages (from notebook>=4.4.1->widgetsnbextension~=3.5.0->ipywidgets>=7.0.0->cufflinks) (0.8.3)\n",
      "Requirement already satisfied: nbconvert in c:\\users\\thoma\\anaconda3\\lib\\site-packages (from notebook>=4.4.1->widgetsnbextension~=3.5.0->ipywidgets>=7.0.0->cufflinks) (5.6.1)\n",
      "Requirement already satisfied: prometheus-client in c:\\users\\thoma\\anaconda3\\lib\\site-packages (from notebook>=4.4.1->widgetsnbextension~=3.5.0->ipywidgets>=7.0.0->cufflinks) (0.7.1)\n",
      "Requirement already satisfied: jinja2 in c:\\users\\thoma\\anaconda3\\lib\\site-packages (from notebook>=4.4.1->widgetsnbextension~=3.5.0->ipywidgets>=7.0.0->cufflinks) (2.11.1)\n",
      "Requirement already satisfied: pyzmq>=17 in c:\\users\\thoma\\anaconda3\\lib\\site-packages (from notebook>=4.4.1->widgetsnbextension~=3.5.0->ipywidgets>=7.0.0->cufflinks) (18.1.1)\n",
      "Requirement already satisfied: pywin32>=1.0; sys_platform == \"win32\" in c:\\users\\thoma\\anaconda3\\lib\\site-packages (from jupyter-core->nbformat>=4.2.0->ipywidgets>=7.0.0->cufflinks) (227)\n",
      "Requirement already satisfied: attrs>=17.4.0 in c:\\users\\thoma\\anaconda3\\lib\\site-packages (from jsonschema!=2.5.0,>=2.4->nbformat>=4.2.0->ipywidgets>=7.0.0->cufflinks) (19.3.0)\n",
      "Requirement already satisfied: importlib-metadata; python_version < \"3.8\" in c:\\users\\thoma\\anaconda3\\lib\\site-packages (from jsonschema!=2.5.0,>=2.4->nbformat>=4.2.0->ipywidgets>=7.0.0->cufflinks) (1.5.0)\n",
      "Requirement already satisfied: pyrsistent>=0.14.0 in c:\\users\\thoma\\anaconda3\\lib\\site-packages (from jsonschema!=2.5.0,>=2.4->nbformat>=4.2.0->ipywidgets>=7.0.0->cufflinks) (0.15.7)\n",
      "Requirement already satisfied: testpath in c:\\users\\thoma\\anaconda3\\lib\\site-packages (from nbconvert->notebook>=4.4.1->widgetsnbextension~=3.5.0->ipywidgets>=7.0.0->cufflinks) (0.4.4)\n",
      "Requirement already satisfied: mistune<2,>=0.8.1 in c:\\users\\thoma\\anaconda3\\lib\\site-packages (from nbconvert->notebook>=4.4.1->widgetsnbextension~=3.5.0->ipywidgets>=7.0.0->cufflinks) (0.8.4)\n",
      "Requirement already satisfied: pandocfilters>=1.4.1 in c:\\users\\thoma\\anaconda3\\lib\\site-packages (from nbconvert->notebook>=4.4.1->widgetsnbextension~=3.5.0->ipywidgets>=7.0.0->cufflinks) (1.4.2)\n",
      "Requirement already satisfied: defusedxml in c:\\users\\thoma\\anaconda3\\lib\\site-packages (from nbconvert->notebook>=4.4.1->widgetsnbextension~=3.5.0->ipywidgets>=7.0.0->cufflinks) (0.6.0)\n",
      "Requirement already satisfied: entrypoints>=0.2.2 in c:\\users\\thoma\\anaconda3\\lib\\site-packages (from nbconvert->notebook>=4.4.1->widgetsnbextension~=3.5.0->ipywidgets>=7.0.0->cufflinks) (0.3)\n",
      "Requirement already satisfied: bleach in c:\\users\\thoma\\anaconda3\\lib\\site-packages (from nbconvert->notebook>=4.4.1->widgetsnbextension~=3.5.0->ipywidgets>=7.0.0->cufflinks) (3.1.0)\n",
      "Requirement already satisfied: MarkupSafe>=0.23 in c:\\users\\thoma\\anaconda3\\lib\\site-packages (from jinja2->notebook>=4.4.1->widgetsnbextension~=3.5.0->ipywidgets>=7.0.0->cufflinks) (1.1.1)\n",
      "Requirement already satisfied: zipp>=0.5 in c:\\users\\thoma\\anaconda3\\lib\\site-packages (from importlib-metadata; python_version < \"3.8\"->jsonschema!=2.5.0,>=2.4->nbformat>=4.2.0->ipywidgets>=7.0.0->cufflinks) (2.2.0)\n",
      "Requirement already satisfied: webencodings in c:\\users\\thoma\\anaconda3\\lib\\site-packages (from bleach->nbconvert->notebook>=4.4.1->widgetsnbextension~=3.5.0->ipywidgets>=7.0.0->cufflinks) (0.5.1)\n",
      "Note: you may need to restart the kernel to use updated packages.\n"
     ]
    }
   ],
   "source": [
    "pip install cufflinks"
   ]
  },
  {
   "cell_type": "code",
   "execution_count": 9,
   "metadata": {},
   "outputs": [
    {
     "name": "stdout",
     "output_type": "stream",
     "text": [
      "Collecting chart-studio\n",
      "  Downloading chart_studio-1.1.0-py3-none-any.whl (64 kB)\n",
      "Requirement already satisfied: six in c:\\users\\thoma\\anaconda3\\lib\\site-packages (from chart-studio) (1.14.0)\n",
      "Requirement already satisfied: requests in c:\\users\\thoma\\anaconda3\\lib\\site-packages (from chart-studio) (2.22.0)\n",
      "Requirement already satisfied: plotly in c:\\users\\thoma\\anaconda3\\lib\\site-packages (from chart-studio) (4.9.0)\n",
      "Requirement already satisfied: retrying>=1.3.3 in c:\\users\\thoma\\anaconda3\\lib\\site-packages (from chart-studio) (1.3.3)\n",
      "Requirement already satisfied: certifi>=2017.4.17 in c:\\users\\thoma\\anaconda3\\lib\\site-packages (from requests->chart-studio) (2019.11.28)\n",
      "Requirement already satisfied: idna<2.9,>=2.5 in c:\\users\\thoma\\anaconda3\\lib\\site-packages (from requests->chart-studio) (2.8)\n",
      "Requirement already satisfied: urllib3!=1.25.0,!=1.25.1,<1.26,>=1.21.1 in c:\\users\\thoma\\anaconda3\\lib\\site-packages (from requests->chart-studio) (1.25.8)\n",
      "Requirement already satisfied: chardet<3.1.0,>=3.0.2 in c:\\users\\thoma\\anaconda3\\lib\\site-packages (from requests->chart-studio) (3.0.4)\n",
      "Installing collected packages: chart-studio\n",
      "Successfully installed chart-studio-1.1.0\n",
      "Note: you may need to restart the kernel to use updated packages.\n"
     ]
    }
   ],
   "source": [
    "pip install chart-studio"
   ]
  },
  {
   "cell_type": "code",
   "execution_count": 76,
   "metadata": {},
   "outputs": [],
   "source": [
    "import pandas as pd\n",
    "import numpy as np\n",
    "import plotly.graph_objs as go"
   ]
  },
  {
   "cell_type": "code",
   "execution_count": 11,
   "metadata": {},
   "outputs": [
    {
     "name": "stdout",
     "output_type": "stream",
     "text": [
      "4.9.0\n"
     ]
    }
   ],
   "source": [
    "from plotly import __version__\n",
    "print(__version__)"
   ]
  },
  {
   "cell_type": "code",
   "execution_count": 12,
   "metadata": {},
   "outputs": [],
   "source": [
    "import cufflinks as cf"
   ]
  },
  {
   "cell_type": "code",
   "execution_count": 14,
   "metadata": {},
   "outputs": [],
   "source": [
    "from plotly.offline import download_plotlyjs,init_notebook_mode,plot,iplot"
   ]
  },
  {
   "cell_type": "code",
   "execution_count": 15,
   "metadata": {},
   "outputs": [
    {
     "data": {
      "text/html": [
       "        <script type=\"text/javascript\">\n",
       "        window.PlotlyConfig = {MathJaxConfig: 'local'};\n",
       "        if (window.MathJax) {MathJax.Hub.Config({SVG: {font: \"STIX-Web\"}});}\n",
       "        if (typeof require !== 'undefined') {\n",
       "        require.undef(\"plotly\");\n",
       "        requirejs.config({\n",
       "            paths: {\n",
       "                'plotly': ['https://cdn.plot.ly/plotly-latest.min']\n",
       "            }\n",
       "        });\n",
       "        require(['plotly'], function(Plotly) {\n",
       "            window._Plotly = Plotly;\n",
       "        });\n",
       "        }\n",
       "        </script>\n",
       "        "
      ]
     },
     "metadata": {},
     "output_type": "display_data"
    }
   ],
   "source": [
    "init_notebook_mode(connected=True)"
   ]
  },
  {
   "cell_type": "code",
   "execution_count": 16,
   "metadata": {},
   "outputs": [
    {
     "data": {
      "text/html": [
       "        <script type=\"text/javascript\">\n",
       "        window.PlotlyConfig = {MathJaxConfig: 'local'};\n",
       "        if (window.MathJax) {MathJax.Hub.Config({SVG: {font: \"STIX-Web\"}});}\n",
       "        if (typeof require !== 'undefined') {\n",
       "        require.undef(\"plotly\");\n",
       "        requirejs.config({\n",
       "            paths: {\n",
       "                'plotly': ['https://cdn.plot.ly/plotly-latest.min']\n",
       "            }\n",
       "        });\n",
       "        require(['plotly'], function(Plotly) {\n",
       "            window._Plotly = Plotly;\n",
       "        });\n",
       "        }\n",
       "        </script>\n",
       "        "
      ]
     },
     "metadata": {},
     "output_type": "display_data"
    }
   ],
   "source": [
    "cf.go_offline()"
   ]
  },
  {
   "cell_type": "code",
   "execution_count": 17,
   "metadata": {},
   "outputs": [],
   "source": [
    "# DATA\n",
    "df=pd.DataFrame(np.random.randn(100,4),columns='A B C D'.split())"
   ]
  },
  {
   "cell_type": "code",
   "execution_count": 18,
   "metadata": {},
   "outputs": [
    {
     "data": {
      "text/html": [
       "<div>\n",
       "<style scoped>\n",
       "    .dataframe tbody tr th:only-of-type {\n",
       "        vertical-align: middle;\n",
       "    }\n",
       "\n",
       "    .dataframe tbody tr th {\n",
       "        vertical-align: top;\n",
       "    }\n",
       "\n",
       "    .dataframe thead th {\n",
       "        text-align: right;\n",
       "    }\n",
       "</style>\n",
       "<table border=\"1\" class=\"dataframe\">\n",
       "  <thead>\n",
       "    <tr style=\"text-align: right;\">\n",
       "      <th></th>\n",
       "      <th>A</th>\n",
       "      <th>B</th>\n",
       "      <th>C</th>\n",
       "      <th>D</th>\n",
       "    </tr>\n",
       "  </thead>\n",
       "  <tbody>\n",
       "    <tr>\n",
       "      <th>0</th>\n",
       "      <td>-0.016621</td>\n",
       "      <td>-0.430857</td>\n",
       "      <td>-2.009266</td>\n",
       "      <td>1.050170</td>\n",
       "    </tr>\n",
       "    <tr>\n",
       "      <th>1</th>\n",
       "      <td>0.895292</td>\n",
       "      <td>-0.194886</td>\n",
       "      <td>-1.259803</td>\n",
       "      <td>0.445180</td>\n",
       "    </tr>\n",
       "    <tr>\n",
       "      <th>2</th>\n",
       "      <td>0.084938</td>\n",
       "      <td>0.256611</td>\n",
       "      <td>-0.276095</td>\n",
       "      <td>0.019322</td>\n",
       "    </tr>\n",
       "    <tr>\n",
       "      <th>3</th>\n",
       "      <td>-0.095891</td>\n",
       "      <td>-1.308695</td>\n",
       "      <td>-0.936508</td>\n",
       "      <td>0.995376</td>\n",
       "    </tr>\n",
       "    <tr>\n",
       "      <th>4</th>\n",
       "      <td>-0.412220</td>\n",
       "      <td>0.833038</td>\n",
       "      <td>-0.746772</td>\n",
       "      <td>0.511040</td>\n",
       "    </tr>\n",
       "  </tbody>\n",
       "</table>\n",
       "</div>"
      ],
      "text/plain": [
       "          A         B         C         D\n",
       "0 -0.016621 -0.430857 -2.009266  1.050170\n",
       "1  0.895292 -0.194886 -1.259803  0.445180\n",
       "2  0.084938  0.256611 -0.276095  0.019322\n",
       "3 -0.095891 -1.308695 -0.936508  0.995376\n",
       "4 -0.412220  0.833038 -0.746772  0.511040"
      ]
     },
     "execution_count": 18,
     "metadata": {},
     "output_type": "execute_result"
    }
   ],
   "source": [
    "df.head()"
   ]
  },
  {
   "cell_type": "code",
   "execution_count": 21,
   "metadata": {},
   "outputs": [],
   "source": [
    "df2 = pd.DataFrame({'Category': ['A','B','C'],\"Values\":[32,43,50]})"
   ]
  },
  {
   "cell_type": "code",
   "execution_count": 22,
   "metadata": {},
   "outputs": [
    {
     "data": {
      "text/html": [
       "<div>\n",
       "<style scoped>\n",
       "    .dataframe tbody tr th:only-of-type {\n",
       "        vertical-align: middle;\n",
       "    }\n",
       "\n",
       "    .dataframe tbody tr th {\n",
       "        vertical-align: top;\n",
       "    }\n",
       "\n",
       "    .dataframe thead th {\n",
       "        text-align: right;\n",
       "    }\n",
       "</style>\n",
       "<table border=\"1\" class=\"dataframe\">\n",
       "  <thead>\n",
       "    <tr style=\"text-align: right;\">\n",
       "      <th></th>\n",
       "      <th>Category</th>\n",
       "      <th>Values</th>\n",
       "    </tr>\n",
       "  </thead>\n",
       "  <tbody>\n",
       "    <tr>\n",
       "      <th>0</th>\n",
       "      <td>A</td>\n",
       "      <td>32</td>\n",
       "    </tr>\n",
       "    <tr>\n",
       "      <th>1</th>\n",
       "      <td>B</td>\n",
       "      <td>43</td>\n",
       "    </tr>\n",
       "    <tr>\n",
       "      <th>2</th>\n",
       "      <td>C</td>\n",
       "      <td>50</td>\n",
       "    </tr>\n",
       "  </tbody>\n",
       "</table>\n",
       "</div>"
      ],
      "text/plain": [
       "  Category  Values\n",
       "0        A      32\n",
       "1        B      43\n",
       "2        C      50"
      ]
     },
     "execution_count": 22,
     "metadata": {},
     "output_type": "execute_result"
    }
   ],
   "source": [
    "df2"
   ]
  },
  {
   "cell_type": "code",
   "execution_count": 23,
   "metadata": {},
   "outputs": [
    {
     "data": {
      "text/plain": [
       "<matplotlib.axes._subplots.AxesSubplot at 0x27c90476508>"
      ]
     },
     "execution_count": 23,
     "metadata": {},
     "output_type": "execute_result"
    },
    {
     "data": {
      "image/png": "[encoded data removed]",
      "text/plain": [
       "<Figure size 432x288 with 1 Axes>"
      ]
     },
     "metadata": {
      "needs_background": "light"
     },
     "output_type": "display_data"
    }
   ],
   "source": [
    "df.plot()"
   ]
  },
  {
   "cell_type": "code",
   "execution_count": 24,
   "metadata": {},
   "outputs": [],
   "source": [
    "%matplotlib inline"
   ]
  },
  {
   "cell_type": "code",
   "execution_count": 26,
   "metadata": {},
   "outputs": [
    {
     "data": {
      "application/vnd.plotly.v1+json": {
       "config": {
        "linkText": "Export to plot.ly",
        "plotlyServerURL": "https://plot.ly",
        "showLink": true
       },
       "data": [
        {
         "line": {
          "color": "rgba(255, 153, 51, 1.0)",
          "dash": "solid",
          "shape": "linear",
          "width": 1.3
         },
         "mode": "lines",
         "name": "A",
         "text": "",
         "type": "scatter",
         "x": [
          0,
          1,
          2,
          3,
          4,
          5,
          6,
          7,
          8,
          9,
          10,
          11,
          12,
          13,
          14,
          15,
          16,
          17,
          18,
          19,
          20,
          21,
          22,
          23,
          24,
          25,
          26,
          27,
          28,
          29,
          30,
          31,
          32,
          33,
          34,
          35,
          36,
          37,
          38,
          39,
          40,
          41,
          42,
          43,
          44,
          45,
          46,
          47,
          48,
          49,
          50,
          51,
          52,
          53,
          54,
          55,
          56,
          57,
          58,
          59,
          60,
          61,
          62,
          63,
          64,
          65,
          66,
          67,
          68,
          69,
          70,
          71,
          72,
          73,
          74,
          75,
          76,
          77,
          78,
          79,
          80,
          81,
          82,
          83,
          84,
          85,
          86,
          87,
          88,
          89,
          90,
          91,
          92,
          93,
          94,
          95,
          96,
          97,
          98,
          99
         ],
         "y": [
          -0.01662130328228244,
          0.8952922062355154,
          0.08493791794765844,
          -0.09589135686355073,
          -0.4122201947502266,
          -0.20360574556365796,
          -1.3226112787089954,
          -0.7048337371978483,
          0.04150771300361059,
          -0.016184912767458252,
          -0.7836247979483332,
          -0.41697995913853403,
          -1.5145544317741388,
          -0.9872935372845854,
          2.8600594602810627,
          0.7879441726553916,
          -0.2813608872356518,
          -0.6513622033836487,
          -0.3833614492804819,
          0.16483281378445427,
          -2.1741767017157674,
          -1.6507999144342882,
          1.233849002951117,
          1.8853071817620293,
          -1.5954169238801832,
          -0.5522359603285474,
          -0.1776701185864922,
          -0.44322099515839536,
          1.0203828724791646,
          -0.746502813707562,
          -0.9880780584427672,
          -0.1989813172992508,
          1.028266715119139,
          0.9046343789939094,
          -0.24335430626921478,
          1.4808496271033058,
          1.183551097291823,
          0.7818177335952013,
          2.6317909237286803,
          -1.43255595184391,
          -0.5375396949804877,
          -0.9652461283114274,
          -0.37225584275459644,
          0.14086596179529387,
          2.1088529093442165,
          1.754446737290178,
          0.3204895796285177,
          0.5431393205854986,
          -0.26921450300987526,
          1.2276137248806802,
          2.18564194957632,
          -0.4189445878428453,
          -0.08003270330739348,
          0.8616685014005222,
          0.3204625049333791,
          -0.5444096849865591,
          1.4381126068067536,
          -1.5508518741330823,
          -1.7451055721182847,
          1.393700428608044,
          0.5528230108651216,
          -0.6354989243573955,
          0.5941962167234219,
          -1.498736192404156,
          1.2550871276452416,
          -0.8096320399507062,
          0.24176403155914405,
          0.4183631446701141,
          -1.7819580157798707,
          -0.587756797309145,
          -0.38795341821094526,
          0.07830346473682828,
          0.002456668961825936,
          1.9450473657318994,
          0.7258558214498236,
          -1.0099384838064072,
          0.28353464707170767,
          -1.0649028041957125,
          0.5771518242200254,
          0.8046577717798538,
          -0.10976143995602793,
          1.0417233039507987,
          -0.6800719626994939,
          -0.6139450381025275,
          0.46504150196282273,
          0.48002415552846633,
          -2.0624178821863004,
          1.4590453138925938,
          -0.06592069257443393,
          1.3037006920198502,
          -1.0417291996549434,
          -1.393953962398956,
          -0.09525476965697717,
          -0.11489070095885666,
          2.4005052823632567,
          -0.9318581112304919,
          0.941522431201813,
          0.19568237193128438,
          0.10374442540451675,
          -1.3981329572930432
         ]
        },
        {
         "line": {
          "color": "rgba(55, 128, 191, 1.0)",
          "dash": "solid",
          "shape": "linear",
          "width": 1.3
         },
         "mode": "lines",
         "name": "B",
         "text": "",
         "type": "scatter",
         "x": [
          0,
          1,
          2,
          3,
          4,
          5,
          6,
          7,
          8,
          9,
          10,
          11,
          12,
          13,
          14,
          15,
          16,
          17,
          18,
          19,
          20,
          21,
          22,
          23,
          24,
          25,
          26,
          27,
          28,
          29,
          30,
          31,
          32,
          33,
          34,
          35,
          36,
          37,
          38,
          39,
          40,
          41,
          42,
          43,
          44,
          45,
          46,
          47,
          48,
          49,
          50,
          51,
          52,
          53,
          54,
          55,
          56,
          57,
          58,
          59,
          60,
          61,
          62,
          63,
          64,
          65,
          66,
          67,
          68,
          69,
          70,
          71,
          72,
          73,
          74,
          75,
          76,
          77,
          78,
          79,
          80,
          81,
          82,
          83,
          84,
          85,
          86,
          87,
          88,
          89,
          90,
          91,
          92,
          93,
          94,
          95,
          96,
          97,
          98,
          99
         ],
         "y": [
          -0.43085692617183563,
          -0.1948859952808109,
          0.25661125162705656,
          -1.3086950885020459,
          0.8330382361581136,
          -0.6953289463874578,
          -0.041546759765450116,
          0.3766966051839097,
          -0.4106742584914722,
          -0.5017699496138679,
          0.011010566296178933,
          0.7150811983334743,
          0.8531750275133767,
          2.1930241736297655,
          0.6183354743888189,
          -0.2543897369151032,
          1.976789309709738,
          0.9045016370030701,
          0.6176953549838936,
          -0.4420620066123814,
          0.004259990892965676,
          -0.6890818854195719,
          0.1284746414788866,
          1.1565973705210073,
          -0.1669069048135824,
          0.9510917351310352,
          0.3776204353934389,
          -0.6104100303510119,
          0.8194742730220135,
          1.040708142451746,
          -0.8233687567505201,
          -1.1344997698956967,
          -0.2957474277602403,
          -0.6732382334575902,
          -0.20198607174310862,
          -0.5191193334283744,
          0.025830849269225062,
          -0.7336763065006728,
          1.2444882142572342,
          -1.4366617646017776,
          1.1881118540595137,
          0.954362185403333,
          -0.1636882464763225,
          0.2585056931294286,
          0.307000591264868,
          0.5053904332689658,
          1.371257331498223,
          0.8284466732128394,
          -1.6398779068387968,
          0.1312492505552544,
          -2.0782358481550904,
          -0.045307906304940145,
          0.16728844758876973,
          0.4199691612388556,
          0.5537924522559142,
          -0.472466174965874,
          -0.43842800336219834,
          -0.8086583687303776,
          -1.4472922254350542,
          1.5432229404089068,
          0.09327407639879354,
          -1.7151607168181384,
          0.31547264421701804,
          -0.6409782017093438,
          -0.5888934484654935,
          -0.2589297494469279,
          0.4095662405359321,
          -0.7827392201998249,
          0.8536261771615004,
          -0.13667988806894107,
          0.014275802400758018,
          0.2700521255686095,
          0.0713171499641922,
          -1.6360217944335709,
          1.1316472826520418,
          0.21966931057515063,
          -1.0415257873712767,
          -0.673080884585363,
          0.6417494538653378,
          -2.575256173392799,
          -1.301392718985718,
          -1.3280555679474806,
          -0.3988933059066309,
          -1.4320562115681523,
          -0.5208466357235377,
          0.6283326705144111,
          -0.4993914177816305,
          2.3803973130583707,
          -1.404107842111614,
          -0.05799211063099601,
          -1.1984196002600367,
          -0.14252971995716965,
          -0.3981381038453286,
          -0.3917743490224008,
          1.5356909803434518,
          0.5644974004458589,
          0.36323243100145386,
          0.5520098897203459,
          -0.6462900576233668,
          1.1144001381118762
         ]
        },
        {
         "line": {
          "color": "rgba(50, 171, 96, 1.0)",
          "dash": "solid",
          "shape": "linear",
          "width": 1.3
         },
         "mode": "lines",
         "name": "C",
         "text": "",
         "type": "scatter",
         "x": [
          0,
          1,
          2,
          3,
          4,
          5,
          6,
          7,
          8,
          9,
          10,
          11,
          12,
          13,
          14,
          15,
          16,
          17,
          18,
          19,
          20,
          21,
          22,
          23,
          24,
          25,
          26,
          27,
          28,
          29,
          30,
          31,
          32,
          33,
          34,
          35,
          36,
          37,
          38,
          39,
          40,
          41,
          42,
          43,
          44,
          45,
          46,
          47,
          48,
          49,
          50,
          51,
          52,
          53,
          54,
          55,
          56,
          57,
          58,
          59,
          60,
          61,
          62,
          63,
          64,
          65,
          66,
          67,
          68,
          69,
          70,
          71,
          72,
          73,
          74,
          75,
          76,
          77,
          78,
          79,
          80,
          81,
          82,
          83,
          84,
          85,
          86,
          87,
          88,
          89,
          90,
          91,
          92,
          93,
          94,
          95,
          96,
          97,
          98,
          99
         ],
         "y": [
          -2.0092660704673566,
          -1.2598029689852777,
          -0.2760950755895815,
          -0.9365077817146868,
          -0.7467722748457818,
          -0.7267174990662252,
          0.8107639722666636,
          0.3018313256185027,
          -0.2779338079594555,
          1.0850989578462957,
          1.0633890945862559,
          0.19984988072986953,
          -1.0240416296636121,
          0.5038285176790187,
          0.06717667510847727,
          0.7185919144131047,
          -0.49171157314491626,
          -0.7679077810892389,
          1.5701249112688236,
          -0.47251103418643026,
          1.9430557828822212,
          0.2379297319180449,
          0.36707306677115453,
          0.006699107693457233,
          -1.0180537128174496,
          -0.6080580473072035,
          1.0185946954688905,
          0.5714696913211738,
          0.09143339844861038,
          2.070139494439533,
          1.140804725949334,
          0.6126110616024626,
          0.4563101220852704,
          -2.2654786046256543,
          -0.4029428049342183,
          -0.16962658908939526,
          -0.24096898379316878,
          -1.0073125456045633,
          0.28463786120973017,
          0.9529151893853018,
          -1.2378966892029355,
          -0.06963240847971755,
          -0.7032964127927137,
          -0.5809832596471718,
          0.29449307116870876,
          0.33243510188444925,
          0.4977579983615313,
          -0.9257449819489063,
          -0.41725764974537366,
          0.4848070737197375,
          0.43930170517402317,
          0.23065023494261755,
          0.4816217241293878,
          0.04799816907981186,
          -0.3974323820653122,
          0.7903361874598068,
          1.4322150789264265,
          -1.647709706473274,
          -2.3800258277526543,
          0.6970445446703903,
          0.8316708876679342,
          -1.5158979051133505,
          -0.14986630629837563,
          -1.0493727521665157,
          1.701201455937589,
          -0.1410913288683814,
          0.2685239479223764,
          -0.7600369349891372,
          -0.4742547385039707,
          -0.8220107130507899,
          0.8445080140789566,
          -0.324027172344423,
          -0.4178030661196102,
          -0.26596041408454146,
          0.5523489460368105,
          -0.7026605411631265,
          0.13994365329359548,
          -0.04065613857973858,
          -0.28547939736187256,
          0.3388705179018651,
          0.9668821132900235,
          1.7880873782211257,
          1.9386610560756863,
          -0.34094180091834364,
          -1.1192837035162806,
          0.6279726842636103,
          0.6200042114970403,
          -1.4264867124427423,
          -1.809853283787445,
          -1.193888458973862,
          0.08685450082155578,
          -0.7102321011128129,
          1.2846765718116526,
          -1.123680140228286,
          -0.2806606072097656,
          -1.4896739546532576,
          0.6295603599603866,
          1.1136656548999315,
          0.9536097103790099,
          -0.7080867626264907
         ]
        },
        {
         "line": {
          "color": "rgba(128, 0, 128, 1.0)",
          "dash": "solid",
          "shape": "linear",
          "width": 1.3
         },
         "mode": "lines",
         "name": "D",
         "text": "",
         "type": "scatter",
         "x": [
          0,
          1,
          2,
          3,
          4,
          5,
          6,
          7,
          8,
          9,
          10,
          11,
          12,
          13,
          14,
          15,
          16,
          17,
          18,
          19,
          20,
          21,
          22,
          23,
          24,
          25,
          26,
          27,
          28,
          29,
          30,
          31,
          32,
          33,
          34,
          35,
          36,
          37,
          38,
          39,
          40,
          41,
          42,
          43,
          44,
          45,
          46,
          47,
          48,
          49,
          50,
          51,
          52,
          53,
          54,
          55,
          56,
          57,
          58,
          59,
          60,
          61,
          62,
          63,
          64,
          65,
          66,
          67,
          68,
          69,
          70,
          71,
          72,
          73,
          74,
          75,
          76,
          77,
          78,
          79,
          80,
          81,
          82,
          83,
          84,
          85,
          86,
          87,
          88,
          89,
          90,
          91,
          92,
          93,
          94,
          95,
          96,
          97,
          98,
          99
         ],
         "y": [
          1.0501701145422817,
          0.4451796840776505,
          0.019322074864412696,
          0.9953761305418058,
          0.5110397705048686,
          -0.803700035088617,
          2.6444092391724636,
          0.7893356856324825,
          -0.08471694230445719,
          -1.3109737377927366,
          0.4248306638940191,
          1.3717385676996887,
          0.40107501810780155,
          -0.8911298914144757,
          -0.17802975610778662,
          0.45954921920579067,
          -1.2291934521608001,
          1.5879628450775962,
          2.3950384881567475,
          0.7864211027184705,
          0.44696414651942606,
          -0.7688917608863599,
          0.8034469969539286,
          -0.2441696518488366,
          0.7946135467706282,
          0.4629228010763608,
          2.4375744559135692,
          -2.0666459708872487,
          1.3369394395351957,
          0.281544068694196,
          1.40868549926317,
          1.7007000788755262,
          -0.5707362211763846,
          0.30086898022664293,
          -0.9768980954609655,
          0.3212560453655524,
          0.7156443033399906,
          -1.2165459335403617,
          -0.20839221483710563,
          -0.0058505078818461,
          -0.6256249650976695,
          -0.34208821825767766,
          2.9057635151997228,
          1.1898121704981293,
          0.7748839366899357,
          0.775858103384347,
          1.734019655618904,
          0.4883218411991308,
          0.48319375293985073,
          0.07251905790818866,
          -0.2737028732193538,
          -0.21945236052007253,
          -0.8829581220812761,
          -1.3291278492107135,
          2.327960742028899,
          0.11235642184377229,
          -0.31755903220376597,
          1.3147441857811188,
          0.4011430411094645,
          -0.859875508599031,
          0.6827306411077664,
          1.4857854264842902,
          0.7311732289637328,
          -2.418153976778658,
          0.9536327739040761,
          -1.7769454655989747,
          -0.42076296424642096,
          -1.1229235007551497,
          -0.41217731324319673,
          2.099699703404748,
          -1.9289629279399207,
          -0.5093084117755678,
          1.0742848834728373,
          0.6702312418547619,
          -0.25349917550157963,
          -0.669305397468498,
          -1.693821178889706,
          0.5103274302378665,
          1.0541391062646233,
          -0.5976418342961541,
          0.8682392696715692,
          -0.6697941242150638,
          0.9742988020969872,
          0.4783934061363041,
          -0.10945425289967044,
          0.5579648469307343,
          0.061882101624842645,
          -0.45157774335416456,
          0.6161163305270498,
          -0.054394521326319764,
          -1.5735721687894109,
          0.5705772210638205,
          0.5761796006749031,
          0.1844921493983869,
          -0.24892164936248318,
          -1.2743548062088557,
          0.6984023222628456,
          1.1154228312324685,
          -0.7900145646772628,
          -0.4938822454556439
         ]
        }
       ],
       "layout": {
        "legend": {
         "bgcolor": "#F5F6F9",
         "font": {
          "color": "#4D5663"
         }
        },
        "paper_bgcolor": "#F5F6F9",
        "plot_bgcolor": "#F5F6F9",
        "template": {
         "data": {
          "bar": [
           {
            "error_x": {
             "color": "#2a3f5f"
            },
            "error_y": {
             "color": "#2a3f5f"
            },
            "marker": {
             "line": {
              "color": "#E5ECF6",
              "width": 0.5
             }
            },
            "type": "bar"
           }
          ],
          "barpolar": [
           {
            "marker": {
             "line": {
              "color": "#E5ECF6",
              "width": 0.5
             }
            },
            "type": "barpolar"
           }
          ],
          "carpet": [
           {
            "aaxis": {
             "endlinecolor": "#2a3f5f",
             "gridcolor": "white",
             "linecolor": "white",
             "minorgridcolor": "white",
             "startlinecolor": "#2a3f5f"
            },
            "baxis": {
             "endlinecolor": "#2a3f5f",
             "gridcolor": "white",
             "linecolor": "white",
             "minorgridcolor": "white",
             "startlinecolor": "#2a3f5f"
            },
            "type": "carpet"
           }
          ],
          "choropleth": [
           {
            "colorbar": {
             "outlinewidth": 0,
             "ticks": ""
            },
            "type": "choropleth"
           }
          ],
          "contour": [
           {
            "colorbar": {
             "outlinewidth": 0,
             "ticks": ""
            },
            "colorscale": [
             [
              0,
              "#0d0887"
             ],
             [
              0.1111111111111111,
              "#46039f"
             ],
             [
              0.2222222222222222,
              "#7201a8"
             ],
             [
              0.3333333333333333,
              "#9c179e"
             ],
             [
              0.4444444444444444,
              "#bd3786"
             ],
             [
              0.5555555555555556,
              "#d8576b"
             ],
             [
              0.6666666666666666,
              "#ed7953"
             ],
             [
              0.7777777777777778,
              "#fb9f3a"
             ],
             [
              0.8888888888888888,
              "#fdca26"
             ],
             [
              1,
              "#f0f921"
             ]
            ],
            "type": "contour"
           }
          ],
          "contourcarpet": [
           {
            "colorbar": {
             "outlinewidth": 0,
             "ticks": ""
            },
            "type": "contourcarpet"
           }
          ],
          "heatmap": [
           {
            "colorbar": {
             "outlinewidth": 0,
             "ticks": ""
            },
            "colorscale": [
             [
              0,
              "#0d0887"
             ],
             [
              0.1111111111111111,
              "#46039f"
             ],
             [
              0.2222222222222222,
              "#7201a8"
             ],
             [
              0.3333333333333333,
              "#9c179e"
             ],
             [
              0.4444444444444444,
              "#bd3786"
             ],
             [
              0.5555555555555556,
              "#d8576b"
             ],
             [
              0.6666666666666666,
              "#ed7953"
             ],
             [
              0.7777777777777778,
              "#fb9f3a"
             ],
             [
              0.8888888888888888,
              "#fdca26"
             ],
             [
              1,
              "#f0f921"
             ]
            ],
            "type": "heatmap"
           }
          ],
          "heatmapgl": [
           {
            "colorbar": {
             "outlinewidth": 0,
             "ticks": ""
            },
            "colorscale": [
             [
              0,
              "#0d0887"
             ],
             [
              0.1111111111111111,
              "#46039f"
             ],
             [
              0.2222222222222222,
              "#7201a8"
             ],
             [
              0.3333333333333333,
              "#9c179e"
             ],
             [
              0.4444444444444444,
              "#bd3786"
             ],
             [
              0.5555555555555556,
              "#d8576b"
             ],
             [
              0.6666666666666666,
              "#ed7953"
             ],
             [
              0.7777777777777778,
              "#fb9f3a"
             ],
             [
              0.8888888888888888,
              "#fdca26"
             ],
             [
              1,
              "#f0f921"
             ]
            ],
            "type": "heatmapgl"
           }
          ],
          "histogram": [
           {
            "marker": {
             "colorbar": {
              "outlinewidth": 0,
              "ticks": ""
             }
            },
            "type": "histogram"
           }
          ],
          "histogram2d": [
           {
            "colorbar": {
             "outlinewidth": 0,
             "ticks": ""
            },
            "colorscale": [
             [
              0,
              "#0d0887"
             ],
             [
              0.1111111111111111,
              "#46039f"
             ],
             [
              0.2222222222222222,
              "#7201a8"
             ],
             [
              0.3333333333333333,
              "#9c179e"
             ],
             [
              0.4444444444444444,
              "#bd3786"
             ],
             [
              0.5555555555555556,
              "#d8576b"
             ],
             [
              0.6666666666666666,
              "#ed7953"
             ],
             [
              0.7777777777777778,
              "#fb9f3a"
             ],
             [
              0.8888888888888888,
              "#fdca26"
             ],
             [
              1,
              "#f0f921"
             ]
            ],
            "type": "histogram2d"
           }
          ],
          "histogram2dcontour": [
           {
            "colorbar": {
             "outlinewidth": 0,
             "ticks": ""
            },
            "colorscale": [
             [
              0,
              "#0d0887"
             ],
             [
              0.1111111111111111,
              "#46039f"
             ],
             [
              0.2222222222222222,
              "#7201a8"
             ],
             [
              0.3333333333333333,
              "#9c179e"
             ],
             [
              0.4444444444444444,
              "#bd3786"
             ],
             [
              0.5555555555555556,
              "#d8576b"
             ],
             [
              0.6666666666666666,
              "#ed7953"
             ],
             [
              0.7777777777777778,
              "#fb9f3a"
             ],
             [
              0.8888888888888888,
              "#fdca26"
             ],
             [
              1,
              "#f0f921"
             ]
            ],
            "type": "histogram2dcontour"
           }
          ],
          "mesh3d": [
           {
            "colorbar": {
             "outlinewidth": 0,
             "ticks": ""
            },
            "type": "mesh3d"
           }
          ],
          "parcoords": [
           {
            "line": {
             "colorbar": {
              "outlinewidth": 0,
              "ticks": ""
             }
            },
            "type": "parcoords"
           }
          ],
          "pie": [
           {
            "automargin": true,
            "type": "pie"
           }
          ],
          "scatter": [
           {
            "marker": {
             "colorbar": {
              "outlinewidth": 0,
              "ticks": ""
             }
            },
            "type": "scatter"
           }
          ],
          "scatter3d": [
           {
            "line": {
             "colorbar": {
              "outlinewidth": 0,
              "ticks": ""
             }
            },
            "marker": {
             "colorbar": {
              "outlinewidth": 0,
              "ticks": ""
             }
            },
            "type": "scatter3d"
           }
          ],
          "scattercarpet": [
           {
            "marker": {
             "colorbar": {
              "outlinewidth": 0,
              "ticks": ""
             }
            },
            "type": "scattercarpet"
           }
          ],
          "scattergeo": [
           {
            "marker": {
             "colorbar": {
              "outlinewidth": 0,
              "ticks": ""
             }
            },
            "type": "scattergeo"
           }
          ],
          "scattergl": [
           {
            "marker": {
             "colorbar": {
              "outlinewidth": 0,
              "ticks": ""
             }
            },
            "type": "scattergl"
           }
          ],
          "scattermapbox": [
           {
            "marker": {
             "colorbar": {
              "outlinewidth": 0,
              "ticks": ""
             }
            },
            "type": "scattermapbox"
           }
          ],
          "scatterpolar": [
           {
            "marker": {
             "colorbar": {
              "outlinewidth": 0,
              "ticks": ""
             }
            },
            "type": "scatterpolar"
           }
          ],
          "scatterpolargl": [
           {
            "marker": {
             "colorbar": {
              "outlinewidth": 0,
              "ticks": ""
             }
            },
            "type": "scatterpolargl"
           }
          ],
          "scatterternary": [
           {
            "marker": {
             "colorbar": {
              "outlinewidth": 0,
              "ticks": ""
             }
            },
            "type": "scatterternary"
           }
          ],
          "surface": [
           {
            "colorbar": {
             "outlinewidth": 0,
             "ticks": ""
            },
            "colorscale": [
             [
              0,
              "#0d0887"
             ],
             [
              0.1111111111111111,
              "#46039f"
             ],
             [
              0.2222222222222222,
              "#7201a8"
             ],
             [
              0.3333333333333333,
              "#9c179e"
             ],
             [
              0.4444444444444444,
              "#bd3786"
             ],
             [
              0.5555555555555556,
              "#d8576b"
             ],
             [
              0.6666666666666666,
              "#ed7953"
             ],
             [
              0.7777777777777778,
              "#fb9f3a"
             ],
             [
              0.8888888888888888,
              "#fdca26"
             ],
             [
              1,
              "#f0f921"
             ]
            ],
            "type": "surface"
           }
          ],
          "table": [
           {
            "cells": {
             "fill": {
              "color": "#EBF0F8"
             },
             "line": {
              "color": "white"
             }
            },
            "header": {
             "fill": {
              "color": "#C8D4E3"
             },
             "line": {
              "color": "white"
             }
            },
            "type": "table"
           }
          ]
         },
         "layout": {
          "annotationdefaults": {
           "arrowcolor": "#2a3f5f",
           "arrowhead": 0,
           "arrowwidth": 1
          },
          "coloraxis": {
           "colorbar": {
            "outlinewidth": 0,
            "ticks": ""
           }
          },
          "colorscale": {
           "diverging": [
            [
             0,
             "#8e0152"
            ],
            [
             0.1,
             "#c51b7d"
            ],
            [
             0.2,
             "#de77ae"
            ],
            [
             0.3,
             "#f1b6da"
            ],
            [
             0.4,
             "#fde0ef"
            ],
            [
             0.5,
             "#f7f7f7"
            ],
            [
             0.6,
             "#e6f5d0"
            ],
            [
             0.7,
             "#b8e186"
            ],
            [
             0.8,
             "#7fbc41"
            ],
            [
             0.9,
             "#4d9221"
            ],
            [
             1,
             "#276419"
            ]
           ],
           "sequential": [
            [
             0,
             "#0d0887"
            ],
            [
             0.1111111111111111,
             "#46039f"
            ],
            [
             0.2222222222222222,
             "#7201a8"
            ],
            [
             0.3333333333333333,
             "#9c179e"
            ],
            [
             0.4444444444444444,
             "#bd3786"
            ],
            [
             0.5555555555555556,
             "#d8576b"
            ],
            [
             0.6666666666666666,
             "#ed7953"
            ],
            [
             0.7777777777777778,
             "#fb9f3a"
            ],
            [
             0.8888888888888888,
             "#fdca26"
            ],
            [
             1,
             "#f0f921"
            ]
           ],
           "sequentialminus": [
            [
             0,
             "#0d0887"
            ],
            [
             0.1111111111111111,
             "#46039f"
            ],
            [
             0.2222222222222222,
             "#7201a8"
            ],
            [
             0.3333333333333333,
             "#9c179e"
            ],
            [
             0.4444444444444444,
             "#bd3786"
            ],
            [
             0.5555555555555556,
             "#d8576b"
            ],
            [
             0.6666666666666666,
             "#ed7953"
            ],
            [
             0.7777777777777778,
             "#fb9f3a"
            ],
            [
             0.8888888888888888,
             "#fdca26"
            ],
            [
             1,
             "#f0f921"
            ]
           ]
          },
          "colorway": [
           "#636efa",
           "#EF553B",
           "#00cc96",
           "#ab63fa",
           "#FFA15A",
           "#19d3f3",
           "#FF6692",
           "#B6E880",
           "#FF97FF",
           "#FECB52"
          ],
          "font": {
           "color": "#2a3f5f"
          },
          "geo": {
           "bgcolor": "white",
           "lakecolor": "white",
           "landcolor": "#E5ECF6",
           "showlakes": true,
           "showland": true,
           "subunitcolor": "white"
          },
          "hoverlabel": {
           "align": "left"
          },
          "hovermode": "closest",
          "mapbox": {
           "style": "light"
          },
          "paper_bgcolor": "white",
          "plot_bgcolor": "#E5ECF6",
          "polar": {
           "angularaxis": {
            "gridcolor": "white",
            "linecolor": "white",
            "ticks": ""
           },
           "bgcolor": "#E5ECF6",
           "radialaxis": {
            "gridcolor": "white",
            "linecolor": "white",
            "ticks": ""
           }
          },
          "scene": {
           "xaxis": {
            "backgroundcolor": "#E5ECF6",
            "gridcolor": "white",
            "gridwidth": 2,
            "linecolor": "white",
            "showbackground": true,
            "ticks": "",
            "zerolinecolor": "white"
           },
           "yaxis": {
            "backgroundcolor": "#E5ECF6",
            "gridcolor": "white",
            "gridwidth": 2,
            "linecolor": "white",
            "showbackground": true,
            "ticks": "",
            "zerolinecolor": "white"
           },
           "zaxis": {
            "backgroundcolor": "#E5ECF6",
            "gridcolor": "white",
            "gridwidth": 2,
            "linecolor": "white",
            "showbackground": true,
            "ticks": "",
            "zerolinecolor": "white"
           }
          },
          "shapedefaults": {
           "line": {
            "color": "#2a3f5f"
           }
          },
          "ternary": {
           "aaxis": {
            "gridcolor": "white",
            "linecolor": "white",
            "ticks": ""
           },
           "baxis": {
            "gridcolor": "white",
            "linecolor": "white",
            "ticks": ""
           },
           "bgcolor": "#E5ECF6",
           "caxis": {
            "gridcolor": "white",
            "linecolor": "white",
            "ticks": ""
           }
          },
          "title": {
           "x": 0.05
          },
          "xaxis": {
           "automargin": true,
           "gridcolor": "white",
           "linecolor": "white",
           "ticks": "",
           "title": {
            "standoff": 15
           },
           "zerolinecolor": "white",
           "zerolinewidth": 2
          },
          "yaxis": {
           "automargin": true,
           "gridcolor": "white",
           "linecolor": "white",
           "ticks": "",
           "title": {
            "standoff": 15
           },
           "zerolinecolor": "white",
           "zerolinewidth": 2
          }
         }
        },
        "title": {
         "font": {
          "color": "#4D5663"
         }
        },
        "xaxis": {
         "gridcolor": "#E1E5ED",
         "showgrid": true,
         "tickfont": {
          "color": "#4D5663"
         },
         "title": {
          "font": {
           "color": "#4D5663"
          },
          "text": ""
         },
         "zerolinecolor": "#E1E5ED"
        },
        "yaxis": {
         "gridcolor": "#E1E5ED",
         "showgrid": true,
         "tickfont": {
          "color": "#4D5663"
         },
         "title": {
          "font": {
           "color": "#4D5663"
          },
          "text": ""
         },
         "zerolinecolor": "#E1E5ED"
        }
       }
      },
      "text/html": [
       "<div>\n",
       "        \n",
       "        \n",
       "            <div id=\"0b51b640-1cfb-4832-afaa-5696bb3abb70\" class=\"plotly-graph-div\" style=\"height:525px; width:100%;\"></div>\n",
       "            <script type=\"text/javascript\">\n",
       "                require([\"plotly\"], function(Plotly) {\n",
       "                    window.PLOTLYENV=window.PLOTLYENV || {};\n",
       "                    window.PLOTLYENV.BASE_URL='https://plot.ly';\n",
       "                    \n",
       "                if (document.getElementById(\"0b51b640-1cfb-4832-afaa-5696bb3abb70\")) {\n",
       "                    Plotly.newPlot(\n",
       "                        '0b51b640-1cfb-4832-afaa-5696bb3abb70',\n",
       "                        [{\"line\": {\"color\": \"rgba(255, 153, 51, 1.0)\", \"dash\": \"solid\", \"shape\": \"linear\", \"width\": 1.3}, \"mode\": \"lines\", \"name\": \"A\", \"text\": \"\", \"type\": \"scatter\", \"x\": [0, 1, 2, 3, 4, 5, 6, 7, 8, 9, 10, 11, 12, 13, 14, 15, 16, 17, 18, 19, 20, 21, 22, 23, 24, 25, 26, 27, 28, 29, 30, 31, 32, 33, 34, 35, 36, 37, 38, 39, 40, 41, 42, 43, 44, 45, 46, 47, 48, 49, 50, 51, 52, 53, 54, 55, 56, 57, 58, 59, 60, 61, 62, 63, 64, 65, 66, 67, 68, 69, 70, 71, 72, 73, 74, 75, 76, 77, 78, 79, 80, 81, 82, 83, 84, 85, 86, 87, 88, 89, 90, 91, 92, 93, 94, 95, 96, 97, 98, 99], \"y\": [-0.01662130328228244, 0.8952922062355154, 0.08493791794765844, -0.09589135686355073, -0.4122201947502266, -0.20360574556365796, -1.3226112787089954, -0.7048337371978483, 0.04150771300361059, -0.016184912767458252, -0.7836247979483332, -0.41697995913853403, -1.5145544317741388, -0.9872935372845854, 2.8600594602810627, 0.7879441726553916, -0.2813608872356518, -0.6513622033836487, -0.3833614492804819, 0.16483281378445427, -2.1741767017157674, -1.6507999144342882, 1.233849002951117, 1.8853071817620293, -1.5954169238801832, -0.5522359603285474, -0.1776701185864922, -0.44322099515839536, 1.0203828724791646, -0.746502813707562, -0.9880780584427672, -0.1989813172992508, 1.028266715119139, 0.9046343789939094, -0.24335430626921478, 1.4808496271033058, 1.183551097291823, 0.7818177335952013, 2.6317909237286803, -1.43255595184391, -0.5375396949804877, -0.9652461283114274, -0.37225584275459644, 0.14086596179529387, 2.1088529093442165, 1.754446737290178, 0.3204895796285177, 0.5431393205854986, -0.26921450300987526, 1.2276137248806802, 2.18564194957632, -0.4189445878428453, -0.08003270330739348, 0.8616685014005222, 0.3204625049333791, -0.5444096849865591, 1.4381126068067536, -1.5508518741330823, -1.7451055721182847, 1.393700428608044, 0.5528230108651216, -0.6354989243573955, 0.5941962167234219, -1.498736192404156, 1.2550871276452416, -0.8096320399507062, 0.24176403155914405, 0.4183631446701141, -1.7819580157798707, -0.587756797309145, -0.38795341821094526, 0.07830346473682828, 0.002456668961825936, 1.9450473657318994, 0.7258558214498236, -1.0099384838064072, 0.28353464707170767, -1.0649028041957125, 0.5771518242200254, 0.8046577717798538, -0.10976143995602793, 1.0417233039507987, -0.6800719626994939, -0.6139450381025275, 0.46504150196282273, 0.48002415552846633, -2.0624178821863004, 1.4590453138925938, -0.06592069257443393, 1.3037006920198502, -1.0417291996549434, -1.393953962398956, -0.09525476965697717, -0.11489070095885666, 2.4005052823632567, -0.9318581112304919, 0.941522431201813, 0.19568237193128438, 0.10374442540451675, -1.3981329572930432]}, {\"line\": {\"color\": \"rgba(55, 128, 191, 1.0)\", \"dash\": \"solid\", \"shape\": \"linear\", \"width\": 1.3}, \"mode\": \"lines\", \"name\": \"B\", \"text\": \"\", \"type\": \"scatter\", \"x\": [0, 1, 2, 3, 4, 5, 6, 7, 8, 9, 10, 11, 12, 13, 14, 15, 16, 17, 18, 19, 20, 21, 22, 23, 24, 25, 26, 27, 28, 29, 30, 31, 32, 33, 34, 35, 36, 37, 38, 39, 40, 41, 42, 43, 44, 45, 46, 47, 48, 49, 50, 51, 52, 53, 54, 55, 56, 57, 58, 59, 60, 61, 62, 63, 64, 65, 66, 67, 68, 69, 70, 71, 72, 73, 74, 75, 76, 77, 78, 79, 80, 81, 82, 83, 84, 85, 86, 87, 88, 89, 90, 91, 92, 93, 94, 95, 96, 97, 98, 99], \"y\": [-0.43085692617183563, -0.1948859952808109, 0.25661125162705656, -1.3086950885020459, 0.8330382361581136, -0.6953289463874578, -0.041546759765450116, 0.3766966051839097, -0.4106742584914722, -0.5017699496138679, 0.011010566296178933, 0.7150811983334743, 0.8531750275133767, 2.1930241736297655, 0.6183354743888189, -0.2543897369151032, 1.976789309709738, 0.9045016370030701, 0.6176953549838936, -0.4420620066123814, 0.004259990892965676, -0.6890818854195719, 0.1284746414788866, 1.1565973705210073, -0.1669069048135824, 0.9510917351310352, 0.3776204353934389, -0.6104100303510119, 0.8194742730220135, 1.040708142451746, -0.8233687567505201, -1.1344997698956967, -0.2957474277602403, -0.6732382334575902, -0.20198607174310862, -0.5191193334283744, 0.025830849269225062, -0.7336763065006728, 1.2444882142572342, -1.4366617646017776, 1.1881118540595137, 0.954362185403333, -0.1636882464763225, 0.2585056931294286, 0.307000591264868, 0.5053904332689658, 1.371257331498223, 0.8284466732128394, -1.6398779068387968, 0.1312492505552544, -2.0782358481550904, -0.045307906304940145, 0.16728844758876973, 0.4199691612388556, 0.5537924522559142, -0.472466174965874, -0.43842800336219834, -0.8086583687303776, -1.4472922254350542, 1.5432229404089068, 0.09327407639879354, -1.7151607168181384, 0.31547264421701804, -0.6409782017093438, -0.5888934484654935, -0.2589297494469279, 0.4095662405359321, -0.7827392201998249, 0.8536261771615004, -0.13667988806894107, 0.014275802400758018, 0.2700521255686095, 0.0713171499641922, -1.6360217944335709, 1.1316472826520418, 0.21966931057515063, -1.0415257873712767, -0.673080884585363, 0.6417494538653378, -2.575256173392799, -1.301392718985718, -1.3280555679474806, -0.3988933059066309, -1.4320562115681523, -0.5208466357235377, 0.6283326705144111, -0.4993914177816305, 2.3803973130583707, -1.404107842111614, -0.05799211063099601, -1.1984196002600367, -0.14252971995716965, -0.3981381038453286, -0.3917743490224008, 1.5356909803434518, 0.5644974004458589, 0.36323243100145386, 0.5520098897203459, -0.6462900576233668, 1.1144001381118762]}, {\"line\": {\"color\": \"rgba(50, 171, 96, 1.0)\", \"dash\": \"solid\", \"shape\": \"linear\", \"width\": 1.3}, \"mode\": \"lines\", \"name\": \"C\", \"text\": \"\", \"type\": \"scatter\", \"x\": [0, 1, 2, 3, 4, 5, 6, 7, 8, 9, 10, 11, 12, 13, 14, 15, 16, 17, 18, 19, 20, 21, 22, 23, 24, 25, 26, 27, 28, 29, 30, 31, 32, 33, 34, 35, 36, 37, 38, 39, 40, 41, 42, 43, 44, 45, 46, 47, 48, 49, 50, 51, 52, 53, 54, 55, 56, 57, 58, 59, 60, 61, 62, 63, 64, 65, 66, 67, 68, 69, 70, 71, 72, 73, 74, 75, 76, 77, 78, 79, 80, 81, 82, 83, 84, 85, 86, 87, 88, 89, 90, 91, 92, 93, 94, 95, 96, 97, 98, 99], \"y\": [-2.0092660704673566, -1.2598029689852777, -0.2760950755895815, -0.9365077817146868, -0.7467722748457818, -0.7267174990662252, 0.8107639722666636, 0.3018313256185027, -0.2779338079594555, 1.0850989578462957, 1.0633890945862559, 0.19984988072986953, -1.0240416296636121, 0.5038285176790187, 0.06717667510847727, 0.7185919144131047, -0.49171157314491626, -0.7679077810892389, 1.5701249112688236, -0.47251103418643026, 1.9430557828822212, 0.2379297319180449, 0.36707306677115453, 0.006699107693457233, -1.0180537128174496, -0.6080580473072035, 1.0185946954688905, 0.5714696913211738, 0.09143339844861038, 2.070139494439533, 1.140804725949334, 0.6126110616024626, 0.4563101220852704, -2.2654786046256543, -0.4029428049342183, -0.16962658908939526, -0.24096898379316878, -1.0073125456045633, 0.28463786120973017, 0.9529151893853018, -1.2378966892029355, -0.06963240847971755, -0.7032964127927137, -0.5809832596471718, 0.29449307116870876, 0.33243510188444925, 0.4977579983615313, -0.9257449819489063, -0.41725764974537366, 0.4848070737197375, 0.43930170517402317, 0.23065023494261755, 0.4816217241293878, 0.04799816907981186, -0.3974323820653122, 0.7903361874598068, 1.4322150789264265, -1.647709706473274, -2.3800258277526543, 0.6970445446703903, 0.8316708876679342, -1.5158979051133505, -0.14986630629837563, -1.0493727521665157, 1.701201455937589, -0.1410913288683814, 0.2685239479223764, -0.7600369349891372, -0.4742547385039707, -0.8220107130507899, 0.8445080140789566, -0.324027172344423, -0.4178030661196102, -0.26596041408454146, 0.5523489460368105, -0.7026605411631265, 0.13994365329359548, -0.04065613857973858, -0.28547939736187256, 0.3388705179018651, 0.9668821132900235, 1.7880873782211257, 1.9386610560756863, -0.34094180091834364, -1.1192837035162806, 0.6279726842636103, 0.6200042114970403, -1.4264867124427423, -1.809853283787445, -1.193888458973862, 0.08685450082155578, -0.7102321011128129, 1.2846765718116526, -1.123680140228286, -0.2806606072097656, -1.4896739546532576, 0.6295603599603866, 1.1136656548999315, 0.9536097103790099, -0.7080867626264907]}, {\"line\": {\"color\": \"rgba(128, 0, 128, 1.0)\", \"dash\": \"solid\", \"shape\": \"linear\", \"width\": 1.3}, \"mode\": \"lines\", \"name\": \"D\", \"text\": \"\", \"type\": \"scatter\", \"x\": [0, 1, 2, 3, 4, 5, 6, 7, 8, 9, 10, 11, 12, 13, 14, 15, 16, 17, 18, 19, 20, 21, 22, 23, 24, 25, 26, 27, 28, 29, 30, 31, 32, 33, 34, 35, 36, 37, 38, 39, 40, 41, 42, 43, 44, 45, 46, 47, 48, 49, 50, 51, 52, 53, 54, 55, 56, 57, 58, 59, 60, 61, 62, 63, 64, 65, 66, 67, 68, 69, 70, 71, 72, 73, 74, 75, 76, 77, 78, 79, 80, 81, 82, 83, 84, 85, 86, 87, 88, 89, 90, 91, 92, 93, 94, 95, 96, 97, 98, 99], \"y\": [1.0501701145422817, 0.4451796840776505, 0.019322074864412696, 0.9953761305418058, 0.5110397705048686, -0.803700035088617, 2.6444092391724636, 0.7893356856324825, -0.08471694230445719, -1.3109737377927366, 0.4248306638940191, 1.3717385676996887, 0.40107501810780155, -0.8911298914144757, -0.17802975610778662, 0.45954921920579067, -1.2291934521608001, 1.5879628450775962, 2.3950384881567475, 0.7864211027184705, 0.44696414651942606, -0.7688917608863599, 0.8034469969539286, -0.2441696518488366, 0.7946135467706282, 0.4629228010763608, 2.4375744559135692, -2.0666459708872487, 1.3369394395351957, 0.281544068694196, 1.40868549926317, 1.7007000788755262, -0.5707362211763846, 0.30086898022664293, -0.9768980954609655, 0.3212560453655524, 0.7156443033399906, -1.2165459335403617, -0.20839221483710563, -0.0058505078818461, -0.6256249650976695, -0.34208821825767766, 2.9057635151997228, 1.1898121704981293, 0.7748839366899357, 0.775858103384347, 1.734019655618904, 0.4883218411991308, 0.48319375293985073, 0.07251905790818866, -0.2737028732193538, -0.21945236052007253, -0.8829581220812761, -1.3291278492107135, 2.327960742028899, 0.11235642184377229, -0.31755903220376597, 1.3147441857811188, 0.4011430411094645, -0.859875508599031, 0.6827306411077664, 1.4857854264842902, 0.7311732289637328, -2.418153976778658, 0.9536327739040761, -1.7769454655989747, -0.42076296424642096, -1.1229235007551497, -0.41217731324319673, 2.099699703404748, -1.9289629279399207, -0.5093084117755678, 1.0742848834728373, 0.6702312418547619, -0.25349917550157963, -0.669305397468498, -1.693821178889706, 0.5103274302378665, 1.0541391062646233, -0.5976418342961541, 0.8682392696715692, -0.6697941242150638, 0.9742988020969872, 0.4783934061363041, -0.10945425289967044, 0.5579648469307343, 0.061882101624842645, -0.45157774335416456, 0.6161163305270498, -0.054394521326319764, -1.5735721687894109, 0.5705772210638205, 0.5761796006749031, 0.1844921493983869, -0.24892164936248318, -1.2743548062088557, 0.6984023222628456, 1.1154228312324685, -0.7900145646772628, -0.4938822454556439]}],\n",
       "                        {\"legend\": {\"bgcolor\": \"#F5F6F9\", \"font\": {\"color\": \"#4D5663\"}}, \"paper_bgcolor\": \"#F5F6F9\", \"plot_bgcolor\": \"#F5F6F9\", \"template\": {\"data\": {\"bar\": [{\"error_x\": {\"color\": \"#2a3f5f\"}, \"error_y\": {\"color\": \"#2a3f5f\"}, \"marker\": {\"line\": {\"color\": \"#E5ECF6\", \"width\": 0.5}}, \"type\": \"bar\"}], \"barpolar\": [{\"marker\": {\"line\": {\"color\": \"#E5ECF6\", \"width\": 0.5}}, \"type\": \"barpolar\"}], \"carpet\": [{\"aaxis\": {\"endlinecolor\": \"#2a3f5f\", \"gridcolor\": \"white\", \"linecolor\": \"white\", \"minorgridcolor\": \"white\", \"startlinecolor\": \"#2a3f5f\"}, \"baxis\": {\"endlinecolor\": \"#2a3f5f\", \"gridcolor\": \"white\", \"linecolor\": \"white\", \"minorgridcolor\": \"white\", \"startlinecolor\": \"#2a3f5f\"}, \"type\": \"carpet\"}], \"choropleth\": [{\"colorbar\": {\"outlinewidth\": 0, \"ticks\": \"\"}, \"type\": \"choropleth\"}], \"contour\": [{\"colorbar\": {\"outlinewidth\": 0, \"ticks\": \"\"}, \"colorscale\": [[0.0, \"#0d0887\"], [0.1111111111111111, \"#46039f\"], [0.2222222222222222, \"#7201a8\"], [0.3333333333333333, \"#9c179e\"], [0.4444444444444444, \"#bd3786\"], [0.5555555555555556, \"#d8576b\"], [0.6666666666666666, \"#ed7953\"], [0.7777777777777778, \"#fb9f3a\"], [0.8888888888888888, \"#fdca26\"], [1.0, \"#f0f921\"]], \"type\": \"contour\"}], \"contourcarpet\": [{\"colorbar\": {\"outlinewidth\": 0, \"ticks\": \"\"}, \"type\": \"contourcarpet\"}], \"heatmap\": [{\"colorbar\": {\"outlinewidth\": 0, \"ticks\": \"\"}, \"colorscale\": [[0.0, \"#0d0887\"], [0.1111111111111111, \"#46039f\"], [0.2222222222222222, \"#7201a8\"], [0.3333333333333333, \"#9c179e\"], [0.4444444444444444, \"#bd3786\"], [0.5555555555555556, \"#d8576b\"], [0.6666666666666666, \"#ed7953\"], [0.7777777777777778, \"#fb9f3a\"], [0.8888888888888888, \"#fdca26\"], [1.0, \"#f0f921\"]], \"type\": \"heatmap\"}], \"heatmapgl\": [{\"colorbar\": {\"outlinewidth\": 0, \"ticks\": \"\"}, \"colorscale\": [[0.0, \"#0d0887\"], [0.1111111111111111, \"#46039f\"], [0.2222222222222222, \"#7201a8\"], [0.3333333333333333, \"#9c179e\"], [0.4444444444444444, \"#bd3786\"], [0.5555555555555556, \"#d8576b\"], [0.6666666666666666, \"#ed7953\"], [0.7777777777777778, \"#fb9f3a\"], [0.8888888888888888, \"#fdca26\"], [1.0, \"#f0f921\"]], \"type\": \"heatmapgl\"}], \"histogram\": [{\"marker\": {\"colorbar\": {\"outlinewidth\": 0, \"ticks\": \"\"}}, \"type\": \"histogram\"}], \"histogram2d\": [{\"colorbar\": {\"outlinewidth\": 0, \"ticks\": \"\"}, \"colorscale\": [[0.0, \"#0d0887\"], [0.1111111111111111, \"#46039f\"], [0.2222222222222222, \"#7201a8\"], [0.3333333333333333, \"#9c179e\"], [0.4444444444444444, \"#bd3786\"], [0.5555555555555556, \"#d8576b\"], [0.6666666666666666, \"#ed7953\"], [0.7777777777777778, \"#fb9f3a\"], [0.8888888888888888, \"#fdca26\"], [1.0, \"#f0f921\"]], \"type\": \"histogram2d\"}], \"histogram2dcontour\": [{\"colorbar\": {\"outlinewidth\": 0, \"ticks\": \"\"}, \"colorscale\": [[0.0, \"#0d0887\"], [0.1111111111111111, \"#46039f\"], [0.2222222222222222, \"#7201a8\"], [0.3333333333333333, \"#9c179e\"], [0.4444444444444444, \"#bd3786\"], [0.5555555555555556, \"#d8576b\"], [0.6666666666666666, \"#ed7953\"], [0.7777777777777778, \"#fb9f3a\"], [0.8888888888888888, \"#fdca26\"], [1.0, \"#f0f921\"]], \"type\": \"histogram2dcontour\"}], \"mesh3d\": [{\"colorbar\": {\"outlinewidth\": 0, \"ticks\": \"\"}, \"type\": \"mesh3d\"}], \"parcoords\": [{\"line\": {\"colorbar\": {\"outlinewidth\": 0, \"ticks\": \"\"}}, \"type\": \"parcoords\"}], \"pie\": [{\"automargin\": true, \"type\": \"pie\"}], \"scatter\": [{\"marker\": {\"colorbar\": {\"outlinewidth\": 0, \"ticks\": \"\"}}, \"type\": \"scatter\"}], \"scatter3d\": [{\"line\": {\"colorbar\": {\"outlinewidth\": 0, \"ticks\": \"\"}}, \"marker\": {\"colorbar\": {\"outlinewidth\": 0, \"ticks\": \"\"}}, \"type\": \"scatter3d\"}], \"scattercarpet\": [{\"marker\": {\"colorbar\": {\"outlinewidth\": 0, \"ticks\": \"\"}}, \"type\": \"scattercarpet\"}], \"scattergeo\": [{\"marker\": {\"colorbar\": {\"outlinewidth\": 0, \"ticks\": \"\"}}, \"type\": \"scattergeo\"}], \"scattergl\": [{\"marker\": {\"colorbar\": {\"outlinewidth\": 0, \"ticks\": \"\"}}, \"type\": \"scattergl\"}], \"scattermapbox\": [{\"marker\": {\"colorbar\": {\"outlinewidth\": 0, \"ticks\": \"\"}}, \"type\": \"scattermapbox\"}], \"scatterpolar\": [{\"marker\": {\"colorbar\": {\"outlinewidth\": 0, \"ticks\": \"\"}}, \"type\": \"scatterpolar\"}], \"scatterpolargl\": [{\"marker\": {\"colorbar\": {\"outlinewidth\": 0, \"ticks\": \"\"}}, \"type\": \"scatterpolargl\"}], \"scatterternary\": [{\"marker\": {\"colorbar\": {\"outlinewidth\": 0, \"ticks\": \"\"}}, \"type\": \"scatterternary\"}], \"surface\": [{\"colorbar\": {\"outlinewidth\": 0, \"ticks\": \"\"}, \"colorscale\": [[0.0, \"#0d0887\"], [0.1111111111111111, \"#46039f\"], [0.2222222222222222, \"#7201a8\"], [0.3333333333333333, \"#9c179e\"], [0.4444444444444444, \"#bd3786\"], [0.5555555555555556, \"#d8576b\"], [0.6666666666666666, \"#ed7953\"], [0.7777777777777778, \"#fb9f3a\"], [0.8888888888888888, \"#fdca26\"], [1.0, \"#f0f921\"]], \"type\": \"surface\"}], \"table\": [{\"cells\": {\"fill\": {\"color\": \"#EBF0F8\"}, \"line\": {\"color\": \"white\"}}, \"header\": {\"fill\": {\"color\": \"#C8D4E3\"}, \"line\": {\"color\": \"white\"}}, \"type\": \"table\"}]}, \"layout\": {\"annotationdefaults\": {\"arrowcolor\": \"#2a3f5f\", \"arrowhead\": 0, \"arrowwidth\": 1}, \"coloraxis\": {\"colorbar\": {\"outlinewidth\": 0, \"ticks\": \"\"}}, \"colorscale\": {\"diverging\": [[0, \"#8e0152\"], [0.1, \"#c51b7d\"], [0.2, \"#de77ae\"], [0.3, \"#f1b6da\"], [0.4, \"#fde0ef\"], [0.5, \"#f7f7f7\"], [0.6, \"#e6f5d0\"], [0.7, \"#b8e186\"], [0.8, \"#7fbc41\"], [0.9, \"#4d9221\"], [1, \"#276419\"]], \"sequential\": [[0.0, \"#0d0887\"], [0.1111111111111111, \"#46039f\"], [0.2222222222222222, \"#7201a8\"], [0.3333333333333333, \"#9c179e\"], [0.4444444444444444, \"#bd3786\"], [0.5555555555555556, \"#d8576b\"], [0.6666666666666666, \"#ed7953\"], [0.7777777777777778, \"#fb9f3a\"], [0.8888888888888888, \"#fdca26\"], [1.0, \"#f0f921\"]], \"sequentialminus\": [[0.0, \"#0d0887\"], [0.1111111111111111, \"#46039f\"], [0.2222222222222222, \"#7201a8\"], [0.3333333333333333, \"#9c179e\"], [0.4444444444444444, \"#bd3786\"], [0.5555555555555556, \"#d8576b\"], [0.6666666666666666, \"#ed7953\"], [0.7777777777777778, \"#fb9f3a\"], [0.8888888888888888, \"#fdca26\"], [1.0, \"#f0f921\"]]}, \"colorway\": [\"#636efa\", \"#EF553B\", \"#00cc96\", \"#ab63fa\", \"#FFA15A\", \"#19d3f3\", \"#FF6692\", \"#B6E880\", \"#FF97FF\", \"#FECB52\"], \"font\": {\"color\": \"#2a3f5f\"}, \"geo\": {\"bgcolor\": \"white\", \"lakecolor\": \"white\", \"landcolor\": \"#E5ECF6\", \"showlakes\": true, \"showland\": true, \"subunitcolor\": \"white\"}, \"hoverlabel\": {\"align\": \"left\"}, \"hovermode\": \"closest\", \"mapbox\": {\"style\": \"light\"}, \"paper_bgcolor\": \"white\", \"plot_bgcolor\": \"#E5ECF6\", \"polar\": {\"angularaxis\": {\"gridcolor\": \"white\", \"linecolor\": \"white\", \"ticks\": \"\"}, \"bgcolor\": \"#E5ECF6\", \"radialaxis\": {\"gridcolor\": \"white\", \"linecolor\": \"white\", \"ticks\": \"\"}}, \"scene\": {\"xaxis\": {\"backgroundcolor\": \"#E5ECF6\", \"gridcolor\": \"white\", \"gridwidth\": 2, \"linecolor\": \"white\", \"showbackground\": true, \"ticks\": \"\", \"zerolinecolor\": \"white\"}, \"yaxis\": {\"backgroundcolor\": \"#E5ECF6\", \"gridcolor\": \"white\", \"gridwidth\": 2, \"linecolor\": \"white\", \"showbackground\": true, \"ticks\": \"\", \"zerolinecolor\": \"white\"}, \"zaxis\": {\"backgroundcolor\": \"#E5ECF6\", \"gridcolor\": \"white\", \"gridwidth\": 2, \"linecolor\": \"white\", \"showbackground\": true, \"ticks\": \"\", \"zerolinecolor\": \"white\"}}, \"shapedefaults\": {\"line\": {\"color\": \"#2a3f5f\"}}, \"ternary\": {\"aaxis\": {\"gridcolor\": \"white\", \"linecolor\": \"white\", \"ticks\": \"\"}, \"baxis\": {\"gridcolor\": \"white\", \"linecolor\": \"white\", \"ticks\": \"\"}, \"bgcolor\": \"#E5ECF6\", \"caxis\": {\"gridcolor\": \"white\", \"linecolor\": \"white\", \"ticks\": \"\"}}, \"title\": {\"x\": 0.05}, \"xaxis\": {\"automargin\": true, \"gridcolor\": \"white\", \"linecolor\": \"white\", \"ticks\": \"\", \"title\": {\"standoff\": 15}, \"zerolinecolor\": \"white\", \"zerolinewidth\": 2}, \"yaxis\": {\"automargin\": true, \"gridcolor\": \"white\", \"linecolor\": \"white\", \"ticks\": \"\", \"title\": {\"standoff\": 15}, \"zerolinecolor\": \"white\", \"zerolinewidth\": 2}}}, \"title\": {\"font\": {\"color\": \"#4D5663\"}}, \"xaxis\": {\"gridcolor\": \"#E1E5ED\", \"showgrid\": true, \"tickfont\": {\"color\": \"#4D5663\"}, \"title\": {\"font\": {\"color\": \"#4D5663\"}, \"text\": \"\"}, \"zerolinecolor\": \"#E1E5ED\"}, \"yaxis\": {\"gridcolor\": \"#E1E5ED\", \"showgrid\": true, \"tickfont\": {\"color\": \"#4D5663\"}, \"title\": {\"font\": {\"color\": \"#4D5663\"}, \"text\": \"\"}, \"zerolinecolor\": \"#E1E5ED\"}},\n",
       "                        {\"showLink\": true, \"linkText\": \"Export to plot.ly\", \"plotlyServerURL\": \"https://plot.ly\", \"responsive\": true}\n",
       "                    ).then(function(){\n",
       "                            \n",
       "var gd = document.getElementById('0b51b640-1cfb-4832-afaa-5696bb3abb70');\n",
       "var x = new MutationObserver(function (mutations, observer) {{\n",
       "        var display = window.getComputedStyle(gd).display;\n",
       "        if (!display || display === 'none') {{\n",
       "            console.log([gd, 'removed!']);\n",
       "            Plotly.purge(gd);\n",
       "            observer.disconnect();\n",
       "        }}\n",
       "}});\n",
       "\n",
       "// Listen for the removal of the full notebook cells\n",
       "var notebookContainer = gd.closest('#notebook-container');\n",
       "if (notebookContainer) {{\n",
       "    x.observe(notebookContainer, {childList: true});\n",
       "}}\n",
       "\n",
       "// Listen for the clearing of the current output cell\n",
       "var outputEl = gd.closest('.output');\n",
       "if (outputEl) {{\n",
       "    x.observe(outputEl, {childList: true});\n",
       "}}\n",
       "\n",
       "                        })\n",
       "                };\n",
       "                });\n",
       "            </script>\n",
       "        </div>"
      ]
     },
     "metadata": {},
     "output_type": "display_data"
    }
   ],
   "source": [
    "df.iplot()"
   ]
  },
  {
   "cell_type": "code",
   "execution_count": 28,
   "metadata": {},
   "outputs": [
    {
     "data": {
      "application/vnd.plotly.v1+json": {
       "config": {
        "linkText": "Export to plot.ly",
        "plotlyServerURL": "https://plot.ly",
        "showLink": true
       },
       "data": [
        {
         "line": {
          "color": "rgba(255, 153, 51, 1.0)",
          "dash": "solid",
          "shape": "linear",
          "width": 1.3
         },
         "marker": {
          "size": 12,
          "symbol": "circle"
         },
         "mode": "markers",
         "name": "B",
         "text": "",
         "type": "scatter",
         "x": [
          -0.01662130328228244,
          0.8952922062355154,
          0.08493791794765844,
          -0.09589135686355073,
          -0.4122201947502266,
          -0.20360574556365796,
          -1.3226112787089954,
          -0.7048337371978483,
          0.04150771300361059,
          -0.016184912767458252,
          -0.7836247979483332,
          -0.41697995913853403,
          -1.5145544317741388,
          -0.9872935372845854,
          2.8600594602810627,
          0.7879441726553916,
          -0.2813608872356518,
          -0.6513622033836487,
          -0.3833614492804819,
          0.16483281378445427,
          -2.1741767017157674,
          -1.6507999144342882,
          1.233849002951117,
          1.8853071817620293,
          -1.5954169238801832,
          -0.5522359603285474,
          -0.1776701185864922,
          -0.44322099515839536,
          1.0203828724791646,
          -0.746502813707562,
          -0.9880780584427672,
          -0.1989813172992508,
          1.028266715119139,
          0.9046343789939094,
          -0.24335430626921478,
          1.4808496271033058,
          1.183551097291823,
          0.7818177335952013,
          2.6317909237286803,
          -1.43255595184391,
          -0.5375396949804877,
          -0.9652461283114274,
          -0.37225584275459644,
          0.14086596179529387,
          2.1088529093442165,
          1.754446737290178,
          0.3204895796285177,
          0.5431393205854986,
          -0.26921450300987526,
          1.2276137248806802,
          2.18564194957632,
          -0.4189445878428453,
          -0.08003270330739348,
          0.8616685014005222,
          0.3204625049333791,
          -0.5444096849865591,
          1.4381126068067536,
          -1.5508518741330823,
          -1.7451055721182847,
          1.393700428608044,
          0.5528230108651216,
          -0.6354989243573955,
          0.5941962167234219,
          -1.498736192404156,
          1.2550871276452416,
          -0.8096320399507062,
          0.24176403155914405,
          0.4183631446701141,
          -1.7819580157798707,
          -0.587756797309145,
          -0.38795341821094526,
          0.07830346473682828,
          0.002456668961825936,
          1.9450473657318994,
          0.7258558214498236,
          -1.0099384838064072,
          0.28353464707170767,
          -1.0649028041957125,
          0.5771518242200254,
          0.8046577717798538,
          -0.10976143995602793,
          1.0417233039507987,
          -0.6800719626994939,
          -0.6139450381025275,
          0.46504150196282273,
          0.48002415552846633,
          -2.0624178821863004,
          1.4590453138925938,
          -0.06592069257443393,
          1.3037006920198502,
          -1.0417291996549434,
          -1.393953962398956,
          -0.09525476965697717,
          -0.11489070095885666,
          2.4005052823632567,
          -0.9318581112304919,
          0.941522431201813,
          0.19568237193128438,
          0.10374442540451675,
          -1.3981329572930432
         ],
         "y": [
          -0.43085692617183563,
          -0.1948859952808109,
          0.25661125162705656,
          -1.3086950885020459,
          0.8330382361581136,
          -0.6953289463874578,
          -0.041546759765450116,
          0.3766966051839097,
          -0.4106742584914722,
          -0.5017699496138679,
          0.011010566296178933,
          0.7150811983334743,
          0.8531750275133767,
          2.1930241736297655,
          0.6183354743888189,
          -0.2543897369151032,
          1.976789309709738,
          0.9045016370030701,
          0.6176953549838936,
          -0.4420620066123814,
          0.004259990892965676,
          -0.6890818854195719,
          0.1284746414788866,
          1.1565973705210073,
          -0.1669069048135824,
          0.9510917351310352,
          0.3776204353934389,
          -0.6104100303510119,
          0.8194742730220135,
          1.040708142451746,
          -0.8233687567505201,
          -1.1344997698956967,
          -0.2957474277602403,
          -0.6732382334575902,
          -0.20198607174310862,
          -0.5191193334283744,
          0.025830849269225062,
          -0.7336763065006728,
          1.2444882142572342,
          -1.4366617646017776,
          1.1881118540595137,
          0.954362185403333,
          -0.1636882464763225,
          0.2585056931294286,
          0.307000591264868,
          0.5053904332689658,
          1.371257331498223,
          0.8284466732128394,
          -1.6398779068387968,
          0.1312492505552544,
          -2.0782358481550904,
          -0.045307906304940145,
          0.16728844758876973,
          0.4199691612388556,
          0.5537924522559142,
          -0.472466174965874,
          -0.43842800336219834,
          -0.8086583687303776,
          -1.4472922254350542,
          1.5432229404089068,
          0.09327407639879354,
          -1.7151607168181384,
          0.31547264421701804,
          -0.6409782017093438,
          -0.5888934484654935,
          -0.2589297494469279,
          0.4095662405359321,
          -0.7827392201998249,
          0.8536261771615004,
          -0.13667988806894107,
          0.014275802400758018,
          0.2700521255686095,
          0.0713171499641922,
          -1.6360217944335709,
          1.1316472826520418,
          0.21966931057515063,
          -1.0415257873712767,
          -0.673080884585363,
          0.6417494538653378,
          -2.575256173392799,
          -1.301392718985718,
          -1.3280555679474806,
          -0.3988933059066309,
          -1.4320562115681523,
          -0.5208466357235377,
          0.6283326705144111,
          -0.4993914177816305,
          2.3803973130583707,
          -1.404107842111614,
          -0.05799211063099601,
          -1.1984196002600367,
          -0.14252971995716965,
          -0.3981381038453286,
          -0.3917743490224008,
          1.5356909803434518,
          0.5644974004458589,
          0.36323243100145386,
          0.5520098897203459,
          -0.6462900576233668,
          1.1144001381118762
         ]
        }
       ],
       "layout": {
        "legend": {
         "bgcolor": "#F5F6F9",
         "font": {
          "color": "#4D5663"
         }
        },
        "paper_bgcolor": "#F5F6F9",
        "plot_bgcolor": "#F5F6F9",
        "template": {
         "data": {
          "bar": [
           {
            "error_x": {
             "color": "#2a3f5f"
            },
            "error_y": {
             "color": "#2a3f5f"
            },
            "marker": {
             "line": {
              "color": "#E5ECF6",
              "width": 0.5
             }
            },
            "type": "bar"
           }
          ],
          "barpolar": [
           {
            "marker": {
             "line": {
              "color": "#E5ECF6",
              "width": 0.5
             }
            },
            "type": "barpolar"
           }
          ],
          "carpet": [
           {
            "aaxis": {
             "endlinecolor": "#2a3f5f",
             "gridcolor": "white",
             "linecolor": "white",
             "minorgridcolor": "white",
             "startlinecolor": "#2a3f5f"
            },
            "baxis": {
             "endlinecolor": "#2a3f5f",
             "gridcolor": "white",
             "linecolor": "white",
             "minorgridcolor": "white",
             "startlinecolor": "#2a3f5f"
            },
            "type": "carpet"
           }
          ],
          "choropleth": [
           {
            "colorbar": {
             "outlinewidth": 0,
             "ticks": ""
            },
            "type": "choropleth"
           }
          ],
          "contour": [
           {
            "colorbar": {
             "outlinewidth": 0,
             "ticks": ""
            },
            "colorscale": [
             [
              0,
              "#0d0887"
             ],
             [
              0.1111111111111111,
              "#46039f"
             ],
             [
              0.2222222222222222,
              "#7201a8"
             ],
             [
              0.3333333333333333,
              "#9c179e"
             ],
             [
              0.4444444444444444,
              "#bd3786"
             ],
             [
              0.5555555555555556,
              "#d8576b"
             ],
             [
              0.6666666666666666,
              "#ed7953"
             ],
             [
              0.7777777777777778,
              "#fb9f3a"
             ],
             [
              0.8888888888888888,
              "#fdca26"
             ],
             [
              1,
              "#f0f921"
             ]
            ],
            "type": "contour"
           }
          ],
          "contourcarpet": [
           {
            "colorbar": {
             "outlinewidth": 0,
             "ticks": ""
            },
            "type": "contourcarpet"
           }
          ],
          "heatmap": [
           {
            "colorbar": {
             "outlinewidth": 0,
             "ticks": ""
            },
            "colorscale": [
             [
              0,
              "#0d0887"
             ],
             [
              0.1111111111111111,
              "#46039f"
             ],
             [
              0.2222222222222222,
              "#7201a8"
             ],
             [
              0.3333333333333333,
              "#9c179e"
             ],
             [
              0.4444444444444444,
              "#bd3786"
             ],
             [
              0.5555555555555556,
              "#d8576b"
             ],
             [
              0.6666666666666666,
              "#ed7953"
             ],
             [
              0.7777777777777778,
              "#fb9f3a"
             ],
             [
              0.8888888888888888,
              "#fdca26"
             ],
             [
              1,
              "#f0f921"
             ]
            ],
            "type": "heatmap"
           }
          ],
          "heatmapgl": [
           {
            "colorbar": {
             "outlinewidth": 0,
             "ticks": ""
            },
            "colorscale": [
             [
              0,
              "#0d0887"
             ],
             [
              0.1111111111111111,
              "#46039f"
             ],
             [
              0.2222222222222222,
              "#7201a8"
             ],
             [
              0.3333333333333333,
              "#9c179e"
             ],
             [
              0.4444444444444444,
              "#bd3786"
             ],
             [
              0.5555555555555556,
              "#d8576b"
             ],
             [
              0.6666666666666666,
              "#ed7953"
             ],
             [
              0.7777777777777778,
              "#fb9f3a"
             ],
             [
              0.8888888888888888,
              "#fdca26"
             ],
             [
              1,
              "#f0f921"
             ]
            ],
            "type": "heatmapgl"
           }
          ],
          "histogram": [
           {
            "marker": {
             "colorbar": {
              "outlinewidth": 0,
              "ticks": ""
             }
            },
            "type": "histogram"
           }
          ],
          "histogram2d": [
           {
            "colorbar": {
             "outlinewidth": 0,
             "ticks": ""
            },
            "colorscale": [
             [
              0,
              "#0d0887"
             ],
             [
              0.1111111111111111,
              "#46039f"
             ],
             [
              0.2222222222222222,
              "#7201a8"
             ],
             [
              0.3333333333333333,
              "#9c179e"
             ],
             [
              0.4444444444444444,
              "#bd3786"
             ],
             [
              0.5555555555555556,
              "#d8576b"
             ],
             [
              0.6666666666666666,
              "#ed7953"
             ],
             [
              0.7777777777777778,
              "#fb9f3a"
             ],
             [
              0.8888888888888888,
              "#fdca26"
             ],
             [
              1,
              "#f0f921"
             ]
            ],
            "type": "histogram2d"
           }
          ],
          "histogram2dcontour": [
           {
            "colorbar": {
             "outlinewidth": 0,
             "ticks": ""
            },
            "colorscale": [
             [
              0,
              "#0d0887"
             ],
             [
              0.1111111111111111,
              "#46039f"
             ],
             [
              0.2222222222222222,
              "#7201a8"
             ],
             [
              0.3333333333333333,
              "#9c179e"
             ],
             [
              0.4444444444444444,
              "#bd3786"
             ],
             [
              0.5555555555555556,
              "#d8576b"
             ],
             [
              0.6666666666666666,
              "#ed7953"
             ],
             [
              0.7777777777777778,
              "#fb9f3a"
             ],
             [
              0.8888888888888888,
              "#fdca26"
             ],
             [
              1,
              "#f0f921"
             ]
            ],
            "type": "histogram2dcontour"
           }
          ],
          "mesh3d": [
           {
            "colorbar": {
             "outlinewidth": 0,
             "ticks": ""
            },
            "type": "mesh3d"
           }
          ],
          "parcoords": [
           {
            "line": {
             "colorbar": {
              "outlinewidth": 0,
              "ticks": ""
             }
            },
            "type": "parcoords"
           }
          ],
          "pie": [
           {
            "automargin": true,
            "type": "pie"
           }
          ],
          "scatter": [
           {
            "marker": {
             "colorbar": {
              "outlinewidth": 0,
              "ticks": ""
             }
            },
            "type": "scatter"
           }
          ],
          "scatter3d": [
           {
            "line": {
             "colorbar": {
              "outlinewidth": 0,
              "ticks": ""
             }
            },
            "marker": {
             "colorbar": {
              "outlinewidth": 0,
              "ticks": ""
             }
            },
            "type": "scatter3d"
           }
          ],
          "scattercarpet": [
           {
            "marker": {
             "colorbar": {
              "outlinewidth": 0,
              "ticks": ""
             }
            },
            "type": "scattercarpet"
           }
          ],
          "scattergeo": [
           {
            "marker": {
             "colorbar": {
              "outlinewidth": 0,
              "ticks": ""
             }
            },
            "type": "scattergeo"
           }
          ],
          "scattergl": [
           {
            "marker": {
             "colorbar": {
              "outlinewidth": 0,
              "ticks": ""
             }
            },
            "type": "scattergl"
           }
          ],
          "scattermapbox": [
           {
            "marker": {
             "colorbar": {
              "outlinewidth": 0,
              "ticks": ""
             }
            },
            "type": "scattermapbox"
           }
          ],
          "scatterpolar": [
           {
            "marker": {
             "colorbar": {
              "outlinewidth": 0,
              "ticks": ""
             }
            },
            "type": "scatterpolar"
           }
          ],
          "scatterpolargl": [
           {
            "marker": {
             "colorbar": {
              "outlinewidth": 0,
              "ticks": ""
             }
            },
            "type": "scatterpolargl"
           }
          ],
          "scatterternary": [
           {
            "marker": {
             "colorbar": {
              "outlinewidth": 0,
              "ticks": ""
             }
            },
            "type": "scatterternary"
           }
          ],
          "surface": [
           {
            "colorbar": {
             "outlinewidth": 0,
             "ticks": ""
            },
            "colorscale": [
             [
              0,
              "#0d0887"
             ],
             [
              0.1111111111111111,
              "#46039f"
             ],
             [
              0.2222222222222222,
              "#7201a8"
             ],
             [
              0.3333333333333333,
              "#9c179e"
             ],
             [
              0.4444444444444444,
              "#bd3786"
             ],
             [
              0.5555555555555556,
              "#d8576b"
             ],
             [
              0.6666666666666666,
              "#ed7953"
             ],
             [
              0.7777777777777778,
              "#fb9f3a"
             ],
             [
              0.8888888888888888,
              "#fdca26"
             ],
             [
              1,
              "#f0f921"
             ]
            ],
            "type": "surface"
           }
          ],
          "table": [
           {
            "cells": {
             "fill": {
              "color": "#EBF0F8"
             },
             "line": {
              "color": "white"
             }
            },
            "header": {
             "fill": {
              "color": "#C8D4E3"
             },
             "line": {
              "color": "white"
             }
            },
            "type": "table"
           }
          ]
         },
         "layout": {
          "annotationdefaults": {
           "arrowcolor": "#2a3f5f",
           "arrowhead": 0,
           "arrowwidth": 1
          },
          "coloraxis": {
           "colorbar": {
            "outlinewidth": 0,
            "ticks": ""
           }
          },
          "colorscale": {
           "diverging": [
            [
             0,
             "#8e0152"
            ],
            [
             0.1,
             "#c51b7d"
            ],
            [
             0.2,
             "#de77ae"
            ],
            [
             0.3,
             "#f1b6da"
            ],
            [
             0.4,
             "#fde0ef"
            ],
            [
             0.5,
             "#f7f7f7"
            ],
            [
             0.6,
             "#e6f5d0"
            ],
            [
             0.7,
             "#b8e186"
            ],
            [
             0.8,
             "#7fbc41"
            ],
            [
             0.9,
             "#4d9221"
            ],
            [
             1,
             "#276419"
            ]
           ],
           "sequential": [
            [
             0,
             "#0d0887"
            ],
            [
             0.1111111111111111,
             "#46039f"
            ],
            [
             0.2222222222222222,
             "#7201a8"
            ],
            [
             0.3333333333333333,
             "#9c179e"
            ],
            [
             0.4444444444444444,
             "#bd3786"
            ],
            [
             0.5555555555555556,
             "#d8576b"
            ],
            [
             0.6666666666666666,
             "#ed7953"
            ],
            [
             0.7777777777777778,
             "#fb9f3a"
            ],
            [
             0.8888888888888888,
             "#fdca26"
            ],
            [
             1,
             "#f0f921"
            ]
           ],
           "sequentialminus": [
            [
             0,
             "#0d0887"
            ],
            [
             0.1111111111111111,
             "#46039f"
            ],
            [
             0.2222222222222222,
             "#7201a8"
            ],
            [
             0.3333333333333333,
             "#9c179e"
            ],
            [
             0.4444444444444444,
             "#bd3786"
            ],
            [
             0.5555555555555556,
             "#d8576b"
            ],
            [
             0.6666666666666666,
             "#ed7953"
            ],
            [
             0.7777777777777778,
             "#fb9f3a"
            ],
            [
             0.8888888888888888,
             "#fdca26"
            ],
            [
             1,
             "#f0f921"
            ]
           ]
          },
          "colorway": [
           "#636efa",
           "#EF553B",
           "#00cc96",
           "#ab63fa",
           "#FFA15A",
           "#19d3f3",
           "#FF6692",
           "#B6E880",
           "#FF97FF",
           "#FECB52"
          ],
          "font": {
           "color": "#2a3f5f"
          },
          "geo": {
           "bgcolor": "white",
           "lakecolor": "white",
           "landcolor": "#E5ECF6",
           "showlakes": true,
           "showland": true,
           "subunitcolor": "white"
          },
          "hoverlabel": {
           "align": "left"
          },
          "hovermode": "closest",
          "mapbox": {
           "style": "light"
          },
          "paper_bgcolor": "white",
          "plot_bgcolor": "#E5ECF6",
          "polar": {
           "angularaxis": {
            "gridcolor": "white",
            "linecolor": "white",
            "ticks": ""
           },
           "bgcolor": "#E5ECF6",
           "radialaxis": {
            "gridcolor": "white",
            "linecolor": "white",
            "ticks": ""
           }
          },
          "scene": {
           "xaxis": {
            "backgroundcolor": "#E5ECF6",
            "gridcolor": "white",
            "gridwidth": 2,
            "linecolor": "white",
            "showbackground": true,
            "ticks": "",
            "zerolinecolor": "white"
           },
           "yaxis": {
            "backgroundcolor": "#E5ECF6",
            "gridcolor": "white",
            "gridwidth": 2,
            "linecolor": "white",
            "showbackground": true,
            "ticks": "",
            "zerolinecolor": "white"
           },
           "zaxis": {
            "backgroundcolor": "#E5ECF6",
            "gridcolor": "white",
            "gridwidth": 2,
            "linecolor": "white",
            "showbackground": true,
            "ticks": "",
            "zerolinecolor": "white"
           }
          },
          "shapedefaults": {
           "line": {
            "color": "#2a3f5f"
           }
          },
          "ternary": {
           "aaxis": {
            "gridcolor": "white",
            "linecolor": "white",
            "ticks": ""
           },
           "baxis": {
            "gridcolor": "white",
            "linecolor": "white",
            "ticks": ""
           },
           "bgcolor": "#E5ECF6",
           "caxis": {
            "gridcolor": "white",
            "linecolor": "white",
            "ticks": ""
           }
          },
          "title": {
           "x": 0.05
          },
          "xaxis": {
           "automargin": true,
           "gridcolor": "white",
           "linecolor": "white",
           "ticks": "",
           "title": {
            "standoff": 15
           },
           "zerolinecolor": "white",
           "zerolinewidth": 2
          },
          "yaxis": {
           "automargin": true,
           "gridcolor": "white",
           "linecolor": "white",
           "ticks": "",
           "title": {
            "standoff": 15
           },
           "zerolinecolor": "white",
           "zerolinewidth": 2
          }
         }
        },
        "title": {
         "font": {
          "color": "#4D5663"
         }
        },
        "xaxis": {
         "gridcolor": "#E1E5ED",
         "showgrid": true,
         "tickfont": {
          "color": "#4D5663"
         },
         "title": {
          "font": {
           "color": "#4D5663"
          },
          "text": ""
         },
         "zerolinecolor": "#E1E5ED"
        },
        "yaxis": {
         "gridcolor": "#E1E5ED",
         "showgrid": true,
         "tickfont": {
          "color": "#4D5663"
         },
         "title": {
          "font": {
           "color": "#4D5663"
          },
          "text": ""
         },
         "zerolinecolor": "#E1E5ED"
        }
       }
      },
      "text/html": [
       "<div>\n",
       "        \n",
       "        \n",
       "            <div id=\"956de968-aaa5-40be-aeb3-ea4e0af11f1a\" class=\"plotly-graph-div\" style=\"height:525px; width:100%;\"></div>\n",
       "            <script type=\"text/javascript\">\n",
       "                require([\"plotly\"], function(Plotly) {\n",
       "                    window.PLOTLYENV=window.PLOTLYENV || {};\n",
       "                    window.PLOTLYENV.BASE_URL='https://plot.ly';\n",
       "                    \n",
       "                if (document.getElementById(\"956de968-aaa5-40be-aeb3-ea4e0af11f1a\")) {\n",
       "                    Plotly.newPlot(\n",
       "                        '956de968-aaa5-40be-aeb3-ea4e0af11f1a',\n",
       "                        [{\"line\": {\"color\": \"rgba(255, 153, 51, 1.0)\", \"dash\": \"solid\", \"shape\": \"linear\", \"width\": 1.3}, \"marker\": {\"size\": 12, \"symbol\": \"circle\"}, \"mode\": \"markers\", \"name\": \"B\", \"text\": \"\", \"type\": \"scatter\", \"x\": [-0.01662130328228244, 0.8952922062355154, 0.08493791794765844, -0.09589135686355073, -0.4122201947502266, -0.20360574556365796, -1.3226112787089954, -0.7048337371978483, 0.04150771300361059, -0.016184912767458252, -0.7836247979483332, -0.41697995913853403, -1.5145544317741388, -0.9872935372845854, 2.8600594602810627, 0.7879441726553916, -0.2813608872356518, -0.6513622033836487, -0.3833614492804819, 0.16483281378445427, -2.1741767017157674, -1.6507999144342882, 1.233849002951117, 1.8853071817620293, -1.5954169238801832, -0.5522359603285474, -0.1776701185864922, -0.44322099515839536, 1.0203828724791646, -0.746502813707562, -0.9880780584427672, -0.1989813172992508, 1.028266715119139, 0.9046343789939094, -0.24335430626921478, 1.4808496271033058, 1.183551097291823, 0.7818177335952013, 2.6317909237286803, -1.43255595184391, -0.5375396949804877, -0.9652461283114274, -0.37225584275459644, 0.14086596179529387, 2.1088529093442165, 1.754446737290178, 0.3204895796285177, 0.5431393205854986, -0.26921450300987526, 1.2276137248806802, 2.18564194957632, -0.4189445878428453, -0.08003270330739348, 0.8616685014005222, 0.3204625049333791, -0.5444096849865591, 1.4381126068067536, -1.5508518741330823, -1.7451055721182847, 1.393700428608044, 0.5528230108651216, -0.6354989243573955, 0.5941962167234219, -1.498736192404156, 1.2550871276452416, -0.8096320399507062, 0.24176403155914405, 0.4183631446701141, -1.7819580157798707, -0.587756797309145, -0.38795341821094526, 0.07830346473682828, 0.002456668961825936, 1.9450473657318994, 0.7258558214498236, -1.0099384838064072, 0.28353464707170767, -1.0649028041957125, 0.5771518242200254, 0.8046577717798538, -0.10976143995602793, 1.0417233039507987, -0.6800719626994939, -0.6139450381025275, 0.46504150196282273, 0.48002415552846633, -2.0624178821863004, 1.4590453138925938, -0.06592069257443393, 1.3037006920198502, -1.0417291996549434, -1.393953962398956, -0.09525476965697717, -0.11489070095885666, 2.4005052823632567, -0.9318581112304919, 0.941522431201813, 0.19568237193128438, 0.10374442540451675, -1.3981329572930432], \"y\": [-0.43085692617183563, -0.1948859952808109, 0.25661125162705656, -1.3086950885020459, 0.8330382361581136, -0.6953289463874578, -0.041546759765450116, 0.3766966051839097, -0.4106742584914722, -0.5017699496138679, 0.011010566296178933, 0.7150811983334743, 0.8531750275133767, 2.1930241736297655, 0.6183354743888189, -0.2543897369151032, 1.976789309709738, 0.9045016370030701, 0.6176953549838936, -0.4420620066123814, 0.004259990892965676, -0.6890818854195719, 0.1284746414788866, 1.1565973705210073, -0.1669069048135824, 0.9510917351310352, 0.3776204353934389, -0.6104100303510119, 0.8194742730220135, 1.040708142451746, -0.8233687567505201, -1.1344997698956967, -0.2957474277602403, -0.6732382334575902, -0.20198607174310862, -0.5191193334283744, 0.025830849269225062, -0.7336763065006728, 1.2444882142572342, -1.4366617646017776, 1.1881118540595137, 0.954362185403333, -0.1636882464763225, 0.2585056931294286, 0.307000591264868, 0.5053904332689658, 1.371257331498223, 0.8284466732128394, -1.6398779068387968, 0.1312492505552544, -2.0782358481550904, -0.045307906304940145, 0.16728844758876973, 0.4199691612388556, 0.5537924522559142, -0.472466174965874, -0.43842800336219834, -0.8086583687303776, -1.4472922254350542, 1.5432229404089068, 0.09327407639879354, -1.7151607168181384, 0.31547264421701804, -0.6409782017093438, -0.5888934484654935, -0.2589297494469279, 0.4095662405359321, -0.7827392201998249, 0.8536261771615004, -0.13667988806894107, 0.014275802400758018, 0.2700521255686095, 0.0713171499641922, -1.6360217944335709, 1.1316472826520418, 0.21966931057515063, -1.0415257873712767, -0.673080884585363, 0.6417494538653378, -2.575256173392799, -1.301392718985718, -1.3280555679474806, -0.3988933059066309, -1.4320562115681523, -0.5208466357235377, 0.6283326705144111, -0.4993914177816305, 2.3803973130583707, -1.404107842111614, -0.05799211063099601, -1.1984196002600367, -0.14252971995716965, -0.3981381038453286, -0.3917743490224008, 1.5356909803434518, 0.5644974004458589, 0.36323243100145386, 0.5520098897203459, -0.6462900576233668, 1.1144001381118762]}],\n",
       "                        {\"legend\": {\"bgcolor\": \"#F5F6F9\", \"font\": {\"color\": \"#4D5663\"}}, \"paper_bgcolor\": \"#F5F6F9\", \"plot_bgcolor\": \"#F5F6F9\", \"template\": {\"data\": {\"bar\": [{\"error_x\": {\"color\": \"#2a3f5f\"}, \"error_y\": {\"color\": \"#2a3f5f\"}, \"marker\": {\"line\": {\"color\": \"#E5ECF6\", \"width\": 0.5}}, \"type\": \"bar\"}], \"barpolar\": [{\"marker\": {\"line\": {\"color\": \"#E5ECF6\", \"width\": 0.5}}, \"type\": \"barpolar\"}], \"carpet\": [{\"aaxis\": {\"endlinecolor\": \"#2a3f5f\", \"gridcolor\": \"white\", \"linecolor\": \"white\", \"minorgridcolor\": \"white\", \"startlinecolor\": \"#2a3f5f\"}, \"baxis\": {\"endlinecolor\": \"#2a3f5f\", \"gridcolor\": \"white\", \"linecolor\": \"white\", \"minorgridcolor\": \"white\", \"startlinecolor\": \"#2a3f5f\"}, \"type\": \"carpet\"}], \"choropleth\": [{\"colorbar\": {\"outlinewidth\": 0, \"ticks\": \"\"}, \"type\": \"choropleth\"}], \"contour\": [{\"colorbar\": {\"outlinewidth\": 0, \"ticks\": \"\"}, \"colorscale\": [[0.0, \"#0d0887\"], [0.1111111111111111, \"#46039f\"], [0.2222222222222222, \"#7201a8\"], [0.3333333333333333, \"#9c179e\"], [0.4444444444444444, \"#bd3786\"], [0.5555555555555556, \"#d8576b\"], [0.6666666666666666, \"#ed7953\"], [0.7777777777777778, \"#fb9f3a\"], [0.8888888888888888, \"#fdca26\"], [1.0, \"#f0f921\"]], \"type\": \"contour\"}], \"contourcarpet\": [{\"colorbar\": {\"outlinewidth\": 0, \"ticks\": \"\"}, \"type\": \"contourcarpet\"}], \"heatmap\": [{\"colorbar\": {\"outlinewidth\": 0, \"ticks\": \"\"}, \"colorscale\": [[0.0, \"#0d0887\"], [0.1111111111111111, \"#46039f\"], [0.2222222222222222, \"#7201a8\"], [0.3333333333333333, \"#9c179e\"], [0.4444444444444444, \"#bd3786\"], [0.5555555555555556, \"#d8576b\"], [0.6666666666666666, \"#ed7953\"], [0.7777777777777778, \"#fb9f3a\"], [0.8888888888888888, \"#fdca26\"], [1.0, \"#f0f921\"]], \"type\": \"heatmap\"}], \"heatmapgl\": [{\"colorbar\": {\"outlinewidth\": 0, \"ticks\": \"\"}, \"colorscale\": [[0.0, \"#0d0887\"], [0.1111111111111111, \"#46039f\"], [0.2222222222222222, \"#7201a8\"], [0.3333333333333333, \"#9c179e\"], [0.4444444444444444, \"#bd3786\"], [0.5555555555555556, \"#d8576b\"], [0.6666666666666666, \"#ed7953\"], [0.7777777777777778, \"#fb9f3a\"], [0.8888888888888888, \"#fdca26\"], [1.0, \"#f0f921\"]], \"type\": \"heatmapgl\"}], \"histogram\": [{\"marker\": {\"colorbar\": {\"outlinewidth\": 0, \"ticks\": \"\"}}, \"type\": \"histogram\"}], \"histogram2d\": [{\"colorbar\": {\"outlinewidth\": 0, \"ticks\": \"\"}, \"colorscale\": [[0.0, \"#0d0887\"], [0.1111111111111111, \"#46039f\"], [0.2222222222222222, \"#7201a8\"], [0.3333333333333333, \"#9c179e\"], [0.4444444444444444, \"#bd3786\"], [0.5555555555555556, \"#d8576b\"], [0.6666666666666666, \"#ed7953\"], [0.7777777777777778, \"#fb9f3a\"], [0.8888888888888888, \"#fdca26\"], [1.0, \"#f0f921\"]], \"type\": \"histogram2d\"}], \"histogram2dcontour\": [{\"colorbar\": {\"outlinewidth\": 0, \"ticks\": \"\"}, \"colorscale\": [[0.0, \"#0d0887\"], [0.1111111111111111, \"#46039f\"], [0.2222222222222222, \"#7201a8\"], [0.3333333333333333, \"#9c179e\"], [0.4444444444444444, \"#bd3786\"], [0.5555555555555556, \"#d8576b\"], [0.6666666666666666, \"#ed7953\"], [0.7777777777777778, \"#fb9f3a\"], [0.8888888888888888, \"#fdca26\"], [1.0, \"#f0f921\"]], \"type\": \"histogram2dcontour\"}], \"mesh3d\": [{\"colorbar\": {\"outlinewidth\": 0, \"ticks\": \"\"}, \"type\": \"mesh3d\"}], \"parcoords\": [{\"line\": {\"colorbar\": {\"outlinewidth\": 0, \"ticks\": \"\"}}, \"type\": \"parcoords\"}], \"pie\": [{\"automargin\": true, \"type\": \"pie\"}], \"scatter\": [{\"marker\": {\"colorbar\": {\"outlinewidth\": 0, \"ticks\": \"\"}}, \"type\": \"scatter\"}], \"scatter3d\": [{\"line\": {\"colorbar\": {\"outlinewidth\": 0, \"ticks\": \"\"}}, \"marker\": {\"colorbar\": {\"outlinewidth\": 0, \"ticks\": \"\"}}, \"type\": \"scatter3d\"}], \"scattercarpet\": [{\"marker\": {\"colorbar\": {\"outlinewidth\": 0, \"ticks\": \"\"}}, \"type\": \"scattercarpet\"}], \"scattergeo\": [{\"marker\": {\"colorbar\": {\"outlinewidth\": 0, \"ticks\": \"\"}}, \"type\": \"scattergeo\"}], \"scattergl\": [{\"marker\": {\"colorbar\": {\"outlinewidth\": 0, \"ticks\": \"\"}}, \"type\": \"scattergl\"}], \"scattermapbox\": [{\"marker\": {\"colorbar\": {\"outlinewidth\": 0, \"ticks\": \"\"}}, \"type\": \"scattermapbox\"}], \"scatterpolar\": [{\"marker\": {\"colorbar\": {\"outlinewidth\": 0, \"ticks\": \"\"}}, \"type\": \"scatterpolar\"}], \"scatterpolargl\": [{\"marker\": {\"colorbar\": {\"outlinewidth\": 0, \"ticks\": \"\"}}, \"type\": \"scatterpolargl\"}], \"scatterternary\": [{\"marker\": {\"colorbar\": {\"outlinewidth\": 0, \"ticks\": \"\"}}, \"type\": \"scatterternary\"}], \"surface\": [{\"colorbar\": {\"outlinewidth\": 0, \"ticks\": \"\"}, \"colorscale\": [[0.0, \"#0d0887\"], [0.1111111111111111, \"#46039f\"], [0.2222222222222222, \"#7201a8\"], [0.3333333333333333, \"#9c179e\"], [0.4444444444444444, \"#bd3786\"], [0.5555555555555556, \"#d8576b\"], [0.6666666666666666, \"#ed7953\"], [0.7777777777777778, \"#fb9f3a\"], [0.8888888888888888, \"#fdca26\"], [1.0, \"#f0f921\"]], \"type\": \"surface\"}], \"table\": [{\"cells\": {\"fill\": {\"color\": \"#EBF0F8\"}, \"line\": {\"color\": \"white\"}}, \"header\": {\"fill\": {\"color\": \"#C8D4E3\"}, \"line\": {\"color\": \"white\"}}, \"type\": \"table\"}]}, \"layout\": {\"annotationdefaults\": {\"arrowcolor\": \"#2a3f5f\", \"arrowhead\": 0, \"arrowwidth\": 1}, \"coloraxis\": {\"colorbar\": {\"outlinewidth\": 0, \"ticks\": \"\"}}, \"colorscale\": {\"diverging\": [[0, \"#8e0152\"], [0.1, \"#c51b7d\"], [0.2, \"#de77ae\"], [0.3, \"#f1b6da\"], [0.4, \"#fde0ef\"], [0.5, \"#f7f7f7\"], [0.6, \"#e6f5d0\"], [0.7, \"#b8e186\"], [0.8, \"#7fbc41\"], [0.9, \"#4d9221\"], [1, \"#276419\"]], \"sequential\": [[0.0, \"#0d0887\"], [0.1111111111111111, \"#46039f\"], [0.2222222222222222, \"#7201a8\"], [0.3333333333333333, \"#9c179e\"], [0.4444444444444444, \"#bd3786\"], [0.5555555555555556, \"#d8576b\"], [0.6666666666666666, \"#ed7953\"], [0.7777777777777778, \"#fb9f3a\"], [0.8888888888888888, \"#fdca26\"], [1.0, \"#f0f921\"]], \"sequentialminus\": [[0.0, \"#0d0887\"], [0.1111111111111111, \"#46039f\"], [0.2222222222222222, \"#7201a8\"], [0.3333333333333333, \"#9c179e\"], [0.4444444444444444, \"#bd3786\"], [0.5555555555555556, \"#d8576b\"], [0.6666666666666666, \"#ed7953\"], [0.7777777777777778, \"#fb9f3a\"], [0.8888888888888888, \"#fdca26\"], [1.0, \"#f0f921\"]]}, \"colorway\": [\"#636efa\", \"#EF553B\", \"#00cc96\", \"#ab63fa\", \"#FFA15A\", \"#19d3f3\", \"#FF6692\", \"#B6E880\", \"#FF97FF\", \"#FECB52\"], \"font\": {\"color\": \"#2a3f5f\"}, \"geo\": {\"bgcolor\": \"white\", \"lakecolor\": \"white\", \"landcolor\": \"#E5ECF6\", \"showlakes\": true, \"showland\": true, \"subunitcolor\": \"white\"}, \"hoverlabel\": {\"align\": \"left\"}, \"hovermode\": \"closest\", \"mapbox\": {\"style\": \"light\"}, \"paper_bgcolor\": \"white\", \"plot_bgcolor\": \"#E5ECF6\", \"polar\": {\"angularaxis\": {\"gridcolor\": \"white\", \"linecolor\": \"white\", \"ticks\": \"\"}, \"bgcolor\": \"#E5ECF6\", \"radialaxis\": {\"gridcolor\": \"white\", \"linecolor\": \"white\", \"ticks\": \"\"}}, \"scene\": {\"xaxis\": {\"backgroundcolor\": \"#E5ECF6\", \"gridcolor\": \"white\", \"gridwidth\": 2, \"linecolor\": \"white\", \"showbackground\": true, \"ticks\": \"\", \"zerolinecolor\": \"white\"}, \"yaxis\": {\"backgroundcolor\": \"#E5ECF6\", \"gridcolor\": \"white\", \"gridwidth\": 2, \"linecolor\": \"white\", \"showbackground\": true, \"ticks\": \"\", \"zerolinecolor\": \"white\"}, \"zaxis\": {\"backgroundcolor\": \"#E5ECF6\", \"gridcolor\": \"white\", \"gridwidth\": 2, \"linecolor\": \"white\", \"showbackground\": true, \"ticks\": \"\", \"zerolinecolor\": \"white\"}}, \"shapedefaults\": {\"line\": {\"color\": \"#2a3f5f\"}}, \"ternary\": {\"aaxis\": {\"gridcolor\": \"white\", \"linecolor\": \"white\", \"ticks\": \"\"}, \"baxis\": {\"gridcolor\": \"white\", \"linecolor\": \"white\", \"ticks\": \"\"}, \"bgcolor\": \"#E5ECF6\", \"caxis\": {\"gridcolor\": \"white\", \"linecolor\": \"white\", \"ticks\": \"\"}}, \"title\": {\"x\": 0.05}, \"xaxis\": {\"automargin\": true, \"gridcolor\": \"white\", \"linecolor\": \"white\", \"ticks\": \"\", \"title\": {\"standoff\": 15}, \"zerolinecolor\": \"white\", \"zerolinewidth\": 2}, \"yaxis\": {\"automargin\": true, \"gridcolor\": \"white\", \"linecolor\": \"white\", \"ticks\": \"\", \"title\": {\"standoff\": 15}, \"zerolinecolor\": \"white\", \"zerolinewidth\": 2}}}, \"title\": {\"font\": {\"color\": \"#4D5663\"}}, \"xaxis\": {\"gridcolor\": \"#E1E5ED\", \"showgrid\": true, \"tickfont\": {\"color\": \"#4D5663\"}, \"title\": {\"font\": {\"color\": \"#4D5663\"}, \"text\": \"\"}, \"zerolinecolor\": \"#E1E5ED\"}, \"yaxis\": {\"gridcolor\": \"#E1E5ED\", \"showgrid\": true, \"tickfont\": {\"color\": \"#4D5663\"}, \"title\": {\"font\": {\"color\": \"#4D5663\"}, \"text\": \"\"}, \"zerolinecolor\": \"#E1E5ED\"}},\n",
       "                        {\"showLink\": true, \"linkText\": \"Export to plot.ly\", \"plotlyServerURL\": \"https://plot.ly\", \"responsive\": true}\n",
       "                    ).then(function(){\n",
       "                            \n",
       "var gd = document.getElementById('956de968-aaa5-40be-aeb3-ea4e0af11f1a');\n",
       "var x = new MutationObserver(function (mutations, observer) {{\n",
       "        var display = window.getComputedStyle(gd).display;\n",
       "        if (!display || display === 'none') {{\n",
       "            console.log([gd, 'removed!']);\n",
       "            Plotly.purge(gd);\n",
       "            observer.disconnect();\n",
       "        }}\n",
       "}});\n",
       "\n",
       "// Listen for the removal of the full notebook cells\n",
       "var notebookContainer = gd.closest('#notebook-container');\n",
       "if (notebookContainer) {{\n",
       "    x.observe(notebookContainer, {childList: true});\n",
       "}}\n",
       "\n",
       "// Listen for the clearing of the current output cell\n",
       "var outputEl = gd.closest('.output');\n",
       "if (outputEl) {{\n",
       "    x.observe(outputEl, {childList: true});\n",
       "}}\n",
       "\n",
       "                        })\n",
       "                };\n",
       "                });\n",
       "            </script>\n",
       "        </div>"
      ]
     },
     "metadata": {},
     "output_type": "display_data"
    }
   ],
   "source": [
    "df.iplot(kind=\"scatter\",x=\"A\",y=\"B\",mode=\"markers\")"
   ]
  },
  {
   "cell_type": "code",
   "execution_count": 30,
   "metadata": {},
   "outputs": [
    {
     "data": {
      "application/vnd.plotly.v1+json": {
       "config": {
        "linkText": "Export to plot.ly",
        "plotlyServerURL": "https://plot.ly",
        "showLink": true
       },
       "data": [
        {
         "marker": {
          "color": "rgba(255, 153, 51, 0.6)",
          "line": {
           "color": "rgba(255, 153, 51, 1.0)",
           "width": 1
          }
         },
         "name": "Values",
         "orientation": "v",
         "text": "",
         "type": "bar",
         "x": [
          "A",
          "B",
          "C"
         ],
         "y": [
          32,
          43,
          50
         ]
        }
       ],
       "layout": {
        "legend": {
         "bgcolor": "#F5F6F9",
         "font": {
          "color": "#4D5663"
         }
        },
        "paper_bgcolor": "#F5F6F9",
        "plot_bgcolor": "#F5F6F9",
        "template": {
         "data": {
          "bar": [
           {
            "error_x": {
             "color": "#2a3f5f"
            },
            "error_y": {
             "color": "#2a3f5f"
            },
            "marker": {
             "line": {
              "color": "#E5ECF6",
              "width": 0.5
             }
            },
            "type": "bar"
           }
          ],
          "barpolar": [
           {
            "marker": {
             "line": {
              "color": "#E5ECF6",
              "width": 0.5
             }
            },
            "type": "barpolar"
           }
          ],
          "carpet": [
           {
            "aaxis": {
             "endlinecolor": "#2a3f5f",
             "gridcolor": "white",
             "linecolor": "white",
             "minorgridcolor": "white",
             "startlinecolor": "#2a3f5f"
            },
            "baxis": {
             "endlinecolor": "#2a3f5f",
             "gridcolor": "white",
             "linecolor": "white",
             "minorgridcolor": "white",
             "startlinecolor": "#2a3f5f"
            },
            "type": "carpet"
           }
          ],
          "choropleth": [
           {
            "colorbar": {
             "outlinewidth": 0,
             "ticks": ""
            },
            "type": "choropleth"
           }
          ],
          "contour": [
           {
            "colorbar": {
             "outlinewidth": 0,
             "ticks": ""
            },
            "colorscale": [
             [
              0,
              "#0d0887"
             ],
             [
              0.1111111111111111,
              "#46039f"
             ],
             [
              0.2222222222222222,
              "#7201a8"
             ],
             [
              0.3333333333333333,
              "#9c179e"
             ],
             [
              0.4444444444444444,
              "#bd3786"
             ],
             [
              0.5555555555555556,
              "#d8576b"
             ],
             [
              0.6666666666666666,
              "#ed7953"
             ],
             [
              0.7777777777777778,
              "#fb9f3a"
             ],
             [
              0.8888888888888888,
              "#fdca26"
             ],
             [
              1,
              "#f0f921"
             ]
            ],
            "type": "contour"
           }
          ],
          "contourcarpet": [
           {
            "colorbar": {
             "outlinewidth": 0,
             "ticks": ""
            },
            "type": "contourcarpet"
           }
          ],
          "heatmap": [
           {
            "colorbar": {
             "outlinewidth": 0,
             "ticks": ""
            },
            "colorscale": [
             [
              0,
              "#0d0887"
             ],
             [
              0.1111111111111111,
              "#46039f"
             ],
             [
              0.2222222222222222,
              "#7201a8"
             ],
             [
              0.3333333333333333,
              "#9c179e"
             ],
             [
              0.4444444444444444,
              "#bd3786"
             ],
             [
              0.5555555555555556,
              "#d8576b"
             ],
             [
              0.6666666666666666,
              "#ed7953"
             ],
             [
              0.7777777777777778,
              "#fb9f3a"
             ],
             [
              0.8888888888888888,
              "#fdca26"
             ],
             [
              1,
              "#f0f921"
             ]
            ],
            "type": "heatmap"
           }
          ],
          "heatmapgl": [
           {
            "colorbar": {
             "outlinewidth": 0,
             "ticks": ""
            },
            "colorscale": [
             [
              0,
              "#0d0887"
             ],
             [
              0.1111111111111111,
              "#46039f"
             ],
             [
              0.2222222222222222,
              "#7201a8"
             ],
             [
              0.3333333333333333,
              "#9c179e"
             ],
             [
              0.4444444444444444,
              "#bd3786"
             ],
             [
              0.5555555555555556,
              "#d8576b"
             ],
             [
              0.6666666666666666,
              "#ed7953"
             ],
             [
              0.7777777777777778,
              "#fb9f3a"
             ],
             [
              0.8888888888888888,
              "#fdca26"
             ],
             [
              1,
              "#f0f921"
             ]
            ],
            "type": "heatmapgl"
           }
          ],
          "histogram": [
           {
            "marker": {
             "colorbar": {
              "outlinewidth": 0,
              "ticks": ""
             }
            },
            "type": "histogram"
           }
          ],
          "histogram2d": [
           {
            "colorbar": {
             "outlinewidth": 0,
             "ticks": ""
            },
            "colorscale": [
             [
              0,
              "#0d0887"
             ],
             [
              0.1111111111111111,
              "#46039f"
             ],
             [
              0.2222222222222222,
              "#7201a8"
             ],
             [
              0.3333333333333333,
              "#9c179e"
             ],
             [
              0.4444444444444444,
              "#bd3786"
             ],
             [
              0.5555555555555556,
              "#d8576b"
             ],
             [
              0.6666666666666666,
              "#ed7953"
             ],
             [
              0.7777777777777778,
              "#fb9f3a"
             ],
             [
              0.8888888888888888,
              "#fdca26"
             ],
             [
              1,
              "#f0f921"
             ]
            ],
            "type": "histogram2d"
           }
          ],
          "histogram2dcontour": [
           {
            "colorbar": {
             "outlinewidth": 0,
             "ticks": ""
            },
            "colorscale": [
             [
              0,
              "#0d0887"
             ],
             [
              0.1111111111111111,
              "#46039f"
             ],
             [
              0.2222222222222222,
              "#7201a8"
             ],
             [
              0.3333333333333333,
              "#9c179e"
             ],
             [
              0.4444444444444444,
              "#bd3786"
             ],
             [
              0.5555555555555556,
              "#d8576b"
             ],
             [
              0.6666666666666666,
              "#ed7953"
             ],
             [
              0.7777777777777778,
              "#fb9f3a"
             ],
             [
              0.8888888888888888,
              "#fdca26"
             ],
             [
              1,
              "#f0f921"
             ]
            ],
            "type": "histogram2dcontour"
           }
          ],
          "mesh3d": [
           {
            "colorbar": {
             "outlinewidth": 0,
             "ticks": ""
            },
            "type": "mesh3d"
           }
          ],
          "parcoords": [
           {
            "line": {
             "colorbar": {
              "outlinewidth": 0,
              "ticks": ""
             }
            },
            "type": "parcoords"
           }
          ],
          "pie": [
           {
            "automargin": true,
            "type": "pie"
           }
          ],
          "scatter": [
           {
            "marker": {
             "colorbar": {
              "outlinewidth": 0,
              "ticks": ""
             }
            },
            "type": "scatter"
           }
          ],
          "scatter3d": [
           {
            "line": {
             "colorbar": {
              "outlinewidth": 0,
              "ticks": ""
             }
            },
            "marker": {
             "colorbar": {
              "outlinewidth": 0,
              "ticks": ""
             }
            },
            "type": "scatter3d"
           }
          ],
          "scattercarpet": [
           {
            "marker": {
             "colorbar": {
              "outlinewidth": 0,
              "ticks": ""
             }
            },
            "type": "scattercarpet"
           }
          ],
          "scattergeo": [
           {
            "marker": {
             "colorbar": {
              "outlinewidth": 0,
              "ticks": ""
             }
            },
            "type": "scattergeo"
           }
          ],
          "scattergl": [
           {
            "marker": {
             "colorbar": {
              "outlinewidth": 0,
              "ticks": ""
             }
            },
            "type": "scattergl"
           }
          ],
          "scattermapbox": [
           {
            "marker": {
             "colorbar": {
              "outlinewidth": 0,
              "ticks": ""
             }
            },
            "type": "scattermapbox"
           }
          ],
          "scatterpolar": [
           {
            "marker": {
             "colorbar": {
              "outlinewidth": 0,
              "ticks": ""
             }
            },
            "type": "scatterpolar"
           }
          ],
          "scatterpolargl": [
           {
            "marker": {
             "colorbar": {
              "outlinewidth": 0,
              "ticks": ""
             }
            },
            "type": "scatterpolargl"
           }
          ],
          "scatterternary": [
           {
            "marker": {
             "colorbar": {
              "outlinewidth": 0,
              "ticks": ""
             }
            },
            "type": "scatterternary"
           }
          ],
          "surface": [
           {
            "colorbar": {
             "outlinewidth": 0,
             "ticks": ""
            },
            "colorscale": [
             [
              0,
              "#0d0887"
             ],
             [
              0.1111111111111111,
              "#46039f"
             ],
             [
              0.2222222222222222,
              "#7201a8"
             ],
             [
              0.3333333333333333,
              "#9c179e"
             ],
             [
              0.4444444444444444,
              "#bd3786"
             ],
             [
              0.5555555555555556,
              "#d8576b"
             ],
             [
              0.6666666666666666,
              "#ed7953"
             ],
             [
              0.7777777777777778,
              "#fb9f3a"
             ],
             [
              0.8888888888888888,
              "#fdca26"
             ],
             [
              1,
              "#f0f921"
             ]
            ],
            "type": "surface"
           }
          ],
          "table": [
           {
            "cells": {
             "fill": {
              "color": "#EBF0F8"
             },
             "line": {
              "color": "white"
             }
            },
            "header": {
             "fill": {
              "color": "#C8D4E3"
             },
             "line": {
              "color": "white"
             }
            },
            "type": "table"
           }
          ]
         },
         "layout": {
          "annotationdefaults": {
           "arrowcolor": "#2a3f5f",
           "arrowhead": 0,
           "arrowwidth": 1
          },
          "coloraxis": {
           "colorbar": {
            "outlinewidth": 0,
            "ticks": ""
           }
          },
          "colorscale": {
           "diverging": [
            [
             0,
             "#8e0152"
            ],
            [
             0.1,
             "#c51b7d"
            ],
            [
             0.2,
             "#de77ae"
            ],
            [
             0.3,
             "#f1b6da"
            ],
            [
             0.4,
             "#fde0ef"
            ],
            [
             0.5,
             "#f7f7f7"
            ],
            [
             0.6,
             "#e6f5d0"
            ],
            [
             0.7,
             "#b8e186"
            ],
            [
             0.8,
             "#7fbc41"
            ],
            [
             0.9,
             "#4d9221"
            ],
            [
             1,
             "#276419"
            ]
           ],
           "sequential": [
            [
             0,
             "#0d0887"
            ],
            [
             0.1111111111111111,
             "#46039f"
            ],
            [
             0.2222222222222222,
             "#7201a8"
            ],
            [
             0.3333333333333333,
             "#9c179e"
            ],
            [
             0.4444444444444444,
             "#bd3786"
            ],
            [
             0.5555555555555556,
             "#d8576b"
            ],
            [
             0.6666666666666666,
             "#ed7953"
            ],
            [
             0.7777777777777778,
             "#fb9f3a"
            ],
            [
             0.8888888888888888,
             "#fdca26"
            ],
            [
             1,
             "#f0f921"
            ]
           ],
           "sequentialminus": [
            [
             0,
             "#0d0887"
            ],
            [
             0.1111111111111111,
             "#46039f"
            ],
            [
             0.2222222222222222,
             "#7201a8"
            ],
            [
             0.3333333333333333,
             "#9c179e"
            ],
            [
             0.4444444444444444,
             "#bd3786"
            ],
            [
             0.5555555555555556,
             "#d8576b"
            ],
            [
             0.6666666666666666,
             "#ed7953"
            ],
            [
             0.7777777777777778,
             "#fb9f3a"
            ],
            [
             0.8888888888888888,
             "#fdca26"
            ],
            [
             1,
             "#f0f921"
            ]
           ]
          },
          "colorway": [
           "#636efa",
           "#EF553B",
           "#00cc96",
           "#ab63fa",
           "#FFA15A",
           "#19d3f3",
           "#FF6692",
           "#B6E880",
           "#FF97FF",
           "#FECB52"
          ],
          "font": {
           "color": "#2a3f5f"
          },
          "geo": {
           "bgcolor": "white",
           "lakecolor": "white",
           "landcolor": "#E5ECF6",
           "showlakes": true,
           "showland": true,
           "subunitcolor": "white"
          },
          "hoverlabel": {
           "align": "left"
          },
          "hovermode": "closest",
          "mapbox": {
           "style": "light"
          },
          "paper_bgcolor": "white",
          "plot_bgcolor": "#E5ECF6",
          "polar": {
           "angularaxis": {
            "gridcolor": "white",
            "linecolor": "white",
            "ticks": ""
           },
           "bgcolor": "#E5ECF6",
           "radialaxis": {
            "gridcolor": "white",
            "linecolor": "white",
            "ticks": ""
           }
          },
          "scene": {
           "xaxis": {
            "backgroundcolor": "#E5ECF6",
            "gridcolor": "white",
            "gridwidth": 2,
            "linecolor": "white",
            "showbackground": true,
            "ticks": "",
            "zerolinecolor": "white"
           },
           "yaxis": {
            "backgroundcolor": "#E5ECF6",
            "gridcolor": "white",
            "gridwidth": 2,
            "linecolor": "white",
            "showbackground": true,
            "ticks": "",
            "zerolinecolor": "white"
           },
           "zaxis": {
            "backgroundcolor": "#E5ECF6",
            "gridcolor": "white",
            "gridwidth": 2,
            "linecolor": "white",
            "showbackground": true,
            "ticks": "",
            "zerolinecolor": "white"
           }
          },
          "shapedefaults": {
           "line": {
            "color": "#2a3f5f"
           }
          },
          "ternary": {
           "aaxis": {
            "gridcolor": "white",
            "linecolor": "white",
            "ticks": ""
           },
           "baxis": {
            "gridcolor": "white",
            "linecolor": "white",
            "ticks": ""
           },
           "bgcolor": "#E5ECF6",
           "caxis": {
            "gridcolor": "white",
            "linecolor": "white",
            "ticks": ""
           }
          },
          "title": {
           "x": 0.05
          },
          "xaxis": {
           "automargin": true,
           "gridcolor": "white",
           "linecolor": "white",
           "ticks": "",
           "title": {
            "standoff": 15
           },
           "zerolinecolor": "white",
           "zerolinewidth": 2
          },
          "yaxis": {
           "automargin": true,
           "gridcolor": "white",
           "linecolor": "white",
           "ticks": "",
           "title": {
            "standoff": 15
           },
           "zerolinecolor": "white",
           "zerolinewidth": 2
          }
         }
        },
        "title": {
         "font": {
          "color": "#4D5663"
         }
        },
        "xaxis": {
         "gridcolor": "#E1E5ED",
         "showgrid": true,
         "tickfont": {
          "color": "#4D5663"
         },
         "title": {
          "font": {
           "color": "#4D5663"
          },
          "text": ""
         },
         "zerolinecolor": "#E1E5ED"
        },
        "yaxis": {
         "gridcolor": "#E1E5ED",
         "showgrid": true,
         "tickfont": {
          "color": "#4D5663"
         },
         "title": {
          "font": {
           "color": "#4D5663"
          },
          "text": ""
         },
         "zerolinecolor": "#E1E5ED"
        }
       }
      },
      "text/html": [
       "<div>\n",
       "        \n",
       "        \n",
       "            <div id=\"5e21725f-c900-4ed0-b082-4023ddec98e0\" class=\"plotly-graph-div\" style=\"height:525px; width:100%;\"></div>\n",
       "            <script type=\"text/javascript\">\n",
       "                require([\"plotly\"], function(Plotly) {\n",
       "                    window.PLOTLYENV=window.PLOTLYENV || {};\n",
       "                    window.PLOTLYENV.BASE_URL='https://plot.ly';\n",
       "                    \n",
       "                if (document.getElementById(\"5e21725f-c900-4ed0-b082-4023ddec98e0\")) {\n",
       "                    Plotly.newPlot(\n",
       "                        '5e21725f-c900-4ed0-b082-4023ddec98e0',\n",
       "                        [{\"marker\": {\"color\": \"rgba(255, 153, 51, 0.6)\", \"line\": {\"color\": \"rgba(255, 153, 51, 1.0)\", \"width\": 1}}, \"name\": \"Values\", \"orientation\": \"v\", \"text\": \"\", \"type\": \"bar\", \"x\": [\"A\", \"B\", \"C\"], \"y\": [32, 43, 50]}],\n",
       "                        {\"legend\": {\"bgcolor\": \"#F5F6F9\", \"font\": {\"color\": \"#4D5663\"}}, \"paper_bgcolor\": \"#F5F6F9\", \"plot_bgcolor\": \"#F5F6F9\", \"template\": {\"data\": {\"bar\": [{\"error_x\": {\"color\": \"#2a3f5f\"}, \"error_y\": {\"color\": \"#2a3f5f\"}, \"marker\": {\"line\": {\"color\": \"#E5ECF6\", \"width\": 0.5}}, \"type\": \"bar\"}], \"barpolar\": [{\"marker\": {\"line\": {\"color\": \"#E5ECF6\", \"width\": 0.5}}, \"type\": \"barpolar\"}], \"carpet\": [{\"aaxis\": {\"endlinecolor\": \"#2a3f5f\", \"gridcolor\": \"white\", \"linecolor\": \"white\", \"minorgridcolor\": \"white\", \"startlinecolor\": \"#2a3f5f\"}, \"baxis\": {\"endlinecolor\": \"#2a3f5f\", \"gridcolor\": \"white\", \"linecolor\": \"white\", \"minorgridcolor\": \"white\", \"startlinecolor\": \"#2a3f5f\"}, \"type\": \"carpet\"}], \"choropleth\": [{\"colorbar\": {\"outlinewidth\": 0, \"ticks\": \"\"}, \"type\": \"choropleth\"}], \"contour\": [{\"colorbar\": {\"outlinewidth\": 0, \"ticks\": \"\"}, \"colorscale\": [[0.0, \"#0d0887\"], [0.1111111111111111, \"#46039f\"], [0.2222222222222222, \"#7201a8\"], [0.3333333333333333, \"#9c179e\"], [0.4444444444444444, \"#bd3786\"], [0.5555555555555556, \"#d8576b\"], [0.6666666666666666, \"#ed7953\"], [0.7777777777777778, \"#fb9f3a\"], [0.8888888888888888, \"#fdca26\"], [1.0, \"#f0f921\"]], \"type\": \"contour\"}], \"contourcarpet\": [{\"colorbar\": {\"outlinewidth\": 0, \"ticks\": \"\"}, \"type\": \"contourcarpet\"}], \"heatmap\": [{\"colorbar\": {\"outlinewidth\": 0, \"ticks\": \"\"}, \"colorscale\": [[0.0, \"#0d0887\"], [0.1111111111111111, \"#46039f\"], [0.2222222222222222, \"#7201a8\"], [0.3333333333333333, \"#9c179e\"], [0.4444444444444444, \"#bd3786\"], [0.5555555555555556, \"#d8576b\"], [0.6666666666666666, \"#ed7953\"], [0.7777777777777778, \"#fb9f3a\"], [0.8888888888888888, \"#fdca26\"], [1.0, \"#f0f921\"]], \"type\": \"heatmap\"}], \"heatmapgl\": [{\"colorbar\": {\"outlinewidth\": 0, \"ticks\": \"\"}, \"colorscale\": [[0.0, \"#0d0887\"], [0.1111111111111111, \"#46039f\"], [0.2222222222222222, \"#7201a8\"], [0.3333333333333333, \"#9c179e\"], [0.4444444444444444, \"#bd3786\"], [0.5555555555555556, \"#d8576b\"], [0.6666666666666666, \"#ed7953\"], [0.7777777777777778, \"#fb9f3a\"], [0.8888888888888888, \"#fdca26\"], [1.0, \"#f0f921\"]], \"type\": \"heatmapgl\"}], \"histogram\": [{\"marker\": {\"colorbar\": {\"outlinewidth\": 0, \"ticks\": \"\"}}, \"type\": \"histogram\"}], \"histogram2d\": [{\"colorbar\": {\"outlinewidth\": 0, \"ticks\": \"\"}, \"colorscale\": [[0.0, \"#0d0887\"], [0.1111111111111111, \"#46039f\"], [0.2222222222222222, \"#7201a8\"], [0.3333333333333333, \"#9c179e\"], [0.4444444444444444, \"#bd3786\"], [0.5555555555555556, \"#d8576b\"], [0.6666666666666666, \"#ed7953\"], [0.7777777777777778, \"#fb9f3a\"], [0.8888888888888888, \"#fdca26\"], [1.0, \"#f0f921\"]], \"type\": \"histogram2d\"}], \"histogram2dcontour\": [{\"colorbar\": {\"outlinewidth\": 0, \"ticks\": \"\"}, \"colorscale\": [[0.0, \"#0d0887\"], [0.1111111111111111, \"#46039f\"], [0.2222222222222222, \"#7201a8\"], [0.3333333333333333, \"#9c179e\"], [0.4444444444444444, \"#bd3786\"], [0.5555555555555556, \"#d8576b\"], [0.6666666666666666, \"#ed7953\"], [0.7777777777777778, \"#fb9f3a\"], [0.8888888888888888, \"#fdca26\"], [1.0, \"#f0f921\"]], \"type\": \"histogram2dcontour\"}], \"mesh3d\": [{\"colorbar\": {\"outlinewidth\": 0, \"ticks\": \"\"}, \"type\": \"mesh3d\"}], \"parcoords\": [{\"line\": {\"colorbar\": {\"outlinewidth\": 0, \"ticks\": \"\"}}, \"type\": \"parcoords\"}], \"pie\": [{\"automargin\": true, \"type\": \"pie\"}], \"scatter\": [{\"marker\": {\"colorbar\": {\"outlinewidth\": 0, \"ticks\": \"\"}}, \"type\": \"scatter\"}], \"scatter3d\": [{\"line\": {\"colorbar\": {\"outlinewidth\": 0, \"ticks\": \"\"}}, \"marker\": {\"colorbar\": {\"outlinewidth\": 0, \"ticks\": \"\"}}, \"type\": \"scatter3d\"}], \"scattercarpet\": [{\"marker\": {\"colorbar\": {\"outlinewidth\": 0, \"ticks\": \"\"}}, \"type\": \"scattercarpet\"}], \"scattergeo\": [{\"marker\": {\"colorbar\": {\"outlinewidth\": 0, \"ticks\": \"\"}}, \"type\": \"scattergeo\"}], \"scattergl\": [{\"marker\": {\"colorbar\": {\"outlinewidth\": 0, \"ticks\": \"\"}}, \"type\": \"scattergl\"}], \"scattermapbox\": [{\"marker\": {\"colorbar\": {\"outlinewidth\": 0, \"ticks\": \"\"}}, \"type\": \"scattermapbox\"}], \"scatterpolar\": [{\"marker\": {\"colorbar\": {\"outlinewidth\": 0, \"ticks\": \"\"}}, \"type\": \"scatterpolar\"}], \"scatterpolargl\": [{\"marker\": {\"colorbar\": {\"outlinewidth\": 0, \"ticks\": \"\"}}, \"type\": \"scatterpolargl\"}], \"scatterternary\": [{\"marker\": {\"colorbar\": {\"outlinewidth\": 0, \"ticks\": \"\"}}, \"type\": \"scatterternary\"}], \"surface\": [{\"colorbar\": {\"outlinewidth\": 0, \"ticks\": \"\"}, \"colorscale\": [[0.0, \"#0d0887\"], [0.1111111111111111, \"#46039f\"], [0.2222222222222222, \"#7201a8\"], [0.3333333333333333, \"#9c179e\"], [0.4444444444444444, \"#bd3786\"], [0.5555555555555556, \"#d8576b\"], [0.6666666666666666, \"#ed7953\"], [0.7777777777777778, \"#fb9f3a\"], [0.8888888888888888, \"#fdca26\"], [1.0, \"#f0f921\"]], \"type\": \"surface\"}], \"table\": [{\"cells\": {\"fill\": {\"color\": \"#EBF0F8\"}, \"line\": {\"color\": \"white\"}}, \"header\": {\"fill\": {\"color\": \"#C8D4E3\"}, \"line\": {\"color\": \"white\"}}, \"type\": \"table\"}]}, \"layout\": {\"annotationdefaults\": {\"arrowcolor\": \"#2a3f5f\", \"arrowhead\": 0, \"arrowwidth\": 1}, \"coloraxis\": {\"colorbar\": {\"outlinewidth\": 0, \"ticks\": \"\"}}, \"colorscale\": {\"diverging\": [[0, \"#8e0152\"], [0.1, \"#c51b7d\"], [0.2, \"#de77ae\"], [0.3, \"#f1b6da\"], [0.4, \"#fde0ef\"], [0.5, \"#f7f7f7\"], [0.6, \"#e6f5d0\"], [0.7, \"#b8e186\"], [0.8, \"#7fbc41\"], [0.9, \"#4d9221\"], [1, \"#276419\"]], \"sequential\": [[0.0, \"#0d0887\"], [0.1111111111111111, \"#46039f\"], [0.2222222222222222, \"#7201a8\"], [0.3333333333333333, \"#9c179e\"], [0.4444444444444444, \"#bd3786\"], [0.5555555555555556, \"#d8576b\"], [0.6666666666666666, \"#ed7953\"], [0.7777777777777778, \"#fb9f3a\"], [0.8888888888888888, \"#fdca26\"], [1.0, \"#f0f921\"]], \"sequentialminus\": [[0.0, \"#0d0887\"], [0.1111111111111111, \"#46039f\"], [0.2222222222222222, \"#7201a8\"], [0.3333333333333333, \"#9c179e\"], [0.4444444444444444, \"#bd3786\"], [0.5555555555555556, \"#d8576b\"], [0.6666666666666666, \"#ed7953\"], [0.7777777777777778, \"#fb9f3a\"], [0.8888888888888888, \"#fdca26\"], [1.0, \"#f0f921\"]]}, \"colorway\": [\"#636efa\", \"#EF553B\", \"#00cc96\", \"#ab63fa\", \"#FFA15A\", \"#19d3f3\", \"#FF6692\", \"#B6E880\", \"#FF97FF\", \"#FECB52\"], \"font\": {\"color\": \"#2a3f5f\"}, \"geo\": {\"bgcolor\": \"white\", \"lakecolor\": \"white\", \"landcolor\": \"#E5ECF6\", \"showlakes\": true, \"showland\": true, \"subunitcolor\": \"white\"}, \"hoverlabel\": {\"align\": \"left\"}, \"hovermode\": \"closest\", \"mapbox\": {\"style\": \"light\"}, \"paper_bgcolor\": \"white\", \"plot_bgcolor\": \"#E5ECF6\", \"polar\": {\"angularaxis\": {\"gridcolor\": \"white\", \"linecolor\": \"white\", \"ticks\": \"\"}, \"bgcolor\": \"#E5ECF6\", \"radialaxis\": {\"gridcolor\": \"white\", \"linecolor\": \"white\", \"ticks\": \"\"}}, \"scene\": {\"xaxis\": {\"backgroundcolor\": \"#E5ECF6\", \"gridcolor\": \"white\", \"gridwidth\": 2, \"linecolor\": \"white\", \"showbackground\": true, \"ticks\": \"\", \"zerolinecolor\": \"white\"}, \"yaxis\": {\"backgroundcolor\": \"#E5ECF6\", \"gridcolor\": \"white\", \"gridwidth\": 2, \"linecolor\": \"white\", \"showbackground\": true, \"ticks\": \"\", \"zerolinecolor\": \"white\"}, \"zaxis\": {\"backgroundcolor\": \"#E5ECF6\", \"gridcolor\": \"white\", \"gridwidth\": 2, \"linecolor\": \"white\", \"showbackground\": true, \"ticks\": \"\", \"zerolinecolor\": \"white\"}}, \"shapedefaults\": {\"line\": {\"color\": \"#2a3f5f\"}}, \"ternary\": {\"aaxis\": {\"gridcolor\": \"white\", \"linecolor\": \"white\", \"ticks\": \"\"}, \"baxis\": {\"gridcolor\": \"white\", \"linecolor\": \"white\", \"ticks\": \"\"}, \"bgcolor\": \"#E5ECF6\", \"caxis\": {\"gridcolor\": \"white\", \"linecolor\": \"white\", \"ticks\": \"\"}}, \"title\": {\"x\": 0.05}, \"xaxis\": {\"automargin\": true, \"gridcolor\": \"white\", \"linecolor\": \"white\", \"ticks\": \"\", \"title\": {\"standoff\": 15}, \"zerolinecolor\": \"white\", \"zerolinewidth\": 2}, \"yaxis\": {\"automargin\": true, \"gridcolor\": \"white\", \"linecolor\": \"white\", \"ticks\": \"\", \"title\": {\"standoff\": 15}, \"zerolinecolor\": \"white\", \"zerolinewidth\": 2}}}, \"title\": {\"font\": {\"color\": \"#4D5663\"}}, \"xaxis\": {\"gridcolor\": \"#E1E5ED\", \"showgrid\": true, \"tickfont\": {\"color\": \"#4D5663\"}, \"title\": {\"font\": {\"color\": \"#4D5663\"}, \"text\": \"\"}, \"zerolinecolor\": \"#E1E5ED\"}, \"yaxis\": {\"gridcolor\": \"#E1E5ED\", \"showgrid\": true, \"tickfont\": {\"color\": \"#4D5663\"}, \"title\": {\"font\": {\"color\": \"#4D5663\"}, \"text\": \"\"}, \"zerolinecolor\": \"#E1E5ED\"}},\n",
       "                        {\"showLink\": true, \"linkText\": \"Export to plot.ly\", \"plotlyServerURL\": \"https://plot.ly\", \"responsive\": true}\n",
       "                    ).then(function(){\n",
       "                            \n",
       "var gd = document.getElementById('5e21725f-c900-4ed0-b082-4023ddec98e0');\n",
       "var x = new MutationObserver(function (mutations, observer) {{\n",
       "        var display = window.getComputedStyle(gd).display;\n",
       "        if (!display || display === 'none') {{\n",
       "            console.log([gd, 'removed!']);\n",
       "            Plotly.purge(gd);\n",
       "            observer.disconnect();\n",
       "        }}\n",
       "}});\n",
       "\n",
       "// Listen for the removal of the full notebook cells\n",
       "var notebookContainer = gd.closest('#notebook-container');\n",
       "if (notebookContainer) {{\n",
       "    x.observe(notebookContainer, {childList: true});\n",
       "}}\n",
       "\n",
       "// Listen for the clearing of the current output cell\n",
       "var outputEl = gd.closest('.output');\n",
       "if (outputEl) {{\n",
       "    x.observe(outputEl, {childList: true});\n",
       "}}\n",
       "\n",
       "                        })\n",
       "                };\n",
       "                });\n",
       "            </script>\n",
       "        </div>"
      ]
     },
     "metadata": {},
     "output_type": "display_data"
    }
   ],
   "source": [
    "df2.iplot(kind=\"bar\",x=\"Category\",y=\"Values\")"
   ]
  },
  {
   "cell_type": "code",
   "execution_count": 33,
   "metadata": {},
   "outputs": [
    {
     "data": {
      "application/vnd.plotly.v1+json": {
       "config": {
        "linkText": "Export to plot.ly",
        "plotlyServerURL": "https://plot.ly",
        "showLink": true
       },
       "data": [
        {
         "marker": {
          "color": "rgba(255, 153, 51, 0.6)",
          "line": {
           "color": "rgba(255, 153, 51, 1.0)",
           "width": 1
          }
         },
         "name": "None",
         "orientation": "v",
         "text": "",
         "type": "bar",
         "x": [
          "A",
          "B",
          "C",
          "D"
         ],
         "y": [
          4.3888357744351625,
          -3.935701750922048,
          -3.7235613048371574,
          20.561427384886102
         ]
        }
       ],
       "layout": {
        "legend": {
         "bgcolor": "#F5F6F9",
         "font": {
          "color": "#4D5663"
         }
        },
        "paper_bgcolor": "#F5F6F9",
        "plot_bgcolor": "#F5F6F9",
        "template": {
         "data": {
          "bar": [
           {
            "error_x": {
             "color": "#2a3f5f"
            },
            "error_y": {
             "color": "#2a3f5f"
            },
            "marker": {
             "line": {
              "color": "#E5ECF6",
              "width": 0.5
             }
            },
            "type": "bar"
           }
          ],
          "barpolar": [
           {
            "marker": {
             "line": {
              "color": "#E5ECF6",
              "width": 0.5
             }
            },
            "type": "barpolar"
           }
          ],
          "carpet": [
           {
            "aaxis": {
             "endlinecolor": "#2a3f5f",
             "gridcolor": "white",
             "linecolor": "white",
             "minorgridcolor": "white",
             "startlinecolor": "#2a3f5f"
            },
            "baxis": {
             "endlinecolor": "#2a3f5f",
             "gridcolor": "white",
             "linecolor": "white",
             "minorgridcolor": "white",
             "startlinecolor": "#2a3f5f"
            },
            "type": "carpet"
           }
          ],
          "choropleth": [
           {
            "colorbar": {
             "outlinewidth": 0,
             "ticks": ""
            },
            "type": "choropleth"
           }
          ],
          "contour": [
           {
            "colorbar": {
             "outlinewidth": 0,
             "ticks": ""
            },
            "colorscale": [
             [
              0,
              "#0d0887"
             ],
             [
              0.1111111111111111,
              "#46039f"
             ],
             [
              0.2222222222222222,
              "#7201a8"
             ],
             [
              0.3333333333333333,
              "#9c179e"
             ],
             [
              0.4444444444444444,
              "#bd3786"
             ],
             [
              0.5555555555555556,
              "#d8576b"
             ],
             [
              0.6666666666666666,
              "#ed7953"
             ],
             [
              0.7777777777777778,
              "#fb9f3a"
             ],
             [
              0.8888888888888888,
              "#fdca26"
             ],
             [
              1,
              "#f0f921"
             ]
            ],
            "type": "contour"
           }
          ],
          "contourcarpet": [
           {
            "colorbar": {
             "outlinewidth": 0,
             "ticks": ""
            },
            "type": "contourcarpet"
           }
          ],
          "heatmap": [
           {
            "colorbar": {
             "outlinewidth": 0,
             "ticks": ""
            },
            "colorscale": [
             [
              0,
              "#0d0887"
             ],
             [
              0.1111111111111111,
              "#46039f"
             ],
             [
              0.2222222222222222,
              "#7201a8"
             ],
             [
              0.3333333333333333,
              "#9c179e"
             ],
             [
              0.4444444444444444,
              "#bd3786"
             ],
             [
              0.5555555555555556,
              "#d8576b"
             ],
             [
              0.6666666666666666,
              "#ed7953"
             ],
             [
              0.7777777777777778,
              "#fb9f3a"
             ],
             [
              0.8888888888888888,
              "#fdca26"
             ],
             [
              1,
              "#f0f921"
             ]
            ],
            "type": "heatmap"
           }
          ],
          "heatmapgl": [
           {
            "colorbar": {
             "outlinewidth": 0,
             "ticks": ""
            },
            "colorscale": [
             [
              0,
              "#0d0887"
             ],
             [
              0.1111111111111111,
              "#46039f"
             ],
             [
              0.2222222222222222,
              "#7201a8"
             ],
             [
              0.3333333333333333,
              "#9c179e"
             ],
             [
              0.4444444444444444,
              "#bd3786"
             ],
             [
              0.5555555555555556,
              "#d8576b"
             ],
             [
              0.6666666666666666,
              "#ed7953"
             ],
             [
              0.7777777777777778,
              "#fb9f3a"
             ],
             [
              0.8888888888888888,
              "#fdca26"
             ],
             [
              1,
              "#f0f921"
             ]
            ],
            "type": "heatmapgl"
           }
          ],
          "histogram": [
           {
            "marker": {
             "colorbar": {
              "outlinewidth": 0,
              "ticks": ""
             }
            },
            "type": "histogram"
           }
          ],
          "histogram2d": [
           {
            "colorbar": {
             "outlinewidth": 0,
             "ticks": ""
            },
            "colorscale": [
             [
              0,
              "#0d0887"
             ],
             [
              0.1111111111111111,
              "#46039f"
             ],
             [
              0.2222222222222222,
              "#7201a8"
             ],
             [
              0.3333333333333333,
              "#9c179e"
             ],
             [
              0.4444444444444444,
              "#bd3786"
             ],
             [
              0.5555555555555556,
              "#d8576b"
             ],
             [
              0.6666666666666666,
              "#ed7953"
             ],
             [
              0.7777777777777778,
              "#fb9f3a"
             ],
             [
              0.8888888888888888,
              "#fdca26"
             ],
             [
              1,
              "#f0f921"
             ]
            ],
            "type": "histogram2d"
           }
          ],
          "histogram2dcontour": [
           {
            "colorbar": {
             "outlinewidth": 0,
             "ticks": ""
            },
            "colorscale": [
             [
              0,
              "#0d0887"
             ],
             [
              0.1111111111111111,
              "#46039f"
             ],
             [
              0.2222222222222222,
              "#7201a8"
             ],
             [
              0.3333333333333333,
              "#9c179e"
             ],
             [
              0.4444444444444444,
              "#bd3786"
             ],
             [
              0.5555555555555556,
              "#d8576b"
             ],
             [
              0.6666666666666666,
              "#ed7953"
             ],
             [
              0.7777777777777778,
              "#fb9f3a"
             ],
             [
              0.8888888888888888,
              "#fdca26"
             ],
             [
              1,
              "#f0f921"
             ]
            ],
            "type": "histogram2dcontour"
           }
          ],
          "mesh3d": [
           {
            "colorbar": {
             "outlinewidth": 0,
             "ticks": ""
            },
            "type": "mesh3d"
           }
          ],
          "parcoords": [
           {
            "line": {
             "colorbar": {
              "outlinewidth": 0,
              "ticks": ""
             }
            },
            "type": "parcoords"
           }
          ],
          "pie": [
           {
            "automargin": true,
            "type": "pie"
           }
          ],
          "scatter": [
           {
            "marker": {
             "colorbar": {
              "outlinewidth": 0,
              "ticks": ""
             }
            },
            "type": "scatter"
           }
          ],
          "scatter3d": [
           {
            "line": {
             "colorbar": {
              "outlinewidth": 0,
              "ticks": ""
             }
            },
            "marker": {
             "colorbar": {
              "outlinewidth": 0,
              "ticks": ""
             }
            },
            "type": "scatter3d"
           }
          ],
          "scattercarpet": [
           {
            "marker": {
             "colorbar": {
              "outlinewidth": 0,
              "ticks": ""
             }
            },
            "type": "scattercarpet"
           }
          ],
          "scattergeo": [
           {
            "marker": {
             "colorbar": {
              "outlinewidth": 0,
              "ticks": ""
             }
            },
            "type": "scattergeo"
           }
          ],
          "scattergl": [
           {
            "marker": {
             "colorbar": {
              "outlinewidth": 0,
              "ticks": ""
             }
            },
            "type": "scattergl"
           }
          ],
          "scattermapbox": [
           {
            "marker": {
             "colorbar": {
              "outlinewidth": 0,
              "ticks": ""
             }
            },
            "type": "scattermapbox"
           }
          ],
          "scatterpolar": [
           {
            "marker": {
             "colorbar": {
              "outlinewidth": 0,
              "ticks": ""
             }
            },
            "type": "scatterpolar"
           }
          ],
          "scatterpolargl": [
           {
            "marker": {
             "colorbar": {
              "outlinewidth": 0,
              "ticks": ""
             }
            },
            "type": "scatterpolargl"
           }
          ],
          "scatterternary": [
           {
            "marker": {
             "colorbar": {
              "outlinewidth": 0,
              "ticks": ""
             }
            },
            "type": "scatterternary"
           }
          ],
          "surface": [
           {
            "colorbar": {
             "outlinewidth": 0,
             "ticks": ""
            },
            "colorscale": [
             [
              0,
              "#0d0887"
             ],
             [
              0.1111111111111111,
              "#46039f"
             ],
             [
              0.2222222222222222,
              "#7201a8"
             ],
             [
              0.3333333333333333,
              "#9c179e"
             ],
             [
              0.4444444444444444,
              "#bd3786"
             ],
             [
              0.5555555555555556,
              "#d8576b"
             ],
             [
              0.6666666666666666,
              "#ed7953"
             ],
             [
              0.7777777777777778,
              "#fb9f3a"
             ],
             [
              0.8888888888888888,
              "#fdca26"
             ],
             [
              1,
              "#f0f921"
             ]
            ],
            "type": "surface"
           }
          ],
          "table": [
           {
            "cells": {
             "fill": {
              "color": "#EBF0F8"
             },
             "line": {
              "color": "white"
             }
            },
            "header": {
             "fill": {
              "color": "#C8D4E3"
             },
             "line": {
              "color": "white"
             }
            },
            "type": "table"
           }
          ]
         },
         "layout": {
          "annotationdefaults": {
           "arrowcolor": "#2a3f5f",
           "arrowhead": 0,
           "arrowwidth": 1
          },
          "coloraxis": {
           "colorbar": {
            "outlinewidth": 0,
            "ticks": ""
           }
          },
          "colorscale": {
           "diverging": [
            [
             0,
             "#8e0152"
            ],
            [
             0.1,
             "#c51b7d"
            ],
            [
             0.2,
             "#de77ae"
            ],
            [
             0.3,
             "#f1b6da"
            ],
            [
             0.4,
             "#fde0ef"
            ],
            [
             0.5,
             "#f7f7f7"
            ],
            [
             0.6,
             "#e6f5d0"
            ],
            [
             0.7,
             "#b8e186"
            ],
            [
             0.8,
             "#7fbc41"
            ],
            [
             0.9,
             "#4d9221"
            ],
            [
             1,
             "#276419"
            ]
           ],
           "sequential": [
            [
             0,
             "#0d0887"
            ],
            [
             0.1111111111111111,
             "#46039f"
            ],
            [
             0.2222222222222222,
             "#7201a8"
            ],
            [
             0.3333333333333333,
             "#9c179e"
            ],
            [
             0.4444444444444444,
             "#bd3786"
            ],
            [
             0.5555555555555556,
             "#d8576b"
            ],
            [
             0.6666666666666666,
             "#ed7953"
            ],
            [
             0.7777777777777778,
             "#fb9f3a"
            ],
            [
             0.8888888888888888,
             "#fdca26"
            ],
            [
             1,
             "#f0f921"
            ]
           ],
           "sequentialminus": [
            [
             0,
             "#0d0887"
            ],
            [
             0.1111111111111111,
             "#46039f"
            ],
            [
             0.2222222222222222,
             "#7201a8"
            ],
            [
             0.3333333333333333,
             "#9c179e"
            ],
            [
             0.4444444444444444,
             "#bd3786"
            ],
            [
             0.5555555555555556,
             "#d8576b"
            ],
            [
             0.6666666666666666,
             "#ed7953"
            ],
            [
             0.7777777777777778,
             "#fb9f3a"
            ],
            [
             0.8888888888888888,
             "#fdca26"
            ],
            [
             1,
             "#f0f921"
            ]
           ]
          },
          "colorway": [
           "#636efa",
           "#EF553B",
           "#00cc96",
           "#ab63fa",
           "#FFA15A",
           "#19d3f3",
           "#FF6692",
           "#B6E880",
           "#FF97FF",
           "#FECB52"
          ],
          "font": {
           "color": "#2a3f5f"
          },
          "geo": {
           "bgcolor": "white",
           "lakecolor": "white",
           "landcolor": "#E5ECF6",
           "showlakes": true,
           "showland": true,
           "subunitcolor": "white"
          },
          "hoverlabel": {
           "align": "left"
          },
          "hovermode": "closest",
          "mapbox": {
           "style": "light"
          },
          "paper_bgcolor": "white",
          "plot_bgcolor": "#E5ECF6",
          "polar": {
           "angularaxis": {
            "gridcolor": "white",
            "linecolor": "white",
            "ticks": ""
           },
           "bgcolor": "#E5ECF6",
           "radialaxis": {
            "gridcolor": "white",
            "linecolor": "white",
            "ticks": ""
           }
          },
          "scene": {
           "xaxis": {
            "backgroundcolor": "#E5ECF6",
            "gridcolor": "white",
            "gridwidth": 2,
            "linecolor": "white",
            "showbackground": true,
            "ticks": "",
            "zerolinecolor": "white"
           },
           "yaxis": {
            "backgroundcolor": "#E5ECF6",
            "gridcolor": "white",
            "gridwidth": 2,
            "linecolor": "white",
            "showbackground": true,
            "ticks": "",
            "zerolinecolor": "white"
           },
           "zaxis": {
            "backgroundcolor": "#E5ECF6",
            "gridcolor": "white",
            "gridwidth": 2,
            "linecolor": "white",
            "showbackground": true,
            "ticks": "",
            "zerolinecolor": "white"
           }
          },
          "shapedefaults": {
           "line": {
            "color": "#2a3f5f"
           }
          },
          "ternary": {
           "aaxis": {
            "gridcolor": "white",
            "linecolor": "white",
            "ticks": ""
           },
           "baxis": {
            "gridcolor": "white",
            "linecolor": "white",
            "ticks": ""
           },
           "bgcolor": "#E5ECF6",
           "caxis": {
            "gridcolor": "white",
            "linecolor": "white",
            "ticks": ""
           }
          },
          "title": {
           "x": 0.05
          },
          "xaxis": {
           "automargin": true,
           "gridcolor": "white",
           "linecolor": "white",
           "ticks": "",
           "title": {
            "standoff": 15
           },
           "zerolinecolor": "white",
           "zerolinewidth": 2
          },
          "yaxis": {
           "automargin": true,
           "gridcolor": "white",
           "linecolor": "white",
           "ticks": "",
           "title": {
            "standoff": 15
           },
           "zerolinecolor": "white",
           "zerolinewidth": 2
          }
         }
        },
        "title": {
         "font": {
          "color": "#4D5663"
         }
        },
        "xaxis": {
         "gridcolor": "#E1E5ED",
         "showgrid": true,
         "tickfont": {
          "color": "#4D5663"
         },
         "title": {
          "font": {
           "color": "#4D5663"
          },
          "text": ""
         },
         "zerolinecolor": "#E1E5ED"
        },
        "yaxis": {
         "gridcolor": "#E1E5ED",
         "showgrid": true,
         "tickfont": {
          "color": "#4D5663"
         },
         "title": {
          "font": {
           "color": "#4D5663"
          },
          "text": ""
         },
         "zerolinecolor": "#E1E5ED"
        }
       }
      },
      "text/html": [
       "<div>\n",
       "        \n",
       "        \n",
       "            <div id=\"d88d3211-b9c6-45ec-a1e0-53a07d4041a7\" class=\"plotly-graph-div\" style=\"height:525px; width:100%;\"></div>\n",
       "            <script type=\"text/javascript\">\n",
       "                require([\"plotly\"], function(Plotly) {\n",
       "                    window.PLOTLYENV=window.PLOTLYENV || {};\n",
       "                    window.PLOTLYENV.BASE_URL='https://plot.ly';\n",
       "                    \n",
       "                if (document.getElementById(\"d88d3211-b9c6-45ec-a1e0-53a07d4041a7\")) {\n",
       "                    Plotly.newPlot(\n",
       "                        'd88d3211-b9c6-45ec-a1e0-53a07d4041a7',\n",
       "                        [{\"marker\": {\"color\": \"rgba(255, 153, 51, 0.6)\", \"line\": {\"color\": \"rgba(255, 153, 51, 1.0)\", \"width\": 1}}, \"name\": \"None\", \"orientation\": \"v\", \"text\": \"\", \"type\": \"bar\", \"x\": [\"A\", \"B\", \"C\", \"D\"], \"y\": [4.3888357744351625, -3.935701750922048, -3.7235613048371574, 20.561427384886102]}],\n",
       "                        {\"legend\": {\"bgcolor\": \"#F5F6F9\", \"font\": {\"color\": \"#4D5663\"}}, \"paper_bgcolor\": \"#F5F6F9\", \"plot_bgcolor\": \"#F5F6F9\", \"template\": {\"data\": {\"bar\": [{\"error_x\": {\"color\": \"#2a3f5f\"}, \"error_y\": {\"color\": \"#2a3f5f\"}, \"marker\": {\"line\": {\"color\": \"#E5ECF6\", \"width\": 0.5}}, \"type\": \"bar\"}], \"barpolar\": [{\"marker\": {\"line\": {\"color\": \"#E5ECF6\", \"width\": 0.5}}, \"type\": \"barpolar\"}], \"carpet\": [{\"aaxis\": {\"endlinecolor\": \"#2a3f5f\", \"gridcolor\": \"white\", \"linecolor\": \"white\", \"minorgridcolor\": \"white\", \"startlinecolor\": \"#2a3f5f\"}, \"baxis\": {\"endlinecolor\": \"#2a3f5f\", \"gridcolor\": \"white\", \"linecolor\": \"white\", \"minorgridcolor\": \"white\", \"startlinecolor\": \"#2a3f5f\"}, \"type\": \"carpet\"}], \"choropleth\": [{\"colorbar\": {\"outlinewidth\": 0, \"ticks\": \"\"}, \"type\": \"choropleth\"}], \"contour\": [{\"colorbar\": {\"outlinewidth\": 0, \"ticks\": \"\"}, \"colorscale\": [[0.0, \"#0d0887\"], [0.1111111111111111, \"#46039f\"], [0.2222222222222222, \"#7201a8\"], [0.3333333333333333, \"#9c179e\"], [0.4444444444444444, \"#bd3786\"], [0.5555555555555556, \"#d8576b\"], [0.6666666666666666, \"#ed7953\"], [0.7777777777777778, \"#fb9f3a\"], [0.8888888888888888, \"#fdca26\"], [1.0, \"#f0f921\"]], \"type\": \"contour\"}], \"contourcarpet\": [{\"colorbar\": {\"outlinewidth\": 0, \"ticks\": \"\"}, \"type\": \"contourcarpet\"}], \"heatmap\": [{\"colorbar\": {\"outlinewidth\": 0, \"ticks\": \"\"}, \"colorscale\": [[0.0, \"#0d0887\"], [0.1111111111111111, \"#46039f\"], [0.2222222222222222, \"#7201a8\"], [0.3333333333333333, \"#9c179e\"], [0.4444444444444444, \"#bd3786\"], [0.5555555555555556, \"#d8576b\"], [0.6666666666666666, \"#ed7953\"], [0.7777777777777778, \"#fb9f3a\"], [0.8888888888888888, \"#fdca26\"], [1.0, \"#f0f921\"]], \"type\": \"heatmap\"}], \"heatmapgl\": [{\"colorbar\": {\"outlinewidth\": 0, \"ticks\": \"\"}, \"colorscale\": [[0.0, \"#0d0887\"], [0.1111111111111111, \"#46039f\"], [0.2222222222222222, \"#7201a8\"], [0.3333333333333333, \"#9c179e\"], [0.4444444444444444, \"#bd3786\"], [0.5555555555555556, \"#d8576b\"], [0.6666666666666666, \"#ed7953\"], [0.7777777777777778, \"#fb9f3a\"], [0.8888888888888888, \"#fdca26\"], [1.0, \"#f0f921\"]], \"type\": \"heatmapgl\"}], \"histogram\": [{\"marker\": {\"colorbar\": {\"outlinewidth\": 0, \"ticks\": \"\"}}, \"type\": \"histogram\"}], \"histogram2d\": [{\"colorbar\": {\"outlinewidth\": 0, \"ticks\": \"\"}, \"colorscale\": [[0.0, \"#0d0887\"], [0.1111111111111111, \"#46039f\"], [0.2222222222222222, \"#7201a8\"], [0.3333333333333333, \"#9c179e\"], [0.4444444444444444, \"#bd3786\"], [0.5555555555555556, \"#d8576b\"], [0.6666666666666666, \"#ed7953\"], [0.7777777777777778, \"#fb9f3a\"], [0.8888888888888888, \"#fdca26\"], [1.0, \"#f0f921\"]], \"type\": \"histogram2d\"}], \"histogram2dcontour\": [{\"colorbar\": {\"outlinewidth\": 0, \"ticks\": \"\"}, \"colorscale\": [[0.0, \"#0d0887\"], [0.1111111111111111, \"#46039f\"], [0.2222222222222222, \"#7201a8\"], [0.3333333333333333, \"#9c179e\"], [0.4444444444444444, \"#bd3786\"], [0.5555555555555556, \"#d8576b\"], [0.6666666666666666, \"#ed7953\"], [0.7777777777777778, \"#fb9f3a\"], [0.8888888888888888, \"#fdca26\"], [1.0, \"#f0f921\"]], \"type\": \"histogram2dcontour\"}], \"mesh3d\": [{\"colorbar\": {\"outlinewidth\": 0, \"ticks\": \"\"}, \"type\": \"mesh3d\"}], \"parcoords\": [{\"line\": {\"colorbar\": {\"outlinewidth\": 0, \"ticks\": \"\"}}, \"type\": \"parcoords\"}], \"pie\": [{\"automargin\": true, \"type\": \"pie\"}], \"scatter\": [{\"marker\": {\"colorbar\": {\"outlinewidth\": 0, \"ticks\": \"\"}}, \"type\": \"scatter\"}], \"scatter3d\": [{\"line\": {\"colorbar\": {\"outlinewidth\": 0, \"ticks\": \"\"}}, \"marker\": {\"colorbar\": {\"outlinewidth\": 0, \"ticks\": \"\"}}, \"type\": \"scatter3d\"}], \"scattercarpet\": [{\"marker\": {\"colorbar\": {\"outlinewidth\": 0, \"ticks\": \"\"}}, \"type\": \"scattercarpet\"}], \"scattergeo\": [{\"marker\": {\"colorbar\": {\"outlinewidth\": 0, \"ticks\": \"\"}}, \"type\": \"scattergeo\"}], \"scattergl\": [{\"marker\": {\"colorbar\": {\"outlinewidth\": 0, \"ticks\": \"\"}}, \"type\": \"scattergl\"}], \"scattermapbox\": [{\"marker\": {\"colorbar\": {\"outlinewidth\": 0, \"ticks\": \"\"}}, \"type\": \"scattermapbox\"}], \"scatterpolar\": [{\"marker\": {\"colorbar\": {\"outlinewidth\": 0, \"ticks\": \"\"}}, \"type\": \"scatterpolar\"}], \"scatterpolargl\": [{\"marker\": {\"colorbar\": {\"outlinewidth\": 0, \"ticks\": \"\"}}, \"type\": \"scatterpolargl\"}], \"scatterternary\": [{\"marker\": {\"colorbar\": {\"outlinewidth\": 0, \"ticks\": \"\"}}, \"type\": \"scatterternary\"}], \"surface\": [{\"colorbar\": {\"outlinewidth\": 0, \"ticks\": \"\"}, \"colorscale\": [[0.0, \"#0d0887\"], [0.1111111111111111, \"#46039f\"], [0.2222222222222222, \"#7201a8\"], [0.3333333333333333, \"#9c179e\"], [0.4444444444444444, \"#bd3786\"], [0.5555555555555556, \"#d8576b\"], [0.6666666666666666, \"#ed7953\"], [0.7777777777777778, \"#fb9f3a\"], [0.8888888888888888, \"#fdca26\"], [1.0, \"#f0f921\"]], \"type\": \"surface\"}], \"table\": [{\"cells\": {\"fill\": {\"color\": \"#EBF0F8\"}, \"line\": {\"color\": \"white\"}}, \"header\": {\"fill\": {\"color\": \"#C8D4E3\"}, \"line\": {\"color\": \"white\"}}, \"type\": \"table\"}]}, \"layout\": {\"annotationdefaults\": {\"arrowcolor\": \"#2a3f5f\", \"arrowhead\": 0, \"arrowwidth\": 1}, \"coloraxis\": {\"colorbar\": {\"outlinewidth\": 0, \"ticks\": \"\"}}, \"colorscale\": {\"diverging\": [[0, \"#8e0152\"], [0.1, \"#c51b7d\"], [0.2, \"#de77ae\"], [0.3, \"#f1b6da\"], [0.4, \"#fde0ef\"], [0.5, \"#f7f7f7\"], [0.6, \"#e6f5d0\"], [0.7, \"#b8e186\"], [0.8, \"#7fbc41\"], [0.9, \"#4d9221\"], [1, \"#276419\"]], \"sequential\": [[0.0, \"#0d0887\"], [0.1111111111111111, \"#46039f\"], [0.2222222222222222, \"#7201a8\"], [0.3333333333333333, \"#9c179e\"], [0.4444444444444444, \"#bd3786\"], [0.5555555555555556, \"#d8576b\"], [0.6666666666666666, \"#ed7953\"], [0.7777777777777778, \"#fb9f3a\"], [0.8888888888888888, \"#fdca26\"], [1.0, \"#f0f921\"]], \"sequentialminus\": [[0.0, \"#0d0887\"], [0.1111111111111111, \"#46039f\"], [0.2222222222222222, \"#7201a8\"], [0.3333333333333333, \"#9c179e\"], [0.4444444444444444, \"#bd3786\"], [0.5555555555555556, \"#d8576b\"], [0.6666666666666666, \"#ed7953\"], [0.7777777777777778, \"#fb9f3a\"], [0.8888888888888888, \"#fdca26\"], [1.0, \"#f0f921\"]]}, \"colorway\": [\"#636efa\", \"#EF553B\", \"#00cc96\", \"#ab63fa\", \"#FFA15A\", \"#19d3f3\", \"#FF6692\", \"#B6E880\", \"#FF97FF\", \"#FECB52\"], \"font\": {\"color\": \"#2a3f5f\"}, \"geo\": {\"bgcolor\": \"white\", \"lakecolor\": \"white\", \"landcolor\": \"#E5ECF6\", \"showlakes\": true, \"showland\": true, \"subunitcolor\": \"white\"}, \"hoverlabel\": {\"align\": \"left\"}, \"hovermode\": \"closest\", \"mapbox\": {\"style\": \"light\"}, \"paper_bgcolor\": \"white\", \"plot_bgcolor\": \"#E5ECF6\", \"polar\": {\"angularaxis\": {\"gridcolor\": \"white\", \"linecolor\": \"white\", \"ticks\": \"\"}, \"bgcolor\": \"#E5ECF6\", \"radialaxis\": {\"gridcolor\": \"white\", \"linecolor\": \"white\", \"ticks\": \"\"}}, \"scene\": {\"xaxis\": {\"backgroundcolor\": \"#E5ECF6\", \"gridcolor\": \"white\", \"gridwidth\": 2, \"linecolor\": \"white\", \"showbackground\": true, \"ticks\": \"\", \"zerolinecolor\": \"white\"}, \"yaxis\": {\"backgroundcolor\": \"#E5ECF6\", \"gridcolor\": \"white\", \"gridwidth\": 2, \"linecolor\": \"white\", \"showbackground\": true, \"ticks\": \"\", \"zerolinecolor\": \"white\"}, \"zaxis\": {\"backgroundcolor\": \"#E5ECF6\", \"gridcolor\": \"white\", \"gridwidth\": 2, \"linecolor\": \"white\", \"showbackground\": true, \"ticks\": \"\", \"zerolinecolor\": \"white\"}}, \"shapedefaults\": {\"line\": {\"color\": \"#2a3f5f\"}}, \"ternary\": {\"aaxis\": {\"gridcolor\": \"white\", \"linecolor\": \"white\", \"ticks\": \"\"}, \"baxis\": {\"gridcolor\": \"white\", \"linecolor\": \"white\", \"ticks\": \"\"}, \"bgcolor\": \"#E5ECF6\", \"caxis\": {\"gridcolor\": \"white\", \"linecolor\": \"white\", \"ticks\": \"\"}}, \"title\": {\"x\": 0.05}, \"xaxis\": {\"automargin\": true, \"gridcolor\": \"white\", \"linecolor\": \"white\", \"ticks\": \"\", \"title\": {\"standoff\": 15}, \"zerolinecolor\": \"white\", \"zerolinewidth\": 2}, \"yaxis\": {\"automargin\": true, \"gridcolor\": \"white\", \"linecolor\": \"white\", \"ticks\": \"\", \"title\": {\"standoff\": 15}, \"zerolinecolor\": \"white\", \"zerolinewidth\": 2}}}, \"title\": {\"font\": {\"color\": \"#4D5663\"}}, \"xaxis\": {\"gridcolor\": \"#E1E5ED\", \"showgrid\": true, \"tickfont\": {\"color\": \"#4D5663\"}, \"title\": {\"font\": {\"color\": \"#4D5663\"}, \"text\": \"\"}, \"zerolinecolor\": \"#E1E5ED\"}, \"yaxis\": {\"gridcolor\": \"#E1E5ED\", \"showgrid\": true, \"tickfont\": {\"color\": \"#4D5663\"}, \"title\": {\"font\": {\"color\": \"#4D5663\"}, \"text\": \"\"}, \"zerolinecolor\": \"#E1E5ED\"}},\n",
       "                        {\"showLink\": true, \"linkText\": \"Export to plot.ly\", \"plotlyServerURL\": \"https://plot.ly\", \"responsive\": true}\n",
       "                    ).then(function(){\n",
       "                            \n",
       "var gd = document.getElementById('d88d3211-b9c6-45ec-a1e0-53a07d4041a7');\n",
       "var x = new MutationObserver(function (mutations, observer) {{\n",
       "        var display = window.getComputedStyle(gd).display;\n",
       "        if (!display || display === 'none') {{\n",
       "            console.log([gd, 'removed!']);\n",
       "            Plotly.purge(gd);\n",
       "            observer.disconnect();\n",
       "        }}\n",
       "}});\n",
       "\n",
       "// Listen for the removal of the full notebook cells\n",
       "var notebookContainer = gd.closest('#notebook-container');\n",
       "if (notebookContainer) {{\n",
       "    x.observe(notebookContainer, {childList: true});\n",
       "}}\n",
       "\n",
       "// Listen for the clearing of the current output cell\n",
       "var outputEl = gd.closest('.output');\n",
       "if (outputEl) {{\n",
       "    x.observe(outputEl, {childList: true});\n",
       "}}\n",
       "\n",
       "                        })\n",
       "                };\n",
       "                });\n",
       "            </script>\n",
       "        </div>"
      ]
     },
     "metadata": {},
     "output_type": "display_data"
    }
   ],
   "source": [
    "df.sum().iplot(kind=\"bar\")"
   ]
  },
  {
   "cell_type": "code",
   "execution_count": 34,
   "metadata": {},
   "outputs": [
    {
     "data": {
      "application/vnd.plotly.v1+json": {
       "config": {
        "linkText": "Export to plot.ly",
        "plotlyServerURL": "https://plot.ly",
        "showLink": true
       },
       "data": [
        {
         "boxpoints": false,
         "line": {
          "width": 1.3
         },
         "marker": {
          "color": "rgba(255, 153, 51, 1.0)"
         },
         "name": "A",
         "orientation": "v",
         "type": "box",
         "y": [
          -0.01662130328228244,
          0.8952922062355154,
          0.08493791794765844,
          -0.09589135686355073,
          -0.4122201947502266,
          -0.20360574556365796,
          -1.3226112787089954,
          -0.7048337371978483,
          0.04150771300361059,
          -0.016184912767458252,
          -0.7836247979483332,
          -0.41697995913853403,
          -1.5145544317741388,
          -0.9872935372845854,
          2.8600594602810627,
          0.7879441726553916,
          -0.2813608872356518,
          -0.6513622033836487,
          -0.3833614492804819,
          0.16483281378445427,
          -2.1741767017157674,
          -1.6507999144342882,
          1.233849002951117,
          1.8853071817620293,
          -1.5954169238801832,
          -0.5522359603285474,
          -0.1776701185864922,
          -0.44322099515839536,
          1.0203828724791646,
          -0.746502813707562,
          -0.9880780584427672,
          -0.1989813172992508,
          1.028266715119139,
          0.9046343789939094,
          -0.24335430626921478,
          1.4808496271033058,
          1.183551097291823,
          0.7818177335952013,
          2.6317909237286803,
          -1.43255595184391,
          -0.5375396949804877,
          -0.9652461283114274,
          -0.37225584275459644,
          0.14086596179529387,
          2.1088529093442165,
          1.754446737290178,
          0.3204895796285177,
          0.5431393205854986,
          -0.26921450300987526,
          1.2276137248806802,
          2.18564194957632,
          -0.4189445878428453,
          -0.08003270330739348,
          0.8616685014005222,
          0.3204625049333791,
          -0.5444096849865591,
          1.4381126068067536,
          -1.5508518741330823,
          -1.7451055721182847,
          1.393700428608044,
          0.5528230108651216,
          -0.6354989243573955,
          0.5941962167234219,
          -1.498736192404156,
          1.2550871276452416,
          -0.8096320399507062,
          0.24176403155914405,
          0.4183631446701141,
          -1.7819580157798707,
          -0.587756797309145,
          -0.38795341821094526,
          0.07830346473682828,
          0.002456668961825936,
          1.9450473657318994,
          0.7258558214498236,
          -1.0099384838064072,
          0.28353464707170767,
          -1.0649028041957125,
          0.5771518242200254,
          0.8046577717798538,
          -0.10976143995602793,
          1.0417233039507987,
          -0.6800719626994939,
          -0.6139450381025275,
          0.46504150196282273,
          0.48002415552846633,
          -2.0624178821863004,
          1.4590453138925938,
          -0.06592069257443393,
          1.3037006920198502,
          -1.0417291996549434,
          -1.393953962398956,
          -0.09525476965697717,
          -0.11489070095885666,
          2.4005052823632567,
          -0.9318581112304919,
          0.941522431201813,
          0.19568237193128438,
          0.10374442540451675,
          -1.3981329572930432
         ]
        },
        {
         "boxpoints": false,
         "line": {
          "width": 1.3
         },
         "marker": {
          "color": "rgba(55, 128, 191, 1.0)"
         },
         "name": "B",
         "orientation": "v",
         "type": "box",
         "y": [
          -0.43085692617183563,
          -0.1948859952808109,
          0.25661125162705656,
          -1.3086950885020459,
          0.8330382361581136,
          -0.6953289463874578,
          -0.041546759765450116,
          0.3766966051839097,
          -0.4106742584914722,
          -0.5017699496138679,
          0.011010566296178933,
          0.7150811983334743,
          0.8531750275133767,
          2.1930241736297655,
          0.6183354743888189,
          -0.2543897369151032,
          1.976789309709738,
          0.9045016370030701,
          0.6176953549838936,
          -0.4420620066123814,
          0.004259990892965676,
          -0.6890818854195719,
          0.1284746414788866,
          1.1565973705210073,
          -0.1669069048135824,
          0.9510917351310352,
          0.3776204353934389,
          -0.6104100303510119,
          0.8194742730220135,
          1.040708142451746,
          -0.8233687567505201,
          -1.1344997698956967,
          -0.2957474277602403,
          -0.6732382334575902,
          -0.20198607174310862,
          -0.5191193334283744,
          0.025830849269225062,
          -0.7336763065006728,
          1.2444882142572342,
          -1.4366617646017776,
          1.1881118540595137,
          0.954362185403333,
          -0.1636882464763225,
          0.2585056931294286,
          0.307000591264868,
          0.5053904332689658,
          1.371257331498223,
          0.8284466732128394,
          -1.6398779068387968,
          0.1312492505552544,
          -2.0782358481550904,
          -0.045307906304940145,
          0.16728844758876973,
          0.4199691612388556,
          0.5537924522559142,
          -0.472466174965874,
          -0.43842800336219834,
          -0.8086583687303776,
          -1.4472922254350542,
          1.5432229404089068,
          0.09327407639879354,
          -1.7151607168181384,
          0.31547264421701804,
          -0.6409782017093438,
          -0.5888934484654935,
          -0.2589297494469279,
          0.4095662405359321,
          -0.7827392201998249,
          0.8536261771615004,
          -0.13667988806894107,
          0.014275802400758018,
          0.2700521255686095,
          0.0713171499641922,
          -1.6360217944335709,
          1.1316472826520418,
          0.21966931057515063,
          -1.0415257873712767,
          -0.673080884585363,
          0.6417494538653378,
          -2.575256173392799,
          -1.301392718985718,
          -1.3280555679474806,
          -0.3988933059066309,
          -1.4320562115681523,
          -0.5208466357235377,
          0.6283326705144111,
          -0.4993914177816305,
          2.3803973130583707,
          -1.404107842111614,
          -0.05799211063099601,
          -1.1984196002600367,
          -0.14252971995716965,
          -0.3981381038453286,
          -0.3917743490224008,
          1.5356909803434518,
          0.5644974004458589,
          0.36323243100145386,
          0.5520098897203459,
          -0.6462900576233668,
          1.1144001381118762
         ]
        },
        {
         "boxpoints": false,
         "line": {
          "width": 1.3
         },
         "marker": {
          "color": "rgba(50, 171, 96, 1.0)"
         },
         "name": "C",
         "orientation": "v",
         "type": "box",
         "y": [
          -2.0092660704673566,
          -1.2598029689852777,
          -0.2760950755895815,
          -0.9365077817146868,
          -0.7467722748457818,
          -0.7267174990662252,
          0.8107639722666636,
          0.3018313256185027,
          -0.2779338079594555,
          1.0850989578462957,
          1.0633890945862559,
          0.19984988072986953,
          -1.0240416296636121,
          0.5038285176790187,
          0.06717667510847727,
          0.7185919144131047,
          -0.49171157314491626,
          -0.7679077810892389,
          1.5701249112688236,
          -0.47251103418643026,
          1.9430557828822212,
          0.2379297319180449,
          0.36707306677115453,
          0.006699107693457233,
          -1.0180537128174496,
          -0.6080580473072035,
          1.0185946954688905,
          0.5714696913211738,
          0.09143339844861038,
          2.070139494439533,
          1.140804725949334,
          0.6126110616024626,
          0.4563101220852704,
          -2.2654786046256543,
          -0.4029428049342183,
          -0.16962658908939526,
          -0.24096898379316878,
          -1.0073125456045633,
          0.28463786120973017,
          0.9529151893853018,
          -1.2378966892029355,
          -0.06963240847971755,
          -0.7032964127927137,
          -0.5809832596471718,
          0.29449307116870876,
          0.33243510188444925,
          0.4977579983615313,
          -0.9257449819489063,
          -0.41725764974537366,
          0.4848070737197375,
          0.43930170517402317,
          0.23065023494261755,
          0.4816217241293878,
          0.04799816907981186,
          -0.3974323820653122,
          0.7903361874598068,
          1.4322150789264265,
          -1.647709706473274,
          -2.3800258277526543,
          0.6970445446703903,
          0.8316708876679342,
          -1.5158979051133505,
          -0.14986630629837563,
          -1.0493727521665157,
          1.701201455937589,
          -0.1410913288683814,
          0.2685239479223764,
          -0.7600369349891372,
          -0.4742547385039707,
          -0.8220107130507899,
          0.8445080140789566,
          -0.324027172344423,
          -0.4178030661196102,
          -0.26596041408454146,
          0.5523489460368105,
          -0.7026605411631265,
          0.13994365329359548,
          -0.04065613857973858,
          -0.28547939736187256,
          0.3388705179018651,
          0.9668821132900235,
          1.7880873782211257,
          1.9386610560756863,
          -0.34094180091834364,
          -1.1192837035162806,
          0.6279726842636103,
          0.6200042114970403,
          -1.4264867124427423,
          -1.809853283787445,
          -1.193888458973862,
          0.08685450082155578,
          -0.7102321011128129,
          1.2846765718116526,
          -1.123680140228286,
          -0.2806606072097656,
          -1.4896739546532576,
          0.6295603599603866,
          1.1136656548999315,
          0.9536097103790099,
          -0.7080867626264907
         ]
        },
        {
         "boxpoints": false,
         "line": {
          "width": 1.3
         },
         "marker": {
          "color": "rgba(128, 0, 128, 1.0)"
         },
         "name": "D",
         "orientation": "v",
         "type": "box",
         "y": [
          1.0501701145422817,
          0.4451796840776505,
          0.019322074864412696,
          0.9953761305418058,
          0.5110397705048686,
          -0.803700035088617,
          2.6444092391724636,
          0.7893356856324825,
          -0.08471694230445719,
          -1.3109737377927366,
          0.4248306638940191,
          1.3717385676996887,
          0.40107501810780155,
          -0.8911298914144757,
          -0.17802975610778662,
          0.45954921920579067,
          -1.2291934521608001,
          1.5879628450775962,
          2.3950384881567475,
          0.7864211027184705,
          0.44696414651942606,
          -0.7688917608863599,
          0.8034469969539286,
          -0.2441696518488366,
          0.7946135467706282,
          0.4629228010763608,
          2.4375744559135692,
          -2.0666459708872487,
          1.3369394395351957,
          0.281544068694196,
          1.40868549926317,
          1.7007000788755262,
          -0.5707362211763846,
          0.30086898022664293,
          -0.9768980954609655,
          0.3212560453655524,
          0.7156443033399906,
          -1.2165459335403617,
          -0.20839221483710563,
          -0.0058505078818461,
          -0.6256249650976695,
          -0.34208821825767766,
          2.9057635151997228,
          1.1898121704981293,
          0.7748839366899357,
          0.775858103384347,
          1.734019655618904,
          0.4883218411991308,
          0.48319375293985073,
          0.07251905790818866,
          -0.2737028732193538,
          -0.21945236052007253,
          -0.8829581220812761,
          -1.3291278492107135,
          2.327960742028899,
          0.11235642184377229,
          -0.31755903220376597,
          1.3147441857811188,
          0.4011430411094645,
          -0.859875508599031,
          0.6827306411077664,
          1.4857854264842902,
          0.7311732289637328,
          -2.418153976778658,
          0.9536327739040761,
          -1.7769454655989747,
          -0.42076296424642096,
          -1.1229235007551497,
          -0.41217731324319673,
          2.099699703404748,
          -1.9289629279399207,
          -0.5093084117755678,
          1.0742848834728373,
          0.6702312418547619,
          -0.25349917550157963,
          -0.669305397468498,
          -1.693821178889706,
          0.5103274302378665,
          1.0541391062646233,
          -0.5976418342961541,
          0.8682392696715692,
          -0.6697941242150638,
          0.9742988020969872,
          0.4783934061363041,
          -0.10945425289967044,
          0.5579648469307343,
          0.061882101624842645,
          -0.45157774335416456,
          0.6161163305270498,
          -0.054394521326319764,
          -1.5735721687894109,
          0.5705772210638205,
          0.5761796006749031,
          0.1844921493983869,
          -0.24892164936248318,
          -1.2743548062088557,
          0.6984023222628456,
          1.1154228312324685,
          -0.7900145646772628,
          -0.4938822454556439
         ]
        }
       ],
       "layout": {
        "legend": {
         "bgcolor": "#F5F6F9",
         "font": {
          "color": "#4D5663"
         }
        },
        "paper_bgcolor": "#F5F6F9",
        "plot_bgcolor": "#F5F6F9",
        "template": {
         "data": {
          "bar": [
           {
            "error_x": {
             "color": "#2a3f5f"
            },
            "error_y": {
             "color": "#2a3f5f"
            },
            "marker": {
             "line": {
              "color": "#E5ECF6",
              "width": 0.5
             }
            },
            "type": "bar"
           }
          ],
          "barpolar": [
           {
            "marker": {
             "line": {
              "color": "#E5ECF6",
              "width": 0.5
             }
            },
            "type": "barpolar"
           }
          ],
          "carpet": [
           {
            "aaxis": {
             "endlinecolor": "#2a3f5f",
             "gridcolor": "white",
             "linecolor": "white",
             "minorgridcolor": "white",
             "startlinecolor": "#2a3f5f"
            },
            "baxis": {
             "endlinecolor": "#2a3f5f",
             "gridcolor": "white",
             "linecolor": "white",
             "minorgridcolor": "white",
             "startlinecolor": "#2a3f5f"
            },
            "type": "carpet"
           }
          ],
          "choropleth": [
           {
            "colorbar": {
             "outlinewidth": 0,
             "ticks": ""
            },
            "type": "choropleth"
           }
          ],
          "contour": [
           {
            "colorbar": {
             "outlinewidth": 0,
             "ticks": ""
            },
            "colorscale": [
             [
              0,
              "#0d0887"
             ],
             [
              0.1111111111111111,
              "#46039f"
             ],
             [
              0.2222222222222222,
              "#7201a8"
             ],
             [
              0.3333333333333333,
              "#9c179e"
             ],
             [
              0.4444444444444444,
              "#bd3786"
             ],
             [
              0.5555555555555556,
              "#d8576b"
             ],
             [
              0.6666666666666666,
              "#ed7953"
             ],
             [
              0.7777777777777778,
              "#fb9f3a"
             ],
             [
              0.8888888888888888,
              "#fdca26"
             ],
             [
              1,
              "#f0f921"
             ]
            ],
            "type": "contour"
           }
          ],
          "contourcarpet": [
           {
            "colorbar": {
             "outlinewidth": 0,
             "ticks": ""
            },
            "type": "contourcarpet"
           }
          ],
          "heatmap": [
           {
            "colorbar": {
             "outlinewidth": 0,
             "ticks": ""
            },
            "colorscale": [
             [
              0,
              "#0d0887"
             ],
             [
              0.1111111111111111,
              "#46039f"
             ],
             [
              0.2222222222222222,
              "#7201a8"
             ],
             [
              0.3333333333333333,
              "#9c179e"
             ],
             [
              0.4444444444444444,
              "#bd3786"
             ],
             [
              0.5555555555555556,
              "#d8576b"
             ],
             [
              0.6666666666666666,
              "#ed7953"
             ],
             [
              0.7777777777777778,
              "#fb9f3a"
             ],
             [
              0.8888888888888888,
              "#fdca26"
             ],
             [
              1,
              "#f0f921"
             ]
            ],
            "type": "heatmap"
           }
          ],
          "heatmapgl": [
           {
            "colorbar": {
             "outlinewidth": 0,
             "ticks": ""
            },
            "colorscale": [
             [
              0,
              "#0d0887"
             ],
             [
              0.1111111111111111,
              "#46039f"
             ],
             [
              0.2222222222222222,
              "#7201a8"
             ],
             [
              0.3333333333333333,
              "#9c179e"
             ],
             [
              0.4444444444444444,
              "#bd3786"
             ],
             [
              0.5555555555555556,
              "#d8576b"
             ],
             [
              0.6666666666666666,
              "#ed7953"
             ],
             [
              0.7777777777777778,
              "#fb9f3a"
             ],
             [
              0.8888888888888888,
              "#fdca26"
             ],
             [
              1,
              "#f0f921"
             ]
            ],
            "type": "heatmapgl"
           }
          ],
          "histogram": [
           {
            "marker": {
             "colorbar": {
              "outlinewidth": 0,
              "ticks": ""
             }
            },
            "type": "histogram"
           }
          ],
          "histogram2d": [
           {
            "colorbar": {
             "outlinewidth": 0,
             "ticks": ""
            },
            "colorscale": [
             [
              0,
              "#0d0887"
             ],
             [
              0.1111111111111111,
              "#46039f"
             ],
             [
              0.2222222222222222,
              "#7201a8"
             ],
             [
              0.3333333333333333,
              "#9c179e"
             ],
             [
              0.4444444444444444,
              "#bd3786"
             ],
             [
              0.5555555555555556,
              "#d8576b"
             ],
             [
              0.6666666666666666,
              "#ed7953"
             ],
             [
              0.7777777777777778,
              "#fb9f3a"
             ],
             [
              0.8888888888888888,
              "#fdca26"
             ],
             [
              1,
              "#f0f921"
             ]
            ],
            "type": "histogram2d"
           }
          ],
          "histogram2dcontour": [
           {
            "colorbar": {
             "outlinewidth": 0,
             "ticks": ""
            },
            "colorscale": [
             [
              0,
              "#0d0887"
             ],
             [
              0.1111111111111111,
              "#46039f"
             ],
             [
              0.2222222222222222,
              "#7201a8"
             ],
             [
              0.3333333333333333,
              "#9c179e"
             ],
             [
              0.4444444444444444,
              "#bd3786"
             ],
             [
              0.5555555555555556,
              "#d8576b"
             ],
             [
              0.6666666666666666,
              "#ed7953"
             ],
             [
              0.7777777777777778,
              "#fb9f3a"
             ],
             [
              0.8888888888888888,
              "#fdca26"
             ],
             [
              1,
              "#f0f921"
             ]
            ],
            "type": "histogram2dcontour"
           }
          ],
          "mesh3d": [
           {
            "colorbar": {
             "outlinewidth": 0,
             "ticks": ""
            },
            "type": "mesh3d"
           }
          ],
          "parcoords": [
           {
            "line": {
             "colorbar": {
              "outlinewidth": 0,
              "ticks": ""
             }
            },
            "type": "parcoords"
           }
          ],
          "pie": [
           {
            "automargin": true,
            "type": "pie"
           }
          ],
          "scatter": [
           {
            "marker": {
             "colorbar": {
              "outlinewidth": 0,
              "ticks": ""
             }
            },
            "type": "scatter"
           }
          ],
          "scatter3d": [
           {
            "line": {
             "colorbar": {
              "outlinewidth": 0,
              "ticks": ""
             }
            },
            "marker": {
             "colorbar": {
              "outlinewidth": 0,
              "ticks": ""
             }
            },
            "type": "scatter3d"
           }
          ],
          "scattercarpet": [
           {
            "marker": {
             "colorbar": {
              "outlinewidth": 0,
              "ticks": ""
             }
            },
            "type": "scattercarpet"
           }
          ],
          "scattergeo": [
           {
            "marker": {
             "colorbar": {
              "outlinewidth": 0,
              "ticks": ""
             }
            },
            "type": "scattergeo"
           }
          ],
          "scattergl": [
           {
            "marker": {
             "colorbar": {
              "outlinewidth": 0,
              "ticks": ""
             }
            },
            "type": "scattergl"
           }
          ],
          "scattermapbox": [
           {
            "marker": {
             "colorbar": {
              "outlinewidth": 0,
              "ticks": ""
             }
            },
            "type": "scattermapbox"
           }
          ],
          "scatterpolar": [
           {
            "marker": {
             "colorbar": {
              "outlinewidth": 0,
              "ticks": ""
             }
            },
            "type": "scatterpolar"
           }
          ],
          "scatterpolargl": [
           {
            "marker": {
             "colorbar": {
              "outlinewidth": 0,
              "ticks": ""
             }
            },
            "type": "scatterpolargl"
           }
          ],
          "scatterternary": [
           {
            "marker": {
             "colorbar": {
              "outlinewidth": 0,
              "ticks": ""
             }
            },
            "type": "scatterternary"
           }
          ],
          "surface": [
           {
            "colorbar": {
             "outlinewidth": 0,
             "ticks": ""
            },
            "colorscale": [
             [
              0,
              "#0d0887"
             ],
             [
              0.1111111111111111,
              "#46039f"
             ],
             [
              0.2222222222222222,
              "#7201a8"
             ],
             [
              0.3333333333333333,
              "#9c179e"
             ],
             [
              0.4444444444444444,
              "#bd3786"
             ],
             [
              0.5555555555555556,
              "#d8576b"
             ],
             [
              0.6666666666666666,
              "#ed7953"
             ],
             [
              0.7777777777777778,
              "#fb9f3a"
             ],
             [
              0.8888888888888888,
              "#fdca26"
             ],
             [
              1,
              "#f0f921"
             ]
            ],
            "type": "surface"
           }
          ],
          "table": [
           {
            "cells": {
             "fill": {
              "color": "#EBF0F8"
             },
             "line": {
              "color": "white"
             }
            },
            "header": {
             "fill": {
              "color": "#C8D4E3"
             },
             "line": {
              "color": "white"
             }
            },
            "type": "table"
           }
          ]
         },
         "layout": {
          "annotationdefaults": {
           "arrowcolor": "#2a3f5f",
           "arrowhead": 0,
           "arrowwidth": 1
          },
          "coloraxis": {
           "colorbar": {
            "outlinewidth": 0,
            "ticks": ""
           }
          },
          "colorscale": {
           "diverging": [
            [
             0,
             "#8e0152"
            ],
            [
             0.1,
             "#c51b7d"
            ],
            [
             0.2,
             "#de77ae"
            ],
            [
             0.3,
             "#f1b6da"
            ],
            [
             0.4,
             "#fde0ef"
            ],
            [
             0.5,
             "#f7f7f7"
            ],
            [
             0.6,
             "#e6f5d0"
            ],
            [
             0.7,
             "#b8e186"
            ],
            [
             0.8,
             "#7fbc41"
            ],
            [
             0.9,
             "#4d9221"
            ],
            [
             1,
             "#276419"
            ]
           ],
           "sequential": [
            [
             0,
             "#0d0887"
            ],
            [
             0.1111111111111111,
             "#46039f"
            ],
            [
             0.2222222222222222,
             "#7201a8"
            ],
            [
             0.3333333333333333,
             "#9c179e"
            ],
            [
             0.4444444444444444,
             "#bd3786"
            ],
            [
             0.5555555555555556,
             "#d8576b"
            ],
            [
             0.6666666666666666,
             "#ed7953"
            ],
            [
             0.7777777777777778,
             "#fb9f3a"
            ],
            [
             0.8888888888888888,
             "#fdca26"
            ],
            [
             1,
             "#f0f921"
            ]
           ],
           "sequentialminus": [
            [
             0,
             "#0d0887"
            ],
            [
             0.1111111111111111,
             "#46039f"
            ],
            [
             0.2222222222222222,
             "#7201a8"
            ],
            [
             0.3333333333333333,
             "#9c179e"
            ],
            [
             0.4444444444444444,
             "#bd3786"
            ],
            [
             0.5555555555555556,
             "#d8576b"
            ],
            [
             0.6666666666666666,
             "#ed7953"
            ],
            [
             0.7777777777777778,
             "#fb9f3a"
            ],
            [
             0.8888888888888888,
             "#fdca26"
            ],
            [
             1,
             "#f0f921"
            ]
           ]
          },
          "colorway": [
           "#636efa",
           "#EF553B",
           "#00cc96",
           "#ab63fa",
           "#FFA15A",
           "#19d3f3",
           "#FF6692",
           "#B6E880",
           "#FF97FF",
           "#FECB52"
          ],
          "font": {
           "color": "#2a3f5f"
          },
          "geo": {
           "bgcolor": "white",
           "lakecolor": "white",
           "landcolor": "#E5ECF6",
           "showlakes": true,
           "showland": true,
           "subunitcolor": "white"
          },
          "hoverlabel": {
           "align": "left"
          },
          "hovermode": "closest",
          "mapbox": {
           "style": "light"
          },
          "paper_bgcolor": "white",
          "plot_bgcolor": "#E5ECF6",
          "polar": {
           "angularaxis": {
            "gridcolor": "white",
            "linecolor": "white",
            "ticks": ""
           },
           "bgcolor": "#E5ECF6",
           "radialaxis": {
            "gridcolor": "white",
            "linecolor": "white",
            "ticks": ""
           }
          },
          "scene": {
           "xaxis": {
            "backgroundcolor": "#E5ECF6",
            "gridcolor": "white",
            "gridwidth": 2,
            "linecolor": "white",
            "showbackground": true,
            "ticks": "",
            "zerolinecolor": "white"
           },
           "yaxis": {
            "backgroundcolor": "#E5ECF6",
            "gridcolor": "white",
            "gridwidth": 2,
            "linecolor": "white",
            "showbackground": true,
            "ticks": "",
            "zerolinecolor": "white"
           },
           "zaxis": {
            "backgroundcolor": "#E5ECF6",
            "gridcolor": "white",
            "gridwidth": 2,
            "linecolor": "white",
            "showbackground": true,
            "ticks": "",
            "zerolinecolor": "white"
           }
          },
          "shapedefaults": {
           "line": {
            "color": "#2a3f5f"
           }
          },
          "ternary": {
           "aaxis": {
            "gridcolor": "white",
            "linecolor": "white",
            "ticks": ""
           },
           "baxis": {
            "gridcolor": "white",
            "linecolor": "white",
            "ticks": ""
           },
           "bgcolor": "#E5ECF6",
           "caxis": {
            "gridcolor": "white",
            "linecolor": "white",
            "ticks": ""
           }
          },
          "title": {
           "x": 0.05
          },
          "xaxis": {
           "automargin": true,
           "gridcolor": "white",
           "linecolor": "white",
           "ticks": "",
           "title": {
            "standoff": 15
           },
           "zerolinecolor": "white",
           "zerolinewidth": 2
          },
          "yaxis": {
           "automargin": true,
           "gridcolor": "white",
           "linecolor": "white",
           "ticks": "",
           "title": {
            "standoff": 15
           },
           "zerolinecolor": "white",
           "zerolinewidth": 2
          }
         }
        },
        "title": {
         "font": {
          "color": "#4D5663"
         }
        },
        "xaxis": {
         "gridcolor": "#E1E5ED",
         "showgrid": true,
         "tickfont": {
          "color": "#4D5663"
         },
         "title": {
          "font": {
           "color": "#4D5663"
          },
          "text": ""
         },
         "zerolinecolor": "#E1E5ED"
        },
        "yaxis": {
         "gridcolor": "#E1E5ED",
         "showgrid": true,
         "tickfont": {
          "color": "#4D5663"
         },
         "title": {
          "font": {
           "color": "#4D5663"
          },
          "text": ""
         },
         "zerolinecolor": "#E1E5ED"
        }
       }
      },
      "text/html": [
       "<div>\n",
       "        \n",
       "        \n",
       "            <div id=\"12ac0c13-da2f-4ff1-bbba-c4ae7f9a8810\" class=\"plotly-graph-div\" style=\"height:525px; width:100%;\"></div>\n",
       "            <script type=\"text/javascript\">\n",
       "                require([\"plotly\"], function(Plotly) {\n",
       "                    window.PLOTLYENV=window.PLOTLYENV || {};\n",
       "                    window.PLOTLYENV.BASE_URL='https://plot.ly';\n",
       "                    \n",
       "                if (document.getElementById(\"12ac0c13-da2f-4ff1-bbba-c4ae7f9a8810\")) {\n",
       "                    Plotly.newPlot(\n",
       "                        '12ac0c13-da2f-4ff1-bbba-c4ae7f9a8810',\n",
       "                        [{\"boxpoints\": false, \"line\": {\"width\": 1.3}, \"marker\": {\"color\": \"rgba(255, 153, 51, 1.0)\"}, \"name\": \"A\", \"orientation\": \"v\", \"type\": \"box\", \"y\": [-0.01662130328228244, 0.8952922062355154, 0.08493791794765844, -0.09589135686355073, -0.4122201947502266, -0.20360574556365796, -1.3226112787089954, -0.7048337371978483, 0.04150771300361059, -0.016184912767458252, -0.7836247979483332, -0.41697995913853403, -1.5145544317741388, -0.9872935372845854, 2.8600594602810627, 0.7879441726553916, -0.2813608872356518, -0.6513622033836487, -0.3833614492804819, 0.16483281378445427, -2.1741767017157674, -1.6507999144342882, 1.233849002951117, 1.8853071817620293, -1.5954169238801832, -0.5522359603285474, -0.1776701185864922, -0.44322099515839536, 1.0203828724791646, -0.746502813707562, -0.9880780584427672, -0.1989813172992508, 1.028266715119139, 0.9046343789939094, -0.24335430626921478, 1.4808496271033058, 1.183551097291823, 0.7818177335952013, 2.6317909237286803, -1.43255595184391, -0.5375396949804877, -0.9652461283114274, -0.37225584275459644, 0.14086596179529387, 2.1088529093442165, 1.754446737290178, 0.3204895796285177, 0.5431393205854986, -0.26921450300987526, 1.2276137248806802, 2.18564194957632, -0.4189445878428453, -0.08003270330739348, 0.8616685014005222, 0.3204625049333791, -0.5444096849865591, 1.4381126068067536, -1.5508518741330823, -1.7451055721182847, 1.393700428608044, 0.5528230108651216, -0.6354989243573955, 0.5941962167234219, -1.498736192404156, 1.2550871276452416, -0.8096320399507062, 0.24176403155914405, 0.4183631446701141, -1.7819580157798707, -0.587756797309145, -0.38795341821094526, 0.07830346473682828, 0.002456668961825936, 1.9450473657318994, 0.7258558214498236, -1.0099384838064072, 0.28353464707170767, -1.0649028041957125, 0.5771518242200254, 0.8046577717798538, -0.10976143995602793, 1.0417233039507987, -0.6800719626994939, -0.6139450381025275, 0.46504150196282273, 0.48002415552846633, -2.0624178821863004, 1.4590453138925938, -0.06592069257443393, 1.3037006920198502, -1.0417291996549434, -1.393953962398956, -0.09525476965697717, -0.11489070095885666, 2.4005052823632567, -0.9318581112304919, 0.941522431201813, 0.19568237193128438, 0.10374442540451675, -1.3981329572930432]}, {\"boxpoints\": false, \"line\": {\"width\": 1.3}, \"marker\": {\"color\": \"rgba(55, 128, 191, 1.0)\"}, \"name\": \"B\", \"orientation\": \"v\", \"type\": \"box\", \"y\": [-0.43085692617183563, -0.1948859952808109, 0.25661125162705656, -1.3086950885020459, 0.8330382361581136, -0.6953289463874578, -0.041546759765450116, 0.3766966051839097, -0.4106742584914722, -0.5017699496138679, 0.011010566296178933, 0.7150811983334743, 0.8531750275133767, 2.1930241736297655, 0.6183354743888189, -0.2543897369151032, 1.976789309709738, 0.9045016370030701, 0.6176953549838936, -0.4420620066123814, 0.004259990892965676, -0.6890818854195719, 0.1284746414788866, 1.1565973705210073, -0.1669069048135824, 0.9510917351310352, 0.3776204353934389, -0.6104100303510119, 0.8194742730220135, 1.040708142451746, -0.8233687567505201, -1.1344997698956967, -0.2957474277602403, -0.6732382334575902, -0.20198607174310862, -0.5191193334283744, 0.025830849269225062, -0.7336763065006728, 1.2444882142572342, -1.4366617646017776, 1.1881118540595137, 0.954362185403333, -0.1636882464763225, 0.2585056931294286, 0.307000591264868, 0.5053904332689658, 1.371257331498223, 0.8284466732128394, -1.6398779068387968, 0.1312492505552544, -2.0782358481550904, -0.045307906304940145, 0.16728844758876973, 0.4199691612388556, 0.5537924522559142, -0.472466174965874, -0.43842800336219834, -0.8086583687303776, -1.4472922254350542, 1.5432229404089068, 0.09327407639879354, -1.7151607168181384, 0.31547264421701804, -0.6409782017093438, -0.5888934484654935, -0.2589297494469279, 0.4095662405359321, -0.7827392201998249, 0.8536261771615004, -0.13667988806894107, 0.014275802400758018, 0.2700521255686095, 0.0713171499641922, -1.6360217944335709, 1.1316472826520418, 0.21966931057515063, -1.0415257873712767, -0.673080884585363, 0.6417494538653378, -2.575256173392799, -1.301392718985718, -1.3280555679474806, -0.3988933059066309, -1.4320562115681523, -0.5208466357235377, 0.6283326705144111, -0.4993914177816305, 2.3803973130583707, -1.404107842111614, -0.05799211063099601, -1.1984196002600367, -0.14252971995716965, -0.3981381038453286, -0.3917743490224008, 1.5356909803434518, 0.5644974004458589, 0.36323243100145386, 0.5520098897203459, -0.6462900576233668, 1.1144001381118762]}, {\"boxpoints\": false, \"line\": {\"width\": 1.3}, \"marker\": {\"color\": \"rgba(50, 171, 96, 1.0)\"}, \"name\": \"C\", \"orientation\": \"v\", \"type\": \"box\", \"y\": [-2.0092660704673566, -1.2598029689852777, -0.2760950755895815, -0.9365077817146868, -0.7467722748457818, -0.7267174990662252, 0.8107639722666636, 0.3018313256185027, -0.2779338079594555, 1.0850989578462957, 1.0633890945862559, 0.19984988072986953, -1.0240416296636121, 0.5038285176790187, 0.06717667510847727, 0.7185919144131047, -0.49171157314491626, -0.7679077810892389, 1.5701249112688236, -0.47251103418643026, 1.9430557828822212, 0.2379297319180449, 0.36707306677115453, 0.006699107693457233, -1.0180537128174496, -0.6080580473072035, 1.0185946954688905, 0.5714696913211738, 0.09143339844861038, 2.070139494439533, 1.140804725949334, 0.6126110616024626, 0.4563101220852704, -2.2654786046256543, -0.4029428049342183, -0.16962658908939526, -0.24096898379316878, -1.0073125456045633, 0.28463786120973017, 0.9529151893853018, -1.2378966892029355, -0.06963240847971755, -0.7032964127927137, -0.5809832596471718, 0.29449307116870876, 0.33243510188444925, 0.4977579983615313, -0.9257449819489063, -0.41725764974537366, 0.4848070737197375, 0.43930170517402317, 0.23065023494261755, 0.4816217241293878, 0.04799816907981186, -0.3974323820653122, 0.7903361874598068, 1.4322150789264265, -1.647709706473274, -2.3800258277526543, 0.6970445446703903, 0.8316708876679342, -1.5158979051133505, -0.14986630629837563, -1.0493727521665157, 1.701201455937589, -0.1410913288683814, 0.2685239479223764, -0.7600369349891372, -0.4742547385039707, -0.8220107130507899, 0.8445080140789566, -0.324027172344423, -0.4178030661196102, -0.26596041408454146, 0.5523489460368105, -0.7026605411631265, 0.13994365329359548, -0.04065613857973858, -0.28547939736187256, 0.3388705179018651, 0.9668821132900235, 1.7880873782211257, 1.9386610560756863, -0.34094180091834364, -1.1192837035162806, 0.6279726842636103, 0.6200042114970403, -1.4264867124427423, -1.809853283787445, -1.193888458973862, 0.08685450082155578, -0.7102321011128129, 1.2846765718116526, -1.123680140228286, -0.2806606072097656, -1.4896739546532576, 0.6295603599603866, 1.1136656548999315, 0.9536097103790099, -0.7080867626264907]}, {\"boxpoints\": false, \"line\": {\"width\": 1.3}, \"marker\": {\"color\": \"rgba(128, 0, 128, 1.0)\"}, \"name\": \"D\", \"orientation\": \"v\", \"type\": \"box\", \"y\": [1.0501701145422817, 0.4451796840776505, 0.019322074864412696, 0.9953761305418058, 0.5110397705048686, -0.803700035088617, 2.6444092391724636, 0.7893356856324825, -0.08471694230445719, -1.3109737377927366, 0.4248306638940191, 1.3717385676996887, 0.40107501810780155, -0.8911298914144757, -0.17802975610778662, 0.45954921920579067, -1.2291934521608001, 1.5879628450775962, 2.3950384881567475, 0.7864211027184705, 0.44696414651942606, -0.7688917608863599, 0.8034469969539286, -0.2441696518488366, 0.7946135467706282, 0.4629228010763608, 2.4375744559135692, -2.0666459708872487, 1.3369394395351957, 0.281544068694196, 1.40868549926317, 1.7007000788755262, -0.5707362211763846, 0.30086898022664293, -0.9768980954609655, 0.3212560453655524, 0.7156443033399906, -1.2165459335403617, -0.20839221483710563, -0.0058505078818461, -0.6256249650976695, -0.34208821825767766, 2.9057635151997228, 1.1898121704981293, 0.7748839366899357, 0.775858103384347, 1.734019655618904, 0.4883218411991308, 0.48319375293985073, 0.07251905790818866, -0.2737028732193538, -0.21945236052007253, -0.8829581220812761, -1.3291278492107135, 2.327960742028899, 0.11235642184377229, -0.31755903220376597, 1.3147441857811188, 0.4011430411094645, -0.859875508599031, 0.6827306411077664, 1.4857854264842902, 0.7311732289637328, -2.418153976778658, 0.9536327739040761, -1.7769454655989747, -0.42076296424642096, -1.1229235007551497, -0.41217731324319673, 2.099699703404748, -1.9289629279399207, -0.5093084117755678, 1.0742848834728373, 0.6702312418547619, -0.25349917550157963, -0.669305397468498, -1.693821178889706, 0.5103274302378665, 1.0541391062646233, -0.5976418342961541, 0.8682392696715692, -0.6697941242150638, 0.9742988020969872, 0.4783934061363041, -0.10945425289967044, 0.5579648469307343, 0.061882101624842645, -0.45157774335416456, 0.6161163305270498, -0.054394521326319764, -1.5735721687894109, 0.5705772210638205, 0.5761796006749031, 0.1844921493983869, -0.24892164936248318, -1.2743548062088557, 0.6984023222628456, 1.1154228312324685, -0.7900145646772628, -0.4938822454556439]}],\n",
       "                        {\"legend\": {\"bgcolor\": \"#F5F6F9\", \"font\": {\"color\": \"#4D5663\"}}, \"paper_bgcolor\": \"#F5F6F9\", \"plot_bgcolor\": \"#F5F6F9\", \"template\": {\"data\": {\"bar\": [{\"error_x\": {\"color\": \"#2a3f5f\"}, \"error_y\": {\"color\": \"#2a3f5f\"}, \"marker\": {\"line\": {\"color\": \"#E5ECF6\", \"width\": 0.5}}, \"type\": \"bar\"}], \"barpolar\": [{\"marker\": {\"line\": {\"color\": \"#E5ECF6\", \"width\": 0.5}}, \"type\": \"barpolar\"}], \"carpet\": [{\"aaxis\": {\"endlinecolor\": \"#2a3f5f\", \"gridcolor\": \"white\", \"linecolor\": \"white\", \"minorgridcolor\": \"white\", \"startlinecolor\": \"#2a3f5f\"}, \"baxis\": {\"endlinecolor\": \"#2a3f5f\", \"gridcolor\": \"white\", \"linecolor\": \"white\", \"minorgridcolor\": \"white\", \"startlinecolor\": \"#2a3f5f\"}, \"type\": \"carpet\"}], \"choropleth\": [{\"colorbar\": {\"outlinewidth\": 0, \"ticks\": \"\"}, \"type\": \"choropleth\"}], \"contour\": [{\"colorbar\": {\"outlinewidth\": 0, \"ticks\": \"\"}, \"colorscale\": [[0.0, \"#0d0887\"], [0.1111111111111111, \"#46039f\"], [0.2222222222222222, \"#7201a8\"], [0.3333333333333333, \"#9c179e\"], [0.4444444444444444, \"#bd3786\"], [0.5555555555555556, \"#d8576b\"], [0.6666666666666666, \"#ed7953\"], [0.7777777777777778, \"#fb9f3a\"], [0.8888888888888888, \"#fdca26\"], [1.0, \"#f0f921\"]], \"type\": \"contour\"}], \"contourcarpet\": [{\"colorbar\": {\"outlinewidth\": 0, \"ticks\": \"\"}, \"type\": \"contourcarpet\"}], \"heatmap\": [{\"colorbar\": {\"outlinewidth\": 0, \"ticks\": \"\"}, \"colorscale\": [[0.0, \"#0d0887\"], [0.1111111111111111, \"#46039f\"], [0.2222222222222222, \"#7201a8\"], [0.3333333333333333, \"#9c179e\"], [0.4444444444444444, \"#bd3786\"], [0.5555555555555556, \"#d8576b\"], [0.6666666666666666, \"#ed7953\"], [0.7777777777777778, \"#fb9f3a\"], [0.8888888888888888, \"#fdca26\"], [1.0, \"#f0f921\"]], \"type\": \"heatmap\"}], \"heatmapgl\": [{\"colorbar\": {\"outlinewidth\": 0, \"ticks\": \"\"}, \"colorscale\": [[0.0, \"#0d0887\"], [0.1111111111111111, \"#46039f\"], [0.2222222222222222, \"#7201a8\"], [0.3333333333333333, \"#9c179e\"], [0.4444444444444444, \"#bd3786\"], [0.5555555555555556, \"#d8576b\"], [0.6666666666666666, \"#ed7953\"], [0.7777777777777778, \"#fb9f3a\"], [0.8888888888888888, \"#fdca26\"], [1.0, \"#f0f921\"]], \"type\": \"heatmapgl\"}], \"histogram\": [{\"marker\": {\"colorbar\": {\"outlinewidth\": 0, \"ticks\": \"\"}}, \"type\": \"histogram\"}], \"histogram2d\": [{\"colorbar\": {\"outlinewidth\": 0, \"ticks\": \"\"}, \"colorscale\": [[0.0, \"#0d0887\"], [0.1111111111111111, \"#46039f\"], [0.2222222222222222, \"#7201a8\"], [0.3333333333333333, \"#9c179e\"], [0.4444444444444444, \"#bd3786\"], [0.5555555555555556, \"#d8576b\"], [0.6666666666666666, \"#ed7953\"], [0.7777777777777778, \"#fb9f3a\"], [0.8888888888888888, \"#fdca26\"], [1.0, \"#f0f921\"]], \"type\": \"histogram2d\"}], \"histogram2dcontour\": [{\"colorbar\": {\"outlinewidth\": 0, \"ticks\": \"\"}, \"colorscale\": [[0.0, \"#0d0887\"], [0.1111111111111111, \"#46039f\"], [0.2222222222222222, \"#7201a8\"], [0.3333333333333333, \"#9c179e\"], [0.4444444444444444, \"#bd3786\"], [0.5555555555555556, \"#d8576b\"], [0.6666666666666666, \"#ed7953\"], [0.7777777777777778, \"#fb9f3a\"], [0.8888888888888888, \"#fdca26\"], [1.0, \"#f0f921\"]], \"type\": \"histogram2dcontour\"}], \"mesh3d\": [{\"colorbar\": {\"outlinewidth\": 0, \"ticks\": \"\"}, \"type\": \"mesh3d\"}], \"parcoords\": [{\"line\": {\"colorbar\": {\"outlinewidth\": 0, \"ticks\": \"\"}}, \"type\": \"parcoords\"}], \"pie\": [{\"automargin\": true, \"type\": \"pie\"}], \"scatter\": [{\"marker\": {\"colorbar\": {\"outlinewidth\": 0, \"ticks\": \"\"}}, \"type\": \"scatter\"}], \"scatter3d\": [{\"line\": {\"colorbar\": {\"outlinewidth\": 0, \"ticks\": \"\"}}, \"marker\": {\"colorbar\": {\"outlinewidth\": 0, \"ticks\": \"\"}}, \"type\": \"scatter3d\"}], \"scattercarpet\": [{\"marker\": {\"colorbar\": {\"outlinewidth\": 0, \"ticks\": \"\"}}, \"type\": \"scattercarpet\"}], \"scattergeo\": [{\"marker\": {\"colorbar\": {\"outlinewidth\": 0, \"ticks\": \"\"}}, \"type\": \"scattergeo\"}], \"scattergl\": [{\"marker\": {\"colorbar\": {\"outlinewidth\": 0, \"ticks\": \"\"}}, \"type\": \"scattergl\"}], \"scattermapbox\": [{\"marker\": {\"colorbar\": {\"outlinewidth\": 0, \"ticks\": \"\"}}, \"type\": \"scattermapbox\"}], \"scatterpolar\": [{\"marker\": {\"colorbar\": {\"outlinewidth\": 0, \"ticks\": \"\"}}, \"type\": \"scatterpolar\"}], \"scatterpolargl\": [{\"marker\": {\"colorbar\": {\"outlinewidth\": 0, \"ticks\": \"\"}}, \"type\": \"scatterpolargl\"}], \"scatterternary\": [{\"marker\": {\"colorbar\": {\"outlinewidth\": 0, \"ticks\": \"\"}}, \"type\": \"scatterternary\"}], \"surface\": [{\"colorbar\": {\"outlinewidth\": 0, \"ticks\": \"\"}, \"colorscale\": [[0.0, \"#0d0887\"], [0.1111111111111111, \"#46039f\"], [0.2222222222222222, \"#7201a8\"], [0.3333333333333333, \"#9c179e\"], [0.4444444444444444, \"#bd3786\"], [0.5555555555555556, \"#d8576b\"], [0.6666666666666666, \"#ed7953\"], [0.7777777777777778, \"#fb9f3a\"], [0.8888888888888888, \"#fdca26\"], [1.0, \"#f0f921\"]], \"type\": \"surface\"}], \"table\": [{\"cells\": {\"fill\": {\"color\": \"#EBF0F8\"}, \"line\": {\"color\": \"white\"}}, \"header\": {\"fill\": {\"color\": \"#C8D4E3\"}, \"line\": {\"color\": \"white\"}}, \"type\": \"table\"}]}, \"layout\": {\"annotationdefaults\": {\"arrowcolor\": \"#2a3f5f\", \"arrowhead\": 0, \"arrowwidth\": 1}, \"coloraxis\": {\"colorbar\": {\"outlinewidth\": 0, \"ticks\": \"\"}}, \"colorscale\": {\"diverging\": [[0, \"#8e0152\"], [0.1, \"#c51b7d\"], [0.2, \"#de77ae\"], [0.3, \"#f1b6da\"], [0.4, \"#fde0ef\"], [0.5, \"#f7f7f7\"], [0.6, \"#e6f5d0\"], [0.7, \"#b8e186\"], [0.8, \"#7fbc41\"], [0.9, \"#4d9221\"], [1, \"#276419\"]], \"sequential\": [[0.0, \"#0d0887\"], [0.1111111111111111, \"#46039f\"], [0.2222222222222222, \"#7201a8\"], [0.3333333333333333, \"#9c179e\"], [0.4444444444444444, \"#bd3786\"], [0.5555555555555556, \"#d8576b\"], [0.6666666666666666, \"#ed7953\"], [0.7777777777777778, \"#fb9f3a\"], [0.8888888888888888, \"#fdca26\"], [1.0, \"#f0f921\"]], \"sequentialminus\": [[0.0, \"#0d0887\"], [0.1111111111111111, \"#46039f\"], [0.2222222222222222, \"#7201a8\"], [0.3333333333333333, \"#9c179e\"], [0.4444444444444444, \"#bd3786\"], [0.5555555555555556, \"#d8576b\"], [0.6666666666666666, \"#ed7953\"], [0.7777777777777778, \"#fb9f3a\"], [0.8888888888888888, \"#fdca26\"], [1.0, \"#f0f921\"]]}, \"colorway\": [\"#636efa\", \"#EF553B\", \"#00cc96\", \"#ab63fa\", \"#FFA15A\", \"#19d3f3\", \"#FF6692\", \"#B6E880\", \"#FF97FF\", \"#FECB52\"], \"font\": {\"color\": \"#2a3f5f\"}, \"geo\": {\"bgcolor\": \"white\", \"lakecolor\": \"white\", \"landcolor\": \"#E5ECF6\", \"showlakes\": true, \"showland\": true, \"subunitcolor\": \"white\"}, \"hoverlabel\": {\"align\": \"left\"}, \"hovermode\": \"closest\", \"mapbox\": {\"style\": \"light\"}, \"paper_bgcolor\": \"white\", \"plot_bgcolor\": \"#E5ECF6\", \"polar\": {\"angularaxis\": {\"gridcolor\": \"white\", \"linecolor\": \"white\", \"ticks\": \"\"}, \"bgcolor\": \"#E5ECF6\", \"radialaxis\": {\"gridcolor\": \"white\", \"linecolor\": \"white\", \"ticks\": \"\"}}, \"scene\": {\"xaxis\": {\"backgroundcolor\": \"#E5ECF6\", \"gridcolor\": \"white\", \"gridwidth\": 2, \"linecolor\": \"white\", \"showbackground\": true, \"ticks\": \"\", \"zerolinecolor\": \"white\"}, \"yaxis\": {\"backgroundcolor\": \"#E5ECF6\", \"gridcolor\": \"white\", \"gridwidth\": 2, \"linecolor\": \"white\", \"showbackground\": true, \"ticks\": \"\", \"zerolinecolor\": \"white\"}, \"zaxis\": {\"backgroundcolor\": \"#E5ECF6\", \"gridcolor\": \"white\", \"gridwidth\": 2, \"linecolor\": \"white\", \"showbackground\": true, \"ticks\": \"\", \"zerolinecolor\": \"white\"}}, \"shapedefaults\": {\"line\": {\"color\": \"#2a3f5f\"}}, \"ternary\": {\"aaxis\": {\"gridcolor\": \"white\", \"linecolor\": \"white\", \"ticks\": \"\"}, \"baxis\": {\"gridcolor\": \"white\", \"linecolor\": \"white\", \"ticks\": \"\"}, \"bgcolor\": \"#E5ECF6\", \"caxis\": {\"gridcolor\": \"white\", \"linecolor\": \"white\", \"ticks\": \"\"}}, \"title\": {\"x\": 0.05}, \"xaxis\": {\"automargin\": true, \"gridcolor\": \"white\", \"linecolor\": \"white\", \"ticks\": \"\", \"title\": {\"standoff\": 15}, \"zerolinecolor\": \"white\", \"zerolinewidth\": 2}, \"yaxis\": {\"automargin\": true, \"gridcolor\": \"white\", \"linecolor\": \"white\", \"ticks\": \"\", \"title\": {\"standoff\": 15}, \"zerolinecolor\": \"white\", \"zerolinewidth\": 2}}}, \"title\": {\"font\": {\"color\": \"#4D5663\"}}, \"xaxis\": {\"gridcolor\": \"#E1E5ED\", \"showgrid\": true, \"tickfont\": {\"color\": \"#4D5663\"}, \"title\": {\"font\": {\"color\": \"#4D5663\"}, \"text\": \"\"}, \"zerolinecolor\": \"#E1E5ED\"}, \"yaxis\": {\"gridcolor\": \"#E1E5ED\", \"showgrid\": true, \"tickfont\": {\"color\": \"#4D5663\"}, \"title\": {\"font\": {\"color\": \"#4D5663\"}, \"text\": \"\"}, \"zerolinecolor\": \"#E1E5ED\"}},\n",
       "                        {\"showLink\": true, \"linkText\": \"Export to plot.ly\", \"plotlyServerURL\": \"https://plot.ly\", \"responsive\": true}\n",
       "                    ).then(function(){\n",
       "                            \n",
       "var gd = document.getElementById('12ac0c13-da2f-4ff1-bbba-c4ae7f9a8810');\n",
       "var x = new MutationObserver(function (mutations, observer) {{\n",
       "        var display = window.getComputedStyle(gd).display;\n",
       "        if (!display || display === 'none') {{\n",
       "            console.log([gd, 'removed!']);\n",
       "            Plotly.purge(gd);\n",
       "            observer.disconnect();\n",
       "        }}\n",
       "}});\n",
       "\n",
       "// Listen for the removal of the full notebook cells\n",
       "var notebookContainer = gd.closest('#notebook-container');\n",
       "if (notebookContainer) {{\n",
       "    x.observe(notebookContainer, {childList: true});\n",
       "}}\n",
       "\n",
       "// Listen for the clearing of the current output cell\n",
       "var outputEl = gd.closest('.output');\n",
       "if (outputEl) {{\n",
       "    x.observe(outputEl, {childList: true});\n",
       "}}\n",
       "\n",
       "                        })\n",
       "                };\n",
       "                });\n",
       "            </script>\n",
       "        </div>"
      ]
     },
     "metadata": {},
     "output_type": "display_data"
    }
   ],
   "source": [
    "df.iplot(kind=\"box\")"
   ]
  },
  {
   "cell_type": "code",
   "execution_count": 35,
   "metadata": {},
   "outputs": [],
   "source": [
    "df3=pd.DataFrame({'x':[1,2,3,4,5],'y':[10,20,30,20,10],'z':[500,400,300,200,100]})"
   ]
  },
  {
   "cell_type": "code",
   "execution_count": 37,
   "metadata": {},
   "outputs": [
    {
     "data": {
      "application/vnd.plotly.v1+json": {
       "config": {
        "linkText": "Export to plot.ly",
        "plotlyServerURL": "https://plot.ly",
        "showLink": true
       },
       "data": [
        {
         "colorscale": [
          [
           0,
           "rgb(165,0,38)"
          ],
          [
           0.1,
           "rgb(215,48,39)"
          ],
          [
           0.2,
           "rgb(244,109,67)"
          ],
          [
           0.3,
           "rgb(253,174,97)"
          ],
          [
           0.4,
           "rgb(254,224,144)"
          ],
          [
           0.5,
           "rgb(255,255,191)"
          ],
          [
           0.6,
           "rgb(224,243,248)"
          ],
          [
           0.7,
           "rgb(171,217,233)"
          ],
          [
           0.8,
           "rgb(116,173,209)"
          ],
          [
           0.9,
           "rgb(69,117,180)"
          ],
          [
           1,
           "rgb(49,54,149)"
          ]
         ],
         "type": "surface",
         "x": [
          0,
          1,
          2,
          3,
          4,
          5,
          6,
          7,
          8,
          9,
          10,
          11,
          12,
          13,
          14,
          15,
          16,
          17,
          18,
          19,
          20,
          21,
          22,
          23,
          24,
          25,
          26,
          27,
          28,
          29,
          30,
          31,
          32,
          33,
          34,
          35,
          36,
          37,
          38,
          39,
          40,
          41,
          42,
          43,
          44,
          45,
          46,
          47,
          48,
          49,
          50,
          51,
          52,
          53,
          54,
          55,
          56,
          57,
          58,
          59,
          60,
          61,
          62,
          63,
          64,
          65,
          66,
          67,
          68,
          69,
          70,
          71,
          72,
          73,
          74,
          75,
          76,
          77,
          78,
          79,
          80,
          81,
          82,
          83,
          84,
          85,
          86,
          87,
          88,
          89,
          90,
          91,
          92,
          93,
          94,
          95,
          96,
          97,
          98,
          99
         ],
         "y": [
          "A",
          "B",
          "C",
          "D"
         ],
         "z": [
          [
           -0.01662130328228244,
           0.8952922062355154,
           0.08493791794765844,
           -0.09589135686355073,
           -0.4122201947502266,
           -0.20360574556365796,
           -1.3226112787089954,
           -0.7048337371978483,
           0.04150771300361059,
           -0.016184912767458252,
           -0.7836247979483332,
           -0.41697995913853403,
           -1.5145544317741388,
           -0.9872935372845854,
           2.8600594602810627,
           0.7879441726553916,
           -0.2813608872356518,
           -0.6513622033836487,
           -0.3833614492804819,
           0.16483281378445427,
           -2.1741767017157674,
           -1.6507999144342882,
           1.233849002951117,
           1.8853071817620293,
           -1.5954169238801832,
           -0.5522359603285474,
           -0.1776701185864922,
           -0.44322099515839536,
           1.0203828724791646,
           -0.746502813707562,
           -0.9880780584427672,
           -0.1989813172992508,
           1.028266715119139,
           0.9046343789939094,
           -0.24335430626921478,
           1.4808496271033058,
           1.183551097291823,
           0.7818177335952013,
           2.6317909237286803,
           -1.43255595184391,
           -0.5375396949804877,
           -0.9652461283114274,
           -0.37225584275459644,
           0.14086596179529387,
           2.1088529093442165,
           1.754446737290178,
           0.3204895796285177,
           0.5431393205854986,
           -0.26921450300987526,
           1.2276137248806802,
           2.18564194957632,
           -0.4189445878428453,
           -0.08003270330739348,
           0.8616685014005222,
           0.3204625049333791,
           -0.5444096849865591,
           1.4381126068067536,
           -1.5508518741330823,
           -1.7451055721182847,
           1.393700428608044,
           0.5528230108651216,
           -0.6354989243573955,
           0.5941962167234219,
           -1.498736192404156,
           1.2550871276452416,
           -0.8096320399507062,
           0.24176403155914405,
           0.4183631446701141,
           -1.7819580157798707,
           -0.587756797309145,
           -0.38795341821094526,
           0.07830346473682828,
           0.002456668961825936,
           1.9450473657318994,
           0.7258558214498236,
           -1.0099384838064072,
           0.28353464707170767,
           -1.0649028041957125,
           0.5771518242200254,
           0.8046577717798538,
           -0.10976143995602793,
           1.0417233039507987,
           -0.6800719626994939,
           -0.6139450381025275,
           0.46504150196282273,
           0.48002415552846633,
           -2.0624178821863004,
           1.4590453138925938,
           -0.06592069257443393,
           1.3037006920198502,
           -1.0417291996549434,
           -1.393953962398956,
           -0.09525476965697717,
           -0.11489070095885666,
           2.4005052823632567,
           -0.9318581112304919,
           0.941522431201813,
           0.19568237193128438,
           0.10374442540451675,
           -1.3981329572930432
          ],
          [
           -0.43085692617183563,
           -0.1948859952808109,
           0.25661125162705656,
           -1.3086950885020459,
           0.8330382361581136,
           -0.6953289463874578,
           -0.041546759765450116,
           0.3766966051839097,
           -0.4106742584914722,
           -0.5017699496138679,
           0.011010566296178933,
           0.7150811983334743,
           0.8531750275133767,
           2.1930241736297655,
           0.6183354743888189,
           -0.2543897369151032,
           1.976789309709738,
           0.9045016370030701,
           0.6176953549838936,
           -0.4420620066123814,
           0.004259990892965676,
           -0.6890818854195719,
           0.1284746414788866,
           1.1565973705210073,
           -0.1669069048135824,
           0.9510917351310352,
           0.3776204353934389,
           -0.6104100303510119,
           0.8194742730220135,
           1.040708142451746,
           -0.8233687567505201,
           -1.1344997698956967,
           -0.2957474277602403,
           -0.6732382334575902,
           -0.20198607174310862,
           -0.5191193334283744,
           0.025830849269225062,
           -0.7336763065006728,
           1.2444882142572342,
           -1.4366617646017776,
           1.1881118540595137,
           0.954362185403333,
           -0.1636882464763225,
           0.2585056931294286,
           0.307000591264868,
           0.5053904332689658,
           1.371257331498223,
           0.8284466732128394,
           -1.6398779068387968,
           0.1312492505552544,
           -2.0782358481550904,
           -0.045307906304940145,
           0.16728844758876973,
           0.4199691612388556,
           0.5537924522559142,
           -0.472466174965874,
           -0.43842800336219834,
           -0.8086583687303776,
           -1.4472922254350542,
           1.5432229404089068,
           0.09327407639879354,
           -1.7151607168181384,
           0.31547264421701804,
           -0.6409782017093438,
           -0.5888934484654935,
           -0.2589297494469279,
           0.4095662405359321,
           -0.7827392201998249,
           0.8536261771615004,
           -0.13667988806894107,
           0.014275802400758018,
           0.2700521255686095,
           0.0713171499641922,
           -1.6360217944335709,
           1.1316472826520418,
           0.21966931057515063,
           -1.0415257873712767,
           -0.673080884585363,
           0.6417494538653378,
           -2.575256173392799,
           -1.301392718985718,
           -1.3280555679474806,
           -0.3988933059066309,
           -1.4320562115681523,
           -0.5208466357235377,
           0.6283326705144111,
           -0.4993914177816305,
           2.3803973130583707,
           -1.404107842111614,
           -0.05799211063099601,
           -1.1984196002600367,
           -0.14252971995716965,
           -0.3981381038453286,
           -0.3917743490224008,
           1.5356909803434518,
           0.5644974004458589,
           0.36323243100145386,
           0.5520098897203459,
           -0.6462900576233668,
           1.1144001381118762
          ],
          [
           -2.0092660704673566,
           -1.2598029689852777,
           -0.2760950755895815,
           -0.9365077817146868,
           -0.7467722748457818,
           -0.7267174990662252,
           0.8107639722666636,
           0.3018313256185027,
           -0.2779338079594555,
           1.0850989578462957,
           1.0633890945862559,
           0.19984988072986953,
           -1.0240416296636121,
           0.5038285176790187,
           0.06717667510847727,
           0.7185919144131047,
           -0.49171157314491626,
           -0.7679077810892389,
           1.5701249112688236,
           -0.47251103418643026,
           1.9430557828822212,
           0.2379297319180449,
           0.36707306677115453,
           0.006699107693457233,
           -1.0180537128174496,
           -0.6080580473072035,
           1.0185946954688905,
           0.5714696913211738,
           0.09143339844861038,
           2.070139494439533,
           1.140804725949334,
           0.6126110616024626,
           0.4563101220852704,
           -2.2654786046256543,
           -0.4029428049342183,
           -0.16962658908939526,
           -0.24096898379316878,
           -1.0073125456045633,
           0.28463786120973017,
           0.9529151893853018,
           -1.2378966892029355,
           -0.06963240847971755,
           -0.7032964127927137,
           -0.5809832596471718,
           0.29449307116870876,
           0.33243510188444925,
           0.4977579983615313,
           -0.9257449819489063,
           -0.41725764974537366,
           0.4848070737197375,
           0.43930170517402317,
           0.23065023494261755,
           0.4816217241293878,
           0.04799816907981186,
           -0.3974323820653122,
           0.7903361874598068,
           1.4322150789264265,
           -1.647709706473274,
           -2.3800258277526543,
           0.6970445446703903,
           0.8316708876679342,
           -1.5158979051133505,
           -0.14986630629837563,
           -1.0493727521665157,
           1.701201455937589,
           -0.1410913288683814,
           0.2685239479223764,
           -0.7600369349891372,
           -0.4742547385039707,
           -0.8220107130507899,
           0.8445080140789566,
           -0.324027172344423,
           -0.4178030661196102,
           -0.26596041408454146,
           0.5523489460368105,
           -0.7026605411631265,
           0.13994365329359548,
           -0.04065613857973858,
           -0.28547939736187256,
           0.3388705179018651,
           0.9668821132900235,
           1.7880873782211257,
           1.9386610560756863,
           -0.34094180091834364,
           -1.1192837035162806,
           0.6279726842636103,
           0.6200042114970403,
           -1.4264867124427423,
           -1.809853283787445,
           -1.193888458973862,
           0.08685450082155578,
           -0.7102321011128129,
           1.2846765718116526,
           -1.123680140228286,
           -0.2806606072097656,
           -1.4896739546532576,
           0.6295603599603866,
           1.1136656548999315,
           0.9536097103790099,
           -0.7080867626264907
          ],
          [
           1.0501701145422817,
           0.4451796840776505,
           0.019322074864412696,
           0.9953761305418058,
           0.5110397705048686,
           -0.803700035088617,
           2.6444092391724636,
           0.7893356856324825,
           -0.08471694230445719,
           -1.3109737377927366,
           0.4248306638940191,
           1.3717385676996887,
           0.40107501810780155,
           -0.8911298914144757,
           -0.17802975610778662,
           0.45954921920579067,
           -1.2291934521608001,
           1.5879628450775962,
           2.3950384881567475,
           0.7864211027184705,
           0.44696414651942606,
           -0.7688917608863599,
           0.8034469969539286,
           -0.2441696518488366,
           0.7946135467706282,
           0.4629228010763608,
           2.4375744559135692,
           -2.0666459708872487,
           1.3369394395351957,
           0.281544068694196,
           1.40868549926317,
           1.7007000788755262,
           -0.5707362211763846,
           0.30086898022664293,
           -0.9768980954609655,
           0.3212560453655524,
           0.7156443033399906,
           -1.2165459335403617,
           -0.20839221483710563,
           -0.0058505078818461,
           -0.6256249650976695,
           -0.34208821825767766,
           2.9057635151997228,
           1.1898121704981293,
           0.7748839366899357,
           0.775858103384347,
           1.734019655618904,
           0.4883218411991308,
           0.48319375293985073,
           0.07251905790818866,
           -0.2737028732193538,
           -0.21945236052007253,
           -0.8829581220812761,
           -1.3291278492107135,
           2.327960742028899,
           0.11235642184377229,
           -0.31755903220376597,
           1.3147441857811188,
           0.4011430411094645,
           -0.859875508599031,
           0.6827306411077664,
           1.4857854264842902,
           0.7311732289637328,
           -2.418153976778658,
           0.9536327739040761,
           -1.7769454655989747,
           -0.42076296424642096,
           -1.1229235007551497,
           -0.41217731324319673,
           2.099699703404748,
           -1.9289629279399207,
           -0.5093084117755678,
           1.0742848834728373,
           0.6702312418547619,
           -0.25349917550157963,
           -0.669305397468498,
           -1.693821178889706,
           0.5103274302378665,
           1.0541391062646233,
           -0.5976418342961541,
           0.8682392696715692,
           -0.6697941242150638,
           0.9742988020969872,
           0.4783934061363041,
           -0.10945425289967044,
           0.5579648469307343,
           0.061882101624842645,
           -0.45157774335416456,
           0.6161163305270498,
           -0.054394521326319764,
           -1.5735721687894109,
           0.5705772210638205,
           0.5761796006749031,
           0.1844921493983869,
           -0.24892164936248318,
           -1.2743548062088557,
           0.6984023222628456,
           1.1154228312324685,
           -0.7900145646772628,
           -0.4938822454556439
          ]
         ]
        }
       ],
       "layout": {
        "legend": {
         "bgcolor": "#F5F6F9",
         "font": {
          "color": "#4D5663"
         }
        },
        "paper_bgcolor": "#F5F6F9",
        "plot_bgcolor": "#F5F6F9",
        "template": {
         "data": {
          "bar": [
           {
            "error_x": {
             "color": "#2a3f5f"
            },
            "error_y": {
             "color": "#2a3f5f"
            },
            "marker": {
             "line": {
              "color": "#E5ECF6",
              "width": 0.5
             }
            },
            "type": "bar"
           }
          ],
          "barpolar": [
           {
            "marker": {
             "line": {
              "color": "#E5ECF6",
              "width": 0.5
             }
            },
            "type": "barpolar"
           }
          ],
          "carpet": [
           {
            "aaxis": {
             "endlinecolor": "#2a3f5f",
             "gridcolor": "white",
             "linecolor": "white",
             "minorgridcolor": "white",
             "startlinecolor": "#2a3f5f"
            },
            "baxis": {
             "endlinecolor": "#2a3f5f",
             "gridcolor": "white",
             "linecolor": "white",
             "minorgridcolor": "white",
             "startlinecolor": "#2a3f5f"
            },
            "type": "carpet"
           }
          ],
          "choropleth": [
           {
            "colorbar": {
             "outlinewidth": 0,
             "ticks": ""
            },
            "type": "choropleth"
           }
          ],
          "contour": [
           {
            "colorbar": {
             "outlinewidth": 0,
             "ticks": ""
            },
            "colorscale": [
             [
              0,
              "#0d0887"
             ],
             [
              0.1111111111111111,
              "#46039f"
             ],
             [
              0.2222222222222222,
              "#7201a8"
             ],
             [
              0.3333333333333333,
              "#9c179e"
             ],
             [
              0.4444444444444444,
              "#bd3786"
             ],
             [
              0.5555555555555556,
              "#d8576b"
             ],
             [
              0.6666666666666666,
              "#ed7953"
             ],
             [
              0.7777777777777778,
              "#fb9f3a"
             ],
             [
              0.8888888888888888,
              "#fdca26"
             ],
             [
              1,
              "#f0f921"
             ]
            ],
            "type": "contour"
           }
          ],
          "contourcarpet": [
           {
            "colorbar": {
             "outlinewidth": 0,
             "ticks": ""
            },
            "type": "contourcarpet"
           }
          ],
          "heatmap": [
           {
            "colorbar": {
             "outlinewidth": 0,
             "ticks": ""
            },
            "colorscale": [
             [
              0,
              "#0d0887"
             ],
             [
              0.1111111111111111,
              "#46039f"
             ],
             [
              0.2222222222222222,
              "#7201a8"
             ],
             [
              0.3333333333333333,
              "#9c179e"
             ],
             [
              0.4444444444444444,
              "#bd3786"
             ],
             [
              0.5555555555555556,
              "#d8576b"
             ],
             [
              0.6666666666666666,
              "#ed7953"
             ],
             [
              0.7777777777777778,
              "#fb9f3a"
             ],
             [
              0.8888888888888888,
              "#fdca26"
             ],
             [
              1,
              "#f0f921"
             ]
            ],
            "type": "heatmap"
           }
          ],
          "heatmapgl": [
           {
            "colorbar": {
             "outlinewidth": 0,
             "ticks": ""
            },
            "colorscale": [
             [
              0,
              "#0d0887"
             ],
             [
              0.1111111111111111,
              "#46039f"
             ],
             [
              0.2222222222222222,
              "#7201a8"
             ],
             [
              0.3333333333333333,
              "#9c179e"
             ],
             [
              0.4444444444444444,
              "#bd3786"
             ],
             [
              0.5555555555555556,
              "#d8576b"
             ],
             [
              0.6666666666666666,
              "#ed7953"
             ],
             [
              0.7777777777777778,
              "#fb9f3a"
             ],
             [
              0.8888888888888888,
              "#fdca26"
             ],
             [
              1,
              "#f0f921"
             ]
            ],
            "type": "heatmapgl"
           }
          ],
          "histogram": [
           {
            "marker": {
             "colorbar": {
              "outlinewidth": 0,
              "ticks": ""
             }
            },
            "type": "histogram"
           }
          ],
          "histogram2d": [
           {
            "colorbar": {
             "outlinewidth": 0,
             "ticks": ""
            },
            "colorscale": [
             [
              0,
              "#0d0887"
             ],
             [
              0.1111111111111111,
              "#46039f"
             ],
             [
              0.2222222222222222,
              "#7201a8"
             ],
             [
              0.3333333333333333,
              "#9c179e"
             ],
             [
              0.4444444444444444,
              "#bd3786"
             ],
             [
              0.5555555555555556,
              "#d8576b"
             ],
             [
              0.6666666666666666,
              "#ed7953"
             ],
             [
              0.7777777777777778,
              "#fb9f3a"
             ],
             [
              0.8888888888888888,
              "#fdca26"
             ],
             [
              1,
              "#f0f921"
             ]
            ],
            "type": "histogram2d"
           }
          ],
          "histogram2dcontour": [
           {
            "colorbar": {
             "outlinewidth": 0,
             "ticks": ""
            },
            "colorscale": [
             [
              0,
              "#0d0887"
             ],
             [
              0.1111111111111111,
              "#46039f"
             ],
             [
              0.2222222222222222,
              "#7201a8"
             ],
             [
              0.3333333333333333,
              "#9c179e"
             ],
             [
              0.4444444444444444,
              "#bd3786"
             ],
             [
              0.5555555555555556,
              "#d8576b"
             ],
             [
              0.6666666666666666,
              "#ed7953"
             ],
             [
              0.7777777777777778,
              "#fb9f3a"
             ],
             [
              0.8888888888888888,
              "#fdca26"
             ],
             [
              1,
              "#f0f921"
             ]
            ],
            "type": "histogram2dcontour"
           }
          ],
          "mesh3d": [
           {
            "colorbar": {
             "outlinewidth": 0,
             "ticks": ""
            },
            "type": "mesh3d"
           }
          ],
          "parcoords": [
           {
            "line": {
             "colorbar": {
              "outlinewidth": 0,
              "ticks": ""
             }
            },
            "type": "parcoords"
           }
          ],
          "pie": [
           {
            "automargin": true,
            "type": "pie"
           }
          ],
          "scatter": [
           {
            "marker": {
             "colorbar": {
              "outlinewidth": 0,
              "ticks": ""
             }
            },
            "type": "scatter"
           }
          ],
          "scatter3d": [
           {
            "line": {
             "colorbar": {
              "outlinewidth": 0,
              "ticks": ""
             }
            },
            "marker": {
             "colorbar": {
              "outlinewidth": 0,
              "ticks": ""
             }
            },
            "type": "scatter3d"
           }
          ],
          "scattercarpet": [
           {
            "marker": {
             "colorbar": {
              "outlinewidth": 0,
              "ticks": ""
             }
            },
            "type": "scattercarpet"
           }
          ],
          "scattergeo": [
           {
            "marker": {
             "colorbar": {
              "outlinewidth": 0,
              "ticks": ""
             }
            },
            "type": "scattergeo"
           }
          ],
          "scattergl": [
           {
            "marker": {
             "colorbar": {
              "outlinewidth": 0,
              "ticks": ""
             }
            },
            "type": "scattergl"
           }
          ],
          "scattermapbox": [
           {
            "marker": {
             "colorbar": {
              "outlinewidth": 0,
              "ticks": ""
             }
            },
            "type": "scattermapbox"
           }
          ],
          "scatterpolar": [
           {
            "marker": {
             "colorbar": {
              "outlinewidth": 0,
              "ticks": ""
             }
            },
            "type": "scatterpolar"
           }
          ],
          "scatterpolargl": [
           {
            "marker": {
             "colorbar": {
              "outlinewidth": 0,
              "ticks": ""
             }
            },
            "type": "scatterpolargl"
           }
          ],
          "scatterternary": [
           {
            "marker": {
             "colorbar": {
              "outlinewidth": 0,
              "ticks": ""
             }
            },
            "type": "scatterternary"
           }
          ],
          "surface": [
           {
            "colorbar": {
             "outlinewidth": 0,
             "ticks": ""
            },
            "colorscale": [
             [
              0,
              "#0d0887"
             ],
             [
              0.1111111111111111,
              "#46039f"
             ],
             [
              0.2222222222222222,
              "#7201a8"
             ],
             [
              0.3333333333333333,
              "#9c179e"
             ],
             [
              0.4444444444444444,
              "#bd3786"
             ],
             [
              0.5555555555555556,
              "#d8576b"
             ],
             [
              0.6666666666666666,
              "#ed7953"
             ],
             [
              0.7777777777777778,
              "#fb9f3a"
             ],
             [
              0.8888888888888888,
              "#fdca26"
             ],
             [
              1,
              "#f0f921"
             ]
            ],
            "type": "surface"
           }
          ],
          "table": [
           {
            "cells": {
             "fill": {
              "color": "#EBF0F8"
             },
             "line": {
              "color": "white"
             }
            },
            "header": {
             "fill": {
              "color": "#C8D4E3"
             },
             "line": {
              "color": "white"
             }
            },
            "type": "table"
           }
          ]
         },
         "layout": {
          "annotationdefaults": {
           "arrowcolor": "#2a3f5f",
           "arrowhead": 0,
           "arrowwidth": 1
          },
          "coloraxis": {
           "colorbar": {
            "outlinewidth": 0,
            "ticks": ""
           }
          },
          "colorscale": {
           "diverging": [
            [
             0,
             "#8e0152"
            ],
            [
             0.1,
             "#c51b7d"
            ],
            [
             0.2,
             "#de77ae"
            ],
            [
             0.3,
             "#f1b6da"
            ],
            [
             0.4,
             "#fde0ef"
            ],
            [
             0.5,
             "#f7f7f7"
            ],
            [
             0.6,
             "#e6f5d0"
            ],
            [
             0.7,
             "#b8e186"
            ],
            [
             0.8,
             "#7fbc41"
            ],
            [
             0.9,
             "#4d9221"
            ],
            [
             1,
             "#276419"
            ]
           ],
           "sequential": [
            [
             0,
             "#0d0887"
            ],
            [
             0.1111111111111111,
             "#46039f"
            ],
            [
             0.2222222222222222,
             "#7201a8"
            ],
            [
             0.3333333333333333,
             "#9c179e"
            ],
            [
             0.4444444444444444,
             "#bd3786"
            ],
            [
             0.5555555555555556,
             "#d8576b"
            ],
            [
             0.6666666666666666,
             "#ed7953"
            ],
            [
             0.7777777777777778,
             "#fb9f3a"
            ],
            [
             0.8888888888888888,
             "#fdca26"
            ],
            [
             1,
             "#f0f921"
            ]
           ],
           "sequentialminus": [
            [
             0,
             "#0d0887"
            ],
            [
             0.1111111111111111,
             "#46039f"
            ],
            [
             0.2222222222222222,
             "#7201a8"
            ],
            [
             0.3333333333333333,
             "#9c179e"
            ],
            [
             0.4444444444444444,
             "#bd3786"
            ],
            [
             0.5555555555555556,
             "#d8576b"
            ],
            [
             0.6666666666666666,
             "#ed7953"
            ],
            [
             0.7777777777777778,
             "#fb9f3a"
            ],
            [
             0.8888888888888888,
             "#fdca26"
            ],
            [
             1,
             "#f0f921"
            ]
           ]
          },
          "colorway": [
           "#636efa",
           "#EF553B",
           "#00cc96",
           "#ab63fa",
           "#FFA15A",
           "#19d3f3",
           "#FF6692",
           "#B6E880",
           "#FF97FF",
           "#FECB52"
          ],
          "font": {
           "color": "#2a3f5f"
          },
          "geo": {
           "bgcolor": "white",
           "lakecolor": "white",
           "landcolor": "#E5ECF6",
           "showlakes": true,
           "showland": true,
           "subunitcolor": "white"
          },
          "hoverlabel": {
           "align": "left"
          },
          "hovermode": "closest",
          "mapbox": {
           "style": "light"
          },
          "paper_bgcolor": "white",
          "plot_bgcolor": "#E5ECF6",
          "polar": {
           "angularaxis": {
            "gridcolor": "white",
            "linecolor": "white",
            "ticks": ""
           },
           "bgcolor": "#E5ECF6",
           "radialaxis": {
            "gridcolor": "white",
            "linecolor": "white",
            "ticks": ""
           }
          },
          "scene": {
           "xaxis": {
            "backgroundcolor": "#E5ECF6",
            "gridcolor": "white",
            "gridwidth": 2,
            "linecolor": "white",
            "showbackground": true,
            "ticks": "",
            "zerolinecolor": "white"
           },
           "yaxis": {
            "backgroundcolor": "#E5ECF6",
            "gridcolor": "white",
            "gridwidth": 2,
            "linecolor": "white",
            "showbackground": true,
            "ticks": "",
            "zerolinecolor": "white"
           },
           "zaxis": {
            "backgroundcolor": "#E5ECF6",
            "gridcolor": "white",
            "gridwidth": 2,
            "linecolor": "white",
            "showbackground": true,
            "ticks": "",
            "zerolinecolor": "white"
           }
          },
          "shapedefaults": {
           "line": {
            "color": "#2a3f5f"
           }
          },
          "ternary": {
           "aaxis": {
            "gridcolor": "white",
            "linecolor": "white",
            "ticks": ""
           },
           "baxis": {
            "gridcolor": "white",
            "linecolor": "white",
            "ticks": ""
           },
           "bgcolor": "#E5ECF6",
           "caxis": {
            "gridcolor": "white",
            "linecolor": "white",
            "ticks": ""
           }
          },
          "title": {
           "x": 0.05
          },
          "xaxis": {
           "automargin": true,
           "gridcolor": "white",
           "linecolor": "white",
           "ticks": "",
           "title": {
            "standoff": 15
           },
           "zerolinecolor": "white",
           "zerolinewidth": 2
          },
          "yaxis": {
           "automargin": true,
           "gridcolor": "white",
           "linecolor": "white",
           "ticks": "",
           "title": {
            "standoff": 15
           },
           "zerolinecolor": "white",
           "zerolinewidth": 2
          }
         }
        },
        "title": {
         "font": {
          "color": "#4D5663"
         }
        },
        "xaxis": {
         "gridcolor": "#E1E5ED",
         "showgrid": true,
         "tickfont": {
          "color": "#4D5663"
         },
         "title": {
          "font": {
           "color": "#4D5663"
          },
          "text": ""
         },
         "zerolinecolor": "#E1E5ED"
        },
        "yaxis": {
         "gridcolor": "#E1E5ED",
         "showgrid": true,
         "tickfont": {
          "color": "#4D5663"
         },
         "title": {
          "font": {
           "color": "#4D5663"
          },
          "text": ""
         },
         "zerolinecolor": "#E1E5ED"
        }
       }
      },
      "text/html": [
       "<div>\n",
       "        \n",
       "        \n",
       "            <div id=\"24117a72-3312-4043-bf63-3819762a0d17\" class=\"plotly-graph-div\" style=\"height:525px; width:100%;\"></div>\n",
       "            <script type=\"text/javascript\">\n",
       "                require([\"plotly\"], function(Plotly) {\n",
       "                    window.PLOTLYENV=window.PLOTLYENV || {};\n",
       "                    window.PLOTLYENV.BASE_URL='https://plot.ly';\n",
       "                    \n",
       "                if (document.getElementById(\"24117a72-3312-4043-bf63-3819762a0d17\")) {\n",
       "                    Plotly.newPlot(\n",
       "                        '24117a72-3312-4043-bf63-3819762a0d17',\n",
       "                        [{\"colorscale\": [[0.0, \"rgb(165,0,38)\"], [0.1, \"rgb(215,48,39)\"], [0.2, \"rgb(244,109,67)\"], [0.3, \"rgb(253,174,97)\"], [0.4, \"rgb(254,224,144)\"], [0.5, \"rgb(255,255,191)\"], [0.6, \"rgb(224,243,248)\"], [0.7, \"rgb(171,217,233)\"], [0.8, \"rgb(116,173,209)\"], [0.9, \"rgb(69,117,180)\"], [1.0, \"rgb(49,54,149)\"]], \"type\": \"surface\", \"x\": [0, 1, 2, 3, 4, 5, 6, 7, 8, 9, 10, 11, 12, 13, 14, 15, 16, 17, 18, 19, 20, 21, 22, 23, 24, 25, 26, 27, 28, 29, 30, 31, 32, 33, 34, 35, 36, 37, 38, 39, 40, 41, 42, 43, 44, 45, 46, 47, 48, 49, 50, 51, 52, 53, 54, 55, 56, 57, 58, 59, 60, 61, 62, 63, 64, 65, 66, 67, 68, 69, 70, 71, 72, 73, 74, 75, 76, 77, 78, 79, 80, 81, 82, 83, 84, 85, 86, 87, 88, 89, 90, 91, 92, 93, 94, 95, 96, 97, 98, 99], \"y\": [\"A\", \"B\", \"C\", \"D\"], \"z\": [[-0.01662130328228244, 0.8952922062355154, 0.08493791794765844, -0.09589135686355073, -0.4122201947502266, -0.20360574556365796, -1.3226112787089954, -0.7048337371978483, 0.04150771300361059, -0.016184912767458252, -0.7836247979483332, -0.41697995913853403, -1.5145544317741388, -0.9872935372845854, 2.8600594602810627, 0.7879441726553916, -0.2813608872356518, -0.6513622033836487, -0.3833614492804819, 0.16483281378445427, -2.1741767017157674, -1.6507999144342882, 1.233849002951117, 1.8853071817620293, -1.5954169238801832, -0.5522359603285474, -0.1776701185864922, -0.44322099515839536, 1.0203828724791646, -0.746502813707562, -0.9880780584427672, -0.1989813172992508, 1.028266715119139, 0.9046343789939094, -0.24335430626921478, 1.4808496271033058, 1.183551097291823, 0.7818177335952013, 2.6317909237286803, -1.43255595184391, -0.5375396949804877, -0.9652461283114274, -0.37225584275459644, 0.14086596179529387, 2.1088529093442165, 1.754446737290178, 0.3204895796285177, 0.5431393205854986, -0.26921450300987526, 1.2276137248806802, 2.18564194957632, -0.4189445878428453, -0.08003270330739348, 0.8616685014005222, 0.3204625049333791, -0.5444096849865591, 1.4381126068067536, -1.5508518741330823, -1.7451055721182847, 1.393700428608044, 0.5528230108651216, -0.6354989243573955, 0.5941962167234219, -1.498736192404156, 1.2550871276452416, -0.8096320399507062, 0.24176403155914405, 0.4183631446701141, -1.7819580157798707, -0.587756797309145, -0.38795341821094526, 0.07830346473682828, 0.002456668961825936, 1.9450473657318994, 0.7258558214498236, -1.0099384838064072, 0.28353464707170767, -1.0649028041957125, 0.5771518242200254, 0.8046577717798538, -0.10976143995602793, 1.0417233039507987, -0.6800719626994939, -0.6139450381025275, 0.46504150196282273, 0.48002415552846633, -2.0624178821863004, 1.4590453138925938, -0.06592069257443393, 1.3037006920198502, -1.0417291996549434, -1.393953962398956, -0.09525476965697717, -0.11489070095885666, 2.4005052823632567, -0.9318581112304919, 0.941522431201813, 0.19568237193128438, 0.10374442540451675, -1.3981329572930432], [-0.43085692617183563, -0.1948859952808109, 0.25661125162705656, -1.3086950885020459, 0.8330382361581136, -0.6953289463874578, -0.041546759765450116, 0.3766966051839097, -0.4106742584914722, -0.5017699496138679, 0.011010566296178933, 0.7150811983334743, 0.8531750275133767, 2.1930241736297655, 0.6183354743888189, -0.2543897369151032, 1.976789309709738, 0.9045016370030701, 0.6176953549838936, -0.4420620066123814, 0.004259990892965676, -0.6890818854195719, 0.1284746414788866, 1.1565973705210073, -0.1669069048135824, 0.9510917351310352, 0.3776204353934389, -0.6104100303510119, 0.8194742730220135, 1.040708142451746, -0.8233687567505201, -1.1344997698956967, -0.2957474277602403, -0.6732382334575902, -0.20198607174310862, -0.5191193334283744, 0.025830849269225062, -0.7336763065006728, 1.2444882142572342, -1.4366617646017776, 1.1881118540595137, 0.954362185403333, -0.1636882464763225, 0.2585056931294286, 0.307000591264868, 0.5053904332689658, 1.371257331498223, 0.8284466732128394, -1.6398779068387968, 0.1312492505552544, -2.0782358481550904, -0.045307906304940145, 0.16728844758876973, 0.4199691612388556, 0.5537924522559142, -0.472466174965874, -0.43842800336219834, -0.8086583687303776, -1.4472922254350542, 1.5432229404089068, 0.09327407639879354, -1.7151607168181384, 0.31547264421701804, -0.6409782017093438, -0.5888934484654935, -0.2589297494469279, 0.4095662405359321, -0.7827392201998249, 0.8536261771615004, -0.13667988806894107, 0.014275802400758018, 0.2700521255686095, 0.0713171499641922, -1.6360217944335709, 1.1316472826520418, 0.21966931057515063, -1.0415257873712767, -0.673080884585363, 0.6417494538653378, -2.575256173392799, -1.301392718985718, -1.3280555679474806, -0.3988933059066309, -1.4320562115681523, -0.5208466357235377, 0.6283326705144111, -0.4993914177816305, 2.3803973130583707, -1.404107842111614, -0.05799211063099601, -1.1984196002600367, -0.14252971995716965, -0.3981381038453286, -0.3917743490224008, 1.5356909803434518, 0.5644974004458589, 0.36323243100145386, 0.5520098897203459, -0.6462900576233668, 1.1144001381118762], [-2.0092660704673566, -1.2598029689852777, -0.2760950755895815, -0.9365077817146868, -0.7467722748457818, -0.7267174990662252, 0.8107639722666636, 0.3018313256185027, -0.2779338079594555, 1.0850989578462957, 1.0633890945862559, 0.19984988072986953, -1.0240416296636121, 0.5038285176790187, 0.06717667510847727, 0.7185919144131047, -0.49171157314491626, -0.7679077810892389, 1.5701249112688236, -0.47251103418643026, 1.9430557828822212, 0.2379297319180449, 0.36707306677115453, 0.006699107693457233, -1.0180537128174496, -0.6080580473072035, 1.0185946954688905, 0.5714696913211738, 0.09143339844861038, 2.070139494439533, 1.140804725949334, 0.6126110616024626, 0.4563101220852704, -2.2654786046256543, -0.4029428049342183, -0.16962658908939526, -0.24096898379316878, -1.0073125456045633, 0.28463786120973017, 0.9529151893853018, -1.2378966892029355, -0.06963240847971755, -0.7032964127927137, -0.5809832596471718, 0.29449307116870876, 0.33243510188444925, 0.4977579983615313, -0.9257449819489063, -0.41725764974537366, 0.4848070737197375, 0.43930170517402317, 0.23065023494261755, 0.4816217241293878, 0.04799816907981186, -0.3974323820653122, 0.7903361874598068, 1.4322150789264265, -1.647709706473274, -2.3800258277526543, 0.6970445446703903, 0.8316708876679342, -1.5158979051133505, -0.14986630629837563, -1.0493727521665157, 1.701201455937589, -0.1410913288683814, 0.2685239479223764, -0.7600369349891372, -0.4742547385039707, -0.8220107130507899, 0.8445080140789566, -0.324027172344423, -0.4178030661196102, -0.26596041408454146, 0.5523489460368105, -0.7026605411631265, 0.13994365329359548, -0.04065613857973858, -0.28547939736187256, 0.3388705179018651, 0.9668821132900235, 1.7880873782211257, 1.9386610560756863, -0.34094180091834364, -1.1192837035162806, 0.6279726842636103, 0.6200042114970403, -1.4264867124427423, -1.809853283787445, -1.193888458973862, 0.08685450082155578, -0.7102321011128129, 1.2846765718116526, -1.123680140228286, -0.2806606072097656, -1.4896739546532576, 0.6295603599603866, 1.1136656548999315, 0.9536097103790099, -0.7080867626264907], [1.0501701145422817, 0.4451796840776505, 0.019322074864412696, 0.9953761305418058, 0.5110397705048686, -0.803700035088617, 2.6444092391724636, 0.7893356856324825, -0.08471694230445719, -1.3109737377927366, 0.4248306638940191, 1.3717385676996887, 0.40107501810780155, -0.8911298914144757, -0.17802975610778662, 0.45954921920579067, -1.2291934521608001, 1.5879628450775962, 2.3950384881567475, 0.7864211027184705, 0.44696414651942606, -0.7688917608863599, 0.8034469969539286, -0.2441696518488366, 0.7946135467706282, 0.4629228010763608, 2.4375744559135692, -2.0666459708872487, 1.3369394395351957, 0.281544068694196, 1.40868549926317, 1.7007000788755262, -0.5707362211763846, 0.30086898022664293, -0.9768980954609655, 0.3212560453655524, 0.7156443033399906, -1.2165459335403617, -0.20839221483710563, -0.0058505078818461, -0.6256249650976695, -0.34208821825767766, 2.9057635151997228, 1.1898121704981293, 0.7748839366899357, 0.775858103384347, 1.734019655618904, 0.4883218411991308, 0.48319375293985073, 0.07251905790818866, -0.2737028732193538, -0.21945236052007253, -0.8829581220812761, -1.3291278492107135, 2.327960742028899, 0.11235642184377229, -0.31755903220376597, 1.3147441857811188, 0.4011430411094645, -0.859875508599031, 0.6827306411077664, 1.4857854264842902, 0.7311732289637328, -2.418153976778658, 0.9536327739040761, -1.7769454655989747, -0.42076296424642096, -1.1229235007551497, -0.41217731324319673, 2.099699703404748, -1.9289629279399207, -0.5093084117755678, 1.0742848834728373, 0.6702312418547619, -0.25349917550157963, -0.669305397468498, -1.693821178889706, 0.5103274302378665, 1.0541391062646233, -0.5976418342961541, 0.8682392696715692, -0.6697941242150638, 0.9742988020969872, 0.4783934061363041, -0.10945425289967044, 0.5579648469307343, 0.061882101624842645, -0.45157774335416456, 0.6161163305270498, -0.054394521326319764, -1.5735721687894109, 0.5705772210638205, 0.5761796006749031, 0.1844921493983869, -0.24892164936248318, -1.2743548062088557, 0.6984023222628456, 1.1154228312324685, -0.7900145646772628, -0.4938822454556439]]}],\n",
       "                        {\"legend\": {\"bgcolor\": \"#F5F6F9\", \"font\": {\"color\": \"#4D5663\"}}, \"paper_bgcolor\": \"#F5F6F9\", \"plot_bgcolor\": \"#F5F6F9\", \"template\": {\"data\": {\"bar\": [{\"error_x\": {\"color\": \"#2a3f5f\"}, \"error_y\": {\"color\": \"#2a3f5f\"}, \"marker\": {\"line\": {\"color\": \"#E5ECF6\", \"width\": 0.5}}, \"type\": \"bar\"}], \"barpolar\": [{\"marker\": {\"line\": {\"color\": \"#E5ECF6\", \"width\": 0.5}}, \"type\": \"barpolar\"}], \"carpet\": [{\"aaxis\": {\"endlinecolor\": \"#2a3f5f\", \"gridcolor\": \"white\", \"linecolor\": \"white\", \"minorgridcolor\": \"white\", \"startlinecolor\": \"#2a3f5f\"}, \"baxis\": {\"endlinecolor\": \"#2a3f5f\", \"gridcolor\": \"white\", \"linecolor\": \"white\", \"minorgridcolor\": \"white\", \"startlinecolor\": \"#2a3f5f\"}, \"type\": \"carpet\"}], \"choropleth\": [{\"colorbar\": {\"outlinewidth\": 0, \"ticks\": \"\"}, \"type\": \"choropleth\"}], \"contour\": [{\"colorbar\": {\"outlinewidth\": 0, \"ticks\": \"\"}, \"colorscale\": [[0.0, \"#0d0887\"], [0.1111111111111111, \"#46039f\"], [0.2222222222222222, \"#7201a8\"], [0.3333333333333333, \"#9c179e\"], [0.4444444444444444, \"#bd3786\"], [0.5555555555555556, \"#d8576b\"], [0.6666666666666666, \"#ed7953\"], [0.7777777777777778, \"#fb9f3a\"], [0.8888888888888888, \"#fdca26\"], [1.0, \"#f0f921\"]], \"type\": \"contour\"}], \"contourcarpet\": [{\"colorbar\": {\"outlinewidth\": 0, \"ticks\": \"\"}, \"type\": \"contourcarpet\"}], \"heatmap\": [{\"colorbar\": {\"outlinewidth\": 0, \"ticks\": \"\"}, \"colorscale\": [[0.0, \"#0d0887\"], [0.1111111111111111, \"#46039f\"], [0.2222222222222222, \"#7201a8\"], [0.3333333333333333, \"#9c179e\"], [0.4444444444444444, \"#bd3786\"], [0.5555555555555556, \"#d8576b\"], [0.6666666666666666, \"#ed7953\"], [0.7777777777777778, \"#fb9f3a\"], [0.8888888888888888, \"#fdca26\"], [1.0, \"#f0f921\"]], \"type\": \"heatmap\"}], \"heatmapgl\": [{\"colorbar\": {\"outlinewidth\": 0, \"ticks\": \"\"}, \"colorscale\": [[0.0, \"#0d0887\"], [0.1111111111111111, \"#46039f\"], [0.2222222222222222, \"#7201a8\"], [0.3333333333333333, \"#9c179e\"], [0.4444444444444444, \"#bd3786\"], [0.5555555555555556, \"#d8576b\"], [0.6666666666666666, \"#ed7953\"], [0.7777777777777778, \"#fb9f3a\"], [0.8888888888888888, \"#fdca26\"], [1.0, \"#f0f921\"]], \"type\": \"heatmapgl\"}], \"histogram\": [{\"marker\": {\"colorbar\": {\"outlinewidth\": 0, \"ticks\": \"\"}}, \"type\": \"histogram\"}], \"histogram2d\": [{\"colorbar\": {\"outlinewidth\": 0, \"ticks\": \"\"}, \"colorscale\": [[0.0, \"#0d0887\"], [0.1111111111111111, \"#46039f\"], [0.2222222222222222, \"#7201a8\"], [0.3333333333333333, \"#9c179e\"], [0.4444444444444444, \"#bd3786\"], [0.5555555555555556, \"#d8576b\"], [0.6666666666666666, \"#ed7953\"], [0.7777777777777778, \"#fb9f3a\"], [0.8888888888888888, \"#fdca26\"], [1.0, \"#f0f921\"]], \"type\": \"histogram2d\"}], \"histogram2dcontour\": [{\"colorbar\": {\"outlinewidth\": 0, \"ticks\": \"\"}, \"colorscale\": [[0.0, \"#0d0887\"], [0.1111111111111111, \"#46039f\"], [0.2222222222222222, \"#7201a8\"], [0.3333333333333333, \"#9c179e\"], [0.4444444444444444, \"#bd3786\"], [0.5555555555555556, \"#d8576b\"], [0.6666666666666666, \"#ed7953\"], [0.7777777777777778, \"#fb9f3a\"], [0.8888888888888888, \"#fdca26\"], [1.0, \"#f0f921\"]], \"type\": \"histogram2dcontour\"}], \"mesh3d\": [{\"colorbar\": {\"outlinewidth\": 0, \"ticks\": \"\"}, \"type\": \"mesh3d\"}], \"parcoords\": [{\"line\": {\"colorbar\": {\"outlinewidth\": 0, \"ticks\": \"\"}}, \"type\": \"parcoords\"}], \"pie\": [{\"automargin\": true, \"type\": \"pie\"}], \"scatter\": [{\"marker\": {\"colorbar\": {\"outlinewidth\": 0, \"ticks\": \"\"}}, \"type\": \"scatter\"}], \"scatter3d\": [{\"line\": {\"colorbar\": {\"outlinewidth\": 0, \"ticks\": \"\"}}, \"marker\": {\"colorbar\": {\"outlinewidth\": 0, \"ticks\": \"\"}}, \"type\": \"scatter3d\"}], \"scattercarpet\": [{\"marker\": {\"colorbar\": {\"outlinewidth\": 0, \"ticks\": \"\"}}, \"type\": \"scattercarpet\"}], \"scattergeo\": [{\"marker\": {\"colorbar\": {\"outlinewidth\": 0, \"ticks\": \"\"}}, \"type\": \"scattergeo\"}], \"scattergl\": [{\"marker\": {\"colorbar\": {\"outlinewidth\": 0, \"ticks\": \"\"}}, \"type\": \"scattergl\"}], \"scattermapbox\": [{\"marker\": {\"colorbar\": {\"outlinewidth\": 0, \"ticks\": \"\"}}, \"type\": \"scattermapbox\"}], \"scatterpolar\": [{\"marker\": {\"colorbar\": {\"outlinewidth\": 0, \"ticks\": \"\"}}, \"type\": \"scatterpolar\"}], \"scatterpolargl\": [{\"marker\": {\"colorbar\": {\"outlinewidth\": 0, \"ticks\": \"\"}}, \"type\": \"scatterpolargl\"}], \"scatterternary\": [{\"marker\": {\"colorbar\": {\"outlinewidth\": 0, \"ticks\": \"\"}}, \"type\": \"scatterternary\"}], \"surface\": [{\"colorbar\": {\"outlinewidth\": 0, \"ticks\": \"\"}, \"colorscale\": [[0.0, \"#0d0887\"], [0.1111111111111111, \"#46039f\"], [0.2222222222222222, \"#7201a8\"], [0.3333333333333333, \"#9c179e\"], [0.4444444444444444, \"#bd3786\"], [0.5555555555555556, \"#d8576b\"], [0.6666666666666666, \"#ed7953\"], [0.7777777777777778, \"#fb9f3a\"], [0.8888888888888888, \"#fdca26\"], [1.0, \"#f0f921\"]], \"type\": \"surface\"}], \"table\": [{\"cells\": {\"fill\": {\"color\": \"#EBF0F8\"}, \"line\": {\"color\": \"white\"}}, \"header\": {\"fill\": {\"color\": \"#C8D4E3\"}, \"line\": {\"color\": \"white\"}}, \"type\": \"table\"}]}, \"layout\": {\"annotationdefaults\": {\"arrowcolor\": \"#2a3f5f\", \"arrowhead\": 0, \"arrowwidth\": 1}, \"coloraxis\": {\"colorbar\": {\"outlinewidth\": 0, \"ticks\": \"\"}}, \"colorscale\": {\"diverging\": [[0, \"#8e0152\"], [0.1, \"#c51b7d\"], [0.2, \"#de77ae\"], [0.3, \"#f1b6da\"], [0.4, \"#fde0ef\"], [0.5, \"#f7f7f7\"], [0.6, \"#e6f5d0\"], [0.7, \"#b8e186\"], [0.8, \"#7fbc41\"], [0.9, \"#4d9221\"], [1, \"#276419\"]], \"sequential\": [[0.0, \"#0d0887\"], [0.1111111111111111, \"#46039f\"], [0.2222222222222222, \"#7201a8\"], [0.3333333333333333, \"#9c179e\"], [0.4444444444444444, \"#bd3786\"], [0.5555555555555556, \"#d8576b\"], [0.6666666666666666, \"#ed7953\"], [0.7777777777777778, \"#fb9f3a\"], [0.8888888888888888, \"#fdca26\"], [1.0, \"#f0f921\"]], \"sequentialminus\": [[0.0, \"#0d0887\"], [0.1111111111111111, \"#46039f\"], [0.2222222222222222, \"#7201a8\"], [0.3333333333333333, \"#9c179e\"], [0.4444444444444444, \"#bd3786\"], [0.5555555555555556, \"#d8576b\"], [0.6666666666666666, \"#ed7953\"], [0.7777777777777778, \"#fb9f3a\"], [0.8888888888888888, \"#fdca26\"], [1.0, \"#f0f921\"]]}, \"colorway\": [\"#636efa\", \"#EF553B\", \"#00cc96\", \"#ab63fa\", \"#FFA15A\", \"#19d3f3\", \"#FF6692\", \"#B6E880\", \"#FF97FF\", \"#FECB52\"], \"font\": {\"color\": \"#2a3f5f\"}, \"geo\": {\"bgcolor\": \"white\", \"lakecolor\": \"white\", \"landcolor\": \"#E5ECF6\", \"showlakes\": true, \"showland\": true, \"subunitcolor\": \"white\"}, \"hoverlabel\": {\"align\": \"left\"}, \"hovermode\": \"closest\", \"mapbox\": {\"style\": \"light\"}, \"paper_bgcolor\": \"white\", \"plot_bgcolor\": \"#E5ECF6\", \"polar\": {\"angularaxis\": {\"gridcolor\": \"white\", \"linecolor\": \"white\", \"ticks\": \"\"}, \"bgcolor\": \"#E5ECF6\", \"radialaxis\": {\"gridcolor\": \"white\", \"linecolor\": \"white\", \"ticks\": \"\"}}, \"scene\": {\"xaxis\": {\"backgroundcolor\": \"#E5ECF6\", \"gridcolor\": \"white\", \"gridwidth\": 2, \"linecolor\": \"white\", \"showbackground\": true, \"ticks\": \"\", \"zerolinecolor\": \"white\"}, \"yaxis\": {\"backgroundcolor\": \"#E5ECF6\", \"gridcolor\": \"white\", \"gridwidth\": 2, \"linecolor\": \"white\", \"showbackground\": true, \"ticks\": \"\", \"zerolinecolor\": \"white\"}, \"zaxis\": {\"backgroundcolor\": \"#E5ECF6\", \"gridcolor\": \"white\", \"gridwidth\": 2, \"linecolor\": \"white\", \"showbackground\": true, \"ticks\": \"\", \"zerolinecolor\": \"white\"}}, \"shapedefaults\": {\"line\": {\"color\": \"#2a3f5f\"}}, \"ternary\": {\"aaxis\": {\"gridcolor\": \"white\", \"linecolor\": \"white\", \"ticks\": \"\"}, \"baxis\": {\"gridcolor\": \"white\", \"linecolor\": \"white\", \"ticks\": \"\"}, \"bgcolor\": \"#E5ECF6\", \"caxis\": {\"gridcolor\": \"white\", \"linecolor\": \"white\", \"ticks\": \"\"}}, \"title\": {\"x\": 0.05}, \"xaxis\": {\"automargin\": true, \"gridcolor\": \"white\", \"linecolor\": \"white\", \"ticks\": \"\", \"title\": {\"standoff\": 15}, \"zerolinecolor\": \"white\", \"zerolinewidth\": 2}, \"yaxis\": {\"automargin\": true, \"gridcolor\": \"white\", \"linecolor\": \"white\", \"ticks\": \"\", \"title\": {\"standoff\": 15}, \"zerolinecolor\": \"white\", \"zerolinewidth\": 2}}}, \"title\": {\"font\": {\"color\": \"#4D5663\"}}, \"xaxis\": {\"gridcolor\": \"#E1E5ED\", \"showgrid\": true, \"tickfont\": {\"color\": \"#4D5663\"}, \"title\": {\"font\": {\"color\": \"#4D5663\"}, \"text\": \"\"}, \"zerolinecolor\": \"#E1E5ED\"}, \"yaxis\": {\"gridcolor\": \"#E1E5ED\", \"showgrid\": true, \"tickfont\": {\"color\": \"#4D5663\"}, \"title\": {\"font\": {\"color\": \"#4D5663\"}, \"text\": \"\"}, \"zerolinecolor\": \"#E1E5ED\"}},\n",
       "                        {\"showLink\": true, \"linkText\": \"Export to plot.ly\", \"plotlyServerURL\": \"https://plot.ly\", \"responsive\": true}\n",
       "                    ).then(function(){\n",
       "                            \n",
       "var gd = document.getElementById('24117a72-3312-4043-bf63-3819762a0d17');\n",
       "var x = new MutationObserver(function (mutations, observer) {{\n",
       "        var display = window.getComputedStyle(gd).display;\n",
       "        if (!display || display === 'none') {{\n",
       "            console.log([gd, 'removed!']);\n",
       "            Plotly.purge(gd);\n",
       "            observer.disconnect();\n",
       "        }}\n",
       "}});\n",
       "\n",
       "// Listen for the removal of the full notebook cells\n",
       "var notebookContainer = gd.closest('#notebook-container');\n",
       "if (notebookContainer) {{\n",
       "    x.observe(notebookContainer, {childList: true});\n",
       "}}\n",
       "\n",
       "// Listen for the clearing of the current output cell\n",
       "var outputEl = gd.closest('.output');\n",
       "if (outputEl) {{\n",
       "    x.observe(outputEl, {childList: true});\n",
       "}}\n",
       "\n",
       "                        })\n",
       "                };\n",
       "                });\n",
       "            </script>\n",
       "        </div>"
      ]
     },
     "metadata": {},
     "output_type": "display_data"
    }
   ],
   "source": [
    "df.iplot(kind=\"surface\",colorscale=\"rdylbu\")"
   ]
  },
  {
   "cell_type": "code",
   "execution_count": 40,
   "metadata": {},
   "outputs": [
    {
     "data": {
      "application/vnd.plotly.v1+json": {
       "config": {
        "linkText": "Export to plot.ly",
        "plotlyServerURL": "https://plot.ly",
        "showLink": true
       },
       "data": [
        {
         "histfunc": "count",
         "histnorm": "",
         "marker": {
          "color": "rgba(255, 153, 51, 1.0)",
          "line": {
           "color": "#4D5663",
           "width": 1.3
          }
         },
         "name": "A",
         "nbinsx": 10,
         "opacity": 0.8,
         "orientation": "v",
         "type": "histogram",
         "x": [
          -0.01662130328228244,
          0.8952922062355154,
          0.08493791794765844,
          -0.09589135686355073,
          -0.4122201947502266,
          -0.20360574556365796,
          -1.3226112787089954,
          -0.7048337371978483,
          0.04150771300361059,
          -0.016184912767458252,
          -0.7836247979483332,
          -0.41697995913853403,
          -1.5145544317741388,
          -0.9872935372845854,
          2.8600594602810627,
          0.7879441726553916,
          -0.2813608872356518,
          -0.6513622033836487,
          -0.3833614492804819,
          0.16483281378445427,
          -2.1741767017157674,
          -1.6507999144342882,
          1.233849002951117,
          1.8853071817620293,
          -1.5954169238801832,
          -0.5522359603285474,
          -0.1776701185864922,
          -0.44322099515839536,
          1.0203828724791646,
          -0.746502813707562,
          -0.9880780584427672,
          -0.1989813172992508,
          1.028266715119139,
          0.9046343789939094,
          -0.24335430626921478,
          1.4808496271033058,
          1.183551097291823,
          0.7818177335952013,
          2.6317909237286803,
          -1.43255595184391,
          -0.5375396949804877,
          -0.9652461283114274,
          -0.37225584275459644,
          0.14086596179529387,
          2.1088529093442165,
          1.754446737290178,
          0.3204895796285177,
          0.5431393205854986,
          -0.26921450300987526,
          1.2276137248806802,
          2.18564194957632,
          -0.4189445878428453,
          -0.08003270330739348,
          0.8616685014005222,
          0.3204625049333791,
          -0.5444096849865591,
          1.4381126068067536,
          -1.5508518741330823,
          -1.7451055721182847,
          1.393700428608044,
          0.5528230108651216,
          -0.6354989243573955,
          0.5941962167234219,
          -1.498736192404156,
          1.2550871276452416,
          -0.8096320399507062,
          0.24176403155914405,
          0.4183631446701141,
          -1.7819580157798707,
          -0.587756797309145,
          -0.38795341821094526,
          0.07830346473682828,
          0.002456668961825936,
          1.9450473657318994,
          0.7258558214498236,
          -1.0099384838064072,
          0.28353464707170767,
          -1.0649028041957125,
          0.5771518242200254,
          0.8046577717798538,
          -0.10976143995602793,
          1.0417233039507987,
          -0.6800719626994939,
          -0.6139450381025275,
          0.46504150196282273,
          0.48002415552846633,
          -2.0624178821863004,
          1.4590453138925938,
          -0.06592069257443393,
          1.3037006920198502,
          -1.0417291996549434,
          -1.393953962398956,
          -0.09525476965697717,
          -0.11489070095885666,
          2.4005052823632567,
          -0.9318581112304919,
          0.941522431201813,
          0.19568237193128438,
          0.10374442540451675,
          -1.3981329572930432
         ]
        }
       ],
       "layout": {
        "barmode": "overlay",
        "legend": {
         "bgcolor": "#F5F6F9",
         "font": {
          "color": "#4D5663"
         }
        },
        "paper_bgcolor": "#F5F6F9",
        "plot_bgcolor": "#F5F6F9",
        "template": {
         "data": {
          "bar": [
           {
            "error_x": {
             "color": "#2a3f5f"
            },
            "error_y": {
             "color": "#2a3f5f"
            },
            "marker": {
             "line": {
              "color": "#E5ECF6",
              "width": 0.5
             }
            },
            "type": "bar"
           }
          ],
          "barpolar": [
           {
            "marker": {
             "line": {
              "color": "#E5ECF6",
              "width": 0.5
             }
            },
            "type": "barpolar"
           }
          ],
          "carpet": [
           {
            "aaxis": {
             "endlinecolor": "#2a3f5f",
             "gridcolor": "white",
             "linecolor": "white",
             "minorgridcolor": "white",
             "startlinecolor": "#2a3f5f"
            },
            "baxis": {
             "endlinecolor": "#2a3f5f",
             "gridcolor": "white",
             "linecolor": "white",
             "minorgridcolor": "white",
             "startlinecolor": "#2a3f5f"
            },
            "type": "carpet"
           }
          ],
          "choropleth": [
           {
            "colorbar": {
             "outlinewidth": 0,
             "ticks": ""
            },
            "type": "choropleth"
           }
          ],
          "contour": [
           {
            "colorbar": {
             "outlinewidth": 0,
             "ticks": ""
            },
            "colorscale": [
             [
              0,
              "#0d0887"
             ],
             [
              0.1111111111111111,
              "#46039f"
             ],
             [
              0.2222222222222222,
              "#7201a8"
             ],
             [
              0.3333333333333333,
              "#9c179e"
             ],
             [
              0.4444444444444444,
              "#bd3786"
             ],
             [
              0.5555555555555556,
              "#d8576b"
             ],
             [
              0.6666666666666666,
              "#ed7953"
             ],
             [
              0.7777777777777778,
              "#fb9f3a"
             ],
             [
              0.8888888888888888,
              "#fdca26"
             ],
             [
              1,
              "#f0f921"
             ]
            ],
            "type": "contour"
           }
          ],
          "contourcarpet": [
           {
            "colorbar": {
             "outlinewidth": 0,
             "ticks": ""
            },
            "type": "contourcarpet"
           }
          ],
          "heatmap": [
           {
            "colorbar": {
             "outlinewidth": 0,
             "ticks": ""
            },
            "colorscale": [
             [
              0,
              "#0d0887"
             ],
             [
              0.1111111111111111,
              "#46039f"
             ],
             [
              0.2222222222222222,
              "#7201a8"
             ],
             [
              0.3333333333333333,
              "#9c179e"
             ],
             [
              0.4444444444444444,
              "#bd3786"
             ],
             [
              0.5555555555555556,
              "#d8576b"
             ],
             [
              0.6666666666666666,
              "#ed7953"
             ],
             [
              0.7777777777777778,
              "#fb9f3a"
             ],
             [
              0.8888888888888888,
              "#fdca26"
             ],
             [
              1,
              "#f0f921"
             ]
            ],
            "type": "heatmap"
           }
          ],
          "heatmapgl": [
           {
            "colorbar": {
             "outlinewidth": 0,
             "ticks": ""
            },
            "colorscale": [
             [
              0,
              "#0d0887"
             ],
             [
              0.1111111111111111,
              "#46039f"
             ],
             [
              0.2222222222222222,
              "#7201a8"
             ],
             [
              0.3333333333333333,
              "#9c179e"
             ],
             [
              0.4444444444444444,
              "#bd3786"
             ],
             [
              0.5555555555555556,
              "#d8576b"
             ],
             [
              0.6666666666666666,
              "#ed7953"
             ],
             [
              0.7777777777777778,
              "#fb9f3a"
             ],
             [
              0.8888888888888888,
              "#fdca26"
             ],
             [
              1,
              "#f0f921"
             ]
            ],
            "type": "heatmapgl"
           }
          ],
          "histogram": [
           {
            "marker": {
             "colorbar": {
              "outlinewidth": 0,
              "ticks": ""
             }
            },
            "type": "histogram"
           }
          ],
          "histogram2d": [
           {
            "colorbar": {
             "outlinewidth": 0,
             "ticks": ""
            },
            "colorscale": [
             [
              0,
              "#0d0887"
             ],
             [
              0.1111111111111111,
              "#46039f"
             ],
             [
              0.2222222222222222,
              "#7201a8"
             ],
             [
              0.3333333333333333,
              "#9c179e"
             ],
             [
              0.4444444444444444,
              "#bd3786"
             ],
             [
              0.5555555555555556,
              "#d8576b"
             ],
             [
              0.6666666666666666,
              "#ed7953"
             ],
             [
              0.7777777777777778,
              "#fb9f3a"
             ],
             [
              0.8888888888888888,
              "#fdca26"
             ],
             [
              1,
              "#f0f921"
             ]
            ],
            "type": "histogram2d"
           }
          ],
          "histogram2dcontour": [
           {
            "colorbar": {
             "outlinewidth": 0,
             "ticks": ""
            },
            "colorscale": [
             [
              0,
              "#0d0887"
             ],
             [
              0.1111111111111111,
              "#46039f"
             ],
             [
              0.2222222222222222,
              "#7201a8"
             ],
             [
              0.3333333333333333,
              "#9c179e"
             ],
             [
              0.4444444444444444,
              "#bd3786"
             ],
             [
              0.5555555555555556,
              "#d8576b"
             ],
             [
              0.6666666666666666,
              "#ed7953"
             ],
             [
              0.7777777777777778,
              "#fb9f3a"
             ],
             [
              0.8888888888888888,
              "#fdca26"
             ],
             [
              1,
              "#f0f921"
             ]
            ],
            "type": "histogram2dcontour"
           }
          ],
          "mesh3d": [
           {
            "colorbar": {
             "outlinewidth": 0,
             "ticks": ""
            },
            "type": "mesh3d"
           }
          ],
          "parcoords": [
           {
            "line": {
             "colorbar": {
              "outlinewidth": 0,
              "ticks": ""
             }
            },
            "type": "parcoords"
           }
          ],
          "pie": [
           {
            "automargin": true,
            "type": "pie"
           }
          ],
          "scatter": [
           {
            "marker": {
             "colorbar": {
              "outlinewidth": 0,
              "ticks": ""
             }
            },
            "type": "scatter"
           }
          ],
          "scatter3d": [
           {
            "line": {
             "colorbar": {
              "outlinewidth": 0,
              "ticks": ""
             }
            },
            "marker": {
             "colorbar": {
              "outlinewidth": 0,
              "ticks": ""
             }
            },
            "type": "scatter3d"
           }
          ],
          "scattercarpet": [
           {
            "marker": {
             "colorbar": {
              "outlinewidth": 0,
              "ticks": ""
             }
            },
            "type": "scattercarpet"
           }
          ],
          "scattergeo": [
           {
            "marker": {
             "colorbar": {
              "outlinewidth": 0,
              "ticks": ""
             }
            },
            "type": "scattergeo"
           }
          ],
          "scattergl": [
           {
            "marker": {
             "colorbar": {
              "outlinewidth": 0,
              "ticks": ""
             }
            },
            "type": "scattergl"
           }
          ],
          "scattermapbox": [
           {
            "marker": {
             "colorbar": {
              "outlinewidth": 0,
              "ticks": ""
             }
            },
            "type": "scattermapbox"
           }
          ],
          "scatterpolar": [
           {
            "marker": {
             "colorbar": {
              "outlinewidth": 0,
              "ticks": ""
             }
            },
            "type": "scatterpolar"
           }
          ],
          "scatterpolargl": [
           {
            "marker": {
             "colorbar": {
              "outlinewidth": 0,
              "ticks": ""
             }
            },
            "type": "scatterpolargl"
           }
          ],
          "scatterternary": [
           {
            "marker": {
             "colorbar": {
              "outlinewidth": 0,
              "ticks": ""
             }
            },
            "type": "scatterternary"
           }
          ],
          "surface": [
           {
            "colorbar": {
             "outlinewidth": 0,
             "ticks": ""
            },
            "colorscale": [
             [
              0,
              "#0d0887"
             ],
             [
              0.1111111111111111,
              "#46039f"
             ],
             [
              0.2222222222222222,
              "#7201a8"
             ],
             [
              0.3333333333333333,
              "#9c179e"
             ],
             [
              0.4444444444444444,
              "#bd3786"
             ],
             [
              0.5555555555555556,
              "#d8576b"
             ],
             [
              0.6666666666666666,
              "#ed7953"
             ],
             [
              0.7777777777777778,
              "#fb9f3a"
             ],
             [
              0.8888888888888888,
              "#fdca26"
             ],
             [
              1,
              "#f0f921"
             ]
            ],
            "type": "surface"
           }
          ],
          "table": [
           {
            "cells": {
             "fill": {
              "color": "#EBF0F8"
             },
             "line": {
              "color": "white"
             }
            },
            "header": {
             "fill": {
              "color": "#C8D4E3"
             },
             "line": {
              "color": "white"
             }
            },
            "type": "table"
           }
          ]
         },
         "layout": {
          "annotationdefaults": {
           "arrowcolor": "#2a3f5f",
           "arrowhead": 0,
           "arrowwidth": 1
          },
          "coloraxis": {
           "colorbar": {
            "outlinewidth": 0,
            "ticks": ""
           }
          },
          "colorscale": {
           "diverging": [
            [
             0,
             "#8e0152"
            ],
            [
             0.1,
             "#c51b7d"
            ],
            [
             0.2,
             "#de77ae"
            ],
            [
             0.3,
             "#f1b6da"
            ],
            [
             0.4,
             "#fde0ef"
            ],
            [
             0.5,
             "#f7f7f7"
            ],
            [
             0.6,
             "#e6f5d0"
            ],
            [
             0.7,
             "#b8e186"
            ],
            [
             0.8,
             "#7fbc41"
            ],
            [
             0.9,
             "#4d9221"
            ],
            [
             1,
             "#276419"
            ]
           ],
           "sequential": [
            [
             0,
             "#0d0887"
            ],
            [
             0.1111111111111111,
             "#46039f"
            ],
            [
             0.2222222222222222,
             "#7201a8"
            ],
            [
             0.3333333333333333,
             "#9c179e"
            ],
            [
             0.4444444444444444,
             "#bd3786"
            ],
            [
             0.5555555555555556,
             "#d8576b"
            ],
            [
             0.6666666666666666,
             "#ed7953"
            ],
            [
             0.7777777777777778,
             "#fb9f3a"
            ],
            [
             0.8888888888888888,
             "#fdca26"
            ],
            [
             1,
             "#f0f921"
            ]
           ],
           "sequentialminus": [
            [
             0,
             "#0d0887"
            ],
            [
             0.1111111111111111,
             "#46039f"
            ],
            [
             0.2222222222222222,
             "#7201a8"
            ],
            [
             0.3333333333333333,
             "#9c179e"
            ],
            [
             0.4444444444444444,
             "#bd3786"
            ],
            [
             0.5555555555555556,
             "#d8576b"
            ],
            [
             0.6666666666666666,
             "#ed7953"
            ],
            [
             0.7777777777777778,
             "#fb9f3a"
            ],
            [
             0.8888888888888888,
             "#fdca26"
            ],
            [
             1,
             "#f0f921"
            ]
           ]
          },
          "colorway": [
           "#636efa",
           "#EF553B",
           "#00cc96",
           "#ab63fa",
           "#FFA15A",
           "#19d3f3",
           "#FF6692",
           "#B6E880",
           "#FF97FF",
           "#FECB52"
          ],
          "font": {
           "color": "#2a3f5f"
          },
          "geo": {
           "bgcolor": "white",
           "lakecolor": "white",
           "landcolor": "#E5ECF6",
           "showlakes": true,
           "showland": true,
           "subunitcolor": "white"
          },
          "hoverlabel": {
           "align": "left"
          },
          "hovermode": "closest",
          "mapbox": {
           "style": "light"
          },
          "paper_bgcolor": "white",
          "plot_bgcolor": "#E5ECF6",
          "polar": {
           "angularaxis": {
            "gridcolor": "white",
            "linecolor": "white",
            "ticks": ""
           },
           "bgcolor": "#E5ECF6",
           "radialaxis": {
            "gridcolor": "white",
            "linecolor": "white",
            "ticks": ""
           }
          },
          "scene": {
           "xaxis": {
            "backgroundcolor": "#E5ECF6",
            "gridcolor": "white",
            "gridwidth": 2,
            "linecolor": "white",
            "showbackground": true,
            "ticks": "",
            "zerolinecolor": "white"
           },
           "yaxis": {
            "backgroundcolor": "#E5ECF6",
            "gridcolor": "white",
            "gridwidth": 2,
            "linecolor": "white",
            "showbackground": true,
            "ticks": "",
            "zerolinecolor": "white"
           },
           "zaxis": {
            "backgroundcolor": "#E5ECF6",
            "gridcolor": "white",
            "gridwidth": 2,
            "linecolor": "white",
            "showbackground": true,
            "ticks": "",
            "zerolinecolor": "white"
           }
          },
          "shapedefaults": {
           "line": {
            "color": "#2a3f5f"
           }
          },
          "ternary": {
           "aaxis": {
            "gridcolor": "white",
            "linecolor": "white",
            "ticks": ""
           },
           "baxis": {
            "gridcolor": "white",
            "linecolor": "white",
            "ticks": ""
           },
           "bgcolor": "#E5ECF6",
           "caxis": {
            "gridcolor": "white",
            "linecolor": "white",
            "ticks": ""
           }
          },
          "title": {
           "x": 0.05
          },
          "xaxis": {
           "automargin": true,
           "gridcolor": "white",
           "linecolor": "white",
           "ticks": "",
           "title": {
            "standoff": 15
           },
           "zerolinecolor": "white",
           "zerolinewidth": 2
          },
          "yaxis": {
           "automargin": true,
           "gridcolor": "white",
           "linecolor": "white",
           "ticks": "",
           "title": {
            "standoff": 15
           },
           "zerolinecolor": "white",
           "zerolinewidth": 2
          }
         }
        },
        "title": {
         "font": {
          "color": "#4D5663"
         }
        },
        "xaxis": {
         "gridcolor": "#E1E5ED",
         "showgrid": true,
         "tickfont": {
          "color": "#4D5663"
         },
         "title": {
          "font": {
           "color": "#4D5663"
          },
          "text": ""
         },
         "zerolinecolor": "#E1E5ED"
        },
        "yaxis": {
         "gridcolor": "#E1E5ED",
         "showgrid": true,
         "tickfont": {
          "color": "#4D5663"
         },
         "title": {
          "font": {
           "color": "#4D5663"
          },
          "text": ""
         },
         "zerolinecolor": "#E1E5ED"
        }
       }
      },
      "text/html": [
       "<div>\n",
       "        \n",
       "        \n",
       "            <div id=\"d569cd7b-797a-4323-84a3-7e0ab56f59c3\" class=\"plotly-graph-div\" style=\"height:525px; width:100%;\"></div>\n",
       "            <script type=\"text/javascript\">\n",
       "                require([\"plotly\"], function(Plotly) {\n",
       "                    window.PLOTLYENV=window.PLOTLYENV || {};\n",
       "                    window.PLOTLYENV.BASE_URL='https://plot.ly';\n",
       "                    \n",
       "                if (document.getElementById(\"d569cd7b-797a-4323-84a3-7e0ab56f59c3\")) {\n",
       "                    Plotly.newPlot(\n",
       "                        'd569cd7b-797a-4323-84a3-7e0ab56f59c3',\n",
       "                        [{\"histfunc\": \"count\", \"histnorm\": \"\", \"marker\": {\"color\": \"rgba(255, 153, 51, 1.0)\", \"line\": {\"color\": \"#4D5663\", \"width\": 1.3}}, \"name\": \"A\", \"nbinsx\": 10, \"opacity\": 0.8, \"orientation\": \"v\", \"type\": \"histogram\", \"x\": [-0.01662130328228244, 0.8952922062355154, 0.08493791794765844, -0.09589135686355073, -0.4122201947502266, -0.20360574556365796, -1.3226112787089954, -0.7048337371978483, 0.04150771300361059, -0.016184912767458252, -0.7836247979483332, -0.41697995913853403, -1.5145544317741388, -0.9872935372845854, 2.8600594602810627, 0.7879441726553916, -0.2813608872356518, -0.6513622033836487, -0.3833614492804819, 0.16483281378445427, -2.1741767017157674, -1.6507999144342882, 1.233849002951117, 1.8853071817620293, -1.5954169238801832, -0.5522359603285474, -0.1776701185864922, -0.44322099515839536, 1.0203828724791646, -0.746502813707562, -0.9880780584427672, -0.1989813172992508, 1.028266715119139, 0.9046343789939094, -0.24335430626921478, 1.4808496271033058, 1.183551097291823, 0.7818177335952013, 2.6317909237286803, -1.43255595184391, -0.5375396949804877, -0.9652461283114274, -0.37225584275459644, 0.14086596179529387, 2.1088529093442165, 1.754446737290178, 0.3204895796285177, 0.5431393205854986, -0.26921450300987526, 1.2276137248806802, 2.18564194957632, -0.4189445878428453, -0.08003270330739348, 0.8616685014005222, 0.3204625049333791, -0.5444096849865591, 1.4381126068067536, -1.5508518741330823, -1.7451055721182847, 1.393700428608044, 0.5528230108651216, -0.6354989243573955, 0.5941962167234219, -1.498736192404156, 1.2550871276452416, -0.8096320399507062, 0.24176403155914405, 0.4183631446701141, -1.7819580157798707, -0.587756797309145, -0.38795341821094526, 0.07830346473682828, 0.002456668961825936, 1.9450473657318994, 0.7258558214498236, -1.0099384838064072, 0.28353464707170767, -1.0649028041957125, 0.5771518242200254, 0.8046577717798538, -0.10976143995602793, 1.0417233039507987, -0.6800719626994939, -0.6139450381025275, 0.46504150196282273, 0.48002415552846633, -2.0624178821863004, 1.4590453138925938, -0.06592069257443393, 1.3037006920198502, -1.0417291996549434, -1.393953962398956, -0.09525476965697717, -0.11489070095885666, 2.4005052823632567, -0.9318581112304919, 0.941522431201813, 0.19568237193128438, 0.10374442540451675, -1.3981329572930432]}],\n",
       "                        {\"barmode\": \"overlay\", \"legend\": {\"bgcolor\": \"#F5F6F9\", \"font\": {\"color\": \"#4D5663\"}}, \"paper_bgcolor\": \"#F5F6F9\", \"plot_bgcolor\": \"#F5F6F9\", \"template\": {\"data\": {\"bar\": [{\"error_x\": {\"color\": \"#2a3f5f\"}, \"error_y\": {\"color\": \"#2a3f5f\"}, \"marker\": {\"line\": {\"color\": \"#E5ECF6\", \"width\": 0.5}}, \"type\": \"bar\"}], \"barpolar\": [{\"marker\": {\"line\": {\"color\": \"#E5ECF6\", \"width\": 0.5}}, \"type\": \"barpolar\"}], \"carpet\": [{\"aaxis\": {\"endlinecolor\": \"#2a3f5f\", \"gridcolor\": \"white\", \"linecolor\": \"white\", \"minorgridcolor\": \"white\", \"startlinecolor\": \"#2a3f5f\"}, \"baxis\": {\"endlinecolor\": \"#2a3f5f\", \"gridcolor\": \"white\", \"linecolor\": \"white\", \"minorgridcolor\": \"white\", \"startlinecolor\": \"#2a3f5f\"}, \"type\": \"carpet\"}], \"choropleth\": [{\"colorbar\": {\"outlinewidth\": 0, \"ticks\": \"\"}, \"type\": \"choropleth\"}], \"contour\": [{\"colorbar\": {\"outlinewidth\": 0, \"ticks\": \"\"}, \"colorscale\": [[0.0, \"#0d0887\"], [0.1111111111111111, \"#46039f\"], [0.2222222222222222, \"#7201a8\"], [0.3333333333333333, \"#9c179e\"], [0.4444444444444444, \"#bd3786\"], [0.5555555555555556, \"#d8576b\"], [0.6666666666666666, \"#ed7953\"], [0.7777777777777778, \"#fb9f3a\"], [0.8888888888888888, \"#fdca26\"], [1.0, \"#f0f921\"]], \"type\": \"contour\"}], \"contourcarpet\": [{\"colorbar\": {\"outlinewidth\": 0, \"ticks\": \"\"}, \"type\": \"contourcarpet\"}], \"heatmap\": [{\"colorbar\": {\"outlinewidth\": 0, \"ticks\": \"\"}, \"colorscale\": [[0.0, \"#0d0887\"], [0.1111111111111111, \"#46039f\"], [0.2222222222222222, \"#7201a8\"], [0.3333333333333333, \"#9c179e\"], [0.4444444444444444, \"#bd3786\"], [0.5555555555555556, \"#d8576b\"], [0.6666666666666666, \"#ed7953\"], [0.7777777777777778, \"#fb9f3a\"], [0.8888888888888888, \"#fdca26\"], [1.0, \"#f0f921\"]], \"type\": \"heatmap\"}], \"heatmapgl\": [{\"colorbar\": {\"outlinewidth\": 0, \"ticks\": \"\"}, \"colorscale\": [[0.0, \"#0d0887\"], [0.1111111111111111, \"#46039f\"], [0.2222222222222222, \"#7201a8\"], [0.3333333333333333, \"#9c179e\"], [0.4444444444444444, \"#bd3786\"], [0.5555555555555556, \"#d8576b\"], [0.6666666666666666, \"#ed7953\"], [0.7777777777777778, \"#fb9f3a\"], [0.8888888888888888, \"#fdca26\"], [1.0, \"#f0f921\"]], \"type\": \"heatmapgl\"}], \"histogram\": [{\"marker\": {\"colorbar\": {\"outlinewidth\": 0, \"ticks\": \"\"}}, \"type\": \"histogram\"}], \"histogram2d\": [{\"colorbar\": {\"outlinewidth\": 0, \"ticks\": \"\"}, \"colorscale\": [[0.0, \"#0d0887\"], [0.1111111111111111, \"#46039f\"], [0.2222222222222222, \"#7201a8\"], [0.3333333333333333, \"#9c179e\"], [0.4444444444444444, \"#bd3786\"], [0.5555555555555556, \"#d8576b\"], [0.6666666666666666, \"#ed7953\"], [0.7777777777777778, \"#fb9f3a\"], [0.8888888888888888, \"#fdca26\"], [1.0, \"#f0f921\"]], \"type\": \"histogram2d\"}], \"histogram2dcontour\": [{\"colorbar\": {\"outlinewidth\": 0, \"ticks\": \"\"}, \"colorscale\": [[0.0, \"#0d0887\"], [0.1111111111111111, \"#46039f\"], [0.2222222222222222, \"#7201a8\"], [0.3333333333333333, \"#9c179e\"], [0.4444444444444444, \"#bd3786\"], [0.5555555555555556, \"#d8576b\"], [0.6666666666666666, \"#ed7953\"], [0.7777777777777778, \"#fb9f3a\"], [0.8888888888888888, \"#fdca26\"], [1.0, \"#f0f921\"]], \"type\": \"histogram2dcontour\"}], \"mesh3d\": [{\"colorbar\": {\"outlinewidth\": 0, \"ticks\": \"\"}, \"type\": \"mesh3d\"}], \"parcoords\": [{\"line\": {\"colorbar\": {\"outlinewidth\": 0, \"ticks\": \"\"}}, \"type\": \"parcoords\"}], \"pie\": [{\"automargin\": true, \"type\": \"pie\"}], \"scatter\": [{\"marker\": {\"colorbar\": {\"outlinewidth\": 0, \"ticks\": \"\"}}, \"type\": \"scatter\"}], \"scatter3d\": [{\"line\": {\"colorbar\": {\"outlinewidth\": 0, \"ticks\": \"\"}}, \"marker\": {\"colorbar\": {\"outlinewidth\": 0, \"ticks\": \"\"}}, \"type\": \"scatter3d\"}], \"scattercarpet\": [{\"marker\": {\"colorbar\": {\"outlinewidth\": 0, \"ticks\": \"\"}}, \"type\": \"scattercarpet\"}], \"scattergeo\": [{\"marker\": {\"colorbar\": {\"outlinewidth\": 0, \"ticks\": \"\"}}, \"type\": \"scattergeo\"}], \"scattergl\": [{\"marker\": {\"colorbar\": {\"outlinewidth\": 0, \"ticks\": \"\"}}, \"type\": \"scattergl\"}], \"scattermapbox\": [{\"marker\": {\"colorbar\": {\"outlinewidth\": 0, \"ticks\": \"\"}}, \"type\": \"scattermapbox\"}], \"scatterpolar\": [{\"marker\": {\"colorbar\": {\"outlinewidth\": 0, \"ticks\": \"\"}}, \"type\": \"scatterpolar\"}], \"scatterpolargl\": [{\"marker\": {\"colorbar\": {\"outlinewidth\": 0, \"ticks\": \"\"}}, \"type\": \"scatterpolargl\"}], \"scatterternary\": [{\"marker\": {\"colorbar\": {\"outlinewidth\": 0, \"ticks\": \"\"}}, \"type\": \"scatterternary\"}], \"surface\": [{\"colorbar\": {\"outlinewidth\": 0, \"ticks\": \"\"}, \"colorscale\": [[0.0, \"#0d0887\"], [0.1111111111111111, \"#46039f\"], [0.2222222222222222, \"#7201a8\"], [0.3333333333333333, \"#9c179e\"], [0.4444444444444444, \"#bd3786\"], [0.5555555555555556, \"#d8576b\"], [0.6666666666666666, \"#ed7953\"], [0.7777777777777778, \"#fb9f3a\"], [0.8888888888888888, \"#fdca26\"], [1.0, \"#f0f921\"]], \"type\": \"surface\"}], \"table\": [{\"cells\": {\"fill\": {\"color\": \"#EBF0F8\"}, \"line\": {\"color\": \"white\"}}, \"header\": {\"fill\": {\"color\": \"#C8D4E3\"}, \"line\": {\"color\": \"white\"}}, \"type\": \"table\"}]}, \"layout\": {\"annotationdefaults\": {\"arrowcolor\": \"#2a3f5f\", \"arrowhead\": 0, \"arrowwidth\": 1}, \"coloraxis\": {\"colorbar\": {\"outlinewidth\": 0, \"ticks\": \"\"}}, \"colorscale\": {\"diverging\": [[0, \"#8e0152\"], [0.1, \"#c51b7d\"], [0.2, \"#de77ae\"], [0.3, \"#f1b6da\"], [0.4, \"#fde0ef\"], [0.5, \"#f7f7f7\"], [0.6, \"#e6f5d0\"], [0.7, \"#b8e186\"], [0.8, \"#7fbc41\"], [0.9, \"#4d9221\"], [1, \"#276419\"]], \"sequential\": [[0.0, \"#0d0887\"], [0.1111111111111111, \"#46039f\"], [0.2222222222222222, \"#7201a8\"], [0.3333333333333333, \"#9c179e\"], [0.4444444444444444, \"#bd3786\"], [0.5555555555555556, \"#d8576b\"], [0.6666666666666666, \"#ed7953\"], [0.7777777777777778, \"#fb9f3a\"], [0.8888888888888888, \"#fdca26\"], [1.0, \"#f0f921\"]], \"sequentialminus\": [[0.0, \"#0d0887\"], [0.1111111111111111, \"#46039f\"], [0.2222222222222222, \"#7201a8\"], [0.3333333333333333, \"#9c179e\"], [0.4444444444444444, \"#bd3786\"], [0.5555555555555556, \"#d8576b\"], [0.6666666666666666, \"#ed7953\"], [0.7777777777777778, \"#fb9f3a\"], [0.8888888888888888, \"#fdca26\"], [1.0, \"#f0f921\"]]}, \"colorway\": [\"#636efa\", \"#EF553B\", \"#00cc96\", \"#ab63fa\", \"#FFA15A\", \"#19d3f3\", \"#FF6692\", \"#B6E880\", \"#FF97FF\", \"#FECB52\"], \"font\": {\"color\": \"#2a3f5f\"}, \"geo\": {\"bgcolor\": \"white\", \"lakecolor\": \"white\", \"landcolor\": \"#E5ECF6\", \"showlakes\": true, \"showland\": true, \"subunitcolor\": \"white\"}, \"hoverlabel\": {\"align\": \"left\"}, \"hovermode\": \"closest\", \"mapbox\": {\"style\": \"light\"}, \"paper_bgcolor\": \"white\", \"plot_bgcolor\": \"#E5ECF6\", \"polar\": {\"angularaxis\": {\"gridcolor\": \"white\", \"linecolor\": \"white\", \"ticks\": \"\"}, \"bgcolor\": \"#E5ECF6\", \"radialaxis\": {\"gridcolor\": \"white\", \"linecolor\": \"white\", \"ticks\": \"\"}}, \"scene\": {\"xaxis\": {\"backgroundcolor\": \"#E5ECF6\", \"gridcolor\": \"white\", \"gridwidth\": 2, \"linecolor\": \"white\", \"showbackground\": true, \"ticks\": \"\", \"zerolinecolor\": \"white\"}, \"yaxis\": {\"backgroundcolor\": \"#E5ECF6\", \"gridcolor\": \"white\", \"gridwidth\": 2, \"linecolor\": \"white\", \"showbackground\": true, \"ticks\": \"\", \"zerolinecolor\": \"white\"}, \"zaxis\": {\"backgroundcolor\": \"#E5ECF6\", \"gridcolor\": \"white\", \"gridwidth\": 2, \"linecolor\": \"white\", \"showbackground\": true, \"ticks\": \"\", \"zerolinecolor\": \"white\"}}, \"shapedefaults\": {\"line\": {\"color\": \"#2a3f5f\"}}, \"ternary\": {\"aaxis\": {\"gridcolor\": \"white\", \"linecolor\": \"white\", \"ticks\": \"\"}, \"baxis\": {\"gridcolor\": \"white\", \"linecolor\": \"white\", \"ticks\": \"\"}, \"bgcolor\": \"#E5ECF6\", \"caxis\": {\"gridcolor\": \"white\", \"linecolor\": \"white\", \"ticks\": \"\"}}, \"title\": {\"x\": 0.05}, \"xaxis\": {\"automargin\": true, \"gridcolor\": \"white\", \"linecolor\": \"white\", \"ticks\": \"\", \"title\": {\"standoff\": 15}, \"zerolinecolor\": \"white\", \"zerolinewidth\": 2}, \"yaxis\": {\"automargin\": true, \"gridcolor\": \"white\", \"linecolor\": \"white\", \"ticks\": \"\", \"title\": {\"standoff\": 15}, \"zerolinecolor\": \"white\", \"zerolinewidth\": 2}}}, \"title\": {\"font\": {\"color\": \"#4D5663\"}}, \"xaxis\": {\"gridcolor\": \"#E1E5ED\", \"showgrid\": true, \"tickfont\": {\"color\": \"#4D5663\"}, \"title\": {\"font\": {\"color\": \"#4D5663\"}, \"text\": \"\"}, \"zerolinecolor\": \"#E1E5ED\"}, \"yaxis\": {\"gridcolor\": \"#E1E5ED\", \"showgrid\": true, \"tickfont\": {\"color\": \"#4D5663\"}, \"title\": {\"font\": {\"color\": \"#4D5663\"}, \"text\": \"\"}, \"zerolinecolor\": \"#E1E5ED\"}},\n",
       "                        {\"showLink\": true, \"linkText\": \"Export to plot.ly\", \"plotlyServerURL\": \"https://plot.ly\", \"responsive\": true}\n",
       "                    ).then(function(){\n",
       "                            \n",
       "var gd = document.getElementById('d569cd7b-797a-4323-84a3-7e0ab56f59c3');\n",
       "var x = new MutationObserver(function (mutations, observer) {{\n",
       "        var display = window.getComputedStyle(gd).display;\n",
       "        if (!display || display === 'none') {{\n",
       "            console.log([gd, 'removed!']);\n",
       "            Plotly.purge(gd);\n",
       "            observer.disconnect();\n",
       "        }}\n",
       "}});\n",
       "\n",
       "// Listen for the removal of the full notebook cells\n",
       "var notebookContainer = gd.closest('#notebook-container');\n",
       "if (notebookContainer) {{\n",
       "    x.observe(notebookContainer, {childList: true});\n",
       "}}\n",
       "\n",
       "// Listen for the clearing of the current output cell\n",
       "var outputEl = gd.closest('.output');\n",
       "if (outputEl) {{\n",
       "    x.observe(outputEl, {childList: true});\n",
       "}}\n",
       "\n",
       "                        })\n",
       "                };\n",
       "                });\n",
       "            </script>\n",
       "        </div>"
      ]
     },
     "metadata": {},
     "output_type": "display_data"
    }
   ],
   "source": [
    "df['A'].iplot(kind=\"hist\",bins=10)"
   ]
  },
  {
   "cell_type": "code",
   "execution_count": 42,
   "metadata": {},
   "outputs": [
    {
     "name": "stderr",
     "output_type": "stream",
     "text": [
      "C:\\Users\\thoma\\Anaconda3\\lib\\site-packages\\cufflinks\\plotlytools.py:849: FutureWarning:\n",
      "\n",
      "The pandas.np module is deprecated and will be removed from pandas in a future version. Import numpy directly instead\n",
      "\n",
      "C:\\Users\\thoma\\Anaconda3\\lib\\site-packages\\cufflinks\\plotlytools.py:850: FutureWarning:\n",
      "\n",
      "The pandas.np module is deprecated and will be removed from pandas in a future version. Import numpy directly instead\n",
      "\n"
     ]
    },
    {
     "data": {
      "application/vnd.plotly.v1+json": {
       "config": {
        "linkText": "Export to plot.ly",
        "plotlyServerURL": "https://plot.ly",
        "showLink": true
       },
       "data": [
        {
         "line": {
          "color": "rgba(255, 153, 51, 1.0)",
          "dash": "solid",
          "shape": "linear",
          "width": 1.3
         },
         "mode": "lines",
         "name": "A",
         "text": "",
         "type": "scatter",
         "x": [
          0,
          1,
          2,
          3,
          4,
          5,
          6,
          7,
          8,
          9,
          10,
          11,
          12,
          13,
          14,
          15,
          16,
          17,
          18,
          19,
          20,
          21,
          22,
          23,
          24,
          25,
          26,
          27,
          28,
          29,
          30,
          31,
          32,
          33,
          34,
          35,
          36,
          37,
          38,
          39,
          40,
          41,
          42,
          43,
          44,
          45,
          46,
          47,
          48,
          49,
          50,
          51,
          52,
          53,
          54,
          55,
          56,
          57,
          58,
          59,
          60,
          61,
          62,
          63,
          64,
          65,
          66,
          67,
          68,
          69,
          70,
          71,
          72,
          73,
          74,
          75,
          76,
          77,
          78,
          79,
          80,
          81,
          82,
          83,
          84,
          85,
          86,
          87,
          88,
          89,
          90,
          91,
          92,
          93,
          94,
          95,
          96,
          97,
          98,
          99
         ],
         "y": [
          -0.01662130328228244,
          0.8952922062355154,
          0.08493791794765844,
          -0.09589135686355073,
          -0.4122201947502266,
          -0.20360574556365796,
          -1.3226112787089954,
          -0.7048337371978483,
          0.04150771300361059,
          -0.016184912767458252,
          -0.7836247979483332,
          -0.41697995913853403,
          -1.5145544317741388,
          -0.9872935372845854,
          2.8600594602810627,
          0.7879441726553916,
          -0.2813608872356518,
          -0.6513622033836487,
          -0.3833614492804819,
          0.16483281378445427,
          -2.1741767017157674,
          -1.6507999144342882,
          1.233849002951117,
          1.8853071817620293,
          -1.5954169238801832,
          -0.5522359603285474,
          -0.1776701185864922,
          -0.44322099515839536,
          1.0203828724791646,
          -0.746502813707562,
          -0.9880780584427672,
          -0.1989813172992508,
          1.028266715119139,
          0.9046343789939094,
          -0.24335430626921478,
          1.4808496271033058,
          1.183551097291823,
          0.7818177335952013,
          2.6317909237286803,
          -1.43255595184391,
          -0.5375396949804877,
          -0.9652461283114274,
          -0.37225584275459644,
          0.14086596179529387,
          2.1088529093442165,
          1.754446737290178,
          0.3204895796285177,
          0.5431393205854986,
          -0.26921450300987526,
          1.2276137248806802,
          2.18564194957632,
          -0.4189445878428453,
          -0.08003270330739348,
          0.8616685014005222,
          0.3204625049333791,
          -0.5444096849865591,
          1.4381126068067536,
          -1.5508518741330823,
          -1.7451055721182847,
          1.393700428608044,
          0.5528230108651216,
          -0.6354989243573955,
          0.5941962167234219,
          -1.498736192404156,
          1.2550871276452416,
          -0.8096320399507062,
          0.24176403155914405,
          0.4183631446701141,
          -1.7819580157798707,
          -0.587756797309145,
          -0.38795341821094526,
          0.07830346473682828,
          0.002456668961825936,
          1.9450473657318994,
          0.7258558214498236,
          -1.0099384838064072,
          0.28353464707170767,
          -1.0649028041957125,
          0.5771518242200254,
          0.8046577717798538,
          -0.10976143995602793,
          1.0417233039507987,
          -0.6800719626994939,
          -0.6139450381025275,
          0.46504150196282273,
          0.48002415552846633,
          -2.0624178821863004,
          1.4590453138925938,
          -0.06592069257443393,
          1.3037006920198502,
          -1.0417291996549434,
          -1.393953962398956,
          -0.09525476965697717,
          -0.11489070095885666,
          2.4005052823632567,
          -0.9318581112304919,
          0.941522431201813,
          0.19568237193128438,
          0.10374442540451675,
          -1.3981329572930432
         ]
        },
        {
         "line": {
          "color": "rgba(55, 128, 191, 1.0)",
          "dash": "solid",
          "shape": "linear",
          "width": 1.3
         },
         "mode": "lines",
         "name": "B",
         "text": "",
         "type": "scatter",
         "x": [
          0,
          1,
          2,
          3,
          4,
          5,
          6,
          7,
          8,
          9,
          10,
          11,
          12,
          13,
          14,
          15,
          16,
          17,
          18,
          19,
          20,
          21,
          22,
          23,
          24,
          25,
          26,
          27,
          28,
          29,
          30,
          31,
          32,
          33,
          34,
          35,
          36,
          37,
          38,
          39,
          40,
          41,
          42,
          43,
          44,
          45,
          46,
          47,
          48,
          49,
          50,
          51,
          52,
          53,
          54,
          55,
          56,
          57,
          58,
          59,
          60,
          61,
          62,
          63,
          64,
          65,
          66,
          67,
          68,
          69,
          70,
          71,
          72,
          73,
          74,
          75,
          76,
          77,
          78,
          79,
          80,
          81,
          82,
          83,
          84,
          85,
          86,
          87,
          88,
          89,
          90,
          91,
          92,
          93,
          94,
          95,
          96,
          97,
          98,
          99
         ],
         "y": [
          -0.43085692617183563,
          -0.1948859952808109,
          0.25661125162705656,
          -1.3086950885020459,
          0.8330382361581136,
          -0.6953289463874578,
          -0.041546759765450116,
          0.3766966051839097,
          -0.4106742584914722,
          -0.5017699496138679,
          0.011010566296178933,
          0.7150811983334743,
          0.8531750275133767,
          2.1930241736297655,
          0.6183354743888189,
          -0.2543897369151032,
          1.976789309709738,
          0.9045016370030701,
          0.6176953549838936,
          -0.4420620066123814,
          0.004259990892965676,
          -0.6890818854195719,
          0.1284746414788866,
          1.1565973705210073,
          -0.1669069048135824,
          0.9510917351310352,
          0.3776204353934389,
          -0.6104100303510119,
          0.8194742730220135,
          1.040708142451746,
          -0.8233687567505201,
          -1.1344997698956967,
          -0.2957474277602403,
          -0.6732382334575902,
          -0.20198607174310862,
          -0.5191193334283744,
          0.025830849269225062,
          -0.7336763065006728,
          1.2444882142572342,
          -1.4366617646017776,
          1.1881118540595137,
          0.954362185403333,
          -0.1636882464763225,
          0.2585056931294286,
          0.307000591264868,
          0.5053904332689658,
          1.371257331498223,
          0.8284466732128394,
          -1.6398779068387968,
          0.1312492505552544,
          -2.0782358481550904,
          -0.045307906304940145,
          0.16728844758876973,
          0.4199691612388556,
          0.5537924522559142,
          -0.472466174965874,
          -0.43842800336219834,
          -0.8086583687303776,
          -1.4472922254350542,
          1.5432229404089068,
          0.09327407639879354,
          -1.7151607168181384,
          0.31547264421701804,
          -0.6409782017093438,
          -0.5888934484654935,
          -0.2589297494469279,
          0.4095662405359321,
          -0.7827392201998249,
          0.8536261771615004,
          -0.13667988806894107,
          0.014275802400758018,
          0.2700521255686095,
          0.0713171499641922,
          -1.6360217944335709,
          1.1316472826520418,
          0.21966931057515063,
          -1.0415257873712767,
          -0.673080884585363,
          0.6417494538653378,
          -2.575256173392799,
          -1.301392718985718,
          -1.3280555679474806,
          -0.3988933059066309,
          -1.4320562115681523,
          -0.5208466357235377,
          0.6283326705144111,
          -0.4993914177816305,
          2.3803973130583707,
          -1.404107842111614,
          -0.05799211063099601,
          -1.1984196002600367,
          -0.14252971995716965,
          -0.3981381038453286,
          -0.3917743490224008,
          1.5356909803434518,
          0.5644974004458589,
          0.36323243100145386,
          0.5520098897203459,
          -0.6462900576233668,
          1.1144001381118762
         ]
        },
        {
         "connectgaps": false,
         "fill": "tozeroy",
         "line": {
          "color": "green",
          "dash": "solid",
          "shape": "linear",
          "width": 0.5
         },
         "mode": "lines",
         "name": "Spread",
         "showlegend": false,
         "type": "scatter",
         "x": [
          0,
          1,
          2,
          3,
          4,
          5,
          6,
          7,
          8,
          9,
          10,
          11,
          12,
          13,
          14,
          15,
          16,
          17,
          18,
          19,
          20,
          21,
          22,
          23,
          24,
          25,
          26,
          27,
          28,
          29,
          30,
          31,
          32,
          33,
          34,
          35,
          36,
          37,
          38,
          39,
          40,
          41,
          42,
          43,
          44,
          45,
          46,
          47,
          48,
          49,
          50,
          51,
          52,
          53,
          54,
          55,
          56,
          57,
          58,
          59,
          60,
          61,
          62,
          63,
          64,
          65,
          66,
          67,
          68,
          69,
          70,
          71,
          72,
          73,
          74,
          75,
          76,
          77,
          78,
          79,
          80,
          81,
          82,
          83,
          84,
          85,
          86,
          87,
          88,
          89,
          90,
          91,
          92,
          93,
          94,
          95,
          96,
          97,
          98,
          99
         ],
         "xaxis": "x2",
         "y": [
          0.4142356228895532,
          1.0901782015163264,
          "",
          1.2128037316384952,
          "",
          0.49172320082379983,
          "",
          "",
          0.4521819714950828,
          0.48558503684640963,
          "",
          "",
          "",
          "",
          2.2417239858922438,
          1.0423339095704949,
          "",
          "",
          "",
          0.6068948203968356,
          "",
          "",
          1.1053743614722304,
          0.728709811241022,
          "",
          "",
          "",
          0.16718903519261658,
          0.20090859945715112,
          "",
          "",
          0.9355184525964458,
          1.3240141428793792,
          1.5778726124514995,
          "",
          1.9999689605316802,
          1.157720248022598,
          1.515494040095874,
          1.387302709471446,
          0.0041058127578676995,
          "",
          "",
          "",
          "",
          1.8018523180793484,
          1.2490563040212121,
          "",
          "",
          1.3706634038289214,
          1.0963644743254257,
          4.263877797731411,
          "",
          "",
          0.4416993401616666,
          "",
          "",
          1.876540610168952,
          "",
          "",
          "",
          0.4595489344663281,
          1.079661792460743,
          0.2787235725064039,
          "",
          1.843980576110735,
          "",
          "",
          1.201102364869939,
          "",
          "",
          "",
          "",
          "",
          3.5810691601654705,
          "",
          "",
          1.3250604344429844,
          "",
          "",
          3.379913945172653,
          1.1916312790296901,
          2.369778871898279,
          "",
          0.8181111734656248,
          0.9858881376863604,
          "",
          "",
          "",
          1.33818714953718,
          1.3616928026508461,
          0.15669040060509332,
          "",
          0.30288333418835145,
          0.27688364806354415,
          0.8648143020198049,
          "",
          0.5782900002003591,
          "",
          0.7500344830278836,
          ""
         ],
         "yaxis": "y2"
        },
        {
         "connectgaps": false,
         "fill": "tozeroy",
         "line": {
          "color": "red",
          "dash": "solid",
          "shape": "linear",
          "width": 0.5
         },
         "mode": "lines",
         "name": "Spread",
         "showlegend": false,
         "type": "scatter",
         "x": [
          0,
          1,
          2,
          3,
          4,
          5,
          6,
          7,
          8,
          9,
          10,
          11,
          12,
          13,
          14,
          15,
          16,
          17,
          18,
          19,
          20,
          21,
          22,
          23,
          24,
          25,
          26,
          27,
          28,
          29,
          30,
          31,
          32,
          33,
          34,
          35,
          36,
          37,
          38,
          39,
          40,
          41,
          42,
          43,
          44,
          45,
          46,
          47,
          48,
          49,
          50,
          51,
          52,
          53,
          54,
          55,
          56,
          57,
          58,
          59,
          60,
          61,
          62,
          63,
          64,
          65,
          66,
          67,
          68,
          69,
          70,
          71,
          72,
          73,
          74,
          75,
          76,
          77,
          78,
          79,
          80,
          81,
          82,
          83,
          84,
          85,
          86,
          87,
          88,
          89,
          90,
          91,
          92,
          93,
          94,
          95,
          96,
          97,
          98,
          99
         ],
         "xaxis": "x2",
         "y": [
          "",
          "",
          -0.17167333367939813,
          "",
          -1.24525843090834,
          "",
          -1.2810645189435452,
          -1.081530342381758,
          "",
          "",
          -0.7946353642445121,
          -1.1320611574720083,
          -2.3677294592875153,
          -3.180317710914351,
          "",
          "",
          -2.25815019694539,
          -1.5558638403867189,
          -1.0010568042643755,
          "",
          -2.178436692608733,
          -0.9617180290147163,
          "",
          "",
          -1.428510019066601,
          -1.5033276954595824,
          -0.5552905539799311,
          "",
          "",
          -1.787210956159308,
          -0.16470930169224707,
          "",
          "",
          "",
          -0.04136823452610616,
          "",
          "",
          "",
          "",
          "",
          -1.7256515490400015,
          -1.9196083137147604,
          -0.20856759627827395,
          -0.11763973133413475,
          "",
          "",
          -1.0507677518697054,
          -0.28530735262734075,
          "",
          "",
          "",
          -0.37363668153790514,
          -0.24732115089616322,
          "",
          -0.23332994732253515,
          -0.07194351002068505,
          "",
          -0.7421935054027048,
          -0.29781334668323045,
          -0.14952251180086273,
          "",
          "",
          "",
          -0.8577579906948122,
          "",
          -0.5507022905037783,
          -0.16780220897678805,
          "",
          -2.635584192941371,
          -0.45107690924020394,
          -0.4022292206117033,
          -0.19174866083178124,
          -0.06886048100236626,
          "",
          -0.4057914612022182,
          -1.2296077943815578,
          "",
          -0.3918219196103495,
          -0.06459762964531235,
          "",
          "",
          "",
          -0.28117865679286297,
          "",
          "",
          -0.14830851498594477,
          -1.5630264644046699,
          -0.9213519991657768,
          "",
          "",
          "",
          -1.2514242424417865,
          "",
          "",
          "",
          -1.496355511676351,
          "",
          -0.3563275177890616,
          "",
          -2.5125330954049194
         ],
         "yaxis": "y2"
        }
       ],
       "layout": {
        "hovermode": "x",
        "legend": {
         "bgcolor": "#F5F6F9",
         "font": {
          "color": "#4D5663"
         }
        },
        "paper_bgcolor": "#F5F6F9",
        "plot_bgcolor": "#F5F6F9",
        "template": {
         "data": {
          "bar": [
           {
            "error_x": {
             "color": "#2a3f5f"
            },
            "error_y": {
             "color": "#2a3f5f"
            },
            "marker": {
             "line": {
              "color": "#E5ECF6",
              "width": 0.5
             }
            },
            "type": "bar"
           }
          ],
          "barpolar": [
           {
            "marker": {
             "line": {
              "color": "#E5ECF6",
              "width": 0.5
             }
            },
            "type": "barpolar"
           }
          ],
          "carpet": [
           {
            "aaxis": {
             "endlinecolor": "#2a3f5f",
             "gridcolor": "white",
             "linecolor": "white",
             "minorgridcolor": "white",
             "startlinecolor": "#2a3f5f"
            },
            "baxis": {
             "endlinecolor": "#2a3f5f",
             "gridcolor": "white",
             "linecolor": "white",
             "minorgridcolor": "white",
             "startlinecolor": "#2a3f5f"
            },
            "type": "carpet"
           }
          ],
          "choropleth": [
           {
            "colorbar": {
             "outlinewidth": 0,
             "ticks": ""
            },
            "type": "choropleth"
           }
          ],
          "contour": [
           {
            "colorbar": {
             "outlinewidth": 0,
             "ticks": ""
            },
            "colorscale": [
             [
              0,
              "#0d0887"
             ],
             [
              0.1111111111111111,
              "#46039f"
             ],
             [
              0.2222222222222222,
              "#7201a8"
             ],
             [
              0.3333333333333333,
              "#9c179e"
             ],
             [
              0.4444444444444444,
              "#bd3786"
             ],
             [
              0.5555555555555556,
              "#d8576b"
             ],
             [
              0.6666666666666666,
              "#ed7953"
             ],
             [
              0.7777777777777778,
              "#fb9f3a"
             ],
             [
              0.8888888888888888,
              "#fdca26"
             ],
             [
              1,
              "#f0f921"
             ]
            ],
            "type": "contour"
           }
          ],
          "contourcarpet": [
           {
            "colorbar": {
             "outlinewidth": 0,
             "ticks": ""
            },
            "type": "contourcarpet"
           }
          ],
          "heatmap": [
           {
            "colorbar": {
             "outlinewidth": 0,
             "ticks": ""
            },
            "colorscale": [
             [
              0,
              "#0d0887"
             ],
             [
              0.1111111111111111,
              "#46039f"
             ],
             [
              0.2222222222222222,
              "#7201a8"
             ],
             [
              0.3333333333333333,
              "#9c179e"
             ],
             [
              0.4444444444444444,
              "#bd3786"
             ],
             [
              0.5555555555555556,
              "#d8576b"
             ],
             [
              0.6666666666666666,
              "#ed7953"
             ],
             [
              0.7777777777777778,
              "#fb9f3a"
             ],
             [
              0.8888888888888888,
              "#fdca26"
             ],
             [
              1,
              "#f0f921"
             ]
            ],
            "type": "heatmap"
           }
          ],
          "heatmapgl": [
           {
            "colorbar": {
             "outlinewidth": 0,
             "ticks": ""
            },
            "colorscale": [
             [
              0,
              "#0d0887"
             ],
             [
              0.1111111111111111,
              "#46039f"
             ],
             [
              0.2222222222222222,
              "#7201a8"
             ],
             [
              0.3333333333333333,
              "#9c179e"
             ],
             [
              0.4444444444444444,
              "#bd3786"
             ],
             [
              0.5555555555555556,
              "#d8576b"
             ],
             [
              0.6666666666666666,
              "#ed7953"
             ],
             [
              0.7777777777777778,
              "#fb9f3a"
             ],
             [
              0.8888888888888888,
              "#fdca26"
             ],
             [
              1,
              "#f0f921"
             ]
            ],
            "type": "heatmapgl"
           }
          ],
          "histogram": [
           {
            "marker": {
             "colorbar": {
              "outlinewidth": 0,
              "ticks": ""
             }
            },
            "type": "histogram"
           }
          ],
          "histogram2d": [
           {
            "colorbar": {
             "outlinewidth": 0,
             "ticks": ""
            },
            "colorscale": [
             [
              0,
              "#0d0887"
             ],
             [
              0.1111111111111111,
              "#46039f"
             ],
             [
              0.2222222222222222,
              "#7201a8"
             ],
             [
              0.3333333333333333,
              "#9c179e"
             ],
             [
              0.4444444444444444,
              "#bd3786"
             ],
             [
              0.5555555555555556,
              "#d8576b"
             ],
             [
              0.6666666666666666,
              "#ed7953"
             ],
             [
              0.7777777777777778,
              "#fb9f3a"
             ],
             [
              0.8888888888888888,
              "#fdca26"
             ],
             [
              1,
              "#f0f921"
             ]
            ],
            "type": "histogram2d"
           }
          ],
          "histogram2dcontour": [
           {
            "colorbar": {
             "outlinewidth": 0,
             "ticks": ""
            },
            "colorscale": [
             [
              0,
              "#0d0887"
             ],
             [
              0.1111111111111111,
              "#46039f"
             ],
             [
              0.2222222222222222,
              "#7201a8"
             ],
             [
              0.3333333333333333,
              "#9c179e"
             ],
             [
              0.4444444444444444,
              "#bd3786"
             ],
             [
              0.5555555555555556,
              "#d8576b"
             ],
             [
              0.6666666666666666,
              "#ed7953"
             ],
             [
              0.7777777777777778,
              "#fb9f3a"
             ],
             [
              0.8888888888888888,
              "#fdca26"
             ],
             [
              1,
              "#f0f921"
             ]
            ],
            "type": "histogram2dcontour"
           }
          ],
          "mesh3d": [
           {
            "colorbar": {
             "outlinewidth": 0,
             "ticks": ""
            },
            "type": "mesh3d"
           }
          ],
          "parcoords": [
           {
            "line": {
             "colorbar": {
              "outlinewidth": 0,
              "ticks": ""
             }
            },
            "type": "parcoords"
           }
          ],
          "pie": [
           {
            "automargin": true,
            "type": "pie"
           }
          ],
          "scatter": [
           {
            "marker": {
             "colorbar": {
              "outlinewidth": 0,
              "ticks": ""
             }
            },
            "type": "scatter"
           }
          ],
          "scatter3d": [
           {
            "line": {
             "colorbar": {
              "outlinewidth": 0,
              "ticks": ""
             }
            },
            "marker": {
             "colorbar": {
              "outlinewidth": 0,
              "ticks": ""
             }
            },
            "type": "scatter3d"
           }
          ],
          "scattercarpet": [
           {
            "marker": {
             "colorbar": {
              "outlinewidth": 0,
              "ticks": ""
             }
            },
            "type": "scattercarpet"
           }
          ],
          "scattergeo": [
           {
            "marker": {
             "colorbar": {
              "outlinewidth": 0,
              "ticks": ""
             }
            },
            "type": "scattergeo"
           }
          ],
          "scattergl": [
           {
            "marker": {
             "colorbar": {
              "outlinewidth": 0,
              "ticks": ""
             }
            },
            "type": "scattergl"
           }
          ],
          "scattermapbox": [
           {
            "marker": {
             "colorbar": {
              "outlinewidth": 0,
              "ticks": ""
             }
            },
            "type": "scattermapbox"
           }
          ],
          "scatterpolar": [
           {
            "marker": {
             "colorbar": {
              "outlinewidth": 0,
              "ticks": ""
             }
            },
            "type": "scatterpolar"
           }
          ],
          "scatterpolargl": [
           {
            "marker": {
             "colorbar": {
              "outlinewidth": 0,
              "ticks": ""
             }
            },
            "type": "scatterpolargl"
           }
          ],
          "scatterternary": [
           {
            "marker": {
             "colorbar": {
              "outlinewidth": 0,
              "ticks": ""
             }
            },
            "type": "scatterternary"
           }
          ],
          "surface": [
           {
            "colorbar": {
             "outlinewidth": 0,
             "ticks": ""
            },
            "colorscale": [
             [
              0,
              "#0d0887"
             ],
             [
              0.1111111111111111,
              "#46039f"
             ],
             [
              0.2222222222222222,
              "#7201a8"
             ],
             [
              0.3333333333333333,
              "#9c179e"
             ],
             [
              0.4444444444444444,
              "#bd3786"
             ],
             [
              0.5555555555555556,
              "#d8576b"
             ],
             [
              0.6666666666666666,
              "#ed7953"
             ],
             [
              0.7777777777777778,
              "#fb9f3a"
             ],
             [
              0.8888888888888888,
              "#fdca26"
             ],
             [
              1,
              "#f0f921"
             ]
            ],
            "type": "surface"
           }
          ],
          "table": [
           {
            "cells": {
             "fill": {
              "color": "#EBF0F8"
             },
             "line": {
              "color": "white"
             }
            },
            "header": {
             "fill": {
              "color": "#C8D4E3"
             },
             "line": {
              "color": "white"
             }
            },
            "type": "table"
           }
          ]
         },
         "layout": {
          "annotationdefaults": {
           "arrowcolor": "#2a3f5f",
           "arrowhead": 0,
           "arrowwidth": 1
          },
          "coloraxis": {
           "colorbar": {
            "outlinewidth": 0,
            "ticks": ""
           }
          },
          "colorscale": {
           "diverging": [
            [
             0,
             "#8e0152"
            ],
            [
             0.1,
             "#c51b7d"
            ],
            [
             0.2,
             "#de77ae"
            ],
            [
             0.3,
             "#f1b6da"
            ],
            [
             0.4,
             "#fde0ef"
            ],
            [
             0.5,
             "#f7f7f7"
            ],
            [
             0.6,
             "#e6f5d0"
            ],
            [
             0.7,
             "#b8e186"
            ],
            [
             0.8,
             "#7fbc41"
            ],
            [
             0.9,
             "#4d9221"
            ],
            [
             1,
             "#276419"
            ]
           ],
           "sequential": [
            [
             0,
             "#0d0887"
            ],
            [
             0.1111111111111111,
             "#46039f"
            ],
            [
             0.2222222222222222,
             "#7201a8"
            ],
            [
             0.3333333333333333,
             "#9c179e"
            ],
            [
             0.4444444444444444,
             "#bd3786"
            ],
            [
             0.5555555555555556,
             "#d8576b"
            ],
            [
             0.6666666666666666,
             "#ed7953"
            ],
            [
             0.7777777777777778,
             "#fb9f3a"
            ],
            [
             0.8888888888888888,
             "#fdca26"
            ],
            [
             1,
             "#f0f921"
            ]
           ],
           "sequentialminus": [
            [
             0,
             "#0d0887"
            ],
            [
             0.1111111111111111,
             "#46039f"
            ],
            [
             0.2222222222222222,
             "#7201a8"
            ],
            [
             0.3333333333333333,
             "#9c179e"
            ],
            [
             0.4444444444444444,
             "#bd3786"
            ],
            [
             0.5555555555555556,
             "#d8576b"
            ],
            [
             0.6666666666666666,
             "#ed7953"
            ],
            [
             0.7777777777777778,
             "#fb9f3a"
            ],
            [
             0.8888888888888888,
             "#fdca26"
            ],
            [
             1,
             "#f0f921"
            ]
           ]
          },
          "colorway": [
           "#636efa",
           "#EF553B",
           "#00cc96",
           "#ab63fa",
           "#FFA15A",
           "#19d3f3",
           "#FF6692",
           "#B6E880",
           "#FF97FF",
           "#FECB52"
          ],
          "font": {
           "color": "#2a3f5f"
          },
          "geo": {
           "bgcolor": "white",
           "lakecolor": "white",
           "landcolor": "#E5ECF6",
           "showlakes": true,
           "showland": true,
           "subunitcolor": "white"
          },
          "hoverlabel": {
           "align": "left"
          },
          "hovermode": "closest",
          "mapbox": {
           "style": "light"
          },
          "paper_bgcolor": "white",
          "plot_bgcolor": "#E5ECF6",
          "polar": {
           "angularaxis": {
            "gridcolor": "white",
            "linecolor": "white",
            "ticks": ""
           },
           "bgcolor": "#E5ECF6",
           "radialaxis": {
            "gridcolor": "white",
            "linecolor": "white",
            "ticks": ""
           }
          },
          "scene": {
           "xaxis": {
            "backgroundcolor": "#E5ECF6",
            "gridcolor": "white",
            "gridwidth": 2,
            "linecolor": "white",
            "showbackground": true,
            "ticks": "",
            "zerolinecolor": "white"
           },
           "yaxis": {
            "backgroundcolor": "#E5ECF6",
            "gridcolor": "white",
            "gridwidth": 2,
            "linecolor": "white",
            "showbackground": true,
            "ticks": "",
            "zerolinecolor": "white"
           },
           "zaxis": {
            "backgroundcolor": "#E5ECF6",
            "gridcolor": "white",
            "gridwidth": 2,
            "linecolor": "white",
            "showbackground": true,
            "ticks": "",
            "zerolinecolor": "white"
           }
          },
          "shapedefaults": {
           "line": {
            "color": "#2a3f5f"
           }
          },
          "ternary": {
           "aaxis": {
            "gridcolor": "white",
            "linecolor": "white",
            "ticks": ""
           },
           "baxis": {
            "gridcolor": "white",
            "linecolor": "white",
            "ticks": ""
           },
           "bgcolor": "#E5ECF6",
           "caxis": {
            "gridcolor": "white",
            "linecolor": "white",
            "ticks": ""
           }
          },
          "title": {
           "x": 0.05
          },
          "xaxis": {
           "automargin": true,
           "gridcolor": "white",
           "linecolor": "white",
           "ticks": "",
           "title": {
            "standoff": 15
           },
           "zerolinecolor": "white",
           "zerolinewidth": 2
          },
          "yaxis": {
           "automargin": true,
           "gridcolor": "white",
           "linecolor": "white",
           "ticks": "",
           "title": {
            "standoff": 15
           },
           "zerolinecolor": "white",
           "zerolinewidth": 2
          }
         }
        },
        "title": {
         "font": {
          "color": "#4D5663"
         }
        },
        "xaxis": {
         "gridcolor": "#E1E5ED",
         "showgrid": true,
         "tickfont": {
          "color": "#4D5663"
         },
         "title": {
          "font": {
           "color": "#4D5663"
          },
          "text": ""
         },
         "zerolinecolor": "#E1E5ED"
        },
        "xaxis2": {
         "anchor": "y2",
         "gridcolor": "#E1E5ED",
         "showgrid": true,
         "showticklabels": false,
         "tickfont": {
          "color": "#4D5663"
         },
         "title": {
          "font": {
           "color": "#4D5663"
          },
          "text": ""
         },
         "zerolinecolor": "#E1E5ED"
        },
        "yaxis": {
         "domain": [
          0.3,
          1
         ],
         "gridcolor": "#E1E5ED",
         "showgrid": true,
         "tickfont": {
          "color": "#4D5663"
         },
         "title": {
          "font": {
           "color": "#4D5663"
          },
          "text": ""
         },
         "zerolinecolor": "#E1E5ED"
        },
        "yaxis2": {
         "domain": [
          0,
          0.25
         ],
         "gridcolor": "#E1E5ED",
         "showgrid": true,
         "tickfont": {
          "color": "#4D5663"
         },
         "title": {
          "font": {
           "color": "#4D5663"
          },
          "text": "Spread"
         },
         "zerolinecolor": "#E1E5ED"
        }
       }
      },
      "text/html": [
       "<div>\n",
       "        \n",
       "        \n",
       "            <div id=\"1fd85f85-70e3-45bf-845d-cadac6c1d835\" class=\"plotly-graph-div\" style=\"height:525px; width:100%;\"></div>\n",
       "            <script type=\"text/javascript\">\n",
       "                require([\"plotly\"], function(Plotly) {\n",
       "                    window.PLOTLYENV=window.PLOTLYENV || {};\n",
       "                    window.PLOTLYENV.BASE_URL='https://plot.ly';\n",
       "                    \n",
       "                if (document.getElementById(\"1fd85f85-70e3-45bf-845d-cadac6c1d835\")) {\n",
       "                    Plotly.newPlot(\n",
       "                        '1fd85f85-70e3-45bf-845d-cadac6c1d835',\n",
       "                        [{\"line\": {\"color\": \"rgba(255, 153, 51, 1.0)\", \"dash\": \"solid\", \"shape\": \"linear\", \"width\": 1.3}, \"mode\": \"lines\", \"name\": \"A\", \"text\": \"\", \"type\": \"scatter\", \"x\": [0, 1, 2, 3, 4, 5, 6, 7, 8, 9, 10, 11, 12, 13, 14, 15, 16, 17, 18, 19, 20, 21, 22, 23, 24, 25, 26, 27, 28, 29, 30, 31, 32, 33, 34, 35, 36, 37, 38, 39, 40, 41, 42, 43, 44, 45, 46, 47, 48, 49, 50, 51, 52, 53, 54, 55, 56, 57, 58, 59, 60, 61, 62, 63, 64, 65, 66, 67, 68, 69, 70, 71, 72, 73, 74, 75, 76, 77, 78, 79, 80, 81, 82, 83, 84, 85, 86, 87, 88, 89, 90, 91, 92, 93, 94, 95, 96, 97, 98, 99], \"y\": [-0.01662130328228244, 0.8952922062355154, 0.08493791794765844, -0.09589135686355073, -0.4122201947502266, -0.20360574556365796, -1.3226112787089954, -0.7048337371978483, 0.04150771300361059, -0.016184912767458252, -0.7836247979483332, -0.41697995913853403, -1.5145544317741388, -0.9872935372845854, 2.8600594602810627, 0.7879441726553916, -0.2813608872356518, -0.6513622033836487, -0.3833614492804819, 0.16483281378445427, -2.1741767017157674, -1.6507999144342882, 1.233849002951117, 1.8853071817620293, -1.5954169238801832, -0.5522359603285474, -0.1776701185864922, -0.44322099515839536, 1.0203828724791646, -0.746502813707562, -0.9880780584427672, -0.1989813172992508, 1.028266715119139, 0.9046343789939094, -0.24335430626921478, 1.4808496271033058, 1.183551097291823, 0.7818177335952013, 2.6317909237286803, -1.43255595184391, -0.5375396949804877, -0.9652461283114274, -0.37225584275459644, 0.14086596179529387, 2.1088529093442165, 1.754446737290178, 0.3204895796285177, 0.5431393205854986, -0.26921450300987526, 1.2276137248806802, 2.18564194957632, -0.4189445878428453, -0.08003270330739348, 0.8616685014005222, 0.3204625049333791, -0.5444096849865591, 1.4381126068067536, -1.5508518741330823, -1.7451055721182847, 1.393700428608044, 0.5528230108651216, -0.6354989243573955, 0.5941962167234219, -1.498736192404156, 1.2550871276452416, -0.8096320399507062, 0.24176403155914405, 0.4183631446701141, -1.7819580157798707, -0.587756797309145, -0.38795341821094526, 0.07830346473682828, 0.002456668961825936, 1.9450473657318994, 0.7258558214498236, -1.0099384838064072, 0.28353464707170767, -1.0649028041957125, 0.5771518242200254, 0.8046577717798538, -0.10976143995602793, 1.0417233039507987, -0.6800719626994939, -0.6139450381025275, 0.46504150196282273, 0.48002415552846633, -2.0624178821863004, 1.4590453138925938, -0.06592069257443393, 1.3037006920198502, -1.0417291996549434, -1.393953962398956, -0.09525476965697717, -0.11489070095885666, 2.4005052823632567, -0.9318581112304919, 0.941522431201813, 0.19568237193128438, 0.10374442540451675, -1.3981329572930432]}, {\"line\": {\"color\": \"rgba(55, 128, 191, 1.0)\", \"dash\": \"solid\", \"shape\": \"linear\", \"width\": 1.3}, \"mode\": \"lines\", \"name\": \"B\", \"text\": \"\", \"type\": \"scatter\", \"x\": [0, 1, 2, 3, 4, 5, 6, 7, 8, 9, 10, 11, 12, 13, 14, 15, 16, 17, 18, 19, 20, 21, 22, 23, 24, 25, 26, 27, 28, 29, 30, 31, 32, 33, 34, 35, 36, 37, 38, 39, 40, 41, 42, 43, 44, 45, 46, 47, 48, 49, 50, 51, 52, 53, 54, 55, 56, 57, 58, 59, 60, 61, 62, 63, 64, 65, 66, 67, 68, 69, 70, 71, 72, 73, 74, 75, 76, 77, 78, 79, 80, 81, 82, 83, 84, 85, 86, 87, 88, 89, 90, 91, 92, 93, 94, 95, 96, 97, 98, 99], \"y\": [-0.43085692617183563, -0.1948859952808109, 0.25661125162705656, -1.3086950885020459, 0.8330382361581136, -0.6953289463874578, -0.041546759765450116, 0.3766966051839097, -0.4106742584914722, -0.5017699496138679, 0.011010566296178933, 0.7150811983334743, 0.8531750275133767, 2.1930241736297655, 0.6183354743888189, -0.2543897369151032, 1.976789309709738, 0.9045016370030701, 0.6176953549838936, -0.4420620066123814, 0.004259990892965676, -0.6890818854195719, 0.1284746414788866, 1.1565973705210073, -0.1669069048135824, 0.9510917351310352, 0.3776204353934389, -0.6104100303510119, 0.8194742730220135, 1.040708142451746, -0.8233687567505201, -1.1344997698956967, -0.2957474277602403, -0.6732382334575902, -0.20198607174310862, -0.5191193334283744, 0.025830849269225062, -0.7336763065006728, 1.2444882142572342, -1.4366617646017776, 1.1881118540595137, 0.954362185403333, -0.1636882464763225, 0.2585056931294286, 0.307000591264868, 0.5053904332689658, 1.371257331498223, 0.8284466732128394, -1.6398779068387968, 0.1312492505552544, -2.0782358481550904, -0.045307906304940145, 0.16728844758876973, 0.4199691612388556, 0.5537924522559142, -0.472466174965874, -0.43842800336219834, -0.8086583687303776, -1.4472922254350542, 1.5432229404089068, 0.09327407639879354, -1.7151607168181384, 0.31547264421701804, -0.6409782017093438, -0.5888934484654935, -0.2589297494469279, 0.4095662405359321, -0.7827392201998249, 0.8536261771615004, -0.13667988806894107, 0.014275802400758018, 0.2700521255686095, 0.0713171499641922, -1.6360217944335709, 1.1316472826520418, 0.21966931057515063, -1.0415257873712767, -0.673080884585363, 0.6417494538653378, -2.575256173392799, -1.301392718985718, -1.3280555679474806, -0.3988933059066309, -1.4320562115681523, -0.5208466357235377, 0.6283326705144111, -0.4993914177816305, 2.3803973130583707, -1.404107842111614, -0.05799211063099601, -1.1984196002600367, -0.14252971995716965, -0.3981381038453286, -0.3917743490224008, 1.5356909803434518, 0.5644974004458589, 0.36323243100145386, 0.5520098897203459, -0.6462900576233668, 1.1144001381118762]}, {\"connectgaps\": false, \"fill\": \"tozeroy\", \"line\": {\"color\": \"green\", \"dash\": \"solid\", \"shape\": \"linear\", \"width\": 0.5}, \"mode\": \"lines\", \"name\": \"Spread\", \"showlegend\": false, \"type\": \"scatter\", \"x\": [0, 1, 2, 3, 4, 5, 6, 7, 8, 9, 10, 11, 12, 13, 14, 15, 16, 17, 18, 19, 20, 21, 22, 23, 24, 25, 26, 27, 28, 29, 30, 31, 32, 33, 34, 35, 36, 37, 38, 39, 40, 41, 42, 43, 44, 45, 46, 47, 48, 49, 50, 51, 52, 53, 54, 55, 56, 57, 58, 59, 60, 61, 62, 63, 64, 65, 66, 67, 68, 69, 70, 71, 72, 73, 74, 75, 76, 77, 78, 79, 80, 81, 82, 83, 84, 85, 86, 87, 88, 89, 90, 91, 92, 93, 94, 95, 96, 97, 98, 99], \"xaxis\": \"x2\", \"y\": [0.4142356228895532, 1.0901782015163264, \"\", 1.2128037316384952, \"\", 0.49172320082379983, \"\", \"\", 0.4521819714950828, 0.48558503684640963, \"\", \"\", \"\", \"\", 2.2417239858922438, 1.0423339095704949, \"\", \"\", \"\", 0.6068948203968356, \"\", \"\", 1.1053743614722304, 0.728709811241022, \"\", \"\", \"\", 0.16718903519261658, 0.20090859945715112, \"\", \"\", 0.9355184525964458, 1.3240141428793792, 1.5778726124514995, \"\", 1.9999689605316802, 1.157720248022598, 1.515494040095874, 1.387302709471446, 0.0041058127578676995, \"\", \"\", \"\", \"\", 1.8018523180793484, 1.2490563040212121, \"\", \"\", 1.3706634038289214, 1.0963644743254257, 4.263877797731411, \"\", \"\", 0.4416993401616666, \"\", \"\", 1.876540610168952, \"\", \"\", \"\", 0.4595489344663281, 1.079661792460743, 0.2787235725064039, \"\", 1.843980576110735, \"\", \"\", 1.201102364869939, \"\", \"\", \"\", \"\", \"\", 3.5810691601654705, \"\", \"\", 1.3250604344429844, \"\", \"\", 3.379913945172653, 1.1916312790296901, 2.369778871898279, \"\", 0.8181111734656248, 0.9858881376863604, \"\", \"\", \"\", 1.33818714953718, 1.3616928026508461, 0.15669040060509332, \"\", 0.30288333418835145, 0.27688364806354415, 0.8648143020198049, \"\", 0.5782900002003591, \"\", 0.7500344830278836, \"\"], \"yaxis\": \"y2\"}, {\"connectgaps\": false, \"fill\": \"tozeroy\", \"line\": {\"color\": \"red\", \"dash\": \"solid\", \"shape\": \"linear\", \"width\": 0.5}, \"mode\": \"lines\", \"name\": \"Spread\", \"showlegend\": false, \"type\": \"scatter\", \"x\": [0, 1, 2, 3, 4, 5, 6, 7, 8, 9, 10, 11, 12, 13, 14, 15, 16, 17, 18, 19, 20, 21, 22, 23, 24, 25, 26, 27, 28, 29, 30, 31, 32, 33, 34, 35, 36, 37, 38, 39, 40, 41, 42, 43, 44, 45, 46, 47, 48, 49, 50, 51, 52, 53, 54, 55, 56, 57, 58, 59, 60, 61, 62, 63, 64, 65, 66, 67, 68, 69, 70, 71, 72, 73, 74, 75, 76, 77, 78, 79, 80, 81, 82, 83, 84, 85, 86, 87, 88, 89, 90, 91, 92, 93, 94, 95, 96, 97, 98, 99], \"xaxis\": \"x2\", \"y\": [\"\", \"\", -0.17167333367939813, \"\", -1.24525843090834, \"\", -1.2810645189435452, -1.081530342381758, \"\", \"\", -0.7946353642445121, -1.1320611574720083, -2.3677294592875153, -3.180317710914351, \"\", \"\", -2.25815019694539, -1.5558638403867189, -1.0010568042643755, \"\", -2.178436692608733, -0.9617180290147163, \"\", \"\", -1.428510019066601, -1.5033276954595824, -0.5552905539799311, \"\", \"\", -1.787210956159308, -0.16470930169224707, \"\", \"\", \"\", -0.04136823452610616, \"\", \"\", \"\", \"\", \"\", -1.7256515490400015, -1.9196083137147604, -0.20856759627827395, -0.11763973133413475, \"\", \"\", -1.0507677518697054, -0.28530735262734075, \"\", \"\", \"\", -0.37363668153790514, -0.24732115089616322, \"\", -0.23332994732253515, -0.07194351002068505, \"\", -0.7421935054027048, -0.29781334668323045, -0.14952251180086273, \"\", \"\", \"\", -0.8577579906948122, \"\", -0.5507022905037783, -0.16780220897678805, \"\", -2.635584192941371, -0.45107690924020394, -0.4022292206117033, -0.19174866083178124, -0.06886048100236626, \"\", -0.4057914612022182, -1.2296077943815578, \"\", -0.3918219196103495, -0.06459762964531235, \"\", \"\", \"\", -0.28117865679286297, \"\", \"\", -0.14830851498594477, -1.5630264644046699, -0.9213519991657768, \"\", \"\", \"\", -1.2514242424417865, \"\", \"\", \"\", -1.496355511676351, \"\", -0.3563275177890616, \"\", -2.5125330954049194], \"yaxis\": \"y2\"}],\n",
       "                        {\"hovermode\": \"x\", \"legend\": {\"bgcolor\": \"#F5F6F9\", \"font\": {\"color\": \"#4D5663\"}}, \"paper_bgcolor\": \"#F5F6F9\", \"plot_bgcolor\": \"#F5F6F9\", \"template\": {\"data\": {\"bar\": [{\"error_x\": {\"color\": \"#2a3f5f\"}, \"error_y\": {\"color\": \"#2a3f5f\"}, \"marker\": {\"line\": {\"color\": \"#E5ECF6\", \"width\": 0.5}}, \"type\": \"bar\"}], \"barpolar\": [{\"marker\": {\"line\": {\"color\": \"#E5ECF6\", \"width\": 0.5}}, \"type\": \"barpolar\"}], \"carpet\": [{\"aaxis\": {\"endlinecolor\": \"#2a3f5f\", \"gridcolor\": \"white\", \"linecolor\": \"white\", \"minorgridcolor\": \"white\", \"startlinecolor\": \"#2a3f5f\"}, \"baxis\": {\"endlinecolor\": \"#2a3f5f\", \"gridcolor\": \"white\", \"linecolor\": \"white\", \"minorgridcolor\": \"white\", \"startlinecolor\": \"#2a3f5f\"}, \"type\": \"carpet\"}], \"choropleth\": [{\"colorbar\": {\"outlinewidth\": 0, \"ticks\": \"\"}, \"type\": \"choropleth\"}], \"contour\": [{\"colorbar\": {\"outlinewidth\": 0, \"ticks\": \"\"}, \"colorscale\": [[0.0, \"#0d0887\"], [0.1111111111111111, \"#46039f\"], [0.2222222222222222, \"#7201a8\"], [0.3333333333333333, \"#9c179e\"], [0.4444444444444444, \"#bd3786\"], [0.5555555555555556, \"#d8576b\"], [0.6666666666666666, \"#ed7953\"], [0.7777777777777778, \"#fb9f3a\"], [0.8888888888888888, \"#fdca26\"], [1.0, \"#f0f921\"]], \"type\": \"contour\"}], \"contourcarpet\": [{\"colorbar\": {\"outlinewidth\": 0, \"ticks\": \"\"}, \"type\": \"contourcarpet\"}], \"heatmap\": [{\"colorbar\": {\"outlinewidth\": 0, \"ticks\": \"\"}, \"colorscale\": [[0.0, \"#0d0887\"], [0.1111111111111111, \"#46039f\"], [0.2222222222222222, \"#7201a8\"], [0.3333333333333333, \"#9c179e\"], [0.4444444444444444, \"#bd3786\"], [0.5555555555555556, \"#d8576b\"], [0.6666666666666666, \"#ed7953\"], [0.7777777777777778, \"#fb9f3a\"], [0.8888888888888888, \"#fdca26\"], [1.0, \"#f0f921\"]], \"type\": \"heatmap\"}], \"heatmapgl\": [{\"colorbar\": {\"outlinewidth\": 0, \"ticks\": \"\"}, \"colorscale\": [[0.0, \"#0d0887\"], [0.1111111111111111, \"#46039f\"], [0.2222222222222222, \"#7201a8\"], [0.3333333333333333, \"#9c179e\"], [0.4444444444444444, \"#bd3786\"], [0.5555555555555556, \"#d8576b\"], [0.6666666666666666, \"#ed7953\"], [0.7777777777777778, \"#fb9f3a\"], [0.8888888888888888, \"#fdca26\"], [1.0, \"#f0f921\"]], \"type\": \"heatmapgl\"}], \"histogram\": [{\"marker\": {\"colorbar\": {\"outlinewidth\": 0, \"ticks\": \"\"}}, \"type\": \"histogram\"}], \"histogram2d\": [{\"colorbar\": {\"outlinewidth\": 0, \"ticks\": \"\"}, \"colorscale\": [[0.0, \"#0d0887\"], [0.1111111111111111, \"#46039f\"], [0.2222222222222222, \"#7201a8\"], [0.3333333333333333, \"#9c179e\"], [0.4444444444444444, \"#bd3786\"], [0.5555555555555556, \"#d8576b\"], [0.6666666666666666, \"#ed7953\"], [0.7777777777777778, \"#fb9f3a\"], [0.8888888888888888, \"#fdca26\"], [1.0, \"#f0f921\"]], \"type\": \"histogram2d\"}], \"histogram2dcontour\": [{\"colorbar\": {\"outlinewidth\": 0, \"ticks\": \"\"}, \"colorscale\": [[0.0, \"#0d0887\"], [0.1111111111111111, \"#46039f\"], [0.2222222222222222, \"#7201a8\"], [0.3333333333333333, \"#9c179e\"], [0.4444444444444444, \"#bd3786\"], [0.5555555555555556, \"#d8576b\"], [0.6666666666666666, \"#ed7953\"], [0.7777777777777778, \"#fb9f3a\"], [0.8888888888888888, \"#fdca26\"], [1.0, \"#f0f921\"]], \"type\": \"histogram2dcontour\"}], \"mesh3d\": [{\"colorbar\": {\"outlinewidth\": 0, \"ticks\": \"\"}, \"type\": \"mesh3d\"}], \"parcoords\": [{\"line\": {\"colorbar\": {\"outlinewidth\": 0, \"ticks\": \"\"}}, \"type\": \"parcoords\"}], \"pie\": [{\"automargin\": true, \"type\": \"pie\"}], \"scatter\": [{\"marker\": {\"colorbar\": {\"outlinewidth\": 0, \"ticks\": \"\"}}, \"type\": \"scatter\"}], \"scatter3d\": [{\"line\": {\"colorbar\": {\"outlinewidth\": 0, \"ticks\": \"\"}}, \"marker\": {\"colorbar\": {\"outlinewidth\": 0, \"ticks\": \"\"}}, \"type\": \"scatter3d\"}], \"scattercarpet\": [{\"marker\": {\"colorbar\": {\"outlinewidth\": 0, \"ticks\": \"\"}}, \"type\": \"scattercarpet\"}], \"scattergeo\": [{\"marker\": {\"colorbar\": {\"outlinewidth\": 0, \"ticks\": \"\"}}, \"type\": \"scattergeo\"}], \"scattergl\": [{\"marker\": {\"colorbar\": {\"outlinewidth\": 0, \"ticks\": \"\"}}, \"type\": \"scattergl\"}], \"scattermapbox\": [{\"marker\": {\"colorbar\": {\"outlinewidth\": 0, \"ticks\": \"\"}}, \"type\": \"scattermapbox\"}], \"scatterpolar\": [{\"marker\": {\"colorbar\": {\"outlinewidth\": 0, \"ticks\": \"\"}}, \"type\": \"scatterpolar\"}], \"scatterpolargl\": [{\"marker\": {\"colorbar\": {\"outlinewidth\": 0, \"ticks\": \"\"}}, \"type\": \"scatterpolargl\"}], \"scatterternary\": [{\"marker\": {\"colorbar\": {\"outlinewidth\": 0, \"ticks\": \"\"}}, \"type\": \"scatterternary\"}], \"surface\": [{\"colorbar\": {\"outlinewidth\": 0, \"ticks\": \"\"}, \"colorscale\": [[0.0, \"#0d0887\"], [0.1111111111111111, \"#46039f\"], [0.2222222222222222, \"#7201a8\"], [0.3333333333333333, \"#9c179e\"], [0.4444444444444444, \"#bd3786\"], [0.5555555555555556, \"#d8576b\"], [0.6666666666666666, \"#ed7953\"], [0.7777777777777778, \"#fb9f3a\"], [0.8888888888888888, \"#fdca26\"], [1.0, \"#f0f921\"]], \"type\": \"surface\"}], \"table\": [{\"cells\": {\"fill\": {\"color\": \"#EBF0F8\"}, \"line\": {\"color\": \"white\"}}, \"header\": {\"fill\": {\"color\": \"#C8D4E3\"}, \"line\": {\"color\": \"white\"}}, \"type\": \"table\"}]}, \"layout\": {\"annotationdefaults\": {\"arrowcolor\": \"#2a3f5f\", \"arrowhead\": 0, \"arrowwidth\": 1}, \"coloraxis\": {\"colorbar\": {\"outlinewidth\": 0, \"ticks\": \"\"}}, \"colorscale\": {\"diverging\": [[0, \"#8e0152\"], [0.1, \"#c51b7d\"], [0.2, \"#de77ae\"], [0.3, \"#f1b6da\"], [0.4, \"#fde0ef\"], [0.5, \"#f7f7f7\"], [0.6, \"#e6f5d0\"], [0.7, \"#b8e186\"], [0.8, \"#7fbc41\"], [0.9, \"#4d9221\"], [1, \"#276419\"]], \"sequential\": [[0.0, \"#0d0887\"], [0.1111111111111111, \"#46039f\"], [0.2222222222222222, \"#7201a8\"], [0.3333333333333333, \"#9c179e\"], [0.4444444444444444, \"#bd3786\"], [0.5555555555555556, \"#d8576b\"], [0.6666666666666666, \"#ed7953\"], [0.7777777777777778, \"#fb9f3a\"], [0.8888888888888888, \"#fdca26\"], [1.0, \"#f0f921\"]], \"sequentialminus\": [[0.0, \"#0d0887\"], [0.1111111111111111, \"#46039f\"], [0.2222222222222222, \"#7201a8\"], [0.3333333333333333, \"#9c179e\"], [0.4444444444444444, \"#bd3786\"], [0.5555555555555556, \"#d8576b\"], [0.6666666666666666, \"#ed7953\"], [0.7777777777777778, \"#fb9f3a\"], [0.8888888888888888, \"#fdca26\"], [1.0, \"#f0f921\"]]}, \"colorway\": [\"#636efa\", \"#EF553B\", \"#00cc96\", \"#ab63fa\", \"#FFA15A\", \"#19d3f3\", \"#FF6692\", \"#B6E880\", \"#FF97FF\", \"#FECB52\"], \"font\": {\"color\": \"#2a3f5f\"}, \"geo\": {\"bgcolor\": \"white\", \"lakecolor\": \"white\", \"landcolor\": \"#E5ECF6\", \"showlakes\": true, \"showland\": true, \"subunitcolor\": \"white\"}, \"hoverlabel\": {\"align\": \"left\"}, \"hovermode\": \"closest\", \"mapbox\": {\"style\": \"light\"}, \"paper_bgcolor\": \"white\", \"plot_bgcolor\": \"#E5ECF6\", \"polar\": {\"angularaxis\": {\"gridcolor\": \"white\", \"linecolor\": \"white\", \"ticks\": \"\"}, \"bgcolor\": \"#E5ECF6\", \"radialaxis\": {\"gridcolor\": \"white\", \"linecolor\": \"white\", \"ticks\": \"\"}}, \"scene\": {\"xaxis\": {\"backgroundcolor\": \"#E5ECF6\", \"gridcolor\": \"white\", \"gridwidth\": 2, \"linecolor\": \"white\", \"showbackground\": true, \"ticks\": \"\", \"zerolinecolor\": \"white\"}, \"yaxis\": {\"backgroundcolor\": \"#E5ECF6\", \"gridcolor\": \"white\", \"gridwidth\": 2, \"linecolor\": \"white\", \"showbackground\": true, \"ticks\": \"\", \"zerolinecolor\": \"white\"}, \"zaxis\": {\"backgroundcolor\": \"#E5ECF6\", \"gridcolor\": \"white\", \"gridwidth\": 2, \"linecolor\": \"white\", \"showbackground\": true, \"ticks\": \"\", \"zerolinecolor\": \"white\"}}, \"shapedefaults\": {\"line\": {\"color\": \"#2a3f5f\"}}, \"ternary\": {\"aaxis\": {\"gridcolor\": \"white\", \"linecolor\": \"white\", \"ticks\": \"\"}, \"baxis\": {\"gridcolor\": \"white\", \"linecolor\": \"white\", \"ticks\": \"\"}, \"bgcolor\": \"#E5ECF6\", \"caxis\": {\"gridcolor\": \"white\", \"linecolor\": \"white\", \"ticks\": \"\"}}, \"title\": {\"x\": 0.05}, \"xaxis\": {\"automargin\": true, \"gridcolor\": \"white\", \"linecolor\": \"white\", \"ticks\": \"\", \"title\": {\"standoff\": 15}, \"zerolinecolor\": \"white\", \"zerolinewidth\": 2}, \"yaxis\": {\"automargin\": true, \"gridcolor\": \"white\", \"linecolor\": \"white\", \"ticks\": \"\", \"title\": {\"standoff\": 15}, \"zerolinecolor\": \"white\", \"zerolinewidth\": 2}}}, \"title\": {\"font\": {\"color\": \"#4D5663\"}}, \"xaxis\": {\"gridcolor\": \"#E1E5ED\", \"showgrid\": true, \"tickfont\": {\"color\": \"#4D5663\"}, \"title\": {\"font\": {\"color\": \"#4D5663\"}, \"text\": \"\"}, \"zerolinecolor\": \"#E1E5ED\"}, \"xaxis2\": {\"anchor\": \"y2\", \"gridcolor\": \"#E1E5ED\", \"showgrid\": true, \"showticklabels\": false, \"tickfont\": {\"color\": \"#4D5663\"}, \"title\": {\"font\": {\"color\": \"#4D5663\"}, \"text\": \"\"}, \"zerolinecolor\": \"#E1E5ED\"}, \"yaxis\": {\"domain\": [0.3, 1], \"gridcolor\": \"#E1E5ED\", \"showgrid\": true, \"tickfont\": {\"color\": \"#4D5663\"}, \"title\": {\"font\": {\"color\": \"#4D5663\"}, \"text\": \"\"}, \"zerolinecolor\": \"#E1E5ED\"}, \"yaxis2\": {\"domain\": [0, 0.25], \"gridcolor\": \"#E1E5ED\", \"showgrid\": true, \"tickfont\": {\"color\": \"#4D5663\"}, \"title\": {\"font\": {\"color\": \"#4D5663\"}, \"text\": \"Spread\"}, \"zerolinecolor\": \"#E1E5ED\"}},\n",
       "                        {\"showLink\": true, \"linkText\": \"Export to plot.ly\", \"plotlyServerURL\": \"https://plot.ly\", \"responsive\": true}\n",
       "                    ).then(function(){\n",
       "                            \n",
       "var gd = document.getElementById('1fd85f85-70e3-45bf-845d-cadac6c1d835');\n",
       "var x = new MutationObserver(function (mutations, observer) {{\n",
       "        var display = window.getComputedStyle(gd).display;\n",
       "        if (!display || display === 'none') {{\n",
       "            console.log([gd, 'removed!']);\n",
       "            Plotly.purge(gd);\n",
       "            observer.disconnect();\n",
       "        }}\n",
       "}});\n",
       "\n",
       "// Listen for the removal of the full notebook cells\n",
       "var notebookContainer = gd.closest('#notebook-container');\n",
       "if (notebookContainer) {{\n",
       "    x.observe(notebookContainer, {childList: true});\n",
       "}}\n",
       "\n",
       "// Listen for the clearing of the current output cell\n",
       "var outputEl = gd.closest('.output');\n",
       "if (outputEl) {{\n",
       "    x.observe(outputEl, {childList: true});\n",
       "}}\n",
       "\n",
       "                        })\n",
       "                };\n",
       "                });\n",
       "            </script>\n",
       "        </div>"
      ]
     },
     "metadata": {},
     "output_type": "display_data"
    }
   ],
   "source": [
    "df[['A','B']].iplot(\"spread\")"
   ]
  },
  {
   "cell_type": "code",
   "execution_count": 45,
   "metadata": {
    "scrolled": true
   },
   "outputs": [
    {
     "data": {
      "application/vnd.plotly.v1+json": {
       "config": {
        "linkText": "Export to plot.ly",
        "plotlyServerURL": "https://plot.ly",
        "showLink": true
       },
       "data": [
        {
         "marker": {
          "color": [
           "orange",
           "orange",
           "orange",
           "orange",
           "orange",
           "orange",
           "orange",
           "orange",
           "orange",
           "orange",
           "orange",
           "orange",
           "orange",
           "orange",
           "orange",
           "orange",
           "orange",
           "orange",
           "orange",
           "orange",
           "orange",
           "orange",
           "orange",
           "orange",
           "orange",
           "orange",
           "orange",
           "orange",
           "orange",
           "orange",
           "orange",
           "orange",
           "orange",
           "orange",
           "orange",
           "orange",
           "orange",
           "orange",
           "orange",
           "orange",
           "orange",
           "orange",
           "orange",
           "orange",
           "orange",
           "orange",
           "orange",
           "orange",
           "orange",
           "orange",
           "orange",
           "orange",
           "orange",
           "orange",
           "orange",
           "orange",
           "orange",
           "orange",
           "orange",
           "orange",
           "orange",
           "orange",
           "orange",
           "orange",
           "orange",
           "orange",
           "orange",
           "orange",
           "orange",
           "orange",
           "orange",
           "orange",
           "orange",
           "orange",
           "orange",
           "orange",
           "orange",
           "orange",
           "orange",
           "orange",
           "orange",
           "orange",
           "orange",
           "orange",
           "orange",
           "orange",
           "orange",
           "orange",
           "orange",
           "orange",
           "orange",
           "orange",
           "orange",
           "orange",
           "orange",
           "orange",
           "orange",
           "orange",
           "orange",
           "orange"
          ],
          "line": {
           "width": 1.3
          },
          "size": [
           20,
           37,
           59,
           44,
           48,
           49,
           83,
           72,
           59,
           89,
           89,
           69,
           42,
           76,
           66,
           81,
           54,
           48,
           100,
           54,
           109,
           70,
           73,
           65,
           42,
           51,
           88,
           78,
           67,
           112,
           91,
           79,
           75,
           14,
           56,
           61,
           60,
           42,
           71,
           86,
           37,
           63,
           49,
           52,
           72,
           72,
           76,
           44,
           56,
           76,
           75,
           70,
           76,
           66,
           56,
           83,
           97,
           28,
           12,
           81,
           84,
           31,
           62,
           41,
           103,
           62,
           71,
           48,
           54,
           47,
           84,
           58,
           56,
           59,
           77,
           49,
           68,
           64,
           59,
           73,
           87,
           105,
           109,
           57,
           40,
           79,
           79,
           33,
           24,
           38,
           67,
           49,
           94,
           40,
           59,
           32,
           79,
           90,
           86,
           49
          ],
          "symbol": "circle"
         },
         "mode": "markers",
         "text": "",
         "type": "scatter",
         "x": [
          -0.01662130328228244,
          0.8952922062355154,
          0.08493791794765844,
          -0.09589135686355073,
          -0.4122201947502266,
          -0.20360574556365796,
          -1.3226112787089954,
          -0.7048337371978483,
          0.04150771300361059,
          -0.016184912767458252,
          -0.7836247979483332,
          -0.41697995913853403,
          -1.5145544317741388,
          -0.9872935372845854,
          2.8600594602810627,
          0.7879441726553916,
          -0.2813608872356518,
          -0.6513622033836487,
          -0.3833614492804819,
          0.16483281378445427,
          -2.1741767017157674,
          -1.6507999144342882,
          1.233849002951117,
          1.8853071817620293,
          -1.5954169238801832,
          -0.5522359603285474,
          -0.1776701185864922,
          -0.44322099515839536,
          1.0203828724791646,
          -0.746502813707562,
          -0.9880780584427672,
          -0.1989813172992508,
          1.028266715119139,
          0.9046343789939094,
          -0.24335430626921478,
          1.4808496271033058,
          1.183551097291823,
          0.7818177335952013,
          2.6317909237286803,
          -1.43255595184391,
          -0.5375396949804877,
          -0.9652461283114274,
          -0.37225584275459644,
          0.14086596179529387,
          2.1088529093442165,
          1.754446737290178,
          0.3204895796285177,
          0.5431393205854986,
          -0.26921450300987526,
          1.2276137248806802,
          2.18564194957632,
          -0.4189445878428453,
          -0.08003270330739348,
          0.8616685014005222,
          0.3204625049333791,
          -0.5444096849865591,
          1.4381126068067536,
          -1.5508518741330823,
          -1.7451055721182847,
          1.393700428608044,
          0.5528230108651216,
          -0.6354989243573955,
          0.5941962167234219,
          -1.498736192404156,
          1.2550871276452416,
          -0.8096320399507062,
          0.24176403155914405,
          0.4183631446701141,
          -1.7819580157798707,
          -0.587756797309145,
          -0.38795341821094526,
          0.07830346473682828,
          0.002456668961825936,
          1.9450473657318994,
          0.7258558214498236,
          -1.0099384838064072,
          0.28353464707170767,
          -1.0649028041957125,
          0.5771518242200254,
          0.8046577717798538,
          -0.10976143995602793,
          1.0417233039507987,
          -0.6800719626994939,
          -0.6139450381025275,
          0.46504150196282273,
          0.48002415552846633,
          -2.0624178821863004,
          1.4590453138925938,
          -0.06592069257443393,
          1.3037006920198502,
          -1.0417291996549434,
          -1.393953962398956,
          -0.09525476965697717,
          -0.11489070095885666,
          2.4005052823632567,
          -0.9318581112304919,
          0.941522431201813,
          0.19568237193128438,
          0.10374442540451675,
          -1.3981329572930432
         ],
         "y": [
          -0.43085692617183563,
          -0.1948859952808109,
          0.25661125162705656,
          -1.3086950885020459,
          0.8330382361581136,
          -0.6953289463874578,
          -0.041546759765450116,
          0.3766966051839097,
          -0.4106742584914722,
          -0.5017699496138679,
          0.011010566296178933,
          0.7150811983334743,
          0.8531750275133767,
          2.1930241736297655,
          0.6183354743888189,
          -0.2543897369151032,
          1.976789309709738,
          0.9045016370030701,
          0.6176953549838936,
          -0.4420620066123814,
          0.004259990892965676,
          -0.6890818854195719,
          0.1284746414788866,
          1.1565973705210073,
          -0.1669069048135824,
          0.9510917351310352,
          0.3776204353934389,
          -0.6104100303510119,
          0.8194742730220135,
          1.040708142451746,
          -0.8233687567505201,
          -1.1344997698956967,
          -0.2957474277602403,
          -0.6732382334575902,
          -0.20198607174310862,
          -0.5191193334283744,
          0.025830849269225062,
          -0.7336763065006728,
          1.2444882142572342,
          -1.4366617646017776,
          1.1881118540595137,
          0.954362185403333,
          -0.1636882464763225,
          0.2585056931294286,
          0.307000591264868,
          0.5053904332689658,
          1.371257331498223,
          0.8284466732128394,
          -1.6398779068387968,
          0.1312492505552544,
          -2.0782358481550904,
          -0.045307906304940145,
          0.16728844758876973,
          0.4199691612388556,
          0.5537924522559142,
          -0.472466174965874,
          -0.43842800336219834,
          -0.8086583687303776,
          -1.4472922254350542,
          1.5432229404089068,
          0.09327407639879354,
          -1.7151607168181384,
          0.31547264421701804,
          -0.6409782017093438,
          -0.5888934484654935,
          -0.2589297494469279,
          0.4095662405359321,
          -0.7827392201998249,
          0.8536261771615004,
          -0.13667988806894107,
          0.014275802400758018,
          0.2700521255686095,
          0.0713171499641922,
          -1.6360217944335709,
          1.1316472826520418,
          0.21966931057515063,
          -1.0415257873712767,
          -0.673080884585363,
          0.6417494538653378,
          -2.575256173392799,
          -1.301392718985718,
          -1.3280555679474806,
          -0.3988933059066309,
          -1.4320562115681523,
          -0.5208466357235377,
          0.6283326705144111,
          -0.4993914177816305,
          2.3803973130583707,
          -1.404107842111614,
          -0.05799211063099601,
          -1.1984196002600367,
          -0.14252971995716965,
          -0.3981381038453286,
          -0.3917743490224008,
          1.5356909803434518,
          0.5644974004458589,
          0.36323243100145386,
          0.5520098897203459,
          -0.6462900576233668,
          1.1144001381118762
         ]
        }
       ],
       "layout": {
        "legend": {
         "bgcolor": "#F5F6F9",
         "font": {
          "color": "#4D5663"
         }
        },
        "paper_bgcolor": "#F5F6F9",
        "plot_bgcolor": "#F5F6F9",
        "template": {
         "data": {
          "bar": [
           {
            "error_x": {
             "color": "#2a3f5f"
            },
            "error_y": {
             "color": "#2a3f5f"
            },
            "marker": {
             "line": {
              "color": "#E5ECF6",
              "width": 0.5
             }
            },
            "type": "bar"
           }
          ],
          "barpolar": [
           {
            "marker": {
             "line": {
              "color": "#E5ECF6",
              "width": 0.5
             }
            },
            "type": "barpolar"
           }
          ],
          "carpet": [
           {
            "aaxis": {
             "endlinecolor": "#2a3f5f",
             "gridcolor": "white",
             "linecolor": "white",
             "minorgridcolor": "white",
             "startlinecolor": "#2a3f5f"
            },
            "baxis": {
             "endlinecolor": "#2a3f5f",
             "gridcolor": "white",
             "linecolor": "white",
             "minorgridcolor": "white",
             "startlinecolor": "#2a3f5f"
            },
            "type": "carpet"
           }
          ],
          "choropleth": [
           {
            "colorbar": {
             "outlinewidth": 0,
             "ticks": ""
            },
            "type": "choropleth"
           }
          ],
          "contour": [
           {
            "colorbar": {
             "outlinewidth": 0,
             "ticks": ""
            },
            "colorscale": [
             [
              0,
              "#0d0887"
             ],
             [
              0.1111111111111111,
              "#46039f"
             ],
             [
              0.2222222222222222,
              "#7201a8"
             ],
             [
              0.3333333333333333,
              "#9c179e"
             ],
             [
              0.4444444444444444,
              "#bd3786"
             ],
             [
              0.5555555555555556,
              "#d8576b"
             ],
             [
              0.6666666666666666,
              "#ed7953"
             ],
             [
              0.7777777777777778,
              "#fb9f3a"
             ],
             [
              0.8888888888888888,
              "#fdca26"
             ],
             [
              1,
              "#f0f921"
             ]
            ],
            "type": "contour"
           }
          ],
          "contourcarpet": [
           {
            "colorbar": {
             "outlinewidth": 0,
             "ticks": ""
            },
            "type": "contourcarpet"
           }
          ],
          "heatmap": [
           {
            "colorbar": {
             "outlinewidth": 0,
             "ticks": ""
            },
            "colorscale": [
             [
              0,
              "#0d0887"
             ],
             [
              0.1111111111111111,
              "#46039f"
             ],
             [
              0.2222222222222222,
              "#7201a8"
             ],
             [
              0.3333333333333333,
              "#9c179e"
             ],
             [
              0.4444444444444444,
              "#bd3786"
             ],
             [
              0.5555555555555556,
              "#d8576b"
             ],
             [
              0.6666666666666666,
              "#ed7953"
             ],
             [
              0.7777777777777778,
              "#fb9f3a"
             ],
             [
              0.8888888888888888,
              "#fdca26"
             ],
             [
              1,
              "#f0f921"
             ]
            ],
            "type": "heatmap"
           }
          ],
          "heatmapgl": [
           {
            "colorbar": {
             "outlinewidth": 0,
             "ticks": ""
            },
            "colorscale": [
             [
              0,
              "#0d0887"
             ],
             [
              0.1111111111111111,
              "#46039f"
             ],
             [
              0.2222222222222222,
              "#7201a8"
             ],
             [
              0.3333333333333333,
              "#9c179e"
             ],
             [
              0.4444444444444444,
              "#bd3786"
             ],
             [
              0.5555555555555556,
              "#d8576b"
             ],
             [
              0.6666666666666666,
              "#ed7953"
             ],
             [
              0.7777777777777778,
              "#fb9f3a"
             ],
             [
              0.8888888888888888,
              "#fdca26"
             ],
             [
              1,
              "#f0f921"
             ]
            ],
            "type": "heatmapgl"
           }
          ],
          "histogram": [
           {
            "marker": {
             "colorbar": {
              "outlinewidth": 0,
              "ticks": ""
             }
            },
            "type": "histogram"
           }
          ],
          "histogram2d": [
           {
            "colorbar": {
             "outlinewidth": 0,
             "ticks": ""
            },
            "colorscale": [
             [
              0,
              "#0d0887"
             ],
             [
              0.1111111111111111,
              "#46039f"
             ],
             [
              0.2222222222222222,
              "#7201a8"
             ],
             [
              0.3333333333333333,
              "#9c179e"
             ],
             [
              0.4444444444444444,
              "#bd3786"
             ],
             [
              0.5555555555555556,
              "#d8576b"
             ],
             [
              0.6666666666666666,
              "#ed7953"
             ],
             [
              0.7777777777777778,
              "#fb9f3a"
             ],
             [
              0.8888888888888888,
              "#fdca26"
             ],
             [
              1,
              "#f0f921"
             ]
            ],
            "type": "histogram2d"
           }
          ],
          "histogram2dcontour": [
           {
            "colorbar": {
             "outlinewidth": 0,
             "ticks": ""
            },
            "colorscale": [
             [
              0,
              "#0d0887"
             ],
             [
              0.1111111111111111,
              "#46039f"
             ],
             [
              0.2222222222222222,
              "#7201a8"
             ],
             [
              0.3333333333333333,
              "#9c179e"
             ],
             [
              0.4444444444444444,
              "#bd3786"
             ],
             [
              0.5555555555555556,
              "#d8576b"
             ],
             [
              0.6666666666666666,
              "#ed7953"
             ],
             [
              0.7777777777777778,
              "#fb9f3a"
             ],
             [
              0.8888888888888888,
              "#fdca26"
             ],
             [
              1,
              "#f0f921"
             ]
            ],
            "type": "histogram2dcontour"
           }
          ],
          "mesh3d": [
           {
            "colorbar": {
             "outlinewidth": 0,
             "ticks": ""
            },
            "type": "mesh3d"
           }
          ],
          "parcoords": [
           {
            "line": {
             "colorbar": {
              "outlinewidth": 0,
              "ticks": ""
             }
            },
            "type": "parcoords"
           }
          ],
          "pie": [
           {
            "automargin": true,
            "type": "pie"
           }
          ],
          "scatter": [
           {
            "marker": {
             "colorbar": {
              "outlinewidth": 0,
              "ticks": ""
             }
            },
            "type": "scatter"
           }
          ],
          "scatter3d": [
           {
            "line": {
             "colorbar": {
              "outlinewidth": 0,
              "ticks": ""
             }
            },
            "marker": {
             "colorbar": {
              "outlinewidth": 0,
              "ticks": ""
             }
            },
            "type": "scatter3d"
           }
          ],
          "scattercarpet": [
           {
            "marker": {
             "colorbar": {
              "outlinewidth": 0,
              "ticks": ""
             }
            },
            "type": "scattercarpet"
           }
          ],
          "scattergeo": [
           {
            "marker": {
             "colorbar": {
              "outlinewidth": 0,
              "ticks": ""
             }
            },
            "type": "scattergeo"
           }
          ],
          "scattergl": [
           {
            "marker": {
             "colorbar": {
              "outlinewidth": 0,
              "ticks": ""
             }
            },
            "type": "scattergl"
           }
          ],
          "scattermapbox": [
           {
            "marker": {
             "colorbar": {
              "outlinewidth": 0,
              "ticks": ""
             }
            },
            "type": "scattermapbox"
           }
          ],
          "scatterpolar": [
           {
            "marker": {
             "colorbar": {
              "outlinewidth": 0,
              "ticks": ""
             }
            },
            "type": "scatterpolar"
           }
          ],
          "scatterpolargl": [
           {
            "marker": {
             "colorbar": {
              "outlinewidth": 0,
              "ticks": ""
             }
            },
            "type": "scatterpolargl"
           }
          ],
          "scatterternary": [
           {
            "marker": {
             "colorbar": {
              "outlinewidth": 0,
              "ticks": ""
             }
            },
            "type": "scatterternary"
           }
          ],
          "surface": [
           {
            "colorbar": {
             "outlinewidth": 0,
             "ticks": ""
            },
            "colorscale": [
             [
              0,
              "#0d0887"
             ],
             [
              0.1111111111111111,
              "#46039f"
             ],
             [
              0.2222222222222222,
              "#7201a8"
             ],
             [
              0.3333333333333333,
              "#9c179e"
             ],
             [
              0.4444444444444444,
              "#bd3786"
             ],
             [
              0.5555555555555556,
              "#d8576b"
             ],
             [
              0.6666666666666666,
              "#ed7953"
             ],
             [
              0.7777777777777778,
              "#fb9f3a"
             ],
             [
              0.8888888888888888,
              "#fdca26"
             ],
             [
              1,
              "#f0f921"
             ]
            ],
            "type": "surface"
           }
          ],
          "table": [
           {
            "cells": {
             "fill": {
              "color": "#EBF0F8"
             },
             "line": {
              "color": "white"
             }
            },
            "header": {
             "fill": {
              "color": "#C8D4E3"
             },
             "line": {
              "color": "white"
             }
            },
            "type": "table"
           }
          ]
         },
         "layout": {
          "annotationdefaults": {
           "arrowcolor": "#2a3f5f",
           "arrowhead": 0,
           "arrowwidth": 1
          },
          "coloraxis": {
           "colorbar": {
            "outlinewidth": 0,
            "ticks": ""
           }
          },
          "colorscale": {
           "diverging": [
            [
             0,
             "#8e0152"
            ],
            [
             0.1,
             "#c51b7d"
            ],
            [
             0.2,
             "#de77ae"
            ],
            [
             0.3,
             "#f1b6da"
            ],
            [
             0.4,
             "#fde0ef"
            ],
            [
             0.5,
             "#f7f7f7"
            ],
            [
             0.6,
             "#e6f5d0"
            ],
            [
             0.7,
             "#b8e186"
            ],
            [
             0.8,
             "#7fbc41"
            ],
            [
             0.9,
             "#4d9221"
            ],
            [
             1,
             "#276419"
            ]
           ],
           "sequential": [
            [
             0,
             "#0d0887"
            ],
            [
             0.1111111111111111,
             "#46039f"
            ],
            [
             0.2222222222222222,
             "#7201a8"
            ],
            [
             0.3333333333333333,
             "#9c179e"
            ],
            [
             0.4444444444444444,
             "#bd3786"
            ],
            [
             0.5555555555555556,
             "#d8576b"
            ],
            [
             0.6666666666666666,
             "#ed7953"
            ],
            [
             0.7777777777777778,
             "#fb9f3a"
            ],
            [
             0.8888888888888888,
             "#fdca26"
            ],
            [
             1,
             "#f0f921"
            ]
           ],
           "sequentialminus": [
            [
             0,
             "#0d0887"
            ],
            [
             0.1111111111111111,
             "#46039f"
            ],
            [
             0.2222222222222222,
             "#7201a8"
            ],
            [
             0.3333333333333333,
             "#9c179e"
            ],
            [
             0.4444444444444444,
             "#bd3786"
            ],
            [
             0.5555555555555556,
             "#d8576b"
            ],
            [
             0.6666666666666666,
             "#ed7953"
            ],
            [
             0.7777777777777778,
             "#fb9f3a"
            ],
            [
             0.8888888888888888,
             "#fdca26"
            ],
            [
             1,
             "#f0f921"
            ]
           ]
          },
          "colorway": [
           "#636efa",
           "#EF553B",
           "#00cc96",
           "#ab63fa",
           "#FFA15A",
           "#19d3f3",
           "#FF6692",
           "#B6E880",
           "#FF97FF",
           "#FECB52"
          ],
          "font": {
           "color": "#2a3f5f"
          },
          "geo": {
           "bgcolor": "white",
           "lakecolor": "white",
           "landcolor": "#E5ECF6",
           "showlakes": true,
           "showland": true,
           "subunitcolor": "white"
          },
          "hoverlabel": {
           "align": "left"
          },
          "hovermode": "closest",
          "mapbox": {
           "style": "light"
          },
          "paper_bgcolor": "white",
          "plot_bgcolor": "#E5ECF6",
          "polar": {
           "angularaxis": {
            "gridcolor": "white",
            "linecolor": "white",
            "ticks": ""
           },
           "bgcolor": "#E5ECF6",
           "radialaxis": {
            "gridcolor": "white",
            "linecolor": "white",
            "ticks": ""
           }
          },
          "scene": {
           "xaxis": {
            "backgroundcolor": "#E5ECF6",
            "gridcolor": "white",
            "gridwidth": 2,
            "linecolor": "white",
            "showbackground": true,
            "ticks": "",
            "zerolinecolor": "white"
           },
           "yaxis": {
            "backgroundcolor": "#E5ECF6",
            "gridcolor": "white",
            "gridwidth": 2,
            "linecolor": "white",
            "showbackground": true,
            "ticks": "",
            "zerolinecolor": "white"
           },
           "zaxis": {
            "backgroundcolor": "#E5ECF6",
            "gridcolor": "white",
            "gridwidth": 2,
            "linecolor": "white",
            "showbackground": true,
            "ticks": "",
            "zerolinecolor": "white"
           }
          },
          "shapedefaults": {
           "line": {
            "color": "#2a3f5f"
           }
          },
          "ternary": {
           "aaxis": {
            "gridcolor": "white",
            "linecolor": "white",
            "ticks": ""
           },
           "baxis": {
            "gridcolor": "white",
            "linecolor": "white",
            "ticks": ""
           },
           "bgcolor": "#E5ECF6",
           "caxis": {
            "gridcolor": "white",
            "linecolor": "white",
            "ticks": ""
           }
          },
          "title": {
           "x": 0.05
          },
          "xaxis": {
           "automargin": true,
           "gridcolor": "white",
           "linecolor": "white",
           "ticks": "",
           "title": {
            "standoff": 15
           },
           "zerolinecolor": "white",
           "zerolinewidth": 2
          },
          "yaxis": {
           "automargin": true,
           "gridcolor": "white",
           "linecolor": "white",
           "ticks": "",
           "title": {
            "standoff": 15
           },
           "zerolinecolor": "white",
           "zerolinewidth": 2
          }
         }
        },
        "title": {
         "font": {
          "color": "#4D5663"
         }
        },
        "xaxis": {
         "gridcolor": "#E1E5ED",
         "showgrid": true,
         "tickfont": {
          "color": "#4D5663"
         },
         "title": {
          "font": {
           "color": "#4D5663"
          },
          "text": ""
         },
         "zerolinecolor": "#E1E5ED"
        },
        "yaxis": {
         "gridcolor": "#E1E5ED",
         "showgrid": true,
         "tickfont": {
          "color": "#4D5663"
         },
         "title": {
          "font": {
           "color": "#4D5663"
          },
          "text": ""
         },
         "zerolinecolor": "#E1E5ED"
        }
       }
      },
      "text/html": [
       "<div>\n",
       "        \n",
       "        \n",
       "            <div id=\"6f4b30fe-07d5-49af-900b-59f1cfa5f036\" class=\"plotly-graph-div\" style=\"height:525px; width:100%;\"></div>\n",
       "            <script type=\"text/javascript\">\n",
       "                require([\"plotly\"], function(Plotly) {\n",
       "                    window.PLOTLYENV=window.PLOTLYENV || {};\n",
       "                    window.PLOTLYENV.BASE_URL='https://plot.ly';\n",
       "                    \n",
       "                if (document.getElementById(\"6f4b30fe-07d5-49af-900b-59f1cfa5f036\")) {\n",
       "                    Plotly.newPlot(\n",
       "                        '6f4b30fe-07d5-49af-900b-59f1cfa5f036',\n",
       "                        [{\"marker\": {\"color\": [\"orange\", \"orange\", \"orange\", \"orange\", \"orange\", \"orange\", \"orange\", \"orange\", \"orange\", \"orange\", \"orange\", \"orange\", \"orange\", \"orange\", \"orange\", \"orange\", \"orange\", \"orange\", \"orange\", \"orange\", \"orange\", \"orange\", \"orange\", \"orange\", \"orange\", \"orange\", \"orange\", \"orange\", \"orange\", \"orange\", \"orange\", \"orange\", \"orange\", \"orange\", \"orange\", \"orange\", \"orange\", \"orange\", \"orange\", \"orange\", \"orange\", \"orange\", \"orange\", \"orange\", \"orange\", \"orange\", \"orange\", \"orange\", \"orange\", \"orange\", \"orange\", \"orange\", \"orange\", \"orange\", \"orange\", \"orange\", \"orange\", \"orange\", \"orange\", \"orange\", \"orange\", \"orange\", \"orange\", \"orange\", \"orange\", \"orange\", \"orange\", \"orange\", \"orange\", \"orange\", \"orange\", \"orange\", \"orange\", \"orange\", \"orange\", \"orange\", \"orange\", \"orange\", \"orange\", \"orange\", \"orange\", \"orange\", \"orange\", \"orange\", \"orange\", \"orange\", \"orange\", \"orange\", \"orange\", \"orange\", \"orange\", \"orange\", \"orange\", \"orange\", \"orange\", \"orange\", \"orange\", \"orange\", \"orange\", \"orange\"], \"line\": {\"width\": 1.3}, \"size\": [20, 37, 59, 44, 48, 49, 83, 72, 59, 89, 89, 69, 42, 76, 66, 81, 54, 48, 100, 54, 109, 70, 73, 65, 42, 51, 88, 78, 67, 112, 91, 79, 75, 14, 56, 61, 60, 42, 71, 86, 37, 63, 49, 52, 72, 72, 76, 44, 56, 76, 75, 70, 76, 66, 56, 83, 97, 28, 12, 81, 84, 31, 62, 41, 103, 62, 71, 48, 54, 47, 84, 58, 56, 59, 77, 49, 68, 64, 59, 73, 87, 105, 109, 57, 40, 79, 79, 33, 24, 38, 67, 49, 94, 40, 59, 32, 79, 90, 86, 49], \"symbol\": \"circle\"}, \"mode\": \"markers\", \"text\": \"\", \"type\": \"scatter\", \"x\": [-0.01662130328228244, 0.8952922062355154, 0.08493791794765844, -0.09589135686355073, -0.4122201947502266, -0.20360574556365796, -1.3226112787089954, -0.7048337371978483, 0.04150771300361059, -0.016184912767458252, -0.7836247979483332, -0.41697995913853403, -1.5145544317741388, -0.9872935372845854, 2.8600594602810627, 0.7879441726553916, -0.2813608872356518, -0.6513622033836487, -0.3833614492804819, 0.16483281378445427, -2.1741767017157674, -1.6507999144342882, 1.233849002951117, 1.8853071817620293, -1.5954169238801832, -0.5522359603285474, -0.1776701185864922, -0.44322099515839536, 1.0203828724791646, -0.746502813707562, -0.9880780584427672, -0.1989813172992508, 1.028266715119139, 0.9046343789939094, -0.24335430626921478, 1.4808496271033058, 1.183551097291823, 0.7818177335952013, 2.6317909237286803, -1.43255595184391, -0.5375396949804877, -0.9652461283114274, -0.37225584275459644, 0.14086596179529387, 2.1088529093442165, 1.754446737290178, 0.3204895796285177, 0.5431393205854986, -0.26921450300987526, 1.2276137248806802, 2.18564194957632, -0.4189445878428453, -0.08003270330739348, 0.8616685014005222, 0.3204625049333791, -0.5444096849865591, 1.4381126068067536, -1.5508518741330823, -1.7451055721182847, 1.393700428608044, 0.5528230108651216, -0.6354989243573955, 0.5941962167234219, -1.498736192404156, 1.2550871276452416, -0.8096320399507062, 0.24176403155914405, 0.4183631446701141, -1.7819580157798707, -0.587756797309145, -0.38795341821094526, 0.07830346473682828, 0.002456668961825936, 1.9450473657318994, 0.7258558214498236, -1.0099384838064072, 0.28353464707170767, -1.0649028041957125, 0.5771518242200254, 0.8046577717798538, -0.10976143995602793, 1.0417233039507987, -0.6800719626994939, -0.6139450381025275, 0.46504150196282273, 0.48002415552846633, -2.0624178821863004, 1.4590453138925938, -0.06592069257443393, 1.3037006920198502, -1.0417291996549434, -1.393953962398956, -0.09525476965697717, -0.11489070095885666, 2.4005052823632567, -0.9318581112304919, 0.941522431201813, 0.19568237193128438, 0.10374442540451675, -1.3981329572930432], \"y\": [-0.43085692617183563, -0.1948859952808109, 0.25661125162705656, -1.3086950885020459, 0.8330382361581136, -0.6953289463874578, -0.041546759765450116, 0.3766966051839097, -0.4106742584914722, -0.5017699496138679, 0.011010566296178933, 0.7150811983334743, 0.8531750275133767, 2.1930241736297655, 0.6183354743888189, -0.2543897369151032, 1.976789309709738, 0.9045016370030701, 0.6176953549838936, -0.4420620066123814, 0.004259990892965676, -0.6890818854195719, 0.1284746414788866, 1.1565973705210073, -0.1669069048135824, 0.9510917351310352, 0.3776204353934389, -0.6104100303510119, 0.8194742730220135, 1.040708142451746, -0.8233687567505201, -1.1344997698956967, -0.2957474277602403, -0.6732382334575902, -0.20198607174310862, -0.5191193334283744, 0.025830849269225062, -0.7336763065006728, 1.2444882142572342, -1.4366617646017776, 1.1881118540595137, 0.954362185403333, -0.1636882464763225, 0.2585056931294286, 0.307000591264868, 0.5053904332689658, 1.371257331498223, 0.8284466732128394, -1.6398779068387968, 0.1312492505552544, -2.0782358481550904, -0.045307906304940145, 0.16728844758876973, 0.4199691612388556, 0.5537924522559142, -0.472466174965874, -0.43842800336219834, -0.8086583687303776, -1.4472922254350542, 1.5432229404089068, 0.09327407639879354, -1.7151607168181384, 0.31547264421701804, -0.6409782017093438, -0.5888934484654935, -0.2589297494469279, 0.4095662405359321, -0.7827392201998249, 0.8536261771615004, -0.13667988806894107, 0.014275802400758018, 0.2700521255686095, 0.0713171499641922, -1.6360217944335709, 1.1316472826520418, 0.21966931057515063, -1.0415257873712767, -0.673080884585363, 0.6417494538653378, -2.575256173392799, -1.301392718985718, -1.3280555679474806, -0.3988933059066309, -1.4320562115681523, -0.5208466357235377, 0.6283326705144111, -0.4993914177816305, 2.3803973130583707, -1.404107842111614, -0.05799211063099601, -1.1984196002600367, -0.14252971995716965, -0.3981381038453286, -0.3917743490224008, 1.5356909803434518, 0.5644974004458589, 0.36323243100145386, 0.5520098897203459, -0.6462900576233668, 1.1144001381118762]}],\n",
       "                        {\"legend\": {\"bgcolor\": \"#F5F6F9\", \"font\": {\"color\": \"#4D5663\"}}, \"paper_bgcolor\": \"#F5F6F9\", \"plot_bgcolor\": \"#F5F6F9\", \"template\": {\"data\": {\"bar\": [{\"error_x\": {\"color\": \"#2a3f5f\"}, \"error_y\": {\"color\": \"#2a3f5f\"}, \"marker\": {\"line\": {\"color\": \"#E5ECF6\", \"width\": 0.5}}, \"type\": \"bar\"}], \"barpolar\": [{\"marker\": {\"line\": {\"color\": \"#E5ECF6\", \"width\": 0.5}}, \"type\": \"barpolar\"}], \"carpet\": [{\"aaxis\": {\"endlinecolor\": \"#2a3f5f\", \"gridcolor\": \"white\", \"linecolor\": \"white\", \"minorgridcolor\": \"white\", \"startlinecolor\": \"#2a3f5f\"}, \"baxis\": {\"endlinecolor\": \"#2a3f5f\", \"gridcolor\": \"white\", \"linecolor\": \"white\", \"minorgridcolor\": \"white\", \"startlinecolor\": \"#2a3f5f\"}, \"type\": \"carpet\"}], \"choropleth\": [{\"colorbar\": {\"outlinewidth\": 0, \"ticks\": \"\"}, \"type\": \"choropleth\"}], \"contour\": [{\"colorbar\": {\"outlinewidth\": 0, \"ticks\": \"\"}, \"colorscale\": [[0.0, \"#0d0887\"], [0.1111111111111111, \"#46039f\"], [0.2222222222222222, \"#7201a8\"], [0.3333333333333333, \"#9c179e\"], [0.4444444444444444, \"#bd3786\"], [0.5555555555555556, \"#d8576b\"], [0.6666666666666666, \"#ed7953\"], [0.7777777777777778, \"#fb9f3a\"], [0.8888888888888888, \"#fdca26\"], [1.0, \"#f0f921\"]], \"type\": \"contour\"}], \"contourcarpet\": [{\"colorbar\": {\"outlinewidth\": 0, \"ticks\": \"\"}, \"type\": \"contourcarpet\"}], \"heatmap\": [{\"colorbar\": {\"outlinewidth\": 0, \"ticks\": \"\"}, \"colorscale\": [[0.0, \"#0d0887\"], [0.1111111111111111, \"#46039f\"], [0.2222222222222222, \"#7201a8\"], [0.3333333333333333, \"#9c179e\"], [0.4444444444444444, \"#bd3786\"], [0.5555555555555556, \"#d8576b\"], [0.6666666666666666, \"#ed7953\"], [0.7777777777777778, \"#fb9f3a\"], [0.8888888888888888, \"#fdca26\"], [1.0, \"#f0f921\"]], \"type\": \"heatmap\"}], \"heatmapgl\": [{\"colorbar\": {\"outlinewidth\": 0, \"ticks\": \"\"}, \"colorscale\": [[0.0, \"#0d0887\"], [0.1111111111111111, \"#46039f\"], [0.2222222222222222, \"#7201a8\"], [0.3333333333333333, \"#9c179e\"], [0.4444444444444444, \"#bd3786\"], [0.5555555555555556, \"#d8576b\"], [0.6666666666666666, \"#ed7953\"], [0.7777777777777778, \"#fb9f3a\"], [0.8888888888888888, \"#fdca26\"], [1.0, \"#f0f921\"]], \"type\": \"heatmapgl\"}], \"histogram\": [{\"marker\": {\"colorbar\": {\"outlinewidth\": 0, \"ticks\": \"\"}}, \"type\": \"histogram\"}], \"histogram2d\": [{\"colorbar\": {\"outlinewidth\": 0, \"ticks\": \"\"}, \"colorscale\": [[0.0, \"#0d0887\"], [0.1111111111111111, \"#46039f\"], [0.2222222222222222, \"#7201a8\"], [0.3333333333333333, \"#9c179e\"], [0.4444444444444444, \"#bd3786\"], [0.5555555555555556, \"#d8576b\"], [0.6666666666666666, \"#ed7953\"], [0.7777777777777778, \"#fb9f3a\"], [0.8888888888888888, \"#fdca26\"], [1.0, \"#f0f921\"]], \"type\": \"histogram2d\"}], \"histogram2dcontour\": [{\"colorbar\": {\"outlinewidth\": 0, \"ticks\": \"\"}, \"colorscale\": [[0.0, \"#0d0887\"], [0.1111111111111111, \"#46039f\"], [0.2222222222222222, \"#7201a8\"], [0.3333333333333333, \"#9c179e\"], [0.4444444444444444, \"#bd3786\"], [0.5555555555555556, \"#d8576b\"], [0.6666666666666666, \"#ed7953\"], [0.7777777777777778, \"#fb9f3a\"], [0.8888888888888888, \"#fdca26\"], [1.0, \"#f0f921\"]], \"type\": \"histogram2dcontour\"}], \"mesh3d\": [{\"colorbar\": {\"outlinewidth\": 0, \"ticks\": \"\"}, \"type\": \"mesh3d\"}], \"parcoords\": [{\"line\": {\"colorbar\": {\"outlinewidth\": 0, \"ticks\": \"\"}}, \"type\": \"parcoords\"}], \"pie\": [{\"automargin\": true, \"type\": \"pie\"}], \"scatter\": [{\"marker\": {\"colorbar\": {\"outlinewidth\": 0, \"ticks\": \"\"}}, \"type\": \"scatter\"}], \"scatter3d\": [{\"line\": {\"colorbar\": {\"outlinewidth\": 0, \"ticks\": \"\"}}, \"marker\": {\"colorbar\": {\"outlinewidth\": 0, \"ticks\": \"\"}}, \"type\": \"scatter3d\"}], \"scattercarpet\": [{\"marker\": {\"colorbar\": {\"outlinewidth\": 0, \"ticks\": \"\"}}, \"type\": \"scattercarpet\"}], \"scattergeo\": [{\"marker\": {\"colorbar\": {\"outlinewidth\": 0, \"ticks\": \"\"}}, \"type\": \"scattergeo\"}], \"scattergl\": [{\"marker\": {\"colorbar\": {\"outlinewidth\": 0, \"ticks\": \"\"}}, \"type\": \"scattergl\"}], \"scattermapbox\": [{\"marker\": {\"colorbar\": {\"outlinewidth\": 0, \"ticks\": \"\"}}, \"type\": \"scattermapbox\"}], \"scatterpolar\": [{\"marker\": {\"colorbar\": {\"outlinewidth\": 0, \"ticks\": \"\"}}, \"type\": \"scatterpolar\"}], \"scatterpolargl\": [{\"marker\": {\"colorbar\": {\"outlinewidth\": 0, \"ticks\": \"\"}}, \"type\": \"scatterpolargl\"}], \"scatterternary\": [{\"marker\": {\"colorbar\": {\"outlinewidth\": 0, \"ticks\": \"\"}}, \"type\": \"scatterternary\"}], \"surface\": [{\"colorbar\": {\"outlinewidth\": 0, \"ticks\": \"\"}, \"colorscale\": [[0.0, \"#0d0887\"], [0.1111111111111111, \"#46039f\"], [0.2222222222222222, \"#7201a8\"], [0.3333333333333333, \"#9c179e\"], [0.4444444444444444, \"#bd3786\"], [0.5555555555555556, \"#d8576b\"], [0.6666666666666666, \"#ed7953\"], [0.7777777777777778, \"#fb9f3a\"], [0.8888888888888888, \"#fdca26\"], [1.0, \"#f0f921\"]], \"type\": \"surface\"}], \"table\": [{\"cells\": {\"fill\": {\"color\": \"#EBF0F8\"}, \"line\": {\"color\": \"white\"}}, \"header\": {\"fill\": {\"color\": \"#C8D4E3\"}, \"line\": {\"color\": \"white\"}}, \"type\": \"table\"}]}, \"layout\": {\"annotationdefaults\": {\"arrowcolor\": \"#2a3f5f\", \"arrowhead\": 0, \"arrowwidth\": 1}, \"coloraxis\": {\"colorbar\": {\"outlinewidth\": 0, \"ticks\": \"\"}}, \"colorscale\": {\"diverging\": [[0, \"#8e0152\"], [0.1, \"#c51b7d\"], [0.2, \"#de77ae\"], [0.3, \"#f1b6da\"], [0.4, \"#fde0ef\"], [0.5, \"#f7f7f7\"], [0.6, \"#e6f5d0\"], [0.7, \"#b8e186\"], [0.8, \"#7fbc41\"], [0.9, \"#4d9221\"], [1, \"#276419\"]], \"sequential\": [[0.0, \"#0d0887\"], [0.1111111111111111, \"#46039f\"], [0.2222222222222222, \"#7201a8\"], [0.3333333333333333, \"#9c179e\"], [0.4444444444444444, \"#bd3786\"], [0.5555555555555556, \"#d8576b\"], [0.6666666666666666, \"#ed7953\"], [0.7777777777777778, \"#fb9f3a\"], [0.8888888888888888, \"#fdca26\"], [1.0, \"#f0f921\"]], \"sequentialminus\": [[0.0, \"#0d0887\"], [0.1111111111111111, \"#46039f\"], [0.2222222222222222, \"#7201a8\"], [0.3333333333333333, \"#9c179e\"], [0.4444444444444444, \"#bd3786\"], [0.5555555555555556, \"#d8576b\"], [0.6666666666666666, \"#ed7953\"], [0.7777777777777778, \"#fb9f3a\"], [0.8888888888888888, \"#fdca26\"], [1.0, \"#f0f921\"]]}, \"colorway\": [\"#636efa\", \"#EF553B\", \"#00cc96\", \"#ab63fa\", \"#FFA15A\", \"#19d3f3\", \"#FF6692\", \"#B6E880\", \"#FF97FF\", \"#FECB52\"], \"font\": {\"color\": \"#2a3f5f\"}, \"geo\": {\"bgcolor\": \"white\", \"lakecolor\": \"white\", \"landcolor\": \"#E5ECF6\", \"showlakes\": true, \"showland\": true, \"subunitcolor\": \"white\"}, \"hoverlabel\": {\"align\": \"left\"}, \"hovermode\": \"closest\", \"mapbox\": {\"style\": \"light\"}, \"paper_bgcolor\": \"white\", \"plot_bgcolor\": \"#E5ECF6\", \"polar\": {\"angularaxis\": {\"gridcolor\": \"white\", \"linecolor\": \"white\", \"ticks\": \"\"}, \"bgcolor\": \"#E5ECF6\", \"radialaxis\": {\"gridcolor\": \"white\", \"linecolor\": \"white\", \"ticks\": \"\"}}, \"scene\": {\"xaxis\": {\"backgroundcolor\": \"#E5ECF6\", \"gridcolor\": \"white\", \"gridwidth\": 2, \"linecolor\": \"white\", \"showbackground\": true, \"ticks\": \"\", \"zerolinecolor\": \"white\"}, \"yaxis\": {\"backgroundcolor\": \"#E5ECF6\", \"gridcolor\": \"white\", \"gridwidth\": 2, \"linecolor\": \"white\", \"showbackground\": true, \"ticks\": \"\", \"zerolinecolor\": \"white\"}, \"zaxis\": {\"backgroundcolor\": \"#E5ECF6\", \"gridcolor\": \"white\", \"gridwidth\": 2, \"linecolor\": \"white\", \"showbackground\": true, \"ticks\": \"\", \"zerolinecolor\": \"white\"}}, \"shapedefaults\": {\"line\": {\"color\": \"#2a3f5f\"}}, \"ternary\": {\"aaxis\": {\"gridcolor\": \"white\", \"linecolor\": \"white\", \"ticks\": \"\"}, \"baxis\": {\"gridcolor\": \"white\", \"linecolor\": \"white\", \"ticks\": \"\"}, \"bgcolor\": \"#E5ECF6\", \"caxis\": {\"gridcolor\": \"white\", \"linecolor\": \"white\", \"ticks\": \"\"}}, \"title\": {\"x\": 0.05}, \"xaxis\": {\"automargin\": true, \"gridcolor\": \"white\", \"linecolor\": \"white\", \"ticks\": \"\", \"title\": {\"standoff\": 15}, \"zerolinecolor\": \"white\", \"zerolinewidth\": 2}, \"yaxis\": {\"automargin\": true, \"gridcolor\": \"white\", \"linecolor\": \"white\", \"ticks\": \"\", \"title\": {\"standoff\": 15}, \"zerolinecolor\": \"white\", \"zerolinewidth\": 2}}}, \"title\": {\"font\": {\"color\": \"#4D5663\"}}, \"xaxis\": {\"gridcolor\": \"#E1E5ED\", \"showgrid\": true, \"tickfont\": {\"color\": \"#4D5663\"}, \"title\": {\"font\": {\"color\": \"#4D5663\"}, \"text\": \"\"}, \"zerolinecolor\": \"#E1E5ED\"}, \"yaxis\": {\"gridcolor\": \"#E1E5ED\", \"showgrid\": true, \"tickfont\": {\"color\": \"#4D5663\"}, \"title\": {\"font\": {\"color\": \"#4D5663\"}, \"text\": \"\"}, \"zerolinecolor\": \"#E1E5ED\"}},\n",
       "                        {\"showLink\": true, \"linkText\": \"Export to plot.ly\", \"plotlyServerURL\": \"https://plot.ly\", \"responsive\": true}\n",
       "                    ).then(function(){\n",
       "                            \n",
       "var gd = document.getElementById('6f4b30fe-07d5-49af-900b-59f1cfa5f036');\n",
       "var x = new MutationObserver(function (mutations, observer) {{\n",
       "        var display = window.getComputedStyle(gd).display;\n",
       "        if (!display || display === 'none') {{\n",
       "            console.log([gd, 'removed!']);\n",
       "            Plotly.purge(gd);\n",
       "            observer.disconnect();\n",
       "        }}\n",
       "}});\n",
       "\n",
       "// Listen for the removal of the full notebook cells\n",
       "var notebookContainer = gd.closest('#notebook-container');\n",
       "if (notebookContainer) {{\n",
       "    x.observe(notebookContainer, {childList: true});\n",
       "}}\n",
       "\n",
       "// Listen for the clearing of the current output cell\n",
       "var outputEl = gd.closest('.output');\n",
       "if (outputEl) {{\n",
       "    x.observe(outputEl, {childList: true});\n",
       "}}\n",
       "\n",
       "                        })\n",
       "                };\n",
       "                });\n",
       "            </script>\n",
       "        </div>"
      ]
     },
     "metadata": {},
     "output_type": "display_data"
    }
   ],
   "source": [
    "df.iplot(kind=\"bubble\",x='A',y='B',size='C',color=\"orange\")"
   ]
  },
  {
   "cell_type": "code",
   "execution_count": 46,
   "metadata": {},
   "outputs": [
    {
     "data": {
      "application/vnd.plotly.v1+json": {
       "config": {
        "linkText": "Export to plot.ly",
        "plotlyServerURL": "https://plot.ly",
        "showLink": true
       },
       "data": [
        {
         "histfunc": "count",
         "histnorm": "",
         "marker": {
          "color": "rgba(255, 153, 51, 1.0)",
          "line": {
           "color": "#4D5663",
           "width": 1.3
          }
         },
         "name": "A",
         "nbinsx": 10,
         "opacity": 0.8,
         "orientation": "v",
         "type": "histogram",
         "x": [
          -0.01662130328228244,
          0.8952922062355154,
          0.08493791794765844,
          -0.09589135686355073,
          -0.4122201947502266,
          -0.20360574556365796,
          -1.3226112787089954,
          -0.7048337371978483,
          0.04150771300361059,
          -0.016184912767458252,
          -0.7836247979483332,
          -0.41697995913853403,
          -1.5145544317741388,
          -0.9872935372845854,
          2.8600594602810627,
          0.7879441726553916,
          -0.2813608872356518,
          -0.6513622033836487,
          -0.3833614492804819,
          0.16483281378445427,
          -2.1741767017157674,
          -1.6507999144342882,
          1.233849002951117,
          1.8853071817620293,
          -1.5954169238801832,
          -0.5522359603285474,
          -0.1776701185864922,
          -0.44322099515839536,
          1.0203828724791646,
          -0.746502813707562,
          -0.9880780584427672,
          -0.1989813172992508,
          1.028266715119139,
          0.9046343789939094,
          -0.24335430626921478,
          1.4808496271033058,
          1.183551097291823,
          0.7818177335952013,
          2.6317909237286803,
          -1.43255595184391,
          -0.5375396949804877,
          -0.9652461283114274,
          -0.37225584275459644,
          0.14086596179529387,
          2.1088529093442165,
          1.754446737290178,
          0.3204895796285177,
          0.5431393205854986,
          -0.26921450300987526,
          1.2276137248806802,
          2.18564194957632,
          -0.4189445878428453,
          -0.08003270330739348,
          0.8616685014005222,
          0.3204625049333791,
          -0.5444096849865591,
          1.4381126068067536,
          -1.5508518741330823,
          -1.7451055721182847,
          1.393700428608044,
          0.5528230108651216,
          -0.6354989243573955,
          0.5941962167234219,
          -1.498736192404156,
          1.2550871276452416,
          -0.8096320399507062,
          0.24176403155914405,
          0.4183631446701141,
          -1.7819580157798707,
          -0.587756797309145,
          -0.38795341821094526,
          0.07830346473682828,
          0.002456668961825936,
          1.9450473657318994,
          0.7258558214498236,
          -1.0099384838064072,
          0.28353464707170767,
          -1.0649028041957125,
          0.5771518242200254,
          0.8046577717798538,
          -0.10976143995602793,
          1.0417233039507987,
          -0.6800719626994939,
          -0.6139450381025275,
          0.46504150196282273,
          0.48002415552846633,
          -2.0624178821863004,
          1.4590453138925938,
          -0.06592069257443393,
          1.3037006920198502,
          -1.0417291996549434,
          -1.393953962398956,
          -0.09525476965697717,
          -0.11489070095885666,
          2.4005052823632567,
          -0.9318581112304919,
          0.941522431201813,
          0.19568237193128438,
          0.10374442540451675,
          -1.3981329572930432
         ],
         "xaxis": "x",
         "yaxis": "y"
        },
        {
         "line": {
          "color": "rgba(128, 128, 128, 1.0)",
          "dash": "solid",
          "shape": "linear",
          "width": 1.3
         },
         "marker": {
          "size": 2,
          "symbol": "circle"
         },
         "mode": "markers",
         "name": "A",
         "text": "",
         "type": "scatter",
         "x": [
          -0.43085692617183563,
          -0.1948859952808109,
          0.25661125162705656,
          -1.3086950885020459,
          0.8330382361581136,
          -0.6953289463874578,
          -0.041546759765450116,
          0.3766966051839097,
          -0.4106742584914722,
          -0.5017699496138679,
          0.011010566296178933,
          0.7150811983334743,
          0.8531750275133767,
          2.1930241736297655,
          0.6183354743888189,
          -0.2543897369151032,
          1.976789309709738,
          0.9045016370030701,
          0.6176953549838936,
          -0.4420620066123814,
          0.004259990892965676,
          -0.6890818854195719,
          0.1284746414788866,
          1.1565973705210073,
          -0.1669069048135824,
          0.9510917351310352,
          0.3776204353934389,
          -0.6104100303510119,
          0.8194742730220135,
          1.040708142451746,
          -0.8233687567505201,
          -1.1344997698956967,
          -0.2957474277602403,
          -0.6732382334575902,
          -0.20198607174310862,
          -0.5191193334283744,
          0.025830849269225062,
          -0.7336763065006728,
          1.2444882142572342,
          -1.4366617646017776,
          1.1881118540595137,
          0.954362185403333,
          -0.1636882464763225,
          0.2585056931294286,
          0.307000591264868,
          0.5053904332689658,
          1.371257331498223,
          0.8284466732128394,
          -1.6398779068387968,
          0.1312492505552544,
          -2.0782358481550904,
          -0.045307906304940145,
          0.16728844758876973,
          0.4199691612388556,
          0.5537924522559142,
          -0.472466174965874,
          -0.43842800336219834,
          -0.8086583687303776,
          -1.4472922254350542,
          1.5432229404089068,
          0.09327407639879354,
          -1.7151607168181384,
          0.31547264421701804,
          -0.6409782017093438,
          -0.5888934484654935,
          -0.2589297494469279,
          0.4095662405359321,
          -0.7827392201998249,
          0.8536261771615004,
          -0.13667988806894107,
          0.014275802400758018,
          0.2700521255686095,
          0.0713171499641922,
          -1.6360217944335709,
          1.1316472826520418,
          0.21966931057515063,
          -1.0415257873712767,
          -0.673080884585363,
          0.6417494538653378,
          -2.575256173392799,
          -1.301392718985718,
          -1.3280555679474806,
          -0.3988933059066309,
          -1.4320562115681523,
          -0.5208466357235377,
          0.6283326705144111,
          -0.4993914177816305,
          2.3803973130583707,
          -1.404107842111614,
          -0.05799211063099601,
          -1.1984196002600367,
          -0.14252971995716965,
          -0.3981381038453286,
          -0.3917743490224008,
          1.5356909803434518,
          0.5644974004458589,
          0.36323243100145386,
          0.5520098897203459,
          -0.6462900576233668,
          1.1144001381118762
         ],
         "xaxis": "x2",
         "y": [
          -0.01662130328228244,
          0.8952922062355154,
          0.08493791794765844,
          -0.09589135686355073,
          -0.4122201947502266,
          -0.20360574556365796,
          -1.3226112787089954,
          -0.7048337371978483,
          0.04150771300361059,
          -0.016184912767458252,
          -0.7836247979483332,
          -0.41697995913853403,
          -1.5145544317741388,
          -0.9872935372845854,
          2.8600594602810627,
          0.7879441726553916,
          -0.2813608872356518,
          -0.6513622033836487,
          -0.3833614492804819,
          0.16483281378445427,
          -2.1741767017157674,
          -1.6507999144342882,
          1.233849002951117,
          1.8853071817620293,
          -1.5954169238801832,
          -0.5522359603285474,
          -0.1776701185864922,
          -0.44322099515839536,
          1.0203828724791646,
          -0.746502813707562,
          -0.9880780584427672,
          -0.1989813172992508,
          1.028266715119139,
          0.9046343789939094,
          -0.24335430626921478,
          1.4808496271033058,
          1.183551097291823,
          0.7818177335952013,
          2.6317909237286803,
          -1.43255595184391,
          -0.5375396949804877,
          -0.9652461283114274,
          -0.37225584275459644,
          0.14086596179529387,
          2.1088529093442165,
          1.754446737290178,
          0.3204895796285177,
          0.5431393205854986,
          -0.26921450300987526,
          1.2276137248806802,
          2.18564194957632,
          -0.4189445878428453,
          -0.08003270330739348,
          0.8616685014005222,
          0.3204625049333791,
          -0.5444096849865591,
          1.4381126068067536,
          -1.5508518741330823,
          -1.7451055721182847,
          1.393700428608044,
          0.5528230108651216,
          -0.6354989243573955,
          0.5941962167234219,
          -1.498736192404156,
          1.2550871276452416,
          -0.8096320399507062,
          0.24176403155914405,
          0.4183631446701141,
          -1.7819580157798707,
          -0.587756797309145,
          -0.38795341821094526,
          0.07830346473682828,
          0.002456668961825936,
          1.9450473657318994,
          0.7258558214498236,
          -1.0099384838064072,
          0.28353464707170767,
          -1.0649028041957125,
          0.5771518242200254,
          0.8046577717798538,
          -0.10976143995602793,
          1.0417233039507987,
          -0.6800719626994939,
          -0.6139450381025275,
          0.46504150196282273,
          0.48002415552846633,
          -2.0624178821863004,
          1.4590453138925938,
          -0.06592069257443393,
          1.3037006920198502,
          -1.0417291996549434,
          -1.393953962398956,
          -0.09525476965697717,
          -0.11489070095885666,
          2.4005052823632567,
          -0.9318581112304919,
          0.941522431201813,
          0.19568237193128438,
          0.10374442540451675,
          -1.3981329572930432
         ],
         "yaxis": "y2"
        },
        {
         "line": {
          "color": "rgba(128, 128, 128, 1.0)",
          "dash": "solid",
          "shape": "linear",
          "width": 1.3
         },
         "marker": {
          "size": 2,
          "symbol": "circle"
         },
         "mode": "markers",
         "name": "A",
         "text": "",
         "type": "scatter",
         "x": [
          -2.0092660704673566,
          -1.2598029689852777,
          -0.2760950755895815,
          -0.9365077817146868,
          -0.7467722748457818,
          -0.7267174990662252,
          0.8107639722666636,
          0.3018313256185027,
          -0.2779338079594555,
          1.0850989578462957,
          1.0633890945862559,
          0.19984988072986953,
          -1.0240416296636121,
          0.5038285176790187,
          0.06717667510847727,
          0.7185919144131047,
          -0.49171157314491626,
          -0.7679077810892389,
          1.5701249112688236,
          -0.47251103418643026,
          1.9430557828822212,
          0.2379297319180449,
          0.36707306677115453,
          0.006699107693457233,
          -1.0180537128174496,
          -0.6080580473072035,
          1.0185946954688905,
          0.5714696913211738,
          0.09143339844861038,
          2.070139494439533,
          1.140804725949334,
          0.6126110616024626,
          0.4563101220852704,
          -2.2654786046256543,
          -0.4029428049342183,
          -0.16962658908939526,
          -0.24096898379316878,
          -1.0073125456045633,
          0.28463786120973017,
          0.9529151893853018,
          -1.2378966892029355,
          -0.06963240847971755,
          -0.7032964127927137,
          -0.5809832596471718,
          0.29449307116870876,
          0.33243510188444925,
          0.4977579983615313,
          -0.9257449819489063,
          -0.41725764974537366,
          0.4848070737197375,
          0.43930170517402317,
          0.23065023494261755,
          0.4816217241293878,
          0.04799816907981186,
          -0.3974323820653122,
          0.7903361874598068,
          1.4322150789264265,
          -1.647709706473274,
          -2.3800258277526543,
          0.6970445446703903,
          0.8316708876679342,
          -1.5158979051133505,
          -0.14986630629837563,
          -1.0493727521665157,
          1.701201455937589,
          -0.1410913288683814,
          0.2685239479223764,
          -0.7600369349891372,
          -0.4742547385039707,
          -0.8220107130507899,
          0.8445080140789566,
          -0.324027172344423,
          -0.4178030661196102,
          -0.26596041408454146,
          0.5523489460368105,
          -0.7026605411631265,
          0.13994365329359548,
          -0.04065613857973858,
          -0.28547939736187256,
          0.3388705179018651,
          0.9668821132900235,
          1.7880873782211257,
          1.9386610560756863,
          -0.34094180091834364,
          -1.1192837035162806,
          0.6279726842636103,
          0.6200042114970403,
          -1.4264867124427423,
          -1.809853283787445,
          -1.193888458973862,
          0.08685450082155578,
          -0.7102321011128129,
          1.2846765718116526,
          -1.123680140228286,
          -0.2806606072097656,
          -1.4896739546532576,
          0.6295603599603866,
          1.1136656548999315,
          0.9536097103790099,
          -0.7080867626264907
         ],
         "xaxis": "x3",
         "y": [
          -0.01662130328228244,
          0.8952922062355154,
          0.08493791794765844,
          -0.09589135686355073,
          -0.4122201947502266,
          -0.20360574556365796,
          -1.3226112787089954,
          -0.7048337371978483,
          0.04150771300361059,
          -0.016184912767458252,
          -0.7836247979483332,
          -0.41697995913853403,
          -1.5145544317741388,
          -0.9872935372845854,
          2.8600594602810627,
          0.7879441726553916,
          -0.2813608872356518,
          -0.6513622033836487,
          -0.3833614492804819,
          0.16483281378445427,
          -2.1741767017157674,
          -1.6507999144342882,
          1.233849002951117,
          1.8853071817620293,
          -1.5954169238801832,
          -0.5522359603285474,
          -0.1776701185864922,
          -0.44322099515839536,
          1.0203828724791646,
          -0.746502813707562,
          -0.9880780584427672,
          -0.1989813172992508,
          1.028266715119139,
          0.9046343789939094,
          -0.24335430626921478,
          1.4808496271033058,
          1.183551097291823,
          0.7818177335952013,
          2.6317909237286803,
          -1.43255595184391,
          -0.5375396949804877,
          -0.9652461283114274,
          -0.37225584275459644,
          0.14086596179529387,
          2.1088529093442165,
          1.754446737290178,
          0.3204895796285177,
          0.5431393205854986,
          -0.26921450300987526,
          1.2276137248806802,
          2.18564194957632,
          -0.4189445878428453,
          -0.08003270330739348,
          0.8616685014005222,
          0.3204625049333791,
          -0.5444096849865591,
          1.4381126068067536,
          -1.5508518741330823,
          -1.7451055721182847,
          1.393700428608044,
          0.5528230108651216,
          -0.6354989243573955,
          0.5941962167234219,
          -1.498736192404156,
          1.2550871276452416,
          -0.8096320399507062,
          0.24176403155914405,
          0.4183631446701141,
          -1.7819580157798707,
          -0.587756797309145,
          -0.38795341821094526,
          0.07830346473682828,
          0.002456668961825936,
          1.9450473657318994,
          0.7258558214498236,
          -1.0099384838064072,
          0.28353464707170767,
          -1.0649028041957125,
          0.5771518242200254,
          0.8046577717798538,
          -0.10976143995602793,
          1.0417233039507987,
          -0.6800719626994939,
          -0.6139450381025275,
          0.46504150196282273,
          0.48002415552846633,
          -2.0624178821863004,
          1.4590453138925938,
          -0.06592069257443393,
          1.3037006920198502,
          -1.0417291996549434,
          -1.393953962398956,
          -0.09525476965697717,
          -0.11489070095885666,
          2.4005052823632567,
          -0.9318581112304919,
          0.941522431201813,
          0.19568237193128438,
          0.10374442540451675,
          -1.3981329572930432
         ],
         "yaxis": "y3"
        },
        {
         "line": {
          "color": "rgba(128, 128, 128, 1.0)",
          "dash": "solid",
          "shape": "linear",
          "width": 1.3
         },
         "marker": {
          "size": 2,
          "symbol": "circle"
         },
         "mode": "markers",
         "name": "A",
         "text": "",
         "type": "scatter",
         "x": [
          1.0501701145422817,
          0.4451796840776505,
          0.019322074864412696,
          0.9953761305418058,
          0.5110397705048686,
          -0.803700035088617,
          2.6444092391724636,
          0.7893356856324825,
          -0.08471694230445719,
          -1.3109737377927366,
          0.4248306638940191,
          1.3717385676996887,
          0.40107501810780155,
          -0.8911298914144757,
          -0.17802975610778662,
          0.45954921920579067,
          -1.2291934521608001,
          1.5879628450775962,
          2.3950384881567475,
          0.7864211027184705,
          0.44696414651942606,
          -0.7688917608863599,
          0.8034469969539286,
          -0.2441696518488366,
          0.7946135467706282,
          0.4629228010763608,
          2.4375744559135692,
          -2.0666459708872487,
          1.3369394395351957,
          0.281544068694196,
          1.40868549926317,
          1.7007000788755262,
          -0.5707362211763846,
          0.30086898022664293,
          -0.9768980954609655,
          0.3212560453655524,
          0.7156443033399906,
          -1.2165459335403617,
          -0.20839221483710563,
          -0.0058505078818461,
          -0.6256249650976695,
          -0.34208821825767766,
          2.9057635151997228,
          1.1898121704981293,
          0.7748839366899357,
          0.775858103384347,
          1.734019655618904,
          0.4883218411991308,
          0.48319375293985073,
          0.07251905790818866,
          -0.2737028732193538,
          -0.21945236052007253,
          -0.8829581220812761,
          -1.3291278492107135,
          2.327960742028899,
          0.11235642184377229,
          -0.31755903220376597,
          1.3147441857811188,
          0.4011430411094645,
          -0.859875508599031,
          0.6827306411077664,
          1.4857854264842902,
          0.7311732289637328,
          -2.418153976778658,
          0.9536327739040761,
          -1.7769454655989747,
          -0.42076296424642096,
          -1.1229235007551497,
          -0.41217731324319673,
          2.099699703404748,
          -1.9289629279399207,
          -0.5093084117755678,
          1.0742848834728373,
          0.6702312418547619,
          -0.25349917550157963,
          -0.669305397468498,
          -1.693821178889706,
          0.5103274302378665,
          1.0541391062646233,
          -0.5976418342961541,
          0.8682392696715692,
          -0.6697941242150638,
          0.9742988020969872,
          0.4783934061363041,
          -0.10945425289967044,
          0.5579648469307343,
          0.061882101624842645,
          -0.45157774335416456,
          0.6161163305270498,
          -0.054394521326319764,
          -1.5735721687894109,
          0.5705772210638205,
          0.5761796006749031,
          0.1844921493983869,
          -0.24892164936248318,
          -1.2743548062088557,
          0.6984023222628456,
          1.1154228312324685,
          -0.7900145646772628,
          -0.4938822454556439
         ],
         "xaxis": "x4",
         "y": [
          -0.01662130328228244,
          0.8952922062355154,
          0.08493791794765844,
          -0.09589135686355073,
          -0.4122201947502266,
          -0.20360574556365796,
          -1.3226112787089954,
          -0.7048337371978483,
          0.04150771300361059,
          -0.016184912767458252,
          -0.7836247979483332,
          -0.41697995913853403,
          -1.5145544317741388,
          -0.9872935372845854,
          2.8600594602810627,
          0.7879441726553916,
          -0.2813608872356518,
          -0.6513622033836487,
          -0.3833614492804819,
          0.16483281378445427,
          -2.1741767017157674,
          -1.6507999144342882,
          1.233849002951117,
          1.8853071817620293,
          -1.5954169238801832,
          -0.5522359603285474,
          -0.1776701185864922,
          -0.44322099515839536,
          1.0203828724791646,
          -0.746502813707562,
          -0.9880780584427672,
          -0.1989813172992508,
          1.028266715119139,
          0.9046343789939094,
          -0.24335430626921478,
          1.4808496271033058,
          1.183551097291823,
          0.7818177335952013,
          2.6317909237286803,
          -1.43255595184391,
          -0.5375396949804877,
          -0.9652461283114274,
          -0.37225584275459644,
          0.14086596179529387,
          2.1088529093442165,
          1.754446737290178,
          0.3204895796285177,
          0.5431393205854986,
          -0.26921450300987526,
          1.2276137248806802,
          2.18564194957632,
          -0.4189445878428453,
          -0.08003270330739348,
          0.8616685014005222,
          0.3204625049333791,
          -0.5444096849865591,
          1.4381126068067536,
          -1.5508518741330823,
          -1.7451055721182847,
          1.393700428608044,
          0.5528230108651216,
          -0.6354989243573955,
          0.5941962167234219,
          -1.498736192404156,
          1.2550871276452416,
          -0.8096320399507062,
          0.24176403155914405,
          0.4183631446701141,
          -1.7819580157798707,
          -0.587756797309145,
          -0.38795341821094526,
          0.07830346473682828,
          0.002456668961825936,
          1.9450473657318994,
          0.7258558214498236,
          -1.0099384838064072,
          0.28353464707170767,
          -1.0649028041957125,
          0.5771518242200254,
          0.8046577717798538,
          -0.10976143995602793,
          1.0417233039507987,
          -0.6800719626994939,
          -0.6139450381025275,
          0.46504150196282273,
          0.48002415552846633,
          -2.0624178821863004,
          1.4590453138925938,
          -0.06592069257443393,
          1.3037006920198502,
          -1.0417291996549434,
          -1.393953962398956,
          -0.09525476965697717,
          -0.11489070095885666,
          2.4005052823632567,
          -0.9318581112304919,
          0.941522431201813,
          0.19568237193128438,
          0.10374442540451675,
          -1.3981329572930432
         ],
         "yaxis": "y4"
        },
        {
         "line": {
          "color": "rgba(128, 128, 128, 1.0)",
          "dash": "solid",
          "shape": "linear",
          "width": 1.3
         },
         "marker": {
          "size": 2,
          "symbol": "circle"
         },
         "mode": "markers",
         "name": "B",
         "text": "",
         "type": "scatter",
         "x": [
          -0.01662130328228244,
          0.8952922062355154,
          0.08493791794765844,
          -0.09589135686355073,
          -0.4122201947502266,
          -0.20360574556365796,
          -1.3226112787089954,
          -0.7048337371978483,
          0.04150771300361059,
          -0.016184912767458252,
          -0.7836247979483332,
          -0.41697995913853403,
          -1.5145544317741388,
          -0.9872935372845854,
          2.8600594602810627,
          0.7879441726553916,
          -0.2813608872356518,
          -0.6513622033836487,
          -0.3833614492804819,
          0.16483281378445427,
          -2.1741767017157674,
          -1.6507999144342882,
          1.233849002951117,
          1.8853071817620293,
          -1.5954169238801832,
          -0.5522359603285474,
          -0.1776701185864922,
          -0.44322099515839536,
          1.0203828724791646,
          -0.746502813707562,
          -0.9880780584427672,
          -0.1989813172992508,
          1.028266715119139,
          0.9046343789939094,
          -0.24335430626921478,
          1.4808496271033058,
          1.183551097291823,
          0.7818177335952013,
          2.6317909237286803,
          -1.43255595184391,
          -0.5375396949804877,
          -0.9652461283114274,
          -0.37225584275459644,
          0.14086596179529387,
          2.1088529093442165,
          1.754446737290178,
          0.3204895796285177,
          0.5431393205854986,
          -0.26921450300987526,
          1.2276137248806802,
          2.18564194957632,
          -0.4189445878428453,
          -0.08003270330739348,
          0.8616685014005222,
          0.3204625049333791,
          -0.5444096849865591,
          1.4381126068067536,
          -1.5508518741330823,
          -1.7451055721182847,
          1.393700428608044,
          0.5528230108651216,
          -0.6354989243573955,
          0.5941962167234219,
          -1.498736192404156,
          1.2550871276452416,
          -0.8096320399507062,
          0.24176403155914405,
          0.4183631446701141,
          -1.7819580157798707,
          -0.587756797309145,
          -0.38795341821094526,
          0.07830346473682828,
          0.002456668961825936,
          1.9450473657318994,
          0.7258558214498236,
          -1.0099384838064072,
          0.28353464707170767,
          -1.0649028041957125,
          0.5771518242200254,
          0.8046577717798538,
          -0.10976143995602793,
          1.0417233039507987,
          -0.6800719626994939,
          -0.6139450381025275,
          0.46504150196282273,
          0.48002415552846633,
          -2.0624178821863004,
          1.4590453138925938,
          -0.06592069257443393,
          1.3037006920198502,
          -1.0417291996549434,
          -1.393953962398956,
          -0.09525476965697717,
          -0.11489070095885666,
          2.4005052823632567,
          -0.9318581112304919,
          0.941522431201813,
          0.19568237193128438,
          0.10374442540451675,
          -1.3981329572930432
         ],
         "xaxis": "x5",
         "y": [
          -0.43085692617183563,
          -0.1948859952808109,
          0.25661125162705656,
          -1.3086950885020459,
          0.8330382361581136,
          -0.6953289463874578,
          -0.041546759765450116,
          0.3766966051839097,
          -0.4106742584914722,
          -0.5017699496138679,
          0.011010566296178933,
          0.7150811983334743,
          0.8531750275133767,
          2.1930241736297655,
          0.6183354743888189,
          -0.2543897369151032,
          1.976789309709738,
          0.9045016370030701,
          0.6176953549838936,
          -0.4420620066123814,
          0.004259990892965676,
          -0.6890818854195719,
          0.1284746414788866,
          1.1565973705210073,
          -0.1669069048135824,
          0.9510917351310352,
          0.3776204353934389,
          -0.6104100303510119,
          0.8194742730220135,
          1.040708142451746,
          -0.8233687567505201,
          -1.1344997698956967,
          -0.2957474277602403,
          -0.6732382334575902,
          -0.20198607174310862,
          -0.5191193334283744,
          0.025830849269225062,
          -0.7336763065006728,
          1.2444882142572342,
          -1.4366617646017776,
          1.1881118540595137,
          0.954362185403333,
          -0.1636882464763225,
          0.2585056931294286,
          0.307000591264868,
          0.5053904332689658,
          1.371257331498223,
          0.8284466732128394,
          -1.6398779068387968,
          0.1312492505552544,
          -2.0782358481550904,
          -0.045307906304940145,
          0.16728844758876973,
          0.4199691612388556,
          0.5537924522559142,
          -0.472466174965874,
          -0.43842800336219834,
          -0.8086583687303776,
          -1.4472922254350542,
          1.5432229404089068,
          0.09327407639879354,
          -1.7151607168181384,
          0.31547264421701804,
          -0.6409782017093438,
          -0.5888934484654935,
          -0.2589297494469279,
          0.4095662405359321,
          -0.7827392201998249,
          0.8536261771615004,
          -0.13667988806894107,
          0.014275802400758018,
          0.2700521255686095,
          0.0713171499641922,
          -1.6360217944335709,
          1.1316472826520418,
          0.21966931057515063,
          -1.0415257873712767,
          -0.673080884585363,
          0.6417494538653378,
          -2.575256173392799,
          -1.301392718985718,
          -1.3280555679474806,
          -0.3988933059066309,
          -1.4320562115681523,
          -0.5208466357235377,
          0.6283326705144111,
          -0.4993914177816305,
          2.3803973130583707,
          -1.404107842111614,
          -0.05799211063099601,
          -1.1984196002600367,
          -0.14252971995716965,
          -0.3981381038453286,
          -0.3917743490224008,
          1.5356909803434518,
          0.5644974004458589,
          0.36323243100145386,
          0.5520098897203459,
          -0.6462900576233668,
          1.1144001381118762
         ],
         "yaxis": "y5"
        },
        {
         "histfunc": "count",
         "histnorm": "",
         "marker": {
          "color": "rgba(55, 128, 191, 1.0)",
          "line": {
           "color": "#4D5663",
           "width": 1.3
          }
         },
         "name": "B",
         "nbinsx": 10,
         "opacity": 0.8,
         "orientation": "v",
         "type": "histogram",
         "x": [
          -0.43085692617183563,
          -0.1948859952808109,
          0.25661125162705656,
          -1.3086950885020459,
          0.8330382361581136,
          -0.6953289463874578,
          -0.041546759765450116,
          0.3766966051839097,
          -0.4106742584914722,
          -0.5017699496138679,
          0.011010566296178933,
          0.7150811983334743,
          0.8531750275133767,
          2.1930241736297655,
          0.6183354743888189,
          -0.2543897369151032,
          1.976789309709738,
          0.9045016370030701,
          0.6176953549838936,
          -0.4420620066123814,
          0.004259990892965676,
          -0.6890818854195719,
          0.1284746414788866,
          1.1565973705210073,
          -0.1669069048135824,
          0.9510917351310352,
          0.3776204353934389,
          -0.6104100303510119,
          0.8194742730220135,
          1.040708142451746,
          -0.8233687567505201,
          -1.1344997698956967,
          -0.2957474277602403,
          -0.6732382334575902,
          -0.20198607174310862,
          -0.5191193334283744,
          0.025830849269225062,
          -0.7336763065006728,
          1.2444882142572342,
          -1.4366617646017776,
          1.1881118540595137,
          0.954362185403333,
          -0.1636882464763225,
          0.2585056931294286,
          0.307000591264868,
          0.5053904332689658,
          1.371257331498223,
          0.8284466732128394,
          -1.6398779068387968,
          0.1312492505552544,
          -2.0782358481550904,
          -0.045307906304940145,
          0.16728844758876973,
          0.4199691612388556,
          0.5537924522559142,
          -0.472466174965874,
          -0.43842800336219834,
          -0.8086583687303776,
          -1.4472922254350542,
          1.5432229404089068,
          0.09327407639879354,
          -1.7151607168181384,
          0.31547264421701804,
          -0.6409782017093438,
          -0.5888934484654935,
          -0.2589297494469279,
          0.4095662405359321,
          -0.7827392201998249,
          0.8536261771615004,
          -0.13667988806894107,
          0.014275802400758018,
          0.2700521255686095,
          0.0713171499641922,
          -1.6360217944335709,
          1.1316472826520418,
          0.21966931057515063,
          -1.0415257873712767,
          -0.673080884585363,
          0.6417494538653378,
          -2.575256173392799,
          -1.301392718985718,
          -1.3280555679474806,
          -0.3988933059066309,
          -1.4320562115681523,
          -0.5208466357235377,
          0.6283326705144111,
          -0.4993914177816305,
          2.3803973130583707,
          -1.404107842111614,
          -0.05799211063099601,
          -1.1984196002600367,
          -0.14252971995716965,
          -0.3981381038453286,
          -0.3917743490224008,
          1.5356909803434518,
          0.5644974004458589,
          0.36323243100145386,
          0.5520098897203459,
          -0.6462900576233668,
          1.1144001381118762
         ],
         "xaxis": "x6",
         "yaxis": "y6"
        },
        {
         "line": {
          "color": "rgba(128, 128, 128, 1.0)",
          "dash": "solid",
          "shape": "linear",
          "width": 1.3
         },
         "marker": {
          "size": 2,
          "symbol": "circle"
         },
         "mode": "markers",
         "name": "B",
         "text": "",
         "type": "scatter",
         "x": [
          -2.0092660704673566,
          -1.2598029689852777,
          -0.2760950755895815,
          -0.9365077817146868,
          -0.7467722748457818,
          -0.7267174990662252,
          0.8107639722666636,
          0.3018313256185027,
          -0.2779338079594555,
          1.0850989578462957,
          1.0633890945862559,
          0.19984988072986953,
          -1.0240416296636121,
          0.5038285176790187,
          0.06717667510847727,
          0.7185919144131047,
          -0.49171157314491626,
          -0.7679077810892389,
          1.5701249112688236,
          -0.47251103418643026,
          1.9430557828822212,
          0.2379297319180449,
          0.36707306677115453,
          0.006699107693457233,
          -1.0180537128174496,
          -0.6080580473072035,
          1.0185946954688905,
          0.5714696913211738,
          0.09143339844861038,
          2.070139494439533,
          1.140804725949334,
          0.6126110616024626,
          0.4563101220852704,
          -2.2654786046256543,
          -0.4029428049342183,
          -0.16962658908939526,
          -0.24096898379316878,
          -1.0073125456045633,
          0.28463786120973017,
          0.9529151893853018,
          -1.2378966892029355,
          -0.06963240847971755,
          -0.7032964127927137,
          -0.5809832596471718,
          0.29449307116870876,
          0.33243510188444925,
          0.4977579983615313,
          -0.9257449819489063,
          -0.41725764974537366,
          0.4848070737197375,
          0.43930170517402317,
          0.23065023494261755,
          0.4816217241293878,
          0.04799816907981186,
          -0.3974323820653122,
          0.7903361874598068,
          1.4322150789264265,
          -1.647709706473274,
          -2.3800258277526543,
          0.6970445446703903,
          0.8316708876679342,
          -1.5158979051133505,
          -0.14986630629837563,
          -1.0493727521665157,
          1.701201455937589,
          -0.1410913288683814,
          0.2685239479223764,
          -0.7600369349891372,
          -0.4742547385039707,
          -0.8220107130507899,
          0.8445080140789566,
          -0.324027172344423,
          -0.4178030661196102,
          -0.26596041408454146,
          0.5523489460368105,
          -0.7026605411631265,
          0.13994365329359548,
          -0.04065613857973858,
          -0.28547939736187256,
          0.3388705179018651,
          0.9668821132900235,
          1.7880873782211257,
          1.9386610560756863,
          -0.34094180091834364,
          -1.1192837035162806,
          0.6279726842636103,
          0.6200042114970403,
          -1.4264867124427423,
          -1.809853283787445,
          -1.193888458973862,
          0.08685450082155578,
          -0.7102321011128129,
          1.2846765718116526,
          -1.123680140228286,
          -0.2806606072097656,
          -1.4896739546532576,
          0.6295603599603866,
          1.1136656548999315,
          0.9536097103790099,
          -0.7080867626264907
         ],
         "xaxis": "x7",
         "y": [
          -0.43085692617183563,
          -0.1948859952808109,
          0.25661125162705656,
          -1.3086950885020459,
          0.8330382361581136,
          -0.6953289463874578,
          -0.041546759765450116,
          0.3766966051839097,
          -0.4106742584914722,
          -0.5017699496138679,
          0.011010566296178933,
          0.7150811983334743,
          0.8531750275133767,
          2.1930241736297655,
          0.6183354743888189,
          -0.2543897369151032,
          1.976789309709738,
          0.9045016370030701,
          0.6176953549838936,
          -0.4420620066123814,
          0.004259990892965676,
          -0.6890818854195719,
          0.1284746414788866,
          1.1565973705210073,
          -0.1669069048135824,
          0.9510917351310352,
          0.3776204353934389,
          -0.6104100303510119,
          0.8194742730220135,
          1.040708142451746,
          -0.8233687567505201,
          -1.1344997698956967,
          -0.2957474277602403,
          -0.6732382334575902,
          -0.20198607174310862,
          -0.5191193334283744,
          0.025830849269225062,
          -0.7336763065006728,
          1.2444882142572342,
          -1.4366617646017776,
          1.1881118540595137,
          0.954362185403333,
          -0.1636882464763225,
          0.2585056931294286,
          0.307000591264868,
          0.5053904332689658,
          1.371257331498223,
          0.8284466732128394,
          -1.6398779068387968,
          0.1312492505552544,
          -2.0782358481550904,
          -0.045307906304940145,
          0.16728844758876973,
          0.4199691612388556,
          0.5537924522559142,
          -0.472466174965874,
          -0.43842800336219834,
          -0.8086583687303776,
          -1.4472922254350542,
          1.5432229404089068,
          0.09327407639879354,
          -1.7151607168181384,
          0.31547264421701804,
          -0.6409782017093438,
          -0.5888934484654935,
          -0.2589297494469279,
          0.4095662405359321,
          -0.7827392201998249,
          0.8536261771615004,
          -0.13667988806894107,
          0.014275802400758018,
          0.2700521255686095,
          0.0713171499641922,
          -1.6360217944335709,
          1.1316472826520418,
          0.21966931057515063,
          -1.0415257873712767,
          -0.673080884585363,
          0.6417494538653378,
          -2.575256173392799,
          -1.301392718985718,
          -1.3280555679474806,
          -0.3988933059066309,
          -1.4320562115681523,
          -0.5208466357235377,
          0.6283326705144111,
          -0.4993914177816305,
          2.3803973130583707,
          -1.404107842111614,
          -0.05799211063099601,
          -1.1984196002600367,
          -0.14252971995716965,
          -0.3981381038453286,
          -0.3917743490224008,
          1.5356909803434518,
          0.5644974004458589,
          0.36323243100145386,
          0.5520098897203459,
          -0.6462900576233668,
          1.1144001381118762
         ],
         "yaxis": "y7"
        },
        {
         "line": {
          "color": "rgba(128, 128, 128, 1.0)",
          "dash": "solid",
          "shape": "linear",
          "width": 1.3
         },
         "marker": {
          "size": 2,
          "symbol": "circle"
         },
         "mode": "markers",
         "name": "B",
         "text": "",
         "type": "scatter",
         "x": [
          1.0501701145422817,
          0.4451796840776505,
          0.019322074864412696,
          0.9953761305418058,
          0.5110397705048686,
          -0.803700035088617,
          2.6444092391724636,
          0.7893356856324825,
          -0.08471694230445719,
          -1.3109737377927366,
          0.4248306638940191,
          1.3717385676996887,
          0.40107501810780155,
          -0.8911298914144757,
          -0.17802975610778662,
          0.45954921920579067,
          -1.2291934521608001,
          1.5879628450775962,
          2.3950384881567475,
          0.7864211027184705,
          0.44696414651942606,
          -0.7688917608863599,
          0.8034469969539286,
          -0.2441696518488366,
          0.7946135467706282,
          0.4629228010763608,
          2.4375744559135692,
          -2.0666459708872487,
          1.3369394395351957,
          0.281544068694196,
          1.40868549926317,
          1.7007000788755262,
          -0.5707362211763846,
          0.30086898022664293,
          -0.9768980954609655,
          0.3212560453655524,
          0.7156443033399906,
          -1.2165459335403617,
          -0.20839221483710563,
          -0.0058505078818461,
          -0.6256249650976695,
          -0.34208821825767766,
          2.9057635151997228,
          1.1898121704981293,
          0.7748839366899357,
          0.775858103384347,
          1.734019655618904,
          0.4883218411991308,
          0.48319375293985073,
          0.07251905790818866,
          -0.2737028732193538,
          -0.21945236052007253,
          -0.8829581220812761,
          -1.3291278492107135,
          2.327960742028899,
          0.11235642184377229,
          -0.31755903220376597,
          1.3147441857811188,
          0.4011430411094645,
          -0.859875508599031,
          0.6827306411077664,
          1.4857854264842902,
          0.7311732289637328,
          -2.418153976778658,
          0.9536327739040761,
          -1.7769454655989747,
          -0.42076296424642096,
          -1.1229235007551497,
          -0.41217731324319673,
          2.099699703404748,
          -1.9289629279399207,
          -0.5093084117755678,
          1.0742848834728373,
          0.6702312418547619,
          -0.25349917550157963,
          -0.669305397468498,
          -1.693821178889706,
          0.5103274302378665,
          1.0541391062646233,
          -0.5976418342961541,
          0.8682392696715692,
          -0.6697941242150638,
          0.9742988020969872,
          0.4783934061363041,
          -0.10945425289967044,
          0.5579648469307343,
          0.061882101624842645,
          -0.45157774335416456,
          0.6161163305270498,
          -0.054394521326319764,
          -1.5735721687894109,
          0.5705772210638205,
          0.5761796006749031,
          0.1844921493983869,
          -0.24892164936248318,
          -1.2743548062088557,
          0.6984023222628456,
          1.1154228312324685,
          -0.7900145646772628,
          -0.4938822454556439
         ],
         "xaxis": "x8",
         "y": [
          -0.43085692617183563,
          -0.1948859952808109,
          0.25661125162705656,
          -1.3086950885020459,
          0.8330382361581136,
          -0.6953289463874578,
          -0.041546759765450116,
          0.3766966051839097,
          -0.4106742584914722,
          -0.5017699496138679,
          0.011010566296178933,
          0.7150811983334743,
          0.8531750275133767,
          2.1930241736297655,
          0.6183354743888189,
          -0.2543897369151032,
          1.976789309709738,
          0.9045016370030701,
          0.6176953549838936,
          -0.4420620066123814,
          0.004259990892965676,
          -0.6890818854195719,
          0.1284746414788866,
          1.1565973705210073,
          -0.1669069048135824,
          0.9510917351310352,
          0.3776204353934389,
          -0.6104100303510119,
          0.8194742730220135,
          1.040708142451746,
          -0.8233687567505201,
          -1.1344997698956967,
          -0.2957474277602403,
          -0.6732382334575902,
          -0.20198607174310862,
          -0.5191193334283744,
          0.025830849269225062,
          -0.7336763065006728,
          1.2444882142572342,
          -1.4366617646017776,
          1.1881118540595137,
          0.954362185403333,
          -0.1636882464763225,
          0.2585056931294286,
          0.307000591264868,
          0.5053904332689658,
          1.371257331498223,
          0.8284466732128394,
          -1.6398779068387968,
          0.1312492505552544,
          -2.0782358481550904,
          -0.045307906304940145,
          0.16728844758876973,
          0.4199691612388556,
          0.5537924522559142,
          -0.472466174965874,
          -0.43842800336219834,
          -0.8086583687303776,
          -1.4472922254350542,
          1.5432229404089068,
          0.09327407639879354,
          -1.7151607168181384,
          0.31547264421701804,
          -0.6409782017093438,
          -0.5888934484654935,
          -0.2589297494469279,
          0.4095662405359321,
          -0.7827392201998249,
          0.8536261771615004,
          -0.13667988806894107,
          0.014275802400758018,
          0.2700521255686095,
          0.0713171499641922,
          -1.6360217944335709,
          1.1316472826520418,
          0.21966931057515063,
          -1.0415257873712767,
          -0.673080884585363,
          0.6417494538653378,
          -2.575256173392799,
          -1.301392718985718,
          -1.3280555679474806,
          -0.3988933059066309,
          -1.4320562115681523,
          -0.5208466357235377,
          0.6283326705144111,
          -0.4993914177816305,
          2.3803973130583707,
          -1.404107842111614,
          -0.05799211063099601,
          -1.1984196002600367,
          -0.14252971995716965,
          -0.3981381038453286,
          -0.3917743490224008,
          1.5356909803434518,
          0.5644974004458589,
          0.36323243100145386,
          0.5520098897203459,
          -0.6462900576233668,
          1.1144001381118762
         ],
         "yaxis": "y8"
        },
        {
         "line": {
          "color": "rgba(128, 128, 128, 1.0)",
          "dash": "solid",
          "shape": "linear",
          "width": 1.3
         },
         "marker": {
          "size": 2,
          "symbol": "circle"
         },
         "mode": "markers",
         "name": "C",
         "text": "",
         "type": "scatter",
         "x": [
          -0.01662130328228244,
          0.8952922062355154,
          0.08493791794765844,
          -0.09589135686355073,
          -0.4122201947502266,
          -0.20360574556365796,
          -1.3226112787089954,
          -0.7048337371978483,
          0.04150771300361059,
          -0.016184912767458252,
          -0.7836247979483332,
          -0.41697995913853403,
          -1.5145544317741388,
          -0.9872935372845854,
          2.8600594602810627,
          0.7879441726553916,
          -0.2813608872356518,
          -0.6513622033836487,
          -0.3833614492804819,
          0.16483281378445427,
          -2.1741767017157674,
          -1.6507999144342882,
          1.233849002951117,
          1.8853071817620293,
          -1.5954169238801832,
          -0.5522359603285474,
          -0.1776701185864922,
          -0.44322099515839536,
          1.0203828724791646,
          -0.746502813707562,
          -0.9880780584427672,
          -0.1989813172992508,
          1.028266715119139,
          0.9046343789939094,
          -0.24335430626921478,
          1.4808496271033058,
          1.183551097291823,
          0.7818177335952013,
          2.6317909237286803,
          -1.43255595184391,
          -0.5375396949804877,
          -0.9652461283114274,
          -0.37225584275459644,
          0.14086596179529387,
          2.1088529093442165,
          1.754446737290178,
          0.3204895796285177,
          0.5431393205854986,
          -0.26921450300987526,
          1.2276137248806802,
          2.18564194957632,
          -0.4189445878428453,
          -0.08003270330739348,
          0.8616685014005222,
          0.3204625049333791,
          -0.5444096849865591,
          1.4381126068067536,
          -1.5508518741330823,
          -1.7451055721182847,
          1.393700428608044,
          0.5528230108651216,
          -0.6354989243573955,
          0.5941962167234219,
          -1.498736192404156,
          1.2550871276452416,
          -0.8096320399507062,
          0.24176403155914405,
          0.4183631446701141,
          -1.7819580157798707,
          -0.587756797309145,
          -0.38795341821094526,
          0.07830346473682828,
          0.002456668961825936,
          1.9450473657318994,
          0.7258558214498236,
          -1.0099384838064072,
          0.28353464707170767,
          -1.0649028041957125,
          0.5771518242200254,
          0.8046577717798538,
          -0.10976143995602793,
          1.0417233039507987,
          -0.6800719626994939,
          -0.6139450381025275,
          0.46504150196282273,
          0.48002415552846633,
          -2.0624178821863004,
          1.4590453138925938,
          -0.06592069257443393,
          1.3037006920198502,
          -1.0417291996549434,
          -1.393953962398956,
          -0.09525476965697717,
          -0.11489070095885666,
          2.4005052823632567,
          -0.9318581112304919,
          0.941522431201813,
          0.19568237193128438,
          0.10374442540451675,
          -1.3981329572930432
         ],
         "xaxis": "x9",
         "y": [
          -2.0092660704673566,
          -1.2598029689852777,
          -0.2760950755895815,
          -0.9365077817146868,
          -0.7467722748457818,
          -0.7267174990662252,
          0.8107639722666636,
          0.3018313256185027,
          -0.2779338079594555,
          1.0850989578462957,
          1.0633890945862559,
          0.19984988072986953,
          -1.0240416296636121,
          0.5038285176790187,
          0.06717667510847727,
          0.7185919144131047,
          -0.49171157314491626,
          -0.7679077810892389,
          1.5701249112688236,
          -0.47251103418643026,
          1.9430557828822212,
          0.2379297319180449,
          0.36707306677115453,
          0.006699107693457233,
          -1.0180537128174496,
          -0.6080580473072035,
          1.0185946954688905,
          0.5714696913211738,
          0.09143339844861038,
          2.070139494439533,
          1.140804725949334,
          0.6126110616024626,
          0.4563101220852704,
          -2.2654786046256543,
          -0.4029428049342183,
          -0.16962658908939526,
          -0.24096898379316878,
          -1.0073125456045633,
          0.28463786120973017,
          0.9529151893853018,
          -1.2378966892029355,
          -0.06963240847971755,
          -0.7032964127927137,
          -0.5809832596471718,
          0.29449307116870876,
          0.33243510188444925,
          0.4977579983615313,
          -0.9257449819489063,
          -0.41725764974537366,
          0.4848070737197375,
          0.43930170517402317,
          0.23065023494261755,
          0.4816217241293878,
          0.04799816907981186,
          -0.3974323820653122,
          0.7903361874598068,
          1.4322150789264265,
          -1.647709706473274,
          -2.3800258277526543,
          0.6970445446703903,
          0.8316708876679342,
          -1.5158979051133505,
          -0.14986630629837563,
          -1.0493727521665157,
          1.701201455937589,
          -0.1410913288683814,
          0.2685239479223764,
          -0.7600369349891372,
          -0.4742547385039707,
          -0.8220107130507899,
          0.8445080140789566,
          -0.324027172344423,
          -0.4178030661196102,
          -0.26596041408454146,
          0.5523489460368105,
          -0.7026605411631265,
          0.13994365329359548,
          -0.04065613857973858,
          -0.28547939736187256,
          0.3388705179018651,
          0.9668821132900235,
          1.7880873782211257,
          1.9386610560756863,
          -0.34094180091834364,
          -1.1192837035162806,
          0.6279726842636103,
          0.6200042114970403,
          -1.4264867124427423,
          -1.809853283787445,
          -1.193888458973862,
          0.08685450082155578,
          -0.7102321011128129,
          1.2846765718116526,
          -1.123680140228286,
          -0.2806606072097656,
          -1.4896739546532576,
          0.6295603599603866,
          1.1136656548999315,
          0.9536097103790099,
          -0.7080867626264907
         ],
         "yaxis": "y9"
        },
        {
         "line": {
          "color": "rgba(128, 128, 128, 1.0)",
          "dash": "solid",
          "shape": "linear",
          "width": 1.3
         },
         "marker": {
          "size": 2,
          "symbol": "circle"
         },
         "mode": "markers",
         "name": "C",
         "text": "",
         "type": "scatter",
         "x": [
          -0.43085692617183563,
          -0.1948859952808109,
          0.25661125162705656,
          -1.3086950885020459,
          0.8330382361581136,
          -0.6953289463874578,
          -0.041546759765450116,
          0.3766966051839097,
          -0.4106742584914722,
          -0.5017699496138679,
          0.011010566296178933,
          0.7150811983334743,
          0.8531750275133767,
          2.1930241736297655,
          0.6183354743888189,
          -0.2543897369151032,
          1.976789309709738,
          0.9045016370030701,
          0.6176953549838936,
          -0.4420620066123814,
          0.004259990892965676,
          -0.6890818854195719,
          0.1284746414788866,
          1.1565973705210073,
          -0.1669069048135824,
          0.9510917351310352,
          0.3776204353934389,
          -0.6104100303510119,
          0.8194742730220135,
          1.040708142451746,
          -0.8233687567505201,
          -1.1344997698956967,
          -0.2957474277602403,
          -0.6732382334575902,
          -0.20198607174310862,
          -0.5191193334283744,
          0.025830849269225062,
          -0.7336763065006728,
          1.2444882142572342,
          -1.4366617646017776,
          1.1881118540595137,
          0.954362185403333,
          -0.1636882464763225,
          0.2585056931294286,
          0.307000591264868,
          0.5053904332689658,
          1.371257331498223,
          0.8284466732128394,
          -1.6398779068387968,
          0.1312492505552544,
          -2.0782358481550904,
          -0.045307906304940145,
          0.16728844758876973,
          0.4199691612388556,
          0.5537924522559142,
          -0.472466174965874,
          -0.43842800336219834,
          -0.8086583687303776,
          -1.4472922254350542,
          1.5432229404089068,
          0.09327407639879354,
          -1.7151607168181384,
          0.31547264421701804,
          -0.6409782017093438,
          -0.5888934484654935,
          -0.2589297494469279,
          0.4095662405359321,
          -0.7827392201998249,
          0.8536261771615004,
          -0.13667988806894107,
          0.014275802400758018,
          0.2700521255686095,
          0.0713171499641922,
          -1.6360217944335709,
          1.1316472826520418,
          0.21966931057515063,
          -1.0415257873712767,
          -0.673080884585363,
          0.6417494538653378,
          -2.575256173392799,
          -1.301392718985718,
          -1.3280555679474806,
          -0.3988933059066309,
          -1.4320562115681523,
          -0.5208466357235377,
          0.6283326705144111,
          -0.4993914177816305,
          2.3803973130583707,
          -1.404107842111614,
          -0.05799211063099601,
          -1.1984196002600367,
          -0.14252971995716965,
          -0.3981381038453286,
          -0.3917743490224008,
          1.5356909803434518,
          0.5644974004458589,
          0.36323243100145386,
          0.5520098897203459,
          -0.6462900576233668,
          1.1144001381118762
         ],
         "xaxis": "x10",
         "y": [
          -2.0092660704673566,
          -1.2598029689852777,
          -0.2760950755895815,
          -0.9365077817146868,
          -0.7467722748457818,
          -0.7267174990662252,
          0.8107639722666636,
          0.3018313256185027,
          -0.2779338079594555,
          1.0850989578462957,
          1.0633890945862559,
          0.19984988072986953,
          -1.0240416296636121,
          0.5038285176790187,
          0.06717667510847727,
          0.7185919144131047,
          -0.49171157314491626,
          -0.7679077810892389,
          1.5701249112688236,
          -0.47251103418643026,
          1.9430557828822212,
          0.2379297319180449,
          0.36707306677115453,
          0.006699107693457233,
          -1.0180537128174496,
          -0.6080580473072035,
          1.0185946954688905,
          0.5714696913211738,
          0.09143339844861038,
          2.070139494439533,
          1.140804725949334,
          0.6126110616024626,
          0.4563101220852704,
          -2.2654786046256543,
          -0.4029428049342183,
          -0.16962658908939526,
          -0.24096898379316878,
          -1.0073125456045633,
          0.28463786120973017,
          0.9529151893853018,
          -1.2378966892029355,
          -0.06963240847971755,
          -0.7032964127927137,
          -0.5809832596471718,
          0.29449307116870876,
          0.33243510188444925,
          0.4977579983615313,
          -0.9257449819489063,
          -0.41725764974537366,
          0.4848070737197375,
          0.43930170517402317,
          0.23065023494261755,
          0.4816217241293878,
          0.04799816907981186,
          -0.3974323820653122,
          0.7903361874598068,
          1.4322150789264265,
          -1.647709706473274,
          -2.3800258277526543,
          0.6970445446703903,
          0.8316708876679342,
          -1.5158979051133505,
          -0.14986630629837563,
          -1.0493727521665157,
          1.701201455937589,
          -0.1410913288683814,
          0.2685239479223764,
          -0.7600369349891372,
          -0.4742547385039707,
          -0.8220107130507899,
          0.8445080140789566,
          -0.324027172344423,
          -0.4178030661196102,
          -0.26596041408454146,
          0.5523489460368105,
          -0.7026605411631265,
          0.13994365329359548,
          -0.04065613857973858,
          -0.28547939736187256,
          0.3388705179018651,
          0.9668821132900235,
          1.7880873782211257,
          1.9386610560756863,
          -0.34094180091834364,
          -1.1192837035162806,
          0.6279726842636103,
          0.6200042114970403,
          -1.4264867124427423,
          -1.809853283787445,
          -1.193888458973862,
          0.08685450082155578,
          -0.7102321011128129,
          1.2846765718116526,
          -1.123680140228286,
          -0.2806606072097656,
          -1.4896739546532576,
          0.6295603599603866,
          1.1136656548999315,
          0.9536097103790099,
          -0.7080867626264907
         ],
         "yaxis": "y10"
        },
        {
         "histfunc": "count",
         "histnorm": "",
         "marker": {
          "color": "rgba(50, 171, 96, 1.0)",
          "line": {
           "color": "#4D5663",
           "width": 1.3
          }
         },
         "name": "C",
         "nbinsx": 10,
         "opacity": 0.8,
         "orientation": "v",
         "type": "histogram",
         "x": [
          -2.0092660704673566,
          -1.2598029689852777,
          -0.2760950755895815,
          -0.9365077817146868,
          -0.7467722748457818,
          -0.7267174990662252,
          0.8107639722666636,
          0.3018313256185027,
          -0.2779338079594555,
          1.0850989578462957,
          1.0633890945862559,
          0.19984988072986953,
          -1.0240416296636121,
          0.5038285176790187,
          0.06717667510847727,
          0.7185919144131047,
          -0.49171157314491626,
          -0.7679077810892389,
          1.5701249112688236,
          -0.47251103418643026,
          1.9430557828822212,
          0.2379297319180449,
          0.36707306677115453,
          0.006699107693457233,
          -1.0180537128174496,
          -0.6080580473072035,
          1.0185946954688905,
          0.5714696913211738,
          0.09143339844861038,
          2.070139494439533,
          1.140804725949334,
          0.6126110616024626,
          0.4563101220852704,
          -2.2654786046256543,
          -0.4029428049342183,
          -0.16962658908939526,
          -0.24096898379316878,
          -1.0073125456045633,
          0.28463786120973017,
          0.9529151893853018,
          -1.2378966892029355,
          -0.06963240847971755,
          -0.7032964127927137,
          -0.5809832596471718,
          0.29449307116870876,
          0.33243510188444925,
          0.4977579983615313,
          -0.9257449819489063,
          -0.41725764974537366,
          0.4848070737197375,
          0.43930170517402317,
          0.23065023494261755,
          0.4816217241293878,
          0.04799816907981186,
          -0.3974323820653122,
          0.7903361874598068,
          1.4322150789264265,
          -1.647709706473274,
          -2.3800258277526543,
          0.6970445446703903,
          0.8316708876679342,
          -1.5158979051133505,
          -0.14986630629837563,
          -1.0493727521665157,
          1.701201455937589,
          -0.1410913288683814,
          0.2685239479223764,
          -0.7600369349891372,
          -0.4742547385039707,
          -0.8220107130507899,
          0.8445080140789566,
          -0.324027172344423,
          -0.4178030661196102,
          -0.26596041408454146,
          0.5523489460368105,
          -0.7026605411631265,
          0.13994365329359548,
          -0.04065613857973858,
          -0.28547939736187256,
          0.3388705179018651,
          0.9668821132900235,
          1.7880873782211257,
          1.9386610560756863,
          -0.34094180091834364,
          -1.1192837035162806,
          0.6279726842636103,
          0.6200042114970403,
          -1.4264867124427423,
          -1.809853283787445,
          -1.193888458973862,
          0.08685450082155578,
          -0.7102321011128129,
          1.2846765718116526,
          -1.123680140228286,
          -0.2806606072097656,
          -1.4896739546532576,
          0.6295603599603866,
          1.1136656548999315,
          0.9536097103790099,
          -0.7080867626264907
         ],
         "xaxis": "x11",
         "yaxis": "y11"
        },
        {
         "line": {
          "color": "rgba(128, 128, 128, 1.0)",
          "dash": "solid",
          "shape": "linear",
          "width": 1.3
         },
         "marker": {
          "size": 2,
          "symbol": "circle"
         },
         "mode": "markers",
         "name": "C",
         "text": "",
         "type": "scatter",
         "x": [
          1.0501701145422817,
          0.4451796840776505,
          0.019322074864412696,
          0.9953761305418058,
          0.5110397705048686,
          -0.803700035088617,
          2.6444092391724636,
          0.7893356856324825,
          -0.08471694230445719,
          -1.3109737377927366,
          0.4248306638940191,
          1.3717385676996887,
          0.40107501810780155,
          -0.8911298914144757,
          -0.17802975610778662,
          0.45954921920579067,
          -1.2291934521608001,
          1.5879628450775962,
          2.3950384881567475,
          0.7864211027184705,
          0.44696414651942606,
          -0.7688917608863599,
          0.8034469969539286,
          -0.2441696518488366,
          0.7946135467706282,
          0.4629228010763608,
          2.4375744559135692,
          -2.0666459708872487,
          1.3369394395351957,
          0.281544068694196,
          1.40868549926317,
          1.7007000788755262,
          -0.5707362211763846,
          0.30086898022664293,
          -0.9768980954609655,
          0.3212560453655524,
          0.7156443033399906,
          -1.2165459335403617,
          -0.20839221483710563,
          -0.0058505078818461,
          -0.6256249650976695,
          -0.34208821825767766,
          2.9057635151997228,
          1.1898121704981293,
          0.7748839366899357,
          0.775858103384347,
          1.734019655618904,
          0.4883218411991308,
          0.48319375293985073,
          0.07251905790818866,
          -0.2737028732193538,
          -0.21945236052007253,
          -0.8829581220812761,
          -1.3291278492107135,
          2.327960742028899,
          0.11235642184377229,
          -0.31755903220376597,
          1.3147441857811188,
          0.4011430411094645,
          -0.859875508599031,
          0.6827306411077664,
          1.4857854264842902,
          0.7311732289637328,
          -2.418153976778658,
          0.9536327739040761,
          -1.7769454655989747,
          -0.42076296424642096,
          -1.1229235007551497,
          -0.41217731324319673,
          2.099699703404748,
          -1.9289629279399207,
          -0.5093084117755678,
          1.0742848834728373,
          0.6702312418547619,
          -0.25349917550157963,
          -0.669305397468498,
          -1.693821178889706,
          0.5103274302378665,
          1.0541391062646233,
          -0.5976418342961541,
          0.8682392696715692,
          -0.6697941242150638,
          0.9742988020969872,
          0.4783934061363041,
          -0.10945425289967044,
          0.5579648469307343,
          0.061882101624842645,
          -0.45157774335416456,
          0.6161163305270498,
          -0.054394521326319764,
          -1.5735721687894109,
          0.5705772210638205,
          0.5761796006749031,
          0.1844921493983869,
          -0.24892164936248318,
          -1.2743548062088557,
          0.6984023222628456,
          1.1154228312324685,
          -0.7900145646772628,
          -0.4938822454556439
         ],
         "xaxis": "x12",
         "y": [
          -2.0092660704673566,
          -1.2598029689852777,
          -0.2760950755895815,
          -0.9365077817146868,
          -0.7467722748457818,
          -0.7267174990662252,
          0.8107639722666636,
          0.3018313256185027,
          -0.2779338079594555,
          1.0850989578462957,
          1.0633890945862559,
          0.19984988072986953,
          -1.0240416296636121,
          0.5038285176790187,
          0.06717667510847727,
          0.7185919144131047,
          -0.49171157314491626,
          -0.7679077810892389,
          1.5701249112688236,
          -0.47251103418643026,
          1.9430557828822212,
          0.2379297319180449,
          0.36707306677115453,
          0.006699107693457233,
          -1.0180537128174496,
          -0.6080580473072035,
          1.0185946954688905,
          0.5714696913211738,
          0.09143339844861038,
          2.070139494439533,
          1.140804725949334,
          0.6126110616024626,
          0.4563101220852704,
          -2.2654786046256543,
          -0.4029428049342183,
          -0.16962658908939526,
          -0.24096898379316878,
          -1.0073125456045633,
          0.28463786120973017,
          0.9529151893853018,
          -1.2378966892029355,
          -0.06963240847971755,
          -0.7032964127927137,
          -0.5809832596471718,
          0.29449307116870876,
          0.33243510188444925,
          0.4977579983615313,
          -0.9257449819489063,
          -0.41725764974537366,
          0.4848070737197375,
          0.43930170517402317,
          0.23065023494261755,
          0.4816217241293878,
          0.04799816907981186,
          -0.3974323820653122,
          0.7903361874598068,
          1.4322150789264265,
          -1.647709706473274,
          -2.3800258277526543,
          0.6970445446703903,
          0.8316708876679342,
          -1.5158979051133505,
          -0.14986630629837563,
          -1.0493727521665157,
          1.701201455937589,
          -0.1410913288683814,
          0.2685239479223764,
          -0.7600369349891372,
          -0.4742547385039707,
          -0.8220107130507899,
          0.8445080140789566,
          -0.324027172344423,
          -0.4178030661196102,
          -0.26596041408454146,
          0.5523489460368105,
          -0.7026605411631265,
          0.13994365329359548,
          -0.04065613857973858,
          -0.28547939736187256,
          0.3388705179018651,
          0.9668821132900235,
          1.7880873782211257,
          1.9386610560756863,
          -0.34094180091834364,
          -1.1192837035162806,
          0.6279726842636103,
          0.6200042114970403,
          -1.4264867124427423,
          -1.809853283787445,
          -1.193888458973862,
          0.08685450082155578,
          -0.7102321011128129,
          1.2846765718116526,
          -1.123680140228286,
          -0.2806606072097656,
          -1.4896739546532576,
          0.6295603599603866,
          1.1136656548999315,
          0.9536097103790099,
          -0.7080867626264907
         ],
         "yaxis": "y12"
        },
        {
         "line": {
          "color": "rgba(128, 128, 128, 1.0)",
          "dash": "solid",
          "shape": "linear",
          "width": 1.3
         },
         "marker": {
          "size": 2,
          "symbol": "circle"
         },
         "mode": "markers",
         "name": "D",
         "text": "",
         "type": "scatter",
         "x": [
          -0.01662130328228244,
          0.8952922062355154,
          0.08493791794765844,
          -0.09589135686355073,
          -0.4122201947502266,
          -0.20360574556365796,
          -1.3226112787089954,
          -0.7048337371978483,
          0.04150771300361059,
          -0.016184912767458252,
          -0.7836247979483332,
          -0.41697995913853403,
          -1.5145544317741388,
          -0.9872935372845854,
          2.8600594602810627,
          0.7879441726553916,
          -0.2813608872356518,
          -0.6513622033836487,
          -0.3833614492804819,
          0.16483281378445427,
          -2.1741767017157674,
          -1.6507999144342882,
          1.233849002951117,
          1.8853071817620293,
          -1.5954169238801832,
          -0.5522359603285474,
          -0.1776701185864922,
          -0.44322099515839536,
          1.0203828724791646,
          -0.746502813707562,
          -0.9880780584427672,
          -0.1989813172992508,
          1.028266715119139,
          0.9046343789939094,
          -0.24335430626921478,
          1.4808496271033058,
          1.183551097291823,
          0.7818177335952013,
          2.6317909237286803,
          -1.43255595184391,
          -0.5375396949804877,
          -0.9652461283114274,
          -0.37225584275459644,
          0.14086596179529387,
          2.1088529093442165,
          1.754446737290178,
          0.3204895796285177,
          0.5431393205854986,
          -0.26921450300987526,
          1.2276137248806802,
          2.18564194957632,
          -0.4189445878428453,
          -0.08003270330739348,
          0.8616685014005222,
          0.3204625049333791,
          -0.5444096849865591,
          1.4381126068067536,
          -1.5508518741330823,
          -1.7451055721182847,
          1.393700428608044,
          0.5528230108651216,
          -0.6354989243573955,
          0.5941962167234219,
          -1.498736192404156,
          1.2550871276452416,
          -0.8096320399507062,
          0.24176403155914405,
          0.4183631446701141,
          -1.7819580157798707,
          -0.587756797309145,
          -0.38795341821094526,
          0.07830346473682828,
          0.002456668961825936,
          1.9450473657318994,
          0.7258558214498236,
          -1.0099384838064072,
          0.28353464707170767,
          -1.0649028041957125,
          0.5771518242200254,
          0.8046577717798538,
          -0.10976143995602793,
          1.0417233039507987,
          -0.6800719626994939,
          -0.6139450381025275,
          0.46504150196282273,
          0.48002415552846633,
          -2.0624178821863004,
          1.4590453138925938,
          -0.06592069257443393,
          1.3037006920198502,
          -1.0417291996549434,
          -1.393953962398956,
          -0.09525476965697717,
          -0.11489070095885666,
          2.4005052823632567,
          -0.9318581112304919,
          0.941522431201813,
          0.19568237193128438,
          0.10374442540451675,
          -1.3981329572930432
         ],
         "xaxis": "x13",
         "y": [
          1.0501701145422817,
          0.4451796840776505,
          0.019322074864412696,
          0.9953761305418058,
          0.5110397705048686,
          -0.803700035088617,
          2.6444092391724636,
          0.7893356856324825,
          -0.08471694230445719,
          -1.3109737377927366,
          0.4248306638940191,
          1.3717385676996887,
          0.40107501810780155,
          -0.8911298914144757,
          -0.17802975610778662,
          0.45954921920579067,
          -1.2291934521608001,
          1.5879628450775962,
          2.3950384881567475,
          0.7864211027184705,
          0.44696414651942606,
          -0.7688917608863599,
          0.8034469969539286,
          -0.2441696518488366,
          0.7946135467706282,
          0.4629228010763608,
          2.4375744559135692,
          -2.0666459708872487,
          1.3369394395351957,
          0.281544068694196,
          1.40868549926317,
          1.7007000788755262,
          -0.5707362211763846,
          0.30086898022664293,
          -0.9768980954609655,
          0.3212560453655524,
          0.7156443033399906,
          -1.2165459335403617,
          -0.20839221483710563,
          -0.0058505078818461,
          -0.6256249650976695,
          -0.34208821825767766,
          2.9057635151997228,
          1.1898121704981293,
          0.7748839366899357,
          0.775858103384347,
          1.734019655618904,
          0.4883218411991308,
          0.48319375293985073,
          0.07251905790818866,
          -0.2737028732193538,
          -0.21945236052007253,
          -0.8829581220812761,
          -1.3291278492107135,
          2.327960742028899,
          0.11235642184377229,
          -0.31755903220376597,
          1.3147441857811188,
          0.4011430411094645,
          -0.859875508599031,
          0.6827306411077664,
          1.4857854264842902,
          0.7311732289637328,
          -2.418153976778658,
          0.9536327739040761,
          -1.7769454655989747,
          -0.42076296424642096,
          -1.1229235007551497,
          -0.41217731324319673,
          2.099699703404748,
          -1.9289629279399207,
          -0.5093084117755678,
          1.0742848834728373,
          0.6702312418547619,
          -0.25349917550157963,
          -0.669305397468498,
          -1.693821178889706,
          0.5103274302378665,
          1.0541391062646233,
          -0.5976418342961541,
          0.8682392696715692,
          -0.6697941242150638,
          0.9742988020969872,
          0.4783934061363041,
          -0.10945425289967044,
          0.5579648469307343,
          0.061882101624842645,
          -0.45157774335416456,
          0.6161163305270498,
          -0.054394521326319764,
          -1.5735721687894109,
          0.5705772210638205,
          0.5761796006749031,
          0.1844921493983869,
          -0.24892164936248318,
          -1.2743548062088557,
          0.6984023222628456,
          1.1154228312324685,
          -0.7900145646772628,
          -0.4938822454556439
         ],
         "yaxis": "y13"
        },
        {
         "line": {
          "color": "rgba(128, 128, 128, 1.0)",
          "dash": "solid",
          "shape": "linear",
          "width": 1.3
         },
         "marker": {
          "size": 2,
          "symbol": "circle"
         },
         "mode": "markers",
         "name": "D",
         "text": "",
         "type": "scatter",
         "x": [
          -0.43085692617183563,
          -0.1948859952808109,
          0.25661125162705656,
          -1.3086950885020459,
          0.8330382361581136,
          -0.6953289463874578,
          -0.041546759765450116,
          0.3766966051839097,
          -0.4106742584914722,
          -0.5017699496138679,
          0.011010566296178933,
          0.7150811983334743,
          0.8531750275133767,
          2.1930241736297655,
          0.6183354743888189,
          -0.2543897369151032,
          1.976789309709738,
          0.9045016370030701,
          0.6176953549838936,
          -0.4420620066123814,
          0.004259990892965676,
          -0.6890818854195719,
          0.1284746414788866,
          1.1565973705210073,
          -0.1669069048135824,
          0.9510917351310352,
          0.3776204353934389,
          -0.6104100303510119,
          0.8194742730220135,
          1.040708142451746,
          -0.8233687567505201,
          -1.1344997698956967,
          -0.2957474277602403,
          -0.6732382334575902,
          -0.20198607174310862,
          -0.5191193334283744,
          0.025830849269225062,
          -0.7336763065006728,
          1.2444882142572342,
          -1.4366617646017776,
          1.1881118540595137,
          0.954362185403333,
          -0.1636882464763225,
          0.2585056931294286,
          0.307000591264868,
          0.5053904332689658,
          1.371257331498223,
          0.8284466732128394,
          -1.6398779068387968,
          0.1312492505552544,
          -2.0782358481550904,
          -0.045307906304940145,
          0.16728844758876973,
          0.4199691612388556,
          0.5537924522559142,
          -0.472466174965874,
          -0.43842800336219834,
          -0.8086583687303776,
          -1.4472922254350542,
          1.5432229404089068,
          0.09327407639879354,
          -1.7151607168181384,
          0.31547264421701804,
          -0.6409782017093438,
          -0.5888934484654935,
          -0.2589297494469279,
          0.4095662405359321,
          -0.7827392201998249,
          0.8536261771615004,
          -0.13667988806894107,
          0.014275802400758018,
          0.2700521255686095,
          0.0713171499641922,
          -1.6360217944335709,
          1.1316472826520418,
          0.21966931057515063,
          -1.0415257873712767,
          -0.673080884585363,
          0.6417494538653378,
          -2.575256173392799,
          -1.301392718985718,
          -1.3280555679474806,
          -0.3988933059066309,
          -1.4320562115681523,
          -0.5208466357235377,
          0.6283326705144111,
          -0.4993914177816305,
          2.3803973130583707,
          -1.404107842111614,
          -0.05799211063099601,
          -1.1984196002600367,
          -0.14252971995716965,
          -0.3981381038453286,
          -0.3917743490224008,
          1.5356909803434518,
          0.5644974004458589,
          0.36323243100145386,
          0.5520098897203459,
          -0.6462900576233668,
          1.1144001381118762
         ],
         "xaxis": "x14",
         "y": [
          1.0501701145422817,
          0.4451796840776505,
          0.019322074864412696,
          0.9953761305418058,
          0.5110397705048686,
          -0.803700035088617,
          2.6444092391724636,
          0.7893356856324825,
          -0.08471694230445719,
          -1.3109737377927366,
          0.4248306638940191,
          1.3717385676996887,
          0.40107501810780155,
          -0.8911298914144757,
          -0.17802975610778662,
          0.45954921920579067,
          -1.2291934521608001,
          1.5879628450775962,
          2.3950384881567475,
          0.7864211027184705,
          0.44696414651942606,
          -0.7688917608863599,
          0.8034469969539286,
          -0.2441696518488366,
          0.7946135467706282,
          0.4629228010763608,
          2.4375744559135692,
          -2.0666459708872487,
          1.3369394395351957,
          0.281544068694196,
          1.40868549926317,
          1.7007000788755262,
          -0.5707362211763846,
          0.30086898022664293,
          -0.9768980954609655,
          0.3212560453655524,
          0.7156443033399906,
          -1.2165459335403617,
          -0.20839221483710563,
          -0.0058505078818461,
          -0.6256249650976695,
          -0.34208821825767766,
          2.9057635151997228,
          1.1898121704981293,
          0.7748839366899357,
          0.775858103384347,
          1.734019655618904,
          0.4883218411991308,
          0.48319375293985073,
          0.07251905790818866,
          -0.2737028732193538,
          -0.21945236052007253,
          -0.8829581220812761,
          -1.3291278492107135,
          2.327960742028899,
          0.11235642184377229,
          -0.31755903220376597,
          1.3147441857811188,
          0.4011430411094645,
          -0.859875508599031,
          0.6827306411077664,
          1.4857854264842902,
          0.7311732289637328,
          -2.418153976778658,
          0.9536327739040761,
          -1.7769454655989747,
          -0.42076296424642096,
          -1.1229235007551497,
          -0.41217731324319673,
          2.099699703404748,
          -1.9289629279399207,
          -0.5093084117755678,
          1.0742848834728373,
          0.6702312418547619,
          -0.25349917550157963,
          -0.669305397468498,
          -1.693821178889706,
          0.5103274302378665,
          1.0541391062646233,
          -0.5976418342961541,
          0.8682392696715692,
          -0.6697941242150638,
          0.9742988020969872,
          0.4783934061363041,
          -0.10945425289967044,
          0.5579648469307343,
          0.061882101624842645,
          -0.45157774335416456,
          0.6161163305270498,
          -0.054394521326319764,
          -1.5735721687894109,
          0.5705772210638205,
          0.5761796006749031,
          0.1844921493983869,
          -0.24892164936248318,
          -1.2743548062088557,
          0.6984023222628456,
          1.1154228312324685,
          -0.7900145646772628,
          -0.4938822454556439
         ],
         "yaxis": "y14"
        },
        {
         "line": {
          "color": "rgba(128, 128, 128, 1.0)",
          "dash": "solid",
          "shape": "linear",
          "width": 1.3
         },
         "marker": {
          "size": 2,
          "symbol": "circle"
         },
         "mode": "markers",
         "name": "D",
         "text": "",
         "type": "scatter",
         "x": [
          -2.0092660704673566,
          -1.2598029689852777,
          -0.2760950755895815,
          -0.9365077817146868,
          -0.7467722748457818,
          -0.7267174990662252,
          0.8107639722666636,
          0.3018313256185027,
          -0.2779338079594555,
          1.0850989578462957,
          1.0633890945862559,
          0.19984988072986953,
          -1.0240416296636121,
          0.5038285176790187,
          0.06717667510847727,
          0.7185919144131047,
          -0.49171157314491626,
          -0.7679077810892389,
          1.5701249112688236,
          -0.47251103418643026,
          1.9430557828822212,
          0.2379297319180449,
          0.36707306677115453,
          0.006699107693457233,
          -1.0180537128174496,
          -0.6080580473072035,
          1.0185946954688905,
          0.5714696913211738,
          0.09143339844861038,
          2.070139494439533,
          1.140804725949334,
          0.6126110616024626,
          0.4563101220852704,
          -2.2654786046256543,
          -0.4029428049342183,
          -0.16962658908939526,
          -0.24096898379316878,
          -1.0073125456045633,
          0.28463786120973017,
          0.9529151893853018,
          -1.2378966892029355,
          -0.06963240847971755,
          -0.7032964127927137,
          -0.5809832596471718,
          0.29449307116870876,
          0.33243510188444925,
          0.4977579983615313,
          -0.9257449819489063,
          -0.41725764974537366,
          0.4848070737197375,
          0.43930170517402317,
          0.23065023494261755,
          0.4816217241293878,
          0.04799816907981186,
          -0.3974323820653122,
          0.7903361874598068,
          1.4322150789264265,
          -1.647709706473274,
          -2.3800258277526543,
          0.6970445446703903,
          0.8316708876679342,
          -1.5158979051133505,
          -0.14986630629837563,
          -1.0493727521665157,
          1.701201455937589,
          -0.1410913288683814,
          0.2685239479223764,
          -0.7600369349891372,
          -0.4742547385039707,
          -0.8220107130507899,
          0.8445080140789566,
          -0.324027172344423,
          -0.4178030661196102,
          -0.26596041408454146,
          0.5523489460368105,
          -0.7026605411631265,
          0.13994365329359548,
          -0.04065613857973858,
          -0.28547939736187256,
          0.3388705179018651,
          0.9668821132900235,
          1.7880873782211257,
          1.9386610560756863,
          -0.34094180091834364,
          -1.1192837035162806,
          0.6279726842636103,
          0.6200042114970403,
          -1.4264867124427423,
          -1.809853283787445,
          -1.193888458973862,
          0.08685450082155578,
          -0.7102321011128129,
          1.2846765718116526,
          -1.123680140228286,
          -0.2806606072097656,
          -1.4896739546532576,
          0.6295603599603866,
          1.1136656548999315,
          0.9536097103790099,
          -0.7080867626264907
         ],
         "xaxis": "x15",
         "y": [
          1.0501701145422817,
          0.4451796840776505,
          0.019322074864412696,
          0.9953761305418058,
          0.5110397705048686,
          -0.803700035088617,
          2.6444092391724636,
          0.7893356856324825,
          -0.08471694230445719,
          -1.3109737377927366,
          0.4248306638940191,
          1.3717385676996887,
          0.40107501810780155,
          -0.8911298914144757,
          -0.17802975610778662,
          0.45954921920579067,
          -1.2291934521608001,
          1.5879628450775962,
          2.3950384881567475,
          0.7864211027184705,
          0.44696414651942606,
          -0.7688917608863599,
          0.8034469969539286,
          -0.2441696518488366,
          0.7946135467706282,
          0.4629228010763608,
          2.4375744559135692,
          -2.0666459708872487,
          1.3369394395351957,
          0.281544068694196,
          1.40868549926317,
          1.7007000788755262,
          -0.5707362211763846,
          0.30086898022664293,
          -0.9768980954609655,
          0.3212560453655524,
          0.7156443033399906,
          -1.2165459335403617,
          -0.20839221483710563,
          -0.0058505078818461,
          -0.6256249650976695,
          -0.34208821825767766,
          2.9057635151997228,
          1.1898121704981293,
          0.7748839366899357,
          0.775858103384347,
          1.734019655618904,
          0.4883218411991308,
          0.48319375293985073,
          0.07251905790818866,
          -0.2737028732193538,
          -0.21945236052007253,
          -0.8829581220812761,
          -1.3291278492107135,
          2.327960742028899,
          0.11235642184377229,
          -0.31755903220376597,
          1.3147441857811188,
          0.4011430411094645,
          -0.859875508599031,
          0.6827306411077664,
          1.4857854264842902,
          0.7311732289637328,
          -2.418153976778658,
          0.9536327739040761,
          -1.7769454655989747,
          -0.42076296424642096,
          -1.1229235007551497,
          -0.41217731324319673,
          2.099699703404748,
          -1.9289629279399207,
          -0.5093084117755678,
          1.0742848834728373,
          0.6702312418547619,
          -0.25349917550157963,
          -0.669305397468498,
          -1.693821178889706,
          0.5103274302378665,
          1.0541391062646233,
          -0.5976418342961541,
          0.8682392696715692,
          -0.6697941242150638,
          0.9742988020969872,
          0.4783934061363041,
          -0.10945425289967044,
          0.5579648469307343,
          0.061882101624842645,
          -0.45157774335416456,
          0.6161163305270498,
          -0.054394521326319764,
          -1.5735721687894109,
          0.5705772210638205,
          0.5761796006749031,
          0.1844921493983869,
          -0.24892164936248318,
          -1.2743548062088557,
          0.6984023222628456,
          1.1154228312324685,
          -0.7900145646772628,
          -0.4938822454556439
         ],
         "yaxis": "y15"
        },
        {
         "histfunc": "count",
         "histnorm": "",
         "marker": {
          "color": "rgba(128, 0, 128, 1.0)",
          "line": {
           "color": "#4D5663",
           "width": 1.3
          }
         },
         "name": "D",
         "nbinsx": 10,
         "opacity": 0.8,
         "orientation": "v",
         "type": "histogram",
         "x": [
          1.0501701145422817,
          0.4451796840776505,
          0.019322074864412696,
          0.9953761305418058,
          0.5110397705048686,
          -0.803700035088617,
          2.6444092391724636,
          0.7893356856324825,
          -0.08471694230445719,
          -1.3109737377927366,
          0.4248306638940191,
          1.3717385676996887,
          0.40107501810780155,
          -0.8911298914144757,
          -0.17802975610778662,
          0.45954921920579067,
          -1.2291934521608001,
          1.5879628450775962,
          2.3950384881567475,
          0.7864211027184705,
          0.44696414651942606,
          -0.7688917608863599,
          0.8034469969539286,
          -0.2441696518488366,
          0.7946135467706282,
          0.4629228010763608,
          2.4375744559135692,
          -2.0666459708872487,
          1.3369394395351957,
          0.281544068694196,
          1.40868549926317,
          1.7007000788755262,
          -0.5707362211763846,
          0.30086898022664293,
          -0.9768980954609655,
          0.3212560453655524,
          0.7156443033399906,
          -1.2165459335403617,
          -0.20839221483710563,
          -0.0058505078818461,
          -0.6256249650976695,
          -0.34208821825767766,
          2.9057635151997228,
          1.1898121704981293,
          0.7748839366899357,
          0.775858103384347,
          1.734019655618904,
          0.4883218411991308,
          0.48319375293985073,
          0.07251905790818866,
          -0.2737028732193538,
          -0.21945236052007253,
          -0.8829581220812761,
          -1.3291278492107135,
          2.327960742028899,
          0.11235642184377229,
          -0.31755903220376597,
          1.3147441857811188,
          0.4011430411094645,
          -0.859875508599031,
          0.6827306411077664,
          1.4857854264842902,
          0.7311732289637328,
          -2.418153976778658,
          0.9536327739040761,
          -1.7769454655989747,
          -0.42076296424642096,
          -1.1229235007551497,
          -0.41217731324319673,
          2.099699703404748,
          -1.9289629279399207,
          -0.5093084117755678,
          1.0742848834728373,
          0.6702312418547619,
          -0.25349917550157963,
          -0.669305397468498,
          -1.693821178889706,
          0.5103274302378665,
          1.0541391062646233,
          -0.5976418342961541,
          0.8682392696715692,
          -0.6697941242150638,
          0.9742988020969872,
          0.4783934061363041,
          -0.10945425289967044,
          0.5579648469307343,
          0.061882101624842645,
          -0.45157774335416456,
          0.6161163305270498,
          -0.054394521326319764,
          -1.5735721687894109,
          0.5705772210638205,
          0.5761796006749031,
          0.1844921493983869,
          -0.24892164936248318,
          -1.2743548062088557,
          0.6984023222628456,
          1.1154228312324685,
          -0.7900145646772628,
          -0.4938822454556439
         ],
         "xaxis": "x16",
         "yaxis": "y16"
        }
       ],
       "layout": {
        "bargap": 0.02,
        "legend": {
         "bgcolor": "#F5F6F9",
         "font": {
          "color": "#4D5663"
         }
        },
        "paper_bgcolor": "#F5F6F9",
        "plot_bgcolor": "#F5F6F9",
        "showlegend": false,
        "template": {
         "data": {
          "bar": [
           {
            "error_x": {
             "color": "#2a3f5f"
            },
            "error_y": {
             "color": "#2a3f5f"
            },
            "marker": {
             "line": {
              "color": "#E5ECF6",
              "width": 0.5
             }
            },
            "type": "bar"
           }
          ],
          "barpolar": [
           {
            "marker": {
             "line": {
              "color": "#E5ECF6",
              "width": 0.5
             }
            },
            "type": "barpolar"
           }
          ],
          "carpet": [
           {
            "aaxis": {
             "endlinecolor": "#2a3f5f",
             "gridcolor": "white",
             "linecolor": "white",
             "minorgridcolor": "white",
             "startlinecolor": "#2a3f5f"
            },
            "baxis": {
             "endlinecolor": "#2a3f5f",
             "gridcolor": "white",
             "linecolor": "white",
             "minorgridcolor": "white",
             "startlinecolor": "#2a3f5f"
            },
            "type": "carpet"
           }
          ],
          "choropleth": [
           {
            "colorbar": {
             "outlinewidth": 0,
             "ticks": ""
            },
            "type": "choropleth"
           }
          ],
          "contour": [
           {
            "colorbar": {
             "outlinewidth": 0,
             "ticks": ""
            },
            "colorscale": [
             [
              0,
              "#0d0887"
             ],
             [
              0.1111111111111111,
              "#46039f"
             ],
             [
              0.2222222222222222,
              "#7201a8"
             ],
             [
              0.3333333333333333,
              "#9c179e"
             ],
             [
              0.4444444444444444,
              "#bd3786"
             ],
             [
              0.5555555555555556,
              "#d8576b"
             ],
             [
              0.6666666666666666,
              "#ed7953"
             ],
             [
              0.7777777777777778,
              "#fb9f3a"
             ],
             [
              0.8888888888888888,
              "#fdca26"
             ],
             [
              1,
              "#f0f921"
             ]
            ],
            "type": "contour"
           }
          ],
          "contourcarpet": [
           {
            "colorbar": {
             "outlinewidth": 0,
             "ticks": ""
            },
            "type": "contourcarpet"
           }
          ],
          "heatmap": [
           {
            "colorbar": {
             "outlinewidth": 0,
             "ticks": ""
            },
            "colorscale": [
             [
              0,
              "#0d0887"
             ],
             [
              0.1111111111111111,
              "#46039f"
             ],
             [
              0.2222222222222222,
              "#7201a8"
             ],
             [
              0.3333333333333333,
              "#9c179e"
             ],
             [
              0.4444444444444444,
              "#bd3786"
             ],
             [
              0.5555555555555556,
              "#d8576b"
             ],
             [
              0.6666666666666666,
              "#ed7953"
             ],
             [
              0.7777777777777778,
              "#fb9f3a"
             ],
             [
              0.8888888888888888,
              "#fdca26"
             ],
             [
              1,
              "#f0f921"
             ]
            ],
            "type": "heatmap"
           }
          ],
          "heatmapgl": [
           {
            "colorbar": {
             "outlinewidth": 0,
             "ticks": ""
            },
            "colorscale": [
             [
              0,
              "#0d0887"
             ],
             [
              0.1111111111111111,
              "#46039f"
             ],
             [
              0.2222222222222222,
              "#7201a8"
             ],
             [
              0.3333333333333333,
              "#9c179e"
             ],
             [
              0.4444444444444444,
              "#bd3786"
             ],
             [
              0.5555555555555556,
              "#d8576b"
             ],
             [
              0.6666666666666666,
              "#ed7953"
             ],
             [
              0.7777777777777778,
              "#fb9f3a"
             ],
             [
              0.8888888888888888,
              "#fdca26"
             ],
             [
              1,
              "#f0f921"
             ]
            ],
            "type": "heatmapgl"
           }
          ],
          "histogram": [
           {
            "marker": {
             "colorbar": {
              "outlinewidth": 0,
              "ticks": ""
             }
            },
            "type": "histogram"
           }
          ],
          "histogram2d": [
           {
            "colorbar": {
             "outlinewidth": 0,
             "ticks": ""
            },
            "colorscale": [
             [
              0,
              "#0d0887"
             ],
             [
              0.1111111111111111,
              "#46039f"
             ],
             [
              0.2222222222222222,
              "#7201a8"
             ],
             [
              0.3333333333333333,
              "#9c179e"
             ],
             [
              0.4444444444444444,
              "#bd3786"
             ],
             [
              0.5555555555555556,
              "#d8576b"
             ],
             [
              0.6666666666666666,
              "#ed7953"
             ],
             [
              0.7777777777777778,
              "#fb9f3a"
             ],
             [
              0.8888888888888888,
              "#fdca26"
             ],
             [
              1,
              "#f0f921"
             ]
            ],
            "type": "histogram2d"
           }
          ],
          "histogram2dcontour": [
           {
            "colorbar": {
             "outlinewidth": 0,
             "ticks": ""
            },
            "colorscale": [
             [
              0,
              "#0d0887"
             ],
             [
              0.1111111111111111,
              "#46039f"
             ],
             [
              0.2222222222222222,
              "#7201a8"
             ],
             [
              0.3333333333333333,
              "#9c179e"
             ],
             [
              0.4444444444444444,
              "#bd3786"
             ],
             [
              0.5555555555555556,
              "#d8576b"
             ],
             [
              0.6666666666666666,
              "#ed7953"
             ],
             [
              0.7777777777777778,
              "#fb9f3a"
             ],
             [
              0.8888888888888888,
              "#fdca26"
             ],
             [
              1,
              "#f0f921"
             ]
            ],
            "type": "histogram2dcontour"
           }
          ],
          "mesh3d": [
           {
            "colorbar": {
             "outlinewidth": 0,
             "ticks": ""
            },
            "type": "mesh3d"
           }
          ],
          "parcoords": [
           {
            "line": {
             "colorbar": {
              "outlinewidth": 0,
              "ticks": ""
             }
            },
            "type": "parcoords"
           }
          ],
          "pie": [
           {
            "automargin": true,
            "type": "pie"
           }
          ],
          "scatter": [
           {
            "marker": {
             "colorbar": {
              "outlinewidth": 0,
              "ticks": ""
             }
            },
            "type": "scatter"
           }
          ],
          "scatter3d": [
           {
            "line": {
             "colorbar": {
              "outlinewidth": 0,
              "ticks": ""
             }
            },
            "marker": {
             "colorbar": {
              "outlinewidth": 0,
              "ticks": ""
             }
            },
            "type": "scatter3d"
           }
          ],
          "scattercarpet": [
           {
            "marker": {
             "colorbar": {
              "outlinewidth": 0,
              "ticks": ""
             }
            },
            "type": "scattercarpet"
           }
          ],
          "scattergeo": [
           {
            "marker": {
             "colorbar": {
              "outlinewidth": 0,
              "ticks": ""
             }
            },
            "type": "scattergeo"
           }
          ],
          "scattergl": [
           {
            "marker": {
             "colorbar": {
              "outlinewidth": 0,
              "ticks": ""
             }
            },
            "type": "scattergl"
           }
          ],
          "scattermapbox": [
           {
            "marker": {
             "colorbar": {
              "outlinewidth": 0,
              "ticks": ""
             }
            },
            "type": "scattermapbox"
           }
          ],
          "scatterpolar": [
           {
            "marker": {
             "colorbar": {
              "outlinewidth": 0,
              "ticks": ""
             }
            },
            "type": "scatterpolar"
           }
          ],
          "scatterpolargl": [
           {
            "marker": {
             "colorbar": {
              "outlinewidth": 0,
              "ticks": ""
             }
            },
            "type": "scatterpolargl"
           }
          ],
          "scatterternary": [
           {
            "marker": {
             "colorbar": {
              "outlinewidth": 0,
              "ticks": ""
             }
            },
            "type": "scatterternary"
           }
          ],
          "surface": [
           {
            "colorbar": {
             "outlinewidth": 0,
             "ticks": ""
            },
            "colorscale": [
             [
              0,
              "#0d0887"
             ],
             [
              0.1111111111111111,
              "#46039f"
             ],
             [
              0.2222222222222222,
              "#7201a8"
             ],
             [
              0.3333333333333333,
              "#9c179e"
             ],
             [
              0.4444444444444444,
              "#bd3786"
             ],
             [
              0.5555555555555556,
              "#d8576b"
             ],
             [
              0.6666666666666666,
              "#ed7953"
             ],
             [
              0.7777777777777778,
              "#fb9f3a"
             ],
             [
              0.8888888888888888,
              "#fdca26"
             ],
             [
              1,
              "#f0f921"
             ]
            ],
            "type": "surface"
           }
          ],
          "table": [
           {
            "cells": {
             "fill": {
              "color": "#EBF0F8"
             },
             "line": {
              "color": "white"
             }
            },
            "header": {
             "fill": {
              "color": "#C8D4E3"
             },
             "line": {
              "color": "white"
             }
            },
            "type": "table"
           }
          ]
         },
         "layout": {
          "annotationdefaults": {
           "arrowcolor": "#2a3f5f",
           "arrowhead": 0,
           "arrowwidth": 1
          },
          "coloraxis": {
           "colorbar": {
            "outlinewidth": 0,
            "ticks": ""
           }
          },
          "colorscale": {
           "diverging": [
            [
             0,
             "#8e0152"
            ],
            [
             0.1,
             "#c51b7d"
            ],
            [
             0.2,
             "#de77ae"
            ],
            [
             0.3,
             "#f1b6da"
            ],
            [
             0.4,
             "#fde0ef"
            ],
            [
             0.5,
             "#f7f7f7"
            ],
            [
             0.6,
             "#e6f5d0"
            ],
            [
             0.7,
             "#b8e186"
            ],
            [
             0.8,
             "#7fbc41"
            ],
            [
             0.9,
             "#4d9221"
            ],
            [
             1,
             "#276419"
            ]
           ],
           "sequential": [
            [
             0,
             "#0d0887"
            ],
            [
             0.1111111111111111,
             "#46039f"
            ],
            [
             0.2222222222222222,
             "#7201a8"
            ],
            [
             0.3333333333333333,
             "#9c179e"
            ],
            [
             0.4444444444444444,
             "#bd3786"
            ],
            [
             0.5555555555555556,
             "#d8576b"
            ],
            [
             0.6666666666666666,
             "#ed7953"
            ],
            [
             0.7777777777777778,
             "#fb9f3a"
            ],
            [
             0.8888888888888888,
             "#fdca26"
            ],
            [
             1,
             "#f0f921"
            ]
           ],
           "sequentialminus": [
            [
             0,
             "#0d0887"
            ],
            [
             0.1111111111111111,
             "#46039f"
            ],
            [
             0.2222222222222222,
             "#7201a8"
            ],
            [
             0.3333333333333333,
             "#9c179e"
            ],
            [
             0.4444444444444444,
             "#bd3786"
            ],
            [
             0.5555555555555556,
             "#d8576b"
            ],
            [
             0.6666666666666666,
             "#ed7953"
            ],
            [
             0.7777777777777778,
             "#fb9f3a"
            ],
            [
             0.8888888888888888,
             "#fdca26"
            ],
            [
             1,
             "#f0f921"
            ]
           ]
          },
          "colorway": [
           "#636efa",
           "#EF553B",
           "#00cc96",
           "#ab63fa",
           "#FFA15A",
           "#19d3f3",
           "#FF6692",
           "#B6E880",
           "#FF97FF",
           "#FECB52"
          ],
          "font": {
           "color": "#2a3f5f"
          },
          "geo": {
           "bgcolor": "white",
           "lakecolor": "white",
           "landcolor": "#E5ECF6",
           "showlakes": true,
           "showland": true,
           "subunitcolor": "white"
          },
          "hoverlabel": {
           "align": "left"
          },
          "hovermode": "closest",
          "mapbox": {
           "style": "light"
          },
          "paper_bgcolor": "white",
          "plot_bgcolor": "#E5ECF6",
          "polar": {
           "angularaxis": {
            "gridcolor": "white",
            "linecolor": "white",
            "ticks": ""
           },
           "bgcolor": "#E5ECF6",
           "radialaxis": {
            "gridcolor": "white",
            "linecolor": "white",
            "ticks": ""
           }
          },
          "scene": {
           "xaxis": {
            "backgroundcolor": "#E5ECF6",
            "gridcolor": "white",
            "gridwidth": 2,
            "linecolor": "white",
            "showbackground": true,
            "ticks": "",
            "zerolinecolor": "white"
           },
           "yaxis": {
            "backgroundcolor": "#E5ECF6",
            "gridcolor": "white",
            "gridwidth": 2,
            "linecolor": "white",
            "showbackground": true,
            "ticks": "",
            "zerolinecolor": "white"
           },
           "zaxis": {
            "backgroundcolor": "#E5ECF6",
            "gridcolor": "white",
            "gridwidth": 2,
            "linecolor": "white",
            "showbackground": true,
            "ticks": "",
            "zerolinecolor": "white"
           }
          },
          "shapedefaults": {
           "line": {
            "color": "#2a3f5f"
           }
          },
          "ternary": {
           "aaxis": {
            "gridcolor": "white",
            "linecolor": "white",
            "ticks": ""
           },
           "baxis": {
            "gridcolor": "white",
            "linecolor": "white",
            "ticks": ""
           },
           "bgcolor": "#E5ECF6",
           "caxis": {
            "gridcolor": "white",
            "linecolor": "white",
            "ticks": ""
           }
          },
          "title": {
           "x": 0.05
          },
          "xaxis": {
           "automargin": true,
           "gridcolor": "white",
           "linecolor": "white",
           "ticks": "",
           "title": {
            "standoff": 15
           },
           "zerolinecolor": "white",
           "zerolinewidth": 2
          },
          "yaxis": {
           "automargin": true,
           "gridcolor": "white",
           "linecolor": "white",
           "ticks": "",
           "title": {
            "standoff": 15
           },
           "zerolinecolor": "white",
           "zerolinewidth": 2
          }
         }
        },
        "title": {
         "font": {
          "color": "#4D5663"
         }
        },
        "xaxis": {
         "anchor": "y",
         "domain": [
          0,
          0.2125
         ],
         "gridcolor": "#E1E5ED",
         "showgrid": false,
         "tickfont": {
          "color": "#4D5663"
         },
         "title": {
          "font": {
           "color": "#4D5663"
          },
          "text": ""
         },
         "zerolinecolor": "#E1E5ED"
        },
        "xaxis10": {
         "anchor": "y10",
         "domain": [
          0.2625,
          0.475
         ],
         "gridcolor": "#E1E5ED",
         "showgrid": false,
         "tickfont": {
          "color": "#4D5663"
         },
         "title": {
          "font": {
           "color": "#4D5663"
          },
          "text": ""
         },
         "zerolinecolor": "#E1E5ED"
        },
        "xaxis11": {
         "anchor": "y11",
         "domain": [
          0.525,
          0.7375
         ],
         "gridcolor": "#E1E5ED",
         "showgrid": false,
         "tickfont": {
          "color": "#4D5663"
         },
         "title": {
          "font": {
           "color": "#4D5663"
          },
          "text": ""
         },
         "zerolinecolor": "#E1E5ED"
        },
        "xaxis12": {
         "anchor": "y12",
         "domain": [
          0.7875,
          1
         ],
         "gridcolor": "#E1E5ED",
         "showgrid": false,
         "tickfont": {
          "color": "#4D5663"
         },
         "title": {
          "font": {
           "color": "#4D5663"
          },
          "text": ""
         },
         "zerolinecolor": "#E1E5ED"
        },
        "xaxis13": {
         "anchor": "y13",
         "domain": [
          0,
          0.2125
         ],
         "gridcolor": "#E1E5ED",
         "showgrid": false,
         "tickfont": {
          "color": "#4D5663"
         },
         "title": {
          "font": {
           "color": "#4D5663"
          },
          "text": ""
         },
         "zerolinecolor": "#E1E5ED"
        },
        "xaxis14": {
         "anchor": "y14",
         "domain": [
          0.2625,
          0.475
         ],
         "gridcolor": "#E1E5ED",
         "showgrid": false,
         "tickfont": {
          "color": "#4D5663"
         },
         "title": {
          "font": {
           "color": "#4D5663"
          },
          "text": ""
         },
         "zerolinecolor": "#E1E5ED"
        },
        "xaxis15": {
         "anchor": "y15",
         "domain": [
          0.525,
          0.7375
         ],
         "gridcolor": "#E1E5ED",
         "showgrid": false,
         "tickfont": {
          "color": "#4D5663"
         },
         "title": {
          "font": {
           "color": "#4D5663"
          },
          "text": ""
         },
         "zerolinecolor": "#E1E5ED"
        },
        "xaxis16": {
         "anchor": "y16",
         "domain": [
          0.7875,
          1
         ],
         "gridcolor": "#E1E5ED",
         "showgrid": false,
         "tickfont": {
          "color": "#4D5663"
         },
         "title": {
          "font": {
           "color": "#4D5663"
          },
          "text": ""
         },
         "zerolinecolor": "#E1E5ED"
        },
        "xaxis2": {
         "anchor": "y2",
         "domain": [
          0.2625,
          0.475
         ],
         "gridcolor": "#E1E5ED",
         "showgrid": false,
         "tickfont": {
          "color": "#4D5663"
         },
         "title": {
          "font": {
           "color": "#4D5663"
          },
          "text": ""
         },
         "zerolinecolor": "#E1E5ED"
        },
        "xaxis3": {
         "anchor": "y3",
         "domain": [
          0.525,
          0.7375
         ],
         "gridcolor": "#E1E5ED",
         "showgrid": false,
         "tickfont": {
          "color": "#4D5663"
         },
         "title": {
          "font": {
           "color": "#4D5663"
          },
          "text": ""
         },
         "zerolinecolor": "#E1E5ED"
        },
        "xaxis4": {
         "anchor": "y4",
         "domain": [
          0.7875,
          1
         ],
         "gridcolor": "#E1E5ED",
         "showgrid": false,
         "tickfont": {
          "color": "#4D5663"
         },
         "title": {
          "font": {
           "color": "#4D5663"
          },
          "text": ""
         },
         "zerolinecolor": "#E1E5ED"
        },
        "xaxis5": {
         "anchor": "y5",
         "domain": [
          0,
          0.2125
         ],
         "gridcolor": "#E1E5ED",
         "showgrid": false,
         "tickfont": {
          "color": "#4D5663"
         },
         "title": {
          "font": {
           "color": "#4D5663"
          },
          "text": ""
         },
         "zerolinecolor": "#E1E5ED"
        },
        "xaxis6": {
         "anchor": "y6",
         "domain": [
          0.2625,
          0.475
         ],
         "gridcolor": "#E1E5ED",
         "showgrid": false,
         "tickfont": {
          "color": "#4D5663"
         },
         "title": {
          "font": {
           "color": "#4D5663"
          },
          "text": ""
         },
         "zerolinecolor": "#E1E5ED"
        },
        "xaxis7": {
         "anchor": "y7",
         "domain": [
          0.525,
          0.7375
         ],
         "gridcolor": "#E1E5ED",
         "showgrid": false,
         "tickfont": {
          "color": "#4D5663"
         },
         "title": {
          "font": {
           "color": "#4D5663"
          },
          "text": ""
         },
         "zerolinecolor": "#E1E5ED"
        },
        "xaxis8": {
         "anchor": "y8",
         "domain": [
          0.7875,
          1
         ],
         "gridcolor": "#E1E5ED",
         "showgrid": false,
         "tickfont": {
          "color": "#4D5663"
         },
         "title": {
          "font": {
           "color": "#4D5663"
          },
          "text": ""
         },
         "zerolinecolor": "#E1E5ED"
        },
        "xaxis9": {
         "anchor": "y9",
         "domain": [
          0,
          0.2125
         ],
         "gridcolor": "#E1E5ED",
         "showgrid": false,
         "tickfont": {
          "color": "#4D5663"
         },
         "title": {
          "font": {
           "color": "#4D5663"
          },
          "text": ""
         },
         "zerolinecolor": "#E1E5ED"
        },
        "yaxis": {
         "anchor": "x",
         "domain": [
          0.8025,
          1
         ],
         "gridcolor": "#E1E5ED",
         "showgrid": false,
         "tickfont": {
          "color": "#4D5663"
         },
         "title": {
          "font": {
           "color": "#4D5663"
          },
          "text": ""
         },
         "zerolinecolor": "#E1E5ED"
        },
        "yaxis10": {
         "anchor": "x10",
         "domain": [
          0.2675,
          0.465
         ],
         "gridcolor": "#E1E5ED",
         "showgrid": false,
         "tickfont": {
          "color": "#4D5663"
         },
         "title": {
          "font": {
           "color": "#4D5663"
          },
          "text": ""
         },
         "zerolinecolor": "#E1E5ED"
        },
        "yaxis11": {
         "anchor": "x11",
         "domain": [
          0.2675,
          0.465
         ],
         "gridcolor": "#E1E5ED",
         "showgrid": false,
         "tickfont": {
          "color": "#4D5663"
         },
         "title": {
          "font": {
           "color": "#4D5663"
          },
          "text": ""
         },
         "zerolinecolor": "#E1E5ED"
        },
        "yaxis12": {
         "anchor": "x12",
         "domain": [
          0.2675,
          0.465
         ],
         "gridcolor": "#E1E5ED",
         "showgrid": false,
         "tickfont": {
          "color": "#4D5663"
         },
         "title": {
          "font": {
           "color": "#4D5663"
          },
          "text": ""
         },
         "zerolinecolor": "#E1E5ED"
        },
        "yaxis13": {
         "anchor": "x13",
         "domain": [
          0,
          0.1975
         ],
         "gridcolor": "#E1E5ED",
         "showgrid": false,
         "tickfont": {
          "color": "#4D5663"
         },
         "title": {
          "font": {
           "color": "#4D5663"
          },
          "text": ""
         },
         "zerolinecolor": "#E1E5ED"
        },
        "yaxis14": {
         "anchor": "x14",
         "domain": [
          0,
          0.1975
         ],
         "gridcolor": "#E1E5ED",
         "showgrid": false,
         "tickfont": {
          "color": "#4D5663"
         },
         "title": {
          "font": {
           "color": "#4D5663"
          },
          "text": ""
         },
         "zerolinecolor": "#E1E5ED"
        },
        "yaxis15": {
         "anchor": "x15",
         "domain": [
          0,
          0.1975
         ],
         "gridcolor": "#E1E5ED",
         "showgrid": false,
         "tickfont": {
          "color": "#4D5663"
         },
         "title": {
          "font": {
           "color": "#4D5663"
          },
          "text": ""
         },
         "zerolinecolor": "#E1E5ED"
        },
        "yaxis16": {
         "anchor": "x16",
         "domain": [
          0,
          0.1975
         ],
         "gridcolor": "#E1E5ED",
         "showgrid": false,
         "tickfont": {
          "color": "#4D5663"
         },
         "title": {
          "font": {
           "color": "#4D5663"
          },
          "text": ""
         },
         "zerolinecolor": "#E1E5ED"
        },
        "yaxis2": {
         "anchor": "x2",
         "domain": [
          0.8025,
          1
         ],
         "gridcolor": "#E1E5ED",
         "showgrid": false,
         "tickfont": {
          "color": "#4D5663"
         },
         "title": {
          "font": {
           "color": "#4D5663"
          },
          "text": ""
         },
         "zerolinecolor": "#E1E5ED"
        },
        "yaxis3": {
         "anchor": "x3",
         "domain": [
          0.8025,
          1
         ],
         "gridcolor": "#E1E5ED",
         "showgrid": false,
         "tickfont": {
          "color": "#4D5663"
         },
         "title": {
          "font": {
           "color": "#4D5663"
          },
          "text": ""
         },
         "zerolinecolor": "#E1E5ED"
        },
        "yaxis4": {
         "anchor": "x4",
         "domain": [
          0.8025,
          1
         ],
         "gridcolor": "#E1E5ED",
         "showgrid": false,
         "tickfont": {
          "color": "#4D5663"
         },
         "title": {
          "font": {
           "color": "#4D5663"
          },
          "text": ""
         },
         "zerolinecolor": "#E1E5ED"
        },
        "yaxis5": {
         "anchor": "x5",
         "domain": [
          0.535,
          0.7325
         ],
         "gridcolor": "#E1E5ED",
         "showgrid": false,
         "tickfont": {
          "color": "#4D5663"
         },
         "title": {
          "font": {
           "color": "#4D5663"
          },
          "text": ""
         },
         "zerolinecolor": "#E1E5ED"
        },
        "yaxis6": {
         "anchor": "x6",
         "domain": [
          0.535,
          0.7325
         ],
         "gridcolor": "#E1E5ED",
         "showgrid": false,
         "tickfont": {
          "color": "#4D5663"
         },
         "title": {
          "font": {
           "color": "#4D5663"
          },
          "text": ""
         },
         "zerolinecolor": "#E1E5ED"
        },
        "yaxis7": {
         "anchor": "x7",
         "domain": [
          0.535,
          0.7325
         ],
         "gridcolor": "#E1E5ED",
         "showgrid": false,
         "tickfont": {
          "color": "#4D5663"
         },
         "title": {
          "font": {
           "color": "#4D5663"
          },
          "text": ""
         },
         "zerolinecolor": "#E1E5ED"
        },
        "yaxis8": {
         "anchor": "x8",
         "domain": [
          0.535,
          0.7325
         ],
         "gridcolor": "#E1E5ED",
         "showgrid": false,
         "tickfont": {
          "color": "#4D5663"
         },
         "title": {
          "font": {
           "color": "#4D5663"
          },
          "text": ""
         },
         "zerolinecolor": "#E1E5ED"
        },
        "yaxis9": {
         "anchor": "x9",
         "domain": [
          0.2675,
          0.465
         ],
         "gridcolor": "#E1E5ED",
         "showgrid": false,
         "tickfont": {
          "color": "#4D5663"
         },
         "title": {
          "font": {
           "color": "#4D5663"
          },
          "text": ""
         },
         "zerolinecolor": "#E1E5ED"
        }
       }
      },
      "text/html": [
       "<div>\n",
       "        \n",
       "        \n",
       "            <div id=\"a8f65fac-13b6-4bad-8727-c285985ffb94\" class=\"plotly-graph-div\" style=\"height:525px; width:100%;\"></div>\n",
       "            <script type=\"text/javascript\">\n",
       "                require([\"plotly\"], function(Plotly) {\n",
       "                    window.PLOTLYENV=window.PLOTLYENV || {};\n",
       "                    window.PLOTLYENV.BASE_URL='https://plot.ly';\n",
       "                    \n",
       "                if (document.getElementById(\"a8f65fac-13b6-4bad-8727-c285985ffb94\")) {\n",
       "                    Plotly.newPlot(\n",
       "                        'a8f65fac-13b6-4bad-8727-c285985ffb94',\n",
       "                        [{\"histfunc\": \"count\", \"histnorm\": \"\", \"marker\": {\"color\": \"rgba(255, 153, 51, 1.0)\", \"line\": {\"color\": \"#4D5663\", \"width\": 1.3}}, \"name\": \"A\", \"nbinsx\": 10, \"opacity\": 0.8, \"orientation\": \"v\", \"type\": \"histogram\", \"x\": [-0.01662130328228244, 0.8952922062355154, 0.08493791794765844, -0.09589135686355073, -0.4122201947502266, -0.20360574556365796, -1.3226112787089954, -0.7048337371978483, 0.04150771300361059, -0.016184912767458252, -0.7836247979483332, -0.41697995913853403, -1.5145544317741388, -0.9872935372845854, 2.8600594602810627, 0.7879441726553916, -0.2813608872356518, -0.6513622033836487, -0.3833614492804819, 0.16483281378445427, -2.1741767017157674, -1.6507999144342882, 1.233849002951117, 1.8853071817620293, -1.5954169238801832, -0.5522359603285474, -0.1776701185864922, -0.44322099515839536, 1.0203828724791646, -0.746502813707562, -0.9880780584427672, -0.1989813172992508, 1.028266715119139, 0.9046343789939094, -0.24335430626921478, 1.4808496271033058, 1.183551097291823, 0.7818177335952013, 2.6317909237286803, -1.43255595184391, -0.5375396949804877, -0.9652461283114274, -0.37225584275459644, 0.14086596179529387, 2.1088529093442165, 1.754446737290178, 0.3204895796285177, 0.5431393205854986, -0.26921450300987526, 1.2276137248806802, 2.18564194957632, -0.4189445878428453, -0.08003270330739348, 0.8616685014005222, 0.3204625049333791, -0.5444096849865591, 1.4381126068067536, -1.5508518741330823, -1.7451055721182847, 1.393700428608044, 0.5528230108651216, -0.6354989243573955, 0.5941962167234219, -1.498736192404156, 1.2550871276452416, -0.8096320399507062, 0.24176403155914405, 0.4183631446701141, -1.7819580157798707, -0.587756797309145, -0.38795341821094526, 0.07830346473682828, 0.002456668961825936, 1.9450473657318994, 0.7258558214498236, -1.0099384838064072, 0.28353464707170767, -1.0649028041957125, 0.5771518242200254, 0.8046577717798538, -0.10976143995602793, 1.0417233039507987, -0.6800719626994939, -0.6139450381025275, 0.46504150196282273, 0.48002415552846633, -2.0624178821863004, 1.4590453138925938, -0.06592069257443393, 1.3037006920198502, -1.0417291996549434, -1.393953962398956, -0.09525476965697717, -0.11489070095885666, 2.4005052823632567, -0.9318581112304919, 0.941522431201813, 0.19568237193128438, 0.10374442540451675, -1.3981329572930432], \"xaxis\": \"x\", \"yaxis\": \"y\"}, {\"line\": {\"color\": \"rgba(128, 128, 128, 1.0)\", \"dash\": \"solid\", \"shape\": \"linear\", \"width\": 1.3}, \"marker\": {\"size\": 2, \"symbol\": \"circle\"}, \"mode\": \"markers\", \"name\": \"A\", \"text\": \"\", \"type\": \"scatter\", \"x\": [-0.43085692617183563, -0.1948859952808109, 0.25661125162705656, -1.3086950885020459, 0.8330382361581136, -0.6953289463874578, -0.041546759765450116, 0.3766966051839097, -0.4106742584914722, -0.5017699496138679, 0.011010566296178933, 0.7150811983334743, 0.8531750275133767, 2.1930241736297655, 0.6183354743888189, -0.2543897369151032, 1.976789309709738, 0.9045016370030701, 0.6176953549838936, -0.4420620066123814, 0.004259990892965676, -0.6890818854195719, 0.1284746414788866, 1.1565973705210073, -0.1669069048135824, 0.9510917351310352, 0.3776204353934389, -0.6104100303510119, 0.8194742730220135, 1.040708142451746, -0.8233687567505201, -1.1344997698956967, -0.2957474277602403, -0.6732382334575902, -0.20198607174310862, -0.5191193334283744, 0.025830849269225062, -0.7336763065006728, 1.2444882142572342, -1.4366617646017776, 1.1881118540595137, 0.954362185403333, -0.1636882464763225, 0.2585056931294286, 0.307000591264868, 0.5053904332689658, 1.371257331498223, 0.8284466732128394, -1.6398779068387968, 0.1312492505552544, -2.0782358481550904, -0.045307906304940145, 0.16728844758876973, 0.4199691612388556, 0.5537924522559142, -0.472466174965874, -0.43842800336219834, -0.8086583687303776, -1.4472922254350542, 1.5432229404089068, 0.09327407639879354, -1.7151607168181384, 0.31547264421701804, -0.6409782017093438, -0.5888934484654935, -0.2589297494469279, 0.4095662405359321, -0.7827392201998249, 0.8536261771615004, -0.13667988806894107, 0.014275802400758018, 0.2700521255686095, 0.0713171499641922, -1.6360217944335709, 1.1316472826520418, 0.21966931057515063, -1.0415257873712767, -0.673080884585363, 0.6417494538653378, -2.575256173392799, -1.301392718985718, -1.3280555679474806, -0.3988933059066309, -1.4320562115681523, -0.5208466357235377, 0.6283326705144111, -0.4993914177816305, 2.3803973130583707, -1.404107842111614, -0.05799211063099601, -1.1984196002600367, -0.14252971995716965, -0.3981381038453286, -0.3917743490224008, 1.5356909803434518, 0.5644974004458589, 0.36323243100145386, 0.5520098897203459, -0.6462900576233668, 1.1144001381118762], \"xaxis\": \"x2\", \"y\": [-0.01662130328228244, 0.8952922062355154, 0.08493791794765844, -0.09589135686355073, -0.4122201947502266, -0.20360574556365796, -1.3226112787089954, -0.7048337371978483, 0.04150771300361059, -0.016184912767458252, -0.7836247979483332, -0.41697995913853403, -1.5145544317741388, -0.9872935372845854, 2.8600594602810627, 0.7879441726553916, -0.2813608872356518, -0.6513622033836487, -0.3833614492804819, 0.16483281378445427, -2.1741767017157674, -1.6507999144342882, 1.233849002951117, 1.8853071817620293, -1.5954169238801832, -0.5522359603285474, -0.1776701185864922, -0.44322099515839536, 1.0203828724791646, -0.746502813707562, -0.9880780584427672, -0.1989813172992508, 1.028266715119139, 0.9046343789939094, -0.24335430626921478, 1.4808496271033058, 1.183551097291823, 0.7818177335952013, 2.6317909237286803, -1.43255595184391, -0.5375396949804877, -0.9652461283114274, -0.37225584275459644, 0.14086596179529387, 2.1088529093442165, 1.754446737290178, 0.3204895796285177, 0.5431393205854986, -0.26921450300987526, 1.2276137248806802, 2.18564194957632, -0.4189445878428453, -0.08003270330739348, 0.8616685014005222, 0.3204625049333791, -0.5444096849865591, 1.4381126068067536, -1.5508518741330823, -1.7451055721182847, 1.393700428608044, 0.5528230108651216, -0.6354989243573955, 0.5941962167234219, -1.498736192404156, 1.2550871276452416, -0.8096320399507062, 0.24176403155914405, 0.4183631446701141, -1.7819580157798707, -0.587756797309145, -0.38795341821094526, 0.07830346473682828, 0.002456668961825936, 1.9450473657318994, 0.7258558214498236, -1.0099384838064072, 0.28353464707170767, -1.0649028041957125, 0.5771518242200254, 0.8046577717798538, -0.10976143995602793, 1.0417233039507987, -0.6800719626994939, -0.6139450381025275, 0.46504150196282273, 0.48002415552846633, -2.0624178821863004, 1.4590453138925938, -0.06592069257443393, 1.3037006920198502, -1.0417291996549434, -1.393953962398956, -0.09525476965697717, -0.11489070095885666, 2.4005052823632567, -0.9318581112304919, 0.941522431201813, 0.19568237193128438, 0.10374442540451675, -1.3981329572930432], \"yaxis\": \"y2\"}, {\"line\": {\"color\": \"rgba(128, 128, 128, 1.0)\", \"dash\": \"solid\", \"shape\": \"linear\", \"width\": 1.3}, \"marker\": {\"size\": 2, \"symbol\": \"circle\"}, \"mode\": \"markers\", \"name\": \"A\", \"text\": \"\", \"type\": \"scatter\", \"x\": [-2.0092660704673566, -1.2598029689852777, -0.2760950755895815, -0.9365077817146868, -0.7467722748457818, -0.7267174990662252, 0.8107639722666636, 0.3018313256185027, -0.2779338079594555, 1.0850989578462957, 1.0633890945862559, 0.19984988072986953, -1.0240416296636121, 0.5038285176790187, 0.06717667510847727, 0.7185919144131047, -0.49171157314491626, -0.7679077810892389, 1.5701249112688236, -0.47251103418643026, 1.9430557828822212, 0.2379297319180449, 0.36707306677115453, 0.006699107693457233, -1.0180537128174496, -0.6080580473072035, 1.0185946954688905, 0.5714696913211738, 0.09143339844861038, 2.070139494439533, 1.140804725949334, 0.6126110616024626, 0.4563101220852704, -2.2654786046256543, -0.4029428049342183, -0.16962658908939526, -0.24096898379316878, -1.0073125456045633, 0.28463786120973017, 0.9529151893853018, -1.2378966892029355, -0.06963240847971755, -0.7032964127927137, -0.5809832596471718, 0.29449307116870876, 0.33243510188444925, 0.4977579983615313, -0.9257449819489063, -0.41725764974537366, 0.4848070737197375, 0.43930170517402317, 0.23065023494261755, 0.4816217241293878, 0.04799816907981186, -0.3974323820653122, 0.7903361874598068, 1.4322150789264265, -1.647709706473274, -2.3800258277526543, 0.6970445446703903, 0.8316708876679342, -1.5158979051133505, -0.14986630629837563, -1.0493727521665157, 1.701201455937589, -0.1410913288683814, 0.2685239479223764, -0.7600369349891372, -0.4742547385039707, -0.8220107130507899, 0.8445080140789566, -0.324027172344423, -0.4178030661196102, -0.26596041408454146, 0.5523489460368105, -0.7026605411631265, 0.13994365329359548, -0.04065613857973858, -0.28547939736187256, 0.3388705179018651, 0.9668821132900235, 1.7880873782211257, 1.9386610560756863, -0.34094180091834364, -1.1192837035162806, 0.6279726842636103, 0.6200042114970403, -1.4264867124427423, -1.809853283787445, -1.193888458973862, 0.08685450082155578, -0.7102321011128129, 1.2846765718116526, -1.123680140228286, -0.2806606072097656, -1.4896739546532576, 0.6295603599603866, 1.1136656548999315, 0.9536097103790099, -0.7080867626264907], \"xaxis\": \"x3\", \"y\": [-0.01662130328228244, 0.8952922062355154, 0.08493791794765844, -0.09589135686355073, -0.4122201947502266, -0.20360574556365796, -1.3226112787089954, -0.7048337371978483, 0.04150771300361059, -0.016184912767458252, -0.7836247979483332, -0.41697995913853403, -1.5145544317741388, -0.9872935372845854, 2.8600594602810627, 0.7879441726553916, -0.2813608872356518, -0.6513622033836487, -0.3833614492804819, 0.16483281378445427, -2.1741767017157674, -1.6507999144342882, 1.233849002951117, 1.8853071817620293, -1.5954169238801832, -0.5522359603285474, -0.1776701185864922, -0.44322099515839536, 1.0203828724791646, -0.746502813707562, -0.9880780584427672, -0.1989813172992508, 1.028266715119139, 0.9046343789939094, -0.24335430626921478, 1.4808496271033058, 1.183551097291823, 0.7818177335952013, 2.6317909237286803, -1.43255595184391, -0.5375396949804877, -0.9652461283114274, -0.37225584275459644, 0.14086596179529387, 2.1088529093442165, 1.754446737290178, 0.3204895796285177, 0.5431393205854986, -0.26921450300987526, 1.2276137248806802, 2.18564194957632, -0.4189445878428453, -0.08003270330739348, 0.8616685014005222, 0.3204625049333791, -0.5444096849865591, 1.4381126068067536, -1.5508518741330823, -1.7451055721182847, 1.393700428608044, 0.5528230108651216, -0.6354989243573955, 0.5941962167234219, -1.498736192404156, 1.2550871276452416, -0.8096320399507062, 0.24176403155914405, 0.4183631446701141, -1.7819580157798707, -0.587756797309145, -0.38795341821094526, 0.07830346473682828, 0.002456668961825936, 1.9450473657318994, 0.7258558214498236, -1.0099384838064072, 0.28353464707170767, -1.0649028041957125, 0.5771518242200254, 0.8046577717798538, -0.10976143995602793, 1.0417233039507987, -0.6800719626994939, -0.6139450381025275, 0.46504150196282273, 0.48002415552846633, -2.0624178821863004, 1.4590453138925938, -0.06592069257443393, 1.3037006920198502, -1.0417291996549434, -1.393953962398956, -0.09525476965697717, -0.11489070095885666, 2.4005052823632567, -0.9318581112304919, 0.941522431201813, 0.19568237193128438, 0.10374442540451675, -1.3981329572930432], \"yaxis\": \"y3\"}, {\"line\": {\"color\": \"rgba(128, 128, 128, 1.0)\", \"dash\": \"solid\", \"shape\": \"linear\", \"width\": 1.3}, \"marker\": {\"size\": 2, \"symbol\": \"circle\"}, \"mode\": \"markers\", \"name\": \"A\", \"text\": \"\", \"type\": \"scatter\", \"x\": [1.0501701145422817, 0.4451796840776505, 0.019322074864412696, 0.9953761305418058, 0.5110397705048686, -0.803700035088617, 2.6444092391724636, 0.7893356856324825, -0.08471694230445719, -1.3109737377927366, 0.4248306638940191, 1.3717385676996887, 0.40107501810780155, -0.8911298914144757, -0.17802975610778662, 0.45954921920579067, -1.2291934521608001, 1.5879628450775962, 2.3950384881567475, 0.7864211027184705, 0.44696414651942606, -0.7688917608863599, 0.8034469969539286, -0.2441696518488366, 0.7946135467706282, 0.4629228010763608, 2.4375744559135692, -2.0666459708872487, 1.3369394395351957, 0.281544068694196, 1.40868549926317, 1.7007000788755262, -0.5707362211763846, 0.30086898022664293, -0.9768980954609655, 0.3212560453655524, 0.7156443033399906, -1.2165459335403617, -0.20839221483710563, -0.0058505078818461, -0.6256249650976695, -0.34208821825767766, 2.9057635151997228, 1.1898121704981293, 0.7748839366899357, 0.775858103384347, 1.734019655618904, 0.4883218411991308, 0.48319375293985073, 0.07251905790818866, -0.2737028732193538, -0.21945236052007253, -0.8829581220812761, -1.3291278492107135, 2.327960742028899, 0.11235642184377229, -0.31755903220376597, 1.3147441857811188, 0.4011430411094645, -0.859875508599031, 0.6827306411077664, 1.4857854264842902, 0.7311732289637328, -2.418153976778658, 0.9536327739040761, -1.7769454655989747, -0.42076296424642096, -1.1229235007551497, -0.41217731324319673, 2.099699703404748, -1.9289629279399207, -0.5093084117755678, 1.0742848834728373, 0.6702312418547619, -0.25349917550157963, -0.669305397468498, -1.693821178889706, 0.5103274302378665, 1.0541391062646233, -0.5976418342961541, 0.8682392696715692, -0.6697941242150638, 0.9742988020969872, 0.4783934061363041, -0.10945425289967044, 0.5579648469307343, 0.061882101624842645, -0.45157774335416456, 0.6161163305270498, -0.054394521326319764, -1.5735721687894109, 0.5705772210638205, 0.5761796006749031, 0.1844921493983869, -0.24892164936248318, -1.2743548062088557, 0.6984023222628456, 1.1154228312324685, -0.7900145646772628, -0.4938822454556439], \"xaxis\": \"x4\", \"y\": [-0.01662130328228244, 0.8952922062355154, 0.08493791794765844, -0.09589135686355073, -0.4122201947502266, -0.20360574556365796, -1.3226112787089954, -0.7048337371978483, 0.04150771300361059, -0.016184912767458252, -0.7836247979483332, -0.41697995913853403, -1.5145544317741388, -0.9872935372845854, 2.8600594602810627, 0.7879441726553916, -0.2813608872356518, -0.6513622033836487, -0.3833614492804819, 0.16483281378445427, -2.1741767017157674, -1.6507999144342882, 1.233849002951117, 1.8853071817620293, -1.5954169238801832, -0.5522359603285474, -0.1776701185864922, -0.44322099515839536, 1.0203828724791646, -0.746502813707562, -0.9880780584427672, -0.1989813172992508, 1.028266715119139, 0.9046343789939094, -0.24335430626921478, 1.4808496271033058, 1.183551097291823, 0.7818177335952013, 2.6317909237286803, -1.43255595184391, -0.5375396949804877, -0.9652461283114274, -0.37225584275459644, 0.14086596179529387, 2.1088529093442165, 1.754446737290178, 0.3204895796285177, 0.5431393205854986, -0.26921450300987526, 1.2276137248806802, 2.18564194957632, -0.4189445878428453, -0.08003270330739348, 0.8616685014005222, 0.3204625049333791, -0.5444096849865591, 1.4381126068067536, -1.5508518741330823, -1.7451055721182847, 1.393700428608044, 0.5528230108651216, -0.6354989243573955, 0.5941962167234219, -1.498736192404156, 1.2550871276452416, -0.8096320399507062, 0.24176403155914405, 0.4183631446701141, -1.7819580157798707, -0.587756797309145, -0.38795341821094526, 0.07830346473682828, 0.002456668961825936, 1.9450473657318994, 0.7258558214498236, -1.0099384838064072, 0.28353464707170767, -1.0649028041957125, 0.5771518242200254, 0.8046577717798538, -0.10976143995602793, 1.0417233039507987, -0.6800719626994939, -0.6139450381025275, 0.46504150196282273, 0.48002415552846633, -2.0624178821863004, 1.4590453138925938, -0.06592069257443393, 1.3037006920198502, -1.0417291996549434, -1.393953962398956, -0.09525476965697717, -0.11489070095885666, 2.4005052823632567, -0.9318581112304919, 0.941522431201813, 0.19568237193128438, 0.10374442540451675, -1.3981329572930432], \"yaxis\": \"y4\"}, {\"line\": {\"color\": \"rgba(128, 128, 128, 1.0)\", \"dash\": \"solid\", \"shape\": \"linear\", \"width\": 1.3}, \"marker\": {\"size\": 2, \"symbol\": \"circle\"}, \"mode\": \"markers\", \"name\": \"B\", \"text\": \"\", \"type\": \"scatter\", \"x\": [-0.01662130328228244, 0.8952922062355154, 0.08493791794765844, -0.09589135686355073, -0.4122201947502266, -0.20360574556365796, -1.3226112787089954, -0.7048337371978483, 0.04150771300361059, -0.016184912767458252, -0.7836247979483332, -0.41697995913853403, -1.5145544317741388, -0.9872935372845854, 2.8600594602810627, 0.7879441726553916, -0.2813608872356518, -0.6513622033836487, -0.3833614492804819, 0.16483281378445427, -2.1741767017157674, -1.6507999144342882, 1.233849002951117, 1.8853071817620293, -1.5954169238801832, -0.5522359603285474, -0.1776701185864922, -0.44322099515839536, 1.0203828724791646, -0.746502813707562, -0.9880780584427672, -0.1989813172992508, 1.028266715119139, 0.9046343789939094, -0.24335430626921478, 1.4808496271033058, 1.183551097291823, 0.7818177335952013, 2.6317909237286803, -1.43255595184391, -0.5375396949804877, -0.9652461283114274, -0.37225584275459644, 0.14086596179529387, 2.1088529093442165, 1.754446737290178, 0.3204895796285177, 0.5431393205854986, -0.26921450300987526, 1.2276137248806802, 2.18564194957632, -0.4189445878428453, -0.08003270330739348, 0.8616685014005222, 0.3204625049333791, -0.5444096849865591, 1.4381126068067536, -1.5508518741330823, -1.7451055721182847, 1.393700428608044, 0.5528230108651216, -0.6354989243573955, 0.5941962167234219, -1.498736192404156, 1.2550871276452416, -0.8096320399507062, 0.24176403155914405, 0.4183631446701141, -1.7819580157798707, -0.587756797309145, -0.38795341821094526, 0.07830346473682828, 0.002456668961825936, 1.9450473657318994, 0.7258558214498236, -1.0099384838064072, 0.28353464707170767, -1.0649028041957125, 0.5771518242200254, 0.8046577717798538, -0.10976143995602793, 1.0417233039507987, -0.6800719626994939, -0.6139450381025275, 0.46504150196282273, 0.48002415552846633, -2.0624178821863004, 1.4590453138925938, -0.06592069257443393, 1.3037006920198502, -1.0417291996549434, -1.393953962398956, -0.09525476965697717, -0.11489070095885666, 2.4005052823632567, -0.9318581112304919, 0.941522431201813, 0.19568237193128438, 0.10374442540451675, -1.3981329572930432], \"xaxis\": \"x5\", \"y\": [-0.43085692617183563, -0.1948859952808109, 0.25661125162705656, -1.3086950885020459, 0.8330382361581136, -0.6953289463874578, -0.041546759765450116, 0.3766966051839097, -0.4106742584914722, -0.5017699496138679, 0.011010566296178933, 0.7150811983334743, 0.8531750275133767, 2.1930241736297655, 0.6183354743888189, -0.2543897369151032, 1.976789309709738, 0.9045016370030701, 0.6176953549838936, -0.4420620066123814, 0.004259990892965676, -0.6890818854195719, 0.1284746414788866, 1.1565973705210073, -0.1669069048135824, 0.9510917351310352, 0.3776204353934389, -0.6104100303510119, 0.8194742730220135, 1.040708142451746, -0.8233687567505201, -1.1344997698956967, -0.2957474277602403, -0.6732382334575902, -0.20198607174310862, -0.5191193334283744, 0.025830849269225062, -0.7336763065006728, 1.2444882142572342, -1.4366617646017776, 1.1881118540595137, 0.954362185403333, -0.1636882464763225, 0.2585056931294286, 0.307000591264868, 0.5053904332689658, 1.371257331498223, 0.8284466732128394, -1.6398779068387968, 0.1312492505552544, -2.0782358481550904, -0.045307906304940145, 0.16728844758876973, 0.4199691612388556, 0.5537924522559142, -0.472466174965874, -0.43842800336219834, -0.8086583687303776, -1.4472922254350542, 1.5432229404089068, 0.09327407639879354, -1.7151607168181384, 0.31547264421701804, -0.6409782017093438, -0.5888934484654935, -0.2589297494469279, 0.4095662405359321, -0.7827392201998249, 0.8536261771615004, -0.13667988806894107, 0.014275802400758018, 0.2700521255686095, 0.0713171499641922, -1.6360217944335709, 1.1316472826520418, 0.21966931057515063, -1.0415257873712767, -0.673080884585363, 0.6417494538653378, -2.575256173392799, -1.301392718985718, -1.3280555679474806, -0.3988933059066309, -1.4320562115681523, -0.5208466357235377, 0.6283326705144111, -0.4993914177816305, 2.3803973130583707, -1.404107842111614, -0.05799211063099601, -1.1984196002600367, -0.14252971995716965, -0.3981381038453286, -0.3917743490224008, 1.5356909803434518, 0.5644974004458589, 0.36323243100145386, 0.5520098897203459, -0.6462900576233668, 1.1144001381118762], \"yaxis\": \"y5\"}, {\"histfunc\": \"count\", \"histnorm\": \"\", \"marker\": {\"color\": \"rgba(55, 128, 191, 1.0)\", \"line\": {\"color\": \"#4D5663\", \"width\": 1.3}}, \"name\": \"B\", \"nbinsx\": 10, \"opacity\": 0.8, \"orientation\": \"v\", \"type\": \"histogram\", \"x\": [-0.43085692617183563, -0.1948859952808109, 0.25661125162705656, -1.3086950885020459, 0.8330382361581136, -0.6953289463874578, -0.041546759765450116, 0.3766966051839097, -0.4106742584914722, -0.5017699496138679, 0.011010566296178933, 0.7150811983334743, 0.8531750275133767, 2.1930241736297655, 0.6183354743888189, -0.2543897369151032, 1.976789309709738, 0.9045016370030701, 0.6176953549838936, -0.4420620066123814, 0.004259990892965676, -0.6890818854195719, 0.1284746414788866, 1.1565973705210073, -0.1669069048135824, 0.9510917351310352, 0.3776204353934389, -0.6104100303510119, 0.8194742730220135, 1.040708142451746, -0.8233687567505201, -1.1344997698956967, -0.2957474277602403, -0.6732382334575902, -0.20198607174310862, -0.5191193334283744, 0.025830849269225062, -0.7336763065006728, 1.2444882142572342, -1.4366617646017776, 1.1881118540595137, 0.954362185403333, -0.1636882464763225, 0.2585056931294286, 0.307000591264868, 0.5053904332689658, 1.371257331498223, 0.8284466732128394, -1.6398779068387968, 0.1312492505552544, -2.0782358481550904, -0.045307906304940145, 0.16728844758876973, 0.4199691612388556, 0.5537924522559142, -0.472466174965874, -0.43842800336219834, -0.8086583687303776, -1.4472922254350542, 1.5432229404089068, 0.09327407639879354, -1.7151607168181384, 0.31547264421701804, -0.6409782017093438, -0.5888934484654935, -0.2589297494469279, 0.4095662405359321, -0.7827392201998249, 0.8536261771615004, -0.13667988806894107, 0.014275802400758018, 0.2700521255686095, 0.0713171499641922, -1.6360217944335709, 1.1316472826520418, 0.21966931057515063, -1.0415257873712767, -0.673080884585363, 0.6417494538653378, -2.575256173392799, -1.301392718985718, -1.3280555679474806, -0.3988933059066309, -1.4320562115681523, -0.5208466357235377, 0.6283326705144111, -0.4993914177816305, 2.3803973130583707, -1.404107842111614, -0.05799211063099601, -1.1984196002600367, -0.14252971995716965, -0.3981381038453286, -0.3917743490224008, 1.5356909803434518, 0.5644974004458589, 0.36323243100145386, 0.5520098897203459, -0.6462900576233668, 1.1144001381118762], \"xaxis\": \"x6\", \"yaxis\": \"y6\"}, {\"line\": {\"color\": \"rgba(128, 128, 128, 1.0)\", \"dash\": \"solid\", \"shape\": \"linear\", \"width\": 1.3}, \"marker\": {\"size\": 2, \"symbol\": \"circle\"}, \"mode\": \"markers\", \"name\": \"B\", \"text\": \"\", \"type\": \"scatter\", \"x\": [-2.0092660704673566, -1.2598029689852777, -0.2760950755895815, -0.9365077817146868, -0.7467722748457818, -0.7267174990662252, 0.8107639722666636, 0.3018313256185027, -0.2779338079594555, 1.0850989578462957, 1.0633890945862559, 0.19984988072986953, -1.0240416296636121, 0.5038285176790187, 0.06717667510847727, 0.7185919144131047, -0.49171157314491626, -0.7679077810892389, 1.5701249112688236, -0.47251103418643026, 1.9430557828822212, 0.2379297319180449, 0.36707306677115453, 0.006699107693457233, -1.0180537128174496, -0.6080580473072035, 1.0185946954688905, 0.5714696913211738, 0.09143339844861038, 2.070139494439533, 1.140804725949334, 0.6126110616024626, 0.4563101220852704, -2.2654786046256543, -0.4029428049342183, -0.16962658908939526, -0.24096898379316878, -1.0073125456045633, 0.28463786120973017, 0.9529151893853018, -1.2378966892029355, -0.06963240847971755, -0.7032964127927137, -0.5809832596471718, 0.29449307116870876, 0.33243510188444925, 0.4977579983615313, -0.9257449819489063, -0.41725764974537366, 0.4848070737197375, 0.43930170517402317, 0.23065023494261755, 0.4816217241293878, 0.04799816907981186, -0.3974323820653122, 0.7903361874598068, 1.4322150789264265, -1.647709706473274, -2.3800258277526543, 0.6970445446703903, 0.8316708876679342, -1.5158979051133505, -0.14986630629837563, -1.0493727521665157, 1.701201455937589, -0.1410913288683814, 0.2685239479223764, -0.7600369349891372, -0.4742547385039707, -0.8220107130507899, 0.8445080140789566, -0.324027172344423, -0.4178030661196102, -0.26596041408454146, 0.5523489460368105, -0.7026605411631265, 0.13994365329359548, -0.04065613857973858, -0.28547939736187256, 0.3388705179018651, 0.9668821132900235, 1.7880873782211257, 1.9386610560756863, -0.34094180091834364, -1.1192837035162806, 0.6279726842636103, 0.6200042114970403, -1.4264867124427423, -1.809853283787445, -1.193888458973862, 0.08685450082155578, -0.7102321011128129, 1.2846765718116526, -1.123680140228286, -0.2806606072097656, -1.4896739546532576, 0.6295603599603866, 1.1136656548999315, 0.9536097103790099, -0.7080867626264907], \"xaxis\": \"x7\", \"y\": [-0.43085692617183563, -0.1948859952808109, 0.25661125162705656, -1.3086950885020459, 0.8330382361581136, -0.6953289463874578, -0.041546759765450116, 0.3766966051839097, -0.4106742584914722, -0.5017699496138679, 0.011010566296178933, 0.7150811983334743, 0.8531750275133767, 2.1930241736297655, 0.6183354743888189, -0.2543897369151032, 1.976789309709738, 0.9045016370030701, 0.6176953549838936, -0.4420620066123814, 0.004259990892965676, -0.6890818854195719, 0.1284746414788866, 1.1565973705210073, -0.1669069048135824, 0.9510917351310352, 0.3776204353934389, -0.6104100303510119, 0.8194742730220135, 1.040708142451746, -0.8233687567505201, -1.1344997698956967, -0.2957474277602403, -0.6732382334575902, -0.20198607174310862, -0.5191193334283744, 0.025830849269225062, -0.7336763065006728, 1.2444882142572342, -1.4366617646017776, 1.1881118540595137, 0.954362185403333, -0.1636882464763225, 0.2585056931294286, 0.307000591264868, 0.5053904332689658, 1.371257331498223, 0.8284466732128394, -1.6398779068387968, 0.1312492505552544, -2.0782358481550904, -0.045307906304940145, 0.16728844758876973, 0.4199691612388556, 0.5537924522559142, -0.472466174965874, -0.43842800336219834, -0.8086583687303776, -1.4472922254350542, 1.5432229404089068, 0.09327407639879354, -1.7151607168181384, 0.31547264421701804, -0.6409782017093438, -0.5888934484654935, -0.2589297494469279, 0.4095662405359321, -0.7827392201998249, 0.8536261771615004, -0.13667988806894107, 0.014275802400758018, 0.2700521255686095, 0.0713171499641922, -1.6360217944335709, 1.1316472826520418, 0.21966931057515063, -1.0415257873712767, -0.673080884585363, 0.6417494538653378, -2.575256173392799, -1.301392718985718, -1.3280555679474806, -0.3988933059066309, -1.4320562115681523, -0.5208466357235377, 0.6283326705144111, -0.4993914177816305, 2.3803973130583707, -1.404107842111614, -0.05799211063099601, -1.1984196002600367, -0.14252971995716965, -0.3981381038453286, -0.3917743490224008, 1.5356909803434518, 0.5644974004458589, 0.36323243100145386, 0.5520098897203459, -0.6462900576233668, 1.1144001381118762], \"yaxis\": \"y7\"}, {\"line\": {\"color\": \"rgba(128, 128, 128, 1.0)\", \"dash\": \"solid\", \"shape\": \"linear\", \"width\": 1.3}, \"marker\": {\"size\": 2, \"symbol\": \"circle\"}, \"mode\": \"markers\", \"name\": \"B\", \"text\": \"\", \"type\": \"scatter\", \"x\": [1.0501701145422817, 0.4451796840776505, 0.019322074864412696, 0.9953761305418058, 0.5110397705048686, -0.803700035088617, 2.6444092391724636, 0.7893356856324825, -0.08471694230445719, -1.3109737377927366, 0.4248306638940191, 1.3717385676996887, 0.40107501810780155, -0.8911298914144757, -0.17802975610778662, 0.45954921920579067, -1.2291934521608001, 1.5879628450775962, 2.3950384881567475, 0.7864211027184705, 0.44696414651942606, -0.7688917608863599, 0.8034469969539286, -0.2441696518488366, 0.7946135467706282, 0.4629228010763608, 2.4375744559135692, -2.0666459708872487, 1.3369394395351957, 0.281544068694196, 1.40868549926317, 1.7007000788755262, -0.5707362211763846, 0.30086898022664293, -0.9768980954609655, 0.3212560453655524, 0.7156443033399906, -1.2165459335403617, -0.20839221483710563, -0.0058505078818461, -0.6256249650976695, -0.34208821825767766, 2.9057635151997228, 1.1898121704981293, 0.7748839366899357, 0.775858103384347, 1.734019655618904, 0.4883218411991308, 0.48319375293985073, 0.07251905790818866, -0.2737028732193538, -0.21945236052007253, -0.8829581220812761, -1.3291278492107135, 2.327960742028899, 0.11235642184377229, -0.31755903220376597, 1.3147441857811188, 0.4011430411094645, -0.859875508599031, 0.6827306411077664, 1.4857854264842902, 0.7311732289637328, -2.418153976778658, 0.9536327739040761, -1.7769454655989747, -0.42076296424642096, -1.1229235007551497, -0.41217731324319673, 2.099699703404748, -1.9289629279399207, -0.5093084117755678, 1.0742848834728373, 0.6702312418547619, -0.25349917550157963, -0.669305397468498, -1.693821178889706, 0.5103274302378665, 1.0541391062646233, -0.5976418342961541, 0.8682392696715692, -0.6697941242150638, 0.9742988020969872, 0.4783934061363041, -0.10945425289967044, 0.5579648469307343, 0.061882101624842645, -0.45157774335416456, 0.6161163305270498, -0.054394521326319764, -1.5735721687894109, 0.5705772210638205, 0.5761796006749031, 0.1844921493983869, -0.24892164936248318, -1.2743548062088557, 0.6984023222628456, 1.1154228312324685, -0.7900145646772628, -0.4938822454556439], \"xaxis\": \"x8\", \"y\": [-0.43085692617183563, -0.1948859952808109, 0.25661125162705656, -1.3086950885020459, 0.8330382361581136, -0.6953289463874578, -0.041546759765450116, 0.3766966051839097, -0.4106742584914722, -0.5017699496138679, 0.011010566296178933, 0.7150811983334743, 0.8531750275133767, 2.1930241736297655, 0.6183354743888189, -0.2543897369151032, 1.976789309709738, 0.9045016370030701, 0.6176953549838936, -0.4420620066123814, 0.004259990892965676, -0.6890818854195719, 0.1284746414788866, 1.1565973705210073, -0.1669069048135824, 0.9510917351310352, 0.3776204353934389, -0.6104100303510119, 0.8194742730220135, 1.040708142451746, -0.8233687567505201, -1.1344997698956967, -0.2957474277602403, -0.6732382334575902, -0.20198607174310862, -0.5191193334283744, 0.025830849269225062, -0.7336763065006728, 1.2444882142572342, -1.4366617646017776, 1.1881118540595137, 0.954362185403333, -0.1636882464763225, 0.2585056931294286, 0.307000591264868, 0.5053904332689658, 1.371257331498223, 0.8284466732128394, -1.6398779068387968, 0.1312492505552544, -2.0782358481550904, -0.045307906304940145, 0.16728844758876973, 0.4199691612388556, 0.5537924522559142, -0.472466174965874, -0.43842800336219834, -0.8086583687303776, -1.4472922254350542, 1.5432229404089068, 0.09327407639879354, -1.7151607168181384, 0.31547264421701804, -0.6409782017093438, -0.5888934484654935, -0.2589297494469279, 0.4095662405359321, -0.7827392201998249, 0.8536261771615004, -0.13667988806894107, 0.014275802400758018, 0.2700521255686095, 0.0713171499641922, -1.6360217944335709, 1.1316472826520418, 0.21966931057515063, -1.0415257873712767, -0.673080884585363, 0.6417494538653378, -2.575256173392799, -1.301392718985718, -1.3280555679474806, -0.3988933059066309, -1.4320562115681523, -0.5208466357235377, 0.6283326705144111, -0.4993914177816305, 2.3803973130583707, -1.404107842111614, -0.05799211063099601, -1.1984196002600367, -0.14252971995716965, -0.3981381038453286, -0.3917743490224008, 1.5356909803434518, 0.5644974004458589, 0.36323243100145386, 0.5520098897203459, -0.6462900576233668, 1.1144001381118762], \"yaxis\": \"y8\"}, {\"line\": {\"color\": \"rgba(128, 128, 128, 1.0)\", \"dash\": \"solid\", \"shape\": \"linear\", \"width\": 1.3}, \"marker\": {\"size\": 2, \"symbol\": \"circle\"}, \"mode\": \"markers\", \"name\": \"C\", \"text\": \"\", \"type\": \"scatter\", \"x\": [-0.01662130328228244, 0.8952922062355154, 0.08493791794765844, -0.09589135686355073, -0.4122201947502266, -0.20360574556365796, -1.3226112787089954, -0.7048337371978483, 0.04150771300361059, -0.016184912767458252, -0.7836247979483332, -0.41697995913853403, -1.5145544317741388, -0.9872935372845854, 2.8600594602810627, 0.7879441726553916, -0.2813608872356518, -0.6513622033836487, -0.3833614492804819, 0.16483281378445427, -2.1741767017157674, -1.6507999144342882, 1.233849002951117, 1.8853071817620293, -1.5954169238801832, -0.5522359603285474, -0.1776701185864922, -0.44322099515839536, 1.0203828724791646, -0.746502813707562, -0.9880780584427672, -0.1989813172992508, 1.028266715119139, 0.9046343789939094, -0.24335430626921478, 1.4808496271033058, 1.183551097291823, 0.7818177335952013, 2.6317909237286803, -1.43255595184391, -0.5375396949804877, -0.9652461283114274, -0.37225584275459644, 0.14086596179529387, 2.1088529093442165, 1.754446737290178, 0.3204895796285177, 0.5431393205854986, -0.26921450300987526, 1.2276137248806802, 2.18564194957632, -0.4189445878428453, -0.08003270330739348, 0.8616685014005222, 0.3204625049333791, -0.5444096849865591, 1.4381126068067536, -1.5508518741330823, -1.7451055721182847, 1.393700428608044, 0.5528230108651216, -0.6354989243573955, 0.5941962167234219, -1.498736192404156, 1.2550871276452416, -0.8096320399507062, 0.24176403155914405, 0.4183631446701141, -1.7819580157798707, -0.587756797309145, -0.38795341821094526, 0.07830346473682828, 0.002456668961825936, 1.9450473657318994, 0.7258558214498236, -1.0099384838064072, 0.28353464707170767, -1.0649028041957125, 0.5771518242200254, 0.8046577717798538, -0.10976143995602793, 1.0417233039507987, -0.6800719626994939, -0.6139450381025275, 0.46504150196282273, 0.48002415552846633, -2.0624178821863004, 1.4590453138925938, -0.06592069257443393, 1.3037006920198502, -1.0417291996549434, -1.393953962398956, -0.09525476965697717, -0.11489070095885666, 2.4005052823632567, -0.9318581112304919, 0.941522431201813, 0.19568237193128438, 0.10374442540451675, -1.3981329572930432], \"xaxis\": \"x9\", \"y\": [-2.0092660704673566, -1.2598029689852777, -0.2760950755895815, -0.9365077817146868, -0.7467722748457818, -0.7267174990662252, 0.8107639722666636, 0.3018313256185027, -0.2779338079594555, 1.0850989578462957, 1.0633890945862559, 0.19984988072986953, -1.0240416296636121, 0.5038285176790187, 0.06717667510847727, 0.7185919144131047, -0.49171157314491626, -0.7679077810892389, 1.5701249112688236, -0.47251103418643026, 1.9430557828822212, 0.2379297319180449, 0.36707306677115453, 0.006699107693457233, -1.0180537128174496, -0.6080580473072035, 1.0185946954688905, 0.5714696913211738, 0.09143339844861038, 2.070139494439533, 1.140804725949334, 0.6126110616024626, 0.4563101220852704, -2.2654786046256543, -0.4029428049342183, -0.16962658908939526, -0.24096898379316878, -1.0073125456045633, 0.28463786120973017, 0.9529151893853018, -1.2378966892029355, -0.06963240847971755, -0.7032964127927137, -0.5809832596471718, 0.29449307116870876, 0.33243510188444925, 0.4977579983615313, -0.9257449819489063, -0.41725764974537366, 0.4848070737197375, 0.43930170517402317, 0.23065023494261755, 0.4816217241293878, 0.04799816907981186, -0.3974323820653122, 0.7903361874598068, 1.4322150789264265, -1.647709706473274, -2.3800258277526543, 0.6970445446703903, 0.8316708876679342, -1.5158979051133505, -0.14986630629837563, -1.0493727521665157, 1.701201455937589, -0.1410913288683814, 0.2685239479223764, -0.7600369349891372, -0.4742547385039707, -0.8220107130507899, 0.8445080140789566, -0.324027172344423, -0.4178030661196102, -0.26596041408454146, 0.5523489460368105, -0.7026605411631265, 0.13994365329359548, -0.04065613857973858, -0.28547939736187256, 0.3388705179018651, 0.9668821132900235, 1.7880873782211257, 1.9386610560756863, -0.34094180091834364, -1.1192837035162806, 0.6279726842636103, 0.6200042114970403, -1.4264867124427423, -1.809853283787445, -1.193888458973862, 0.08685450082155578, -0.7102321011128129, 1.2846765718116526, -1.123680140228286, -0.2806606072097656, -1.4896739546532576, 0.6295603599603866, 1.1136656548999315, 0.9536097103790099, -0.7080867626264907], \"yaxis\": \"y9\"}, {\"line\": {\"color\": \"rgba(128, 128, 128, 1.0)\", \"dash\": \"solid\", \"shape\": \"linear\", \"width\": 1.3}, \"marker\": {\"size\": 2, \"symbol\": \"circle\"}, \"mode\": \"markers\", \"name\": \"C\", \"text\": \"\", \"type\": \"scatter\", \"x\": [-0.43085692617183563, -0.1948859952808109, 0.25661125162705656, -1.3086950885020459, 0.8330382361581136, -0.6953289463874578, -0.041546759765450116, 0.3766966051839097, -0.4106742584914722, -0.5017699496138679, 0.011010566296178933, 0.7150811983334743, 0.8531750275133767, 2.1930241736297655, 0.6183354743888189, -0.2543897369151032, 1.976789309709738, 0.9045016370030701, 0.6176953549838936, -0.4420620066123814, 0.004259990892965676, -0.6890818854195719, 0.1284746414788866, 1.1565973705210073, -0.1669069048135824, 0.9510917351310352, 0.3776204353934389, -0.6104100303510119, 0.8194742730220135, 1.040708142451746, -0.8233687567505201, -1.1344997698956967, -0.2957474277602403, -0.6732382334575902, -0.20198607174310862, -0.5191193334283744, 0.025830849269225062, -0.7336763065006728, 1.2444882142572342, -1.4366617646017776, 1.1881118540595137, 0.954362185403333, -0.1636882464763225, 0.2585056931294286, 0.307000591264868, 0.5053904332689658, 1.371257331498223, 0.8284466732128394, -1.6398779068387968, 0.1312492505552544, -2.0782358481550904, -0.045307906304940145, 0.16728844758876973, 0.4199691612388556, 0.5537924522559142, -0.472466174965874, -0.43842800336219834, -0.8086583687303776, -1.4472922254350542, 1.5432229404089068, 0.09327407639879354, -1.7151607168181384, 0.31547264421701804, -0.6409782017093438, -0.5888934484654935, -0.2589297494469279, 0.4095662405359321, -0.7827392201998249, 0.8536261771615004, -0.13667988806894107, 0.014275802400758018, 0.2700521255686095, 0.0713171499641922, -1.6360217944335709, 1.1316472826520418, 0.21966931057515063, -1.0415257873712767, -0.673080884585363, 0.6417494538653378, -2.575256173392799, -1.301392718985718, -1.3280555679474806, -0.3988933059066309, -1.4320562115681523, -0.5208466357235377, 0.6283326705144111, -0.4993914177816305, 2.3803973130583707, -1.404107842111614, -0.05799211063099601, -1.1984196002600367, -0.14252971995716965, -0.3981381038453286, -0.3917743490224008, 1.5356909803434518, 0.5644974004458589, 0.36323243100145386, 0.5520098897203459, -0.6462900576233668, 1.1144001381118762], \"xaxis\": \"x10\", \"y\": [-2.0092660704673566, -1.2598029689852777, -0.2760950755895815, -0.9365077817146868, -0.7467722748457818, -0.7267174990662252, 0.8107639722666636, 0.3018313256185027, -0.2779338079594555, 1.0850989578462957, 1.0633890945862559, 0.19984988072986953, -1.0240416296636121, 0.5038285176790187, 0.06717667510847727, 0.7185919144131047, -0.49171157314491626, -0.7679077810892389, 1.5701249112688236, -0.47251103418643026, 1.9430557828822212, 0.2379297319180449, 0.36707306677115453, 0.006699107693457233, -1.0180537128174496, -0.6080580473072035, 1.0185946954688905, 0.5714696913211738, 0.09143339844861038, 2.070139494439533, 1.140804725949334, 0.6126110616024626, 0.4563101220852704, -2.2654786046256543, -0.4029428049342183, -0.16962658908939526, -0.24096898379316878, -1.0073125456045633, 0.28463786120973017, 0.9529151893853018, -1.2378966892029355, -0.06963240847971755, -0.7032964127927137, -0.5809832596471718, 0.29449307116870876, 0.33243510188444925, 0.4977579983615313, -0.9257449819489063, -0.41725764974537366, 0.4848070737197375, 0.43930170517402317, 0.23065023494261755, 0.4816217241293878, 0.04799816907981186, -0.3974323820653122, 0.7903361874598068, 1.4322150789264265, -1.647709706473274, -2.3800258277526543, 0.6970445446703903, 0.8316708876679342, -1.5158979051133505, -0.14986630629837563, -1.0493727521665157, 1.701201455937589, -0.1410913288683814, 0.2685239479223764, -0.7600369349891372, -0.4742547385039707, -0.8220107130507899, 0.8445080140789566, -0.324027172344423, -0.4178030661196102, -0.26596041408454146, 0.5523489460368105, -0.7026605411631265, 0.13994365329359548, -0.04065613857973858, -0.28547939736187256, 0.3388705179018651, 0.9668821132900235, 1.7880873782211257, 1.9386610560756863, -0.34094180091834364, -1.1192837035162806, 0.6279726842636103, 0.6200042114970403, -1.4264867124427423, -1.809853283787445, -1.193888458973862, 0.08685450082155578, -0.7102321011128129, 1.2846765718116526, -1.123680140228286, -0.2806606072097656, -1.4896739546532576, 0.6295603599603866, 1.1136656548999315, 0.9536097103790099, -0.7080867626264907], \"yaxis\": \"y10\"}, {\"histfunc\": \"count\", \"histnorm\": \"\", \"marker\": {\"color\": \"rgba(50, 171, 96, 1.0)\", \"line\": {\"color\": \"#4D5663\", \"width\": 1.3}}, \"name\": \"C\", \"nbinsx\": 10, \"opacity\": 0.8, \"orientation\": \"v\", \"type\": \"histogram\", \"x\": [-2.0092660704673566, -1.2598029689852777, -0.2760950755895815, -0.9365077817146868, -0.7467722748457818, -0.7267174990662252, 0.8107639722666636, 0.3018313256185027, -0.2779338079594555, 1.0850989578462957, 1.0633890945862559, 0.19984988072986953, -1.0240416296636121, 0.5038285176790187, 0.06717667510847727, 0.7185919144131047, -0.49171157314491626, -0.7679077810892389, 1.5701249112688236, -0.47251103418643026, 1.9430557828822212, 0.2379297319180449, 0.36707306677115453, 0.006699107693457233, -1.0180537128174496, -0.6080580473072035, 1.0185946954688905, 0.5714696913211738, 0.09143339844861038, 2.070139494439533, 1.140804725949334, 0.6126110616024626, 0.4563101220852704, -2.2654786046256543, -0.4029428049342183, -0.16962658908939526, -0.24096898379316878, -1.0073125456045633, 0.28463786120973017, 0.9529151893853018, -1.2378966892029355, -0.06963240847971755, -0.7032964127927137, -0.5809832596471718, 0.29449307116870876, 0.33243510188444925, 0.4977579983615313, -0.9257449819489063, -0.41725764974537366, 0.4848070737197375, 0.43930170517402317, 0.23065023494261755, 0.4816217241293878, 0.04799816907981186, -0.3974323820653122, 0.7903361874598068, 1.4322150789264265, -1.647709706473274, -2.3800258277526543, 0.6970445446703903, 0.8316708876679342, -1.5158979051133505, -0.14986630629837563, -1.0493727521665157, 1.701201455937589, -0.1410913288683814, 0.2685239479223764, -0.7600369349891372, -0.4742547385039707, -0.8220107130507899, 0.8445080140789566, -0.324027172344423, -0.4178030661196102, -0.26596041408454146, 0.5523489460368105, -0.7026605411631265, 0.13994365329359548, -0.04065613857973858, -0.28547939736187256, 0.3388705179018651, 0.9668821132900235, 1.7880873782211257, 1.9386610560756863, -0.34094180091834364, -1.1192837035162806, 0.6279726842636103, 0.6200042114970403, -1.4264867124427423, -1.809853283787445, -1.193888458973862, 0.08685450082155578, -0.7102321011128129, 1.2846765718116526, -1.123680140228286, -0.2806606072097656, -1.4896739546532576, 0.6295603599603866, 1.1136656548999315, 0.9536097103790099, -0.7080867626264907], \"xaxis\": \"x11\", \"yaxis\": \"y11\"}, {\"line\": {\"color\": \"rgba(128, 128, 128, 1.0)\", \"dash\": \"solid\", \"shape\": \"linear\", \"width\": 1.3}, \"marker\": {\"size\": 2, \"symbol\": \"circle\"}, \"mode\": \"markers\", \"name\": \"C\", \"text\": \"\", \"type\": \"scatter\", \"x\": [1.0501701145422817, 0.4451796840776505, 0.019322074864412696, 0.9953761305418058, 0.5110397705048686, -0.803700035088617, 2.6444092391724636, 0.7893356856324825, -0.08471694230445719, -1.3109737377927366, 0.4248306638940191, 1.3717385676996887, 0.40107501810780155, -0.8911298914144757, -0.17802975610778662, 0.45954921920579067, -1.2291934521608001, 1.5879628450775962, 2.3950384881567475, 0.7864211027184705, 0.44696414651942606, -0.7688917608863599, 0.8034469969539286, -0.2441696518488366, 0.7946135467706282, 0.4629228010763608, 2.4375744559135692, -2.0666459708872487, 1.3369394395351957, 0.281544068694196, 1.40868549926317, 1.7007000788755262, -0.5707362211763846, 0.30086898022664293, -0.9768980954609655, 0.3212560453655524, 0.7156443033399906, -1.2165459335403617, -0.20839221483710563, -0.0058505078818461, -0.6256249650976695, -0.34208821825767766, 2.9057635151997228, 1.1898121704981293, 0.7748839366899357, 0.775858103384347, 1.734019655618904, 0.4883218411991308, 0.48319375293985073, 0.07251905790818866, -0.2737028732193538, -0.21945236052007253, -0.8829581220812761, -1.3291278492107135, 2.327960742028899, 0.11235642184377229, -0.31755903220376597, 1.3147441857811188, 0.4011430411094645, -0.859875508599031, 0.6827306411077664, 1.4857854264842902, 0.7311732289637328, -2.418153976778658, 0.9536327739040761, -1.7769454655989747, -0.42076296424642096, -1.1229235007551497, -0.41217731324319673, 2.099699703404748, -1.9289629279399207, -0.5093084117755678, 1.0742848834728373, 0.6702312418547619, -0.25349917550157963, -0.669305397468498, -1.693821178889706, 0.5103274302378665, 1.0541391062646233, -0.5976418342961541, 0.8682392696715692, -0.6697941242150638, 0.9742988020969872, 0.4783934061363041, -0.10945425289967044, 0.5579648469307343, 0.061882101624842645, -0.45157774335416456, 0.6161163305270498, -0.054394521326319764, -1.5735721687894109, 0.5705772210638205, 0.5761796006749031, 0.1844921493983869, -0.24892164936248318, -1.2743548062088557, 0.6984023222628456, 1.1154228312324685, -0.7900145646772628, -0.4938822454556439], \"xaxis\": \"x12\", \"y\": [-2.0092660704673566, -1.2598029689852777, -0.2760950755895815, -0.9365077817146868, -0.7467722748457818, -0.7267174990662252, 0.8107639722666636, 0.3018313256185027, -0.2779338079594555, 1.0850989578462957, 1.0633890945862559, 0.19984988072986953, -1.0240416296636121, 0.5038285176790187, 0.06717667510847727, 0.7185919144131047, -0.49171157314491626, -0.7679077810892389, 1.5701249112688236, -0.47251103418643026, 1.9430557828822212, 0.2379297319180449, 0.36707306677115453, 0.006699107693457233, -1.0180537128174496, -0.6080580473072035, 1.0185946954688905, 0.5714696913211738, 0.09143339844861038, 2.070139494439533, 1.140804725949334, 0.6126110616024626, 0.4563101220852704, -2.2654786046256543, -0.4029428049342183, -0.16962658908939526, -0.24096898379316878, -1.0073125456045633, 0.28463786120973017, 0.9529151893853018, -1.2378966892029355, -0.06963240847971755, -0.7032964127927137, -0.5809832596471718, 0.29449307116870876, 0.33243510188444925, 0.4977579983615313, -0.9257449819489063, -0.41725764974537366, 0.4848070737197375, 0.43930170517402317, 0.23065023494261755, 0.4816217241293878, 0.04799816907981186, -0.3974323820653122, 0.7903361874598068, 1.4322150789264265, -1.647709706473274, -2.3800258277526543, 0.6970445446703903, 0.8316708876679342, -1.5158979051133505, -0.14986630629837563, -1.0493727521665157, 1.701201455937589, -0.1410913288683814, 0.2685239479223764, -0.7600369349891372, -0.4742547385039707, -0.8220107130507899, 0.8445080140789566, -0.324027172344423, -0.4178030661196102, -0.26596041408454146, 0.5523489460368105, -0.7026605411631265, 0.13994365329359548, -0.04065613857973858, -0.28547939736187256, 0.3388705179018651, 0.9668821132900235, 1.7880873782211257, 1.9386610560756863, -0.34094180091834364, -1.1192837035162806, 0.6279726842636103, 0.6200042114970403, -1.4264867124427423, -1.809853283787445, -1.193888458973862, 0.08685450082155578, -0.7102321011128129, 1.2846765718116526, -1.123680140228286, -0.2806606072097656, -1.4896739546532576, 0.6295603599603866, 1.1136656548999315, 0.9536097103790099, -0.7080867626264907], \"yaxis\": \"y12\"}, {\"line\": {\"color\": \"rgba(128, 128, 128, 1.0)\", \"dash\": \"solid\", \"shape\": \"linear\", \"width\": 1.3}, \"marker\": {\"size\": 2, \"symbol\": \"circle\"}, \"mode\": \"markers\", \"name\": \"D\", \"text\": \"\", \"type\": \"scatter\", \"x\": [-0.01662130328228244, 0.8952922062355154, 0.08493791794765844, -0.09589135686355073, -0.4122201947502266, -0.20360574556365796, -1.3226112787089954, -0.7048337371978483, 0.04150771300361059, -0.016184912767458252, -0.7836247979483332, -0.41697995913853403, -1.5145544317741388, -0.9872935372845854, 2.8600594602810627, 0.7879441726553916, -0.2813608872356518, -0.6513622033836487, -0.3833614492804819, 0.16483281378445427, -2.1741767017157674, -1.6507999144342882, 1.233849002951117, 1.8853071817620293, -1.5954169238801832, -0.5522359603285474, -0.1776701185864922, -0.44322099515839536, 1.0203828724791646, -0.746502813707562, -0.9880780584427672, -0.1989813172992508, 1.028266715119139, 0.9046343789939094, -0.24335430626921478, 1.4808496271033058, 1.183551097291823, 0.7818177335952013, 2.6317909237286803, -1.43255595184391, -0.5375396949804877, -0.9652461283114274, -0.37225584275459644, 0.14086596179529387, 2.1088529093442165, 1.754446737290178, 0.3204895796285177, 0.5431393205854986, -0.26921450300987526, 1.2276137248806802, 2.18564194957632, -0.4189445878428453, -0.08003270330739348, 0.8616685014005222, 0.3204625049333791, -0.5444096849865591, 1.4381126068067536, -1.5508518741330823, -1.7451055721182847, 1.393700428608044, 0.5528230108651216, -0.6354989243573955, 0.5941962167234219, -1.498736192404156, 1.2550871276452416, -0.8096320399507062, 0.24176403155914405, 0.4183631446701141, -1.7819580157798707, -0.587756797309145, -0.38795341821094526, 0.07830346473682828, 0.002456668961825936, 1.9450473657318994, 0.7258558214498236, -1.0099384838064072, 0.28353464707170767, -1.0649028041957125, 0.5771518242200254, 0.8046577717798538, -0.10976143995602793, 1.0417233039507987, -0.6800719626994939, -0.6139450381025275, 0.46504150196282273, 0.48002415552846633, -2.0624178821863004, 1.4590453138925938, -0.06592069257443393, 1.3037006920198502, -1.0417291996549434, -1.393953962398956, -0.09525476965697717, -0.11489070095885666, 2.4005052823632567, -0.9318581112304919, 0.941522431201813, 0.19568237193128438, 0.10374442540451675, -1.3981329572930432], \"xaxis\": \"x13\", \"y\": [1.0501701145422817, 0.4451796840776505, 0.019322074864412696, 0.9953761305418058, 0.5110397705048686, -0.803700035088617, 2.6444092391724636, 0.7893356856324825, -0.08471694230445719, -1.3109737377927366, 0.4248306638940191, 1.3717385676996887, 0.40107501810780155, -0.8911298914144757, -0.17802975610778662, 0.45954921920579067, -1.2291934521608001, 1.5879628450775962, 2.3950384881567475, 0.7864211027184705, 0.44696414651942606, -0.7688917608863599, 0.8034469969539286, -0.2441696518488366, 0.7946135467706282, 0.4629228010763608, 2.4375744559135692, -2.0666459708872487, 1.3369394395351957, 0.281544068694196, 1.40868549926317, 1.7007000788755262, -0.5707362211763846, 0.30086898022664293, -0.9768980954609655, 0.3212560453655524, 0.7156443033399906, -1.2165459335403617, -0.20839221483710563, -0.0058505078818461, -0.6256249650976695, -0.34208821825767766, 2.9057635151997228, 1.1898121704981293, 0.7748839366899357, 0.775858103384347, 1.734019655618904, 0.4883218411991308, 0.48319375293985073, 0.07251905790818866, -0.2737028732193538, -0.21945236052007253, -0.8829581220812761, -1.3291278492107135, 2.327960742028899, 0.11235642184377229, -0.31755903220376597, 1.3147441857811188, 0.4011430411094645, -0.859875508599031, 0.6827306411077664, 1.4857854264842902, 0.7311732289637328, -2.418153976778658, 0.9536327739040761, -1.7769454655989747, -0.42076296424642096, -1.1229235007551497, -0.41217731324319673, 2.099699703404748, -1.9289629279399207, -0.5093084117755678, 1.0742848834728373, 0.6702312418547619, -0.25349917550157963, -0.669305397468498, -1.693821178889706, 0.5103274302378665, 1.0541391062646233, -0.5976418342961541, 0.8682392696715692, -0.6697941242150638, 0.9742988020969872, 0.4783934061363041, -0.10945425289967044, 0.5579648469307343, 0.061882101624842645, -0.45157774335416456, 0.6161163305270498, -0.054394521326319764, -1.5735721687894109, 0.5705772210638205, 0.5761796006749031, 0.1844921493983869, -0.24892164936248318, -1.2743548062088557, 0.6984023222628456, 1.1154228312324685, -0.7900145646772628, -0.4938822454556439], \"yaxis\": \"y13\"}, {\"line\": {\"color\": \"rgba(128, 128, 128, 1.0)\", \"dash\": \"solid\", \"shape\": \"linear\", \"width\": 1.3}, \"marker\": {\"size\": 2, \"symbol\": \"circle\"}, \"mode\": \"markers\", \"name\": \"D\", \"text\": \"\", \"type\": \"scatter\", \"x\": [-0.43085692617183563, -0.1948859952808109, 0.25661125162705656, -1.3086950885020459, 0.8330382361581136, -0.6953289463874578, -0.041546759765450116, 0.3766966051839097, -0.4106742584914722, -0.5017699496138679, 0.011010566296178933, 0.7150811983334743, 0.8531750275133767, 2.1930241736297655, 0.6183354743888189, -0.2543897369151032, 1.976789309709738, 0.9045016370030701, 0.6176953549838936, -0.4420620066123814, 0.004259990892965676, -0.6890818854195719, 0.1284746414788866, 1.1565973705210073, -0.1669069048135824, 0.9510917351310352, 0.3776204353934389, -0.6104100303510119, 0.8194742730220135, 1.040708142451746, -0.8233687567505201, -1.1344997698956967, -0.2957474277602403, -0.6732382334575902, -0.20198607174310862, -0.5191193334283744, 0.025830849269225062, -0.7336763065006728, 1.2444882142572342, -1.4366617646017776, 1.1881118540595137, 0.954362185403333, -0.1636882464763225, 0.2585056931294286, 0.307000591264868, 0.5053904332689658, 1.371257331498223, 0.8284466732128394, -1.6398779068387968, 0.1312492505552544, -2.0782358481550904, -0.045307906304940145, 0.16728844758876973, 0.4199691612388556, 0.5537924522559142, -0.472466174965874, -0.43842800336219834, -0.8086583687303776, -1.4472922254350542, 1.5432229404089068, 0.09327407639879354, -1.7151607168181384, 0.31547264421701804, -0.6409782017093438, -0.5888934484654935, -0.2589297494469279, 0.4095662405359321, -0.7827392201998249, 0.8536261771615004, -0.13667988806894107, 0.014275802400758018, 0.2700521255686095, 0.0713171499641922, -1.6360217944335709, 1.1316472826520418, 0.21966931057515063, -1.0415257873712767, -0.673080884585363, 0.6417494538653378, -2.575256173392799, -1.301392718985718, -1.3280555679474806, -0.3988933059066309, -1.4320562115681523, -0.5208466357235377, 0.6283326705144111, -0.4993914177816305, 2.3803973130583707, -1.404107842111614, -0.05799211063099601, -1.1984196002600367, -0.14252971995716965, -0.3981381038453286, -0.3917743490224008, 1.5356909803434518, 0.5644974004458589, 0.36323243100145386, 0.5520098897203459, -0.6462900576233668, 1.1144001381118762], \"xaxis\": \"x14\", \"y\": [1.0501701145422817, 0.4451796840776505, 0.019322074864412696, 0.9953761305418058, 0.5110397705048686, -0.803700035088617, 2.6444092391724636, 0.7893356856324825, -0.08471694230445719, -1.3109737377927366, 0.4248306638940191, 1.3717385676996887, 0.40107501810780155, -0.8911298914144757, -0.17802975610778662, 0.45954921920579067, -1.2291934521608001, 1.5879628450775962, 2.3950384881567475, 0.7864211027184705, 0.44696414651942606, -0.7688917608863599, 0.8034469969539286, -0.2441696518488366, 0.7946135467706282, 0.4629228010763608, 2.4375744559135692, -2.0666459708872487, 1.3369394395351957, 0.281544068694196, 1.40868549926317, 1.7007000788755262, -0.5707362211763846, 0.30086898022664293, -0.9768980954609655, 0.3212560453655524, 0.7156443033399906, -1.2165459335403617, -0.20839221483710563, -0.0058505078818461, -0.6256249650976695, -0.34208821825767766, 2.9057635151997228, 1.1898121704981293, 0.7748839366899357, 0.775858103384347, 1.734019655618904, 0.4883218411991308, 0.48319375293985073, 0.07251905790818866, -0.2737028732193538, -0.21945236052007253, -0.8829581220812761, -1.3291278492107135, 2.327960742028899, 0.11235642184377229, -0.31755903220376597, 1.3147441857811188, 0.4011430411094645, -0.859875508599031, 0.6827306411077664, 1.4857854264842902, 0.7311732289637328, -2.418153976778658, 0.9536327739040761, -1.7769454655989747, -0.42076296424642096, -1.1229235007551497, -0.41217731324319673, 2.099699703404748, -1.9289629279399207, -0.5093084117755678, 1.0742848834728373, 0.6702312418547619, -0.25349917550157963, -0.669305397468498, -1.693821178889706, 0.5103274302378665, 1.0541391062646233, -0.5976418342961541, 0.8682392696715692, -0.6697941242150638, 0.9742988020969872, 0.4783934061363041, -0.10945425289967044, 0.5579648469307343, 0.061882101624842645, -0.45157774335416456, 0.6161163305270498, -0.054394521326319764, -1.5735721687894109, 0.5705772210638205, 0.5761796006749031, 0.1844921493983869, -0.24892164936248318, -1.2743548062088557, 0.6984023222628456, 1.1154228312324685, -0.7900145646772628, -0.4938822454556439], \"yaxis\": \"y14\"}, {\"line\": {\"color\": \"rgba(128, 128, 128, 1.0)\", \"dash\": \"solid\", \"shape\": \"linear\", \"width\": 1.3}, \"marker\": {\"size\": 2, \"symbol\": \"circle\"}, \"mode\": \"markers\", \"name\": \"D\", \"text\": \"\", \"type\": \"scatter\", \"x\": [-2.0092660704673566, -1.2598029689852777, -0.2760950755895815, -0.9365077817146868, -0.7467722748457818, -0.7267174990662252, 0.8107639722666636, 0.3018313256185027, -0.2779338079594555, 1.0850989578462957, 1.0633890945862559, 0.19984988072986953, -1.0240416296636121, 0.5038285176790187, 0.06717667510847727, 0.7185919144131047, -0.49171157314491626, -0.7679077810892389, 1.5701249112688236, -0.47251103418643026, 1.9430557828822212, 0.2379297319180449, 0.36707306677115453, 0.006699107693457233, -1.0180537128174496, -0.6080580473072035, 1.0185946954688905, 0.5714696913211738, 0.09143339844861038, 2.070139494439533, 1.140804725949334, 0.6126110616024626, 0.4563101220852704, -2.2654786046256543, -0.4029428049342183, -0.16962658908939526, -0.24096898379316878, -1.0073125456045633, 0.28463786120973017, 0.9529151893853018, -1.2378966892029355, -0.06963240847971755, -0.7032964127927137, -0.5809832596471718, 0.29449307116870876, 0.33243510188444925, 0.4977579983615313, -0.9257449819489063, -0.41725764974537366, 0.4848070737197375, 0.43930170517402317, 0.23065023494261755, 0.4816217241293878, 0.04799816907981186, -0.3974323820653122, 0.7903361874598068, 1.4322150789264265, -1.647709706473274, -2.3800258277526543, 0.6970445446703903, 0.8316708876679342, -1.5158979051133505, -0.14986630629837563, -1.0493727521665157, 1.701201455937589, -0.1410913288683814, 0.2685239479223764, -0.7600369349891372, -0.4742547385039707, -0.8220107130507899, 0.8445080140789566, -0.324027172344423, -0.4178030661196102, -0.26596041408454146, 0.5523489460368105, -0.7026605411631265, 0.13994365329359548, -0.04065613857973858, -0.28547939736187256, 0.3388705179018651, 0.9668821132900235, 1.7880873782211257, 1.9386610560756863, -0.34094180091834364, -1.1192837035162806, 0.6279726842636103, 0.6200042114970403, -1.4264867124427423, -1.809853283787445, -1.193888458973862, 0.08685450082155578, -0.7102321011128129, 1.2846765718116526, -1.123680140228286, -0.2806606072097656, -1.4896739546532576, 0.6295603599603866, 1.1136656548999315, 0.9536097103790099, -0.7080867626264907], \"xaxis\": \"x15\", \"y\": [1.0501701145422817, 0.4451796840776505, 0.019322074864412696, 0.9953761305418058, 0.5110397705048686, -0.803700035088617, 2.6444092391724636, 0.7893356856324825, -0.08471694230445719, -1.3109737377927366, 0.4248306638940191, 1.3717385676996887, 0.40107501810780155, -0.8911298914144757, -0.17802975610778662, 0.45954921920579067, -1.2291934521608001, 1.5879628450775962, 2.3950384881567475, 0.7864211027184705, 0.44696414651942606, -0.7688917608863599, 0.8034469969539286, -0.2441696518488366, 0.7946135467706282, 0.4629228010763608, 2.4375744559135692, -2.0666459708872487, 1.3369394395351957, 0.281544068694196, 1.40868549926317, 1.7007000788755262, -0.5707362211763846, 0.30086898022664293, -0.9768980954609655, 0.3212560453655524, 0.7156443033399906, -1.2165459335403617, -0.20839221483710563, -0.0058505078818461, -0.6256249650976695, -0.34208821825767766, 2.9057635151997228, 1.1898121704981293, 0.7748839366899357, 0.775858103384347, 1.734019655618904, 0.4883218411991308, 0.48319375293985073, 0.07251905790818866, -0.2737028732193538, -0.21945236052007253, -0.8829581220812761, -1.3291278492107135, 2.327960742028899, 0.11235642184377229, -0.31755903220376597, 1.3147441857811188, 0.4011430411094645, -0.859875508599031, 0.6827306411077664, 1.4857854264842902, 0.7311732289637328, -2.418153976778658, 0.9536327739040761, -1.7769454655989747, -0.42076296424642096, -1.1229235007551497, -0.41217731324319673, 2.099699703404748, -1.9289629279399207, -0.5093084117755678, 1.0742848834728373, 0.6702312418547619, -0.25349917550157963, -0.669305397468498, -1.693821178889706, 0.5103274302378665, 1.0541391062646233, -0.5976418342961541, 0.8682392696715692, -0.6697941242150638, 0.9742988020969872, 0.4783934061363041, -0.10945425289967044, 0.5579648469307343, 0.061882101624842645, -0.45157774335416456, 0.6161163305270498, -0.054394521326319764, -1.5735721687894109, 0.5705772210638205, 0.5761796006749031, 0.1844921493983869, -0.24892164936248318, -1.2743548062088557, 0.6984023222628456, 1.1154228312324685, -0.7900145646772628, -0.4938822454556439], \"yaxis\": \"y15\"}, {\"histfunc\": \"count\", \"histnorm\": \"\", \"marker\": {\"color\": \"rgba(128, 0, 128, 1.0)\", \"line\": {\"color\": \"#4D5663\", \"width\": 1.3}}, \"name\": \"D\", \"nbinsx\": 10, \"opacity\": 0.8, \"orientation\": \"v\", \"type\": \"histogram\", \"x\": [1.0501701145422817, 0.4451796840776505, 0.019322074864412696, 0.9953761305418058, 0.5110397705048686, -0.803700035088617, 2.6444092391724636, 0.7893356856324825, -0.08471694230445719, -1.3109737377927366, 0.4248306638940191, 1.3717385676996887, 0.40107501810780155, -0.8911298914144757, -0.17802975610778662, 0.45954921920579067, -1.2291934521608001, 1.5879628450775962, 2.3950384881567475, 0.7864211027184705, 0.44696414651942606, -0.7688917608863599, 0.8034469969539286, -0.2441696518488366, 0.7946135467706282, 0.4629228010763608, 2.4375744559135692, -2.0666459708872487, 1.3369394395351957, 0.281544068694196, 1.40868549926317, 1.7007000788755262, -0.5707362211763846, 0.30086898022664293, -0.9768980954609655, 0.3212560453655524, 0.7156443033399906, -1.2165459335403617, -0.20839221483710563, -0.0058505078818461, -0.6256249650976695, -0.34208821825767766, 2.9057635151997228, 1.1898121704981293, 0.7748839366899357, 0.775858103384347, 1.734019655618904, 0.4883218411991308, 0.48319375293985073, 0.07251905790818866, -0.2737028732193538, -0.21945236052007253, -0.8829581220812761, -1.3291278492107135, 2.327960742028899, 0.11235642184377229, -0.31755903220376597, 1.3147441857811188, 0.4011430411094645, -0.859875508599031, 0.6827306411077664, 1.4857854264842902, 0.7311732289637328, -2.418153976778658, 0.9536327739040761, -1.7769454655989747, -0.42076296424642096, -1.1229235007551497, -0.41217731324319673, 2.099699703404748, -1.9289629279399207, -0.5093084117755678, 1.0742848834728373, 0.6702312418547619, -0.25349917550157963, -0.669305397468498, -1.693821178889706, 0.5103274302378665, 1.0541391062646233, -0.5976418342961541, 0.8682392696715692, -0.6697941242150638, 0.9742988020969872, 0.4783934061363041, -0.10945425289967044, 0.5579648469307343, 0.061882101624842645, -0.45157774335416456, 0.6161163305270498, -0.054394521326319764, -1.5735721687894109, 0.5705772210638205, 0.5761796006749031, 0.1844921493983869, -0.24892164936248318, -1.2743548062088557, 0.6984023222628456, 1.1154228312324685, -0.7900145646772628, -0.4938822454556439], \"xaxis\": \"x16\", \"yaxis\": \"y16\"}],\n",
       "                        {\"bargap\": 0.02, \"legend\": {\"bgcolor\": \"#F5F6F9\", \"font\": {\"color\": \"#4D5663\"}}, \"paper_bgcolor\": \"#F5F6F9\", \"plot_bgcolor\": \"#F5F6F9\", \"showlegend\": false, \"template\": {\"data\": {\"bar\": [{\"error_x\": {\"color\": \"#2a3f5f\"}, \"error_y\": {\"color\": \"#2a3f5f\"}, \"marker\": {\"line\": {\"color\": \"#E5ECF6\", \"width\": 0.5}}, \"type\": \"bar\"}], \"barpolar\": [{\"marker\": {\"line\": {\"color\": \"#E5ECF6\", \"width\": 0.5}}, \"type\": \"barpolar\"}], \"carpet\": [{\"aaxis\": {\"endlinecolor\": \"#2a3f5f\", \"gridcolor\": \"white\", \"linecolor\": \"white\", \"minorgridcolor\": \"white\", \"startlinecolor\": \"#2a3f5f\"}, \"baxis\": {\"endlinecolor\": \"#2a3f5f\", \"gridcolor\": \"white\", \"linecolor\": \"white\", \"minorgridcolor\": \"white\", \"startlinecolor\": \"#2a3f5f\"}, \"type\": \"carpet\"}], \"choropleth\": [{\"colorbar\": {\"outlinewidth\": 0, \"ticks\": \"\"}, \"type\": \"choropleth\"}], \"contour\": [{\"colorbar\": {\"outlinewidth\": 0, \"ticks\": \"\"}, \"colorscale\": [[0.0, \"#0d0887\"], [0.1111111111111111, \"#46039f\"], [0.2222222222222222, \"#7201a8\"], [0.3333333333333333, \"#9c179e\"], [0.4444444444444444, \"#bd3786\"], [0.5555555555555556, \"#d8576b\"], [0.6666666666666666, \"#ed7953\"], [0.7777777777777778, \"#fb9f3a\"], [0.8888888888888888, \"#fdca26\"], [1.0, \"#f0f921\"]], \"type\": \"contour\"}], \"contourcarpet\": [{\"colorbar\": {\"outlinewidth\": 0, \"ticks\": \"\"}, \"type\": \"contourcarpet\"}], \"heatmap\": [{\"colorbar\": {\"outlinewidth\": 0, \"ticks\": \"\"}, \"colorscale\": [[0.0, \"#0d0887\"], [0.1111111111111111, \"#46039f\"], [0.2222222222222222, \"#7201a8\"], [0.3333333333333333, \"#9c179e\"], [0.4444444444444444, \"#bd3786\"], [0.5555555555555556, \"#d8576b\"], [0.6666666666666666, \"#ed7953\"], [0.7777777777777778, \"#fb9f3a\"], [0.8888888888888888, \"#fdca26\"], [1.0, \"#f0f921\"]], \"type\": \"heatmap\"}], \"heatmapgl\": [{\"colorbar\": {\"outlinewidth\": 0, \"ticks\": \"\"}, \"colorscale\": [[0.0, \"#0d0887\"], [0.1111111111111111, \"#46039f\"], [0.2222222222222222, \"#7201a8\"], [0.3333333333333333, \"#9c179e\"], [0.4444444444444444, \"#bd3786\"], [0.5555555555555556, \"#d8576b\"], [0.6666666666666666, \"#ed7953\"], [0.7777777777777778, \"#fb9f3a\"], [0.8888888888888888, \"#fdca26\"], [1.0, \"#f0f921\"]], \"type\": \"heatmapgl\"}], \"histogram\": [{\"marker\": {\"colorbar\": {\"outlinewidth\": 0, \"ticks\": \"\"}}, \"type\": \"histogram\"}], \"histogram2d\": [{\"colorbar\": {\"outlinewidth\": 0, \"ticks\": \"\"}, \"colorscale\": [[0.0, \"#0d0887\"], [0.1111111111111111, \"#46039f\"], [0.2222222222222222, \"#7201a8\"], [0.3333333333333333, \"#9c179e\"], [0.4444444444444444, \"#bd3786\"], [0.5555555555555556, \"#d8576b\"], [0.6666666666666666, \"#ed7953\"], [0.7777777777777778, \"#fb9f3a\"], [0.8888888888888888, \"#fdca26\"], [1.0, \"#f0f921\"]], \"type\": \"histogram2d\"}], \"histogram2dcontour\": [{\"colorbar\": {\"outlinewidth\": 0, \"ticks\": \"\"}, \"colorscale\": [[0.0, \"#0d0887\"], [0.1111111111111111, \"#46039f\"], [0.2222222222222222, \"#7201a8\"], [0.3333333333333333, \"#9c179e\"], [0.4444444444444444, \"#bd3786\"], [0.5555555555555556, \"#d8576b\"], [0.6666666666666666, \"#ed7953\"], [0.7777777777777778, \"#fb9f3a\"], [0.8888888888888888, \"#fdca26\"], [1.0, \"#f0f921\"]], \"type\": \"histogram2dcontour\"}], \"mesh3d\": [{\"colorbar\": {\"outlinewidth\": 0, \"ticks\": \"\"}, \"type\": \"mesh3d\"}], \"parcoords\": [{\"line\": {\"colorbar\": {\"outlinewidth\": 0, \"ticks\": \"\"}}, \"type\": \"parcoords\"}], \"pie\": [{\"automargin\": true, \"type\": \"pie\"}], \"scatter\": [{\"marker\": {\"colorbar\": {\"outlinewidth\": 0, \"ticks\": \"\"}}, \"type\": \"scatter\"}], \"scatter3d\": [{\"line\": {\"colorbar\": {\"outlinewidth\": 0, \"ticks\": \"\"}}, \"marker\": {\"colorbar\": {\"outlinewidth\": 0, \"ticks\": \"\"}}, \"type\": \"scatter3d\"}], \"scattercarpet\": [{\"marker\": {\"colorbar\": {\"outlinewidth\": 0, \"ticks\": \"\"}}, \"type\": \"scattercarpet\"}], \"scattergeo\": [{\"marker\": {\"colorbar\": {\"outlinewidth\": 0, \"ticks\": \"\"}}, \"type\": \"scattergeo\"}], \"scattergl\": [{\"marker\": {\"colorbar\": {\"outlinewidth\": 0, \"ticks\": \"\"}}, \"type\": \"scattergl\"}], \"scattermapbox\": [{\"marker\": {\"colorbar\": {\"outlinewidth\": 0, \"ticks\": \"\"}}, \"type\": \"scattermapbox\"}], \"scatterpolar\": [{\"marker\": {\"colorbar\": {\"outlinewidth\": 0, \"ticks\": \"\"}}, \"type\": \"scatterpolar\"}], \"scatterpolargl\": [{\"marker\": {\"colorbar\": {\"outlinewidth\": 0, \"ticks\": \"\"}}, \"type\": \"scatterpolargl\"}], \"scatterternary\": [{\"marker\": {\"colorbar\": {\"outlinewidth\": 0, \"ticks\": \"\"}}, \"type\": \"scatterternary\"}], \"surface\": [{\"colorbar\": {\"outlinewidth\": 0, \"ticks\": \"\"}, \"colorscale\": [[0.0, \"#0d0887\"], [0.1111111111111111, \"#46039f\"], [0.2222222222222222, \"#7201a8\"], [0.3333333333333333, \"#9c179e\"], [0.4444444444444444, \"#bd3786\"], [0.5555555555555556, \"#d8576b\"], [0.6666666666666666, \"#ed7953\"], [0.7777777777777778, \"#fb9f3a\"], [0.8888888888888888, \"#fdca26\"], [1.0, \"#f0f921\"]], \"type\": \"surface\"}], \"table\": [{\"cells\": {\"fill\": {\"color\": \"#EBF0F8\"}, \"line\": {\"color\": \"white\"}}, \"header\": {\"fill\": {\"color\": \"#C8D4E3\"}, \"line\": {\"color\": \"white\"}}, \"type\": \"table\"}]}, \"layout\": {\"annotationdefaults\": {\"arrowcolor\": \"#2a3f5f\", \"arrowhead\": 0, \"arrowwidth\": 1}, \"coloraxis\": {\"colorbar\": {\"outlinewidth\": 0, \"ticks\": \"\"}}, \"colorscale\": {\"diverging\": [[0, \"#8e0152\"], [0.1, \"#c51b7d\"], [0.2, \"#de77ae\"], [0.3, \"#f1b6da\"], [0.4, \"#fde0ef\"], [0.5, \"#f7f7f7\"], [0.6, \"#e6f5d0\"], [0.7, \"#b8e186\"], [0.8, \"#7fbc41\"], [0.9, \"#4d9221\"], [1, \"#276419\"]], \"sequential\": [[0.0, \"#0d0887\"], [0.1111111111111111, \"#46039f\"], [0.2222222222222222, \"#7201a8\"], [0.3333333333333333, \"#9c179e\"], [0.4444444444444444, \"#bd3786\"], [0.5555555555555556, \"#d8576b\"], [0.6666666666666666, \"#ed7953\"], [0.7777777777777778, \"#fb9f3a\"], [0.8888888888888888, \"#fdca26\"], [1.0, \"#f0f921\"]], \"sequentialminus\": [[0.0, \"#0d0887\"], [0.1111111111111111, \"#46039f\"], [0.2222222222222222, \"#7201a8\"], [0.3333333333333333, \"#9c179e\"], [0.4444444444444444, \"#bd3786\"], [0.5555555555555556, \"#d8576b\"], [0.6666666666666666, \"#ed7953\"], [0.7777777777777778, \"#fb9f3a\"], [0.8888888888888888, \"#fdca26\"], [1.0, \"#f0f921\"]]}, \"colorway\": [\"#636efa\", \"#EF553B\", \"#00cc96\", \"#ab63fa\", \"#FFA15A\", \"#19d3f3\", \"#FF6692\", \"#B6E880\", \"#FF97FF\", \"#FECB52\"], \"font\": {\"color\": \"#2a3f5f\"}, \"geo\": {\"bgcolor\": \"white\", \"lakecolor\": \"white\", \"landcolor\": \"#E5ECF6\", \"showlakes\": true, \"showland\": true, \"subunitcolor\": \"white\"}, \"hoverlabel\": {\"align\": \"left\"}, \"hovermode\": \"closest\", \"mapbox\": {\"style\": \"light\"}, \"paper_bgcolor\": \"white\", \"plot_bgcolor\": \"#E5ECF6\", \"polar\": {\"angularaxis\": {\"gridcolor\": \"white\", \"linecolor\": \"white\", \"ticks\": \"\"}, \"bgcolor\": \"#E5ECF6\", \"radialaxis\": {\"gridcolor\": \"white\", \"linecolor\": \"white\", \"ticks\": \"\"}}, \"scene\": {\"xaxis\": {\"backgroundcolor\": \"#E5ECF6\", \"gridcolor\": \"white\", \"gridwidth\": 2, \"linecolor\": \"white\", \"showbackground\": true, \"ticks\": \"\", \"zerolinecolor\": \"white\"}, \"yaxis\": {\"backgroundcolor\": \"#E5ECF6\", \"gridcolor\": \"white\", \"gridwidth\": 2, \"linecolor\": \"white\", \"showbackground\": true, \"ticks\": \"\", \"zerolinecolor\": \"white\"}, \"zaxis\": {\"backgroundcolor\": \"#E5ECF6\", \"gridcolor\": \"white\", \"gridwidth\": 2, \"linecolor\": \"white\", \"showbackground\": true, \"ticks\": \"\", \"zerolinecolor\": \"white\"}}, \"shapedefaults\": {\"line\": {\"color\": \"#2a3f5f\"}}, \"ternary\": {\"aaxis\": {\"gridcolor\": \"white\", \"linecolor\": \"white\", \"ticks\": \"\"}, \"baxis\": {\"gridcolor\": \"white\", \"linecolor\": \"white\", \"ticks\": \"\"}, \"bgcolor\": \"#E5ECF6\", \"caxis\": {\"gridcolor\": \"white\", \"linecolor\": \"white\", \"ticks\": \"\"}}, \"title\": {\"x\": 0.05}, \"xaxis\": {\"automargin\": true, \"gridcolor\": \"white\", \"linecolor\": \"white\", \"ticks\": \"\", \"title\": {\"standoff\": 15}, \"zerolinecolor\": \"white\", \"zerolinewidth\": 2}, \"yaxis\": {\"automargin\": true, \"gridcolor\": \"white\", \"linecolor\": \"white\", \"ticks\": \"\", \"title\": {\"standoff\": 15}, \"zerolinecolor\": \"white\", \"zerolinewidth\": 2}}}, \"title\": {\"font\": {\"color\": \"#4D5663\"}}, \"xaxis\": {\"anchor\": \"y\", \"domain\": [0.0, 0.2125], \"gridcolor\": \"#E1E5ED\", \"showgrid\": false, \"tickfont\": {\"color\": \"#4D5663\"}, \"title\": {\"font\": {\"color\": \"#4D5663\"}, \"text\": \"\"}, \"zerolinecolor\": \"#E1E5ED\"}, \"xaxis10\": {\"anchor\": \"y10\", \"domain\": [0.2625, 0.475], \"gridcolor\": \"#E1E5ED\", \"showgrid\": false, \"tickfont\": {\"color\": \"#4D5663\"}, \"title\": {\"font\": {\"color\": \"#4D5663\"}, \"text\": \"\"}, \"zerolinecolor\": \"#E1E5ED\"}, \"xaxis11\": {\"anchor\": \"y11\", \"domain\": [0.525, 0.7375], \"gridcolor\": \"#E1E5ED\", \"showgrid\": false, \"tickfont\": {\"color\": \"#4D5663\"}, \"title\": {\"font\": {\"color\": \"#4D5663\"}, \"text\": \"\"}, \"zerolinecolor\": \"#E1E5ED\"}, \"xaxis12\": {\"anchor\": \"y12\", \"domain\": [0.7875, 1.0], \"gridcolor\": \"#E1E5ED\", \"showgrid\": false, \"tickfont\": {\"color\": \"#4D5663\"}, \"title\": {\"font\": {\"color\": \"#4D5663\"}, \"text\": \"\"}, \"zerolinecolor\": \"#E1E5ED\"}, \"xaxis13\": {\"anchor\": \"y13\", \"domain\": [0.0, 0.2125], \"gridcolor\": \"#E1E5ED\", \"showgrid\": false, \"tickfont\": {\"color\": \"#4D5663\"}, \"title\": {\"font\": {\"color\": \"#4D5663\"}, \"text\": \"\"}, \"zerolinecolor\": \"#E1E5ED\"}, \"xaxis14\": {\"anchor\": \"y14\", \"domain\": [0.2625, 0.475], \"gridcolor\": \"#E1E5ED\", \"showgrid\": false, \"tickfont\": {\"color\": \"#4D5663\"}, \"title\": {\"font\": {\"color\": \"#4D5663\"}, \"text\": \"\"}, \"zerolinecolor\": \"#E1E5ED\"}, \"xaxis15\": {\"anchor\": \"y15\", \"domain\": [0.525, 0.7375], \"gridcolor\": \"#E1E5ED\", \"showgrid\": false, \"tickfont\": {\"color\": \"#4D5663\"}, \"title\": {\"font\": {\"color\": \"#4D5663\"}, \"text\": \"\"}, \"zerolinecolor\": \"#E1E5ED\"}, \"xaxis16\": {\"anchor\": \"y16\", \"domain\": [0.7875, 1.0], \"gridcolor\": \"#E1E5ED\", \"showgrid\": false, \"tickfont\": {\"color\": \"#4D5663\"}, \"title\": {\"font\": {\"color\": \"#4D5663\"}, \"text\": \"\"}, \"zerolinecolor\": \"#E1E5ED\"}, \"xaxis2\": {\"anchor\": \"y2\", \"domain\": [0.2625, 0.475], \"gridcolor\": \"#E1E5ED\", \"showgrid\": false, \"tickfont\": {\"color\": \"#4D5663\"}, \"title\": {\"font\": {\"color\": \"#4D5663\"}, \"text\": \"\"}, \"zerolinecolor\": \"#E1E5ED\"}, \"xaxis3\": {\"anchor\": \"y3\", \"domain\": [0.525, 0.7375], \"gridcolor\": \"#E1E5ED\", \"showgrid\": false, \"tickfont\": {\"color\": \"#4D5663\"}, \"title\": {\"font\": {\"color\": \"#4D5663\"}, \"text\": \"\"}, \"zerolinecolor\": \"#E1E5ED\"}, \"xaxis4\": {\"anchor\": \"y4\", \"domain\": [0.7875, 1.0], \"gridcolor\": \"#E1E5ED\", \"showgrid\": false, \"tickfont\": {\"color\": \"#4D5663\"}, \"title\": {\"font\": {\"color\": \"#4D5663\"}, \"text\": \"\"}, \"zerolinecolor\": \"#E1E5ED\"}, \"xaxis5\": {\"anchor\": \"y5\", \"domain\": [0.0, 0.2125], \"gridcolor\": \"#E1E5ED\", \"showgrid\": false, \"tickfont\": {\"color\": \"#4D5663\"}, \"title\": {\"font\": {\"color\": \"#4D5663\"}, \"text\": \"\"}, \"zerolinecolor\": \"#E1E5ED\"}, \"xaxis6\": {\"anchor\": \"y6\", \"domain\": [0.2625, 0.475], \"gridcolor\": \"#E1E5ED\", \"showgrid\": false, \"tickfont\": {\"color\": \"#4D5663\"}, \"title\": {\"font\": {\"color\": \"#4D5663\"}, \"text\": \"\"}, \"zerolinecolor\": \"#E1E5ED\"}, \"xaxis7\": {\"anchor\": \"y7\", \"domain\": [0.525, 0.7375], \"gridcolor\": \"#E1E5ED\", \"showgrid\": false, \"tickfont\": {\"color\": \"#4D5663\"}, \"title\": {\"font\": {\"color\": \"#4D5663\"}, \"text\": \"\"}, \"zerolinecolor\": \"#E1E5ED\"}, \"xaxis8\": {\"anchor\": \"y8\", \"domain\": [0.7875, 1.0], \"gridcolor\": \"#E1E5ED\", \"showgrid\": false, \"tickfont\": {\"color\": \"#4D5663\"}, \"title\": {\"font\": {\"color\": \"#4D5663\"}, \"text\": \"\"}, \"zerolinecolor\": \"#E1E5ED\"}, \"xaxis9\": {\"anchor\": \"y9\", \"domain\": [0.0, 0.2125], \"gridcolor\": \"#E1E5ED\", \"showgrid\": false, \"tickfont\": {\"color\": \"#4D5663\"}, \"title\": {\"font\": {\"color\": \"#4D5663\"}, \"text\": \"\"}, \"zerolinecolor\": \"#E1E5ED\"}, \"yaxis\": {\"anchor\": \"x\", \"domain\": [0.8025, 1.0], \"gridcolor\": \"#E1E5ED\", \"showgrid\": false, \"tickfont\": {\"color\": \"#4D5663\"}, \"title\": {\"font\": {\"color\": \"#4D5663\"}, \"text\": \"\"}, \"zerolinecolor\": \"#E1E5ED\"}, \"yaxis10\": {\"anchor\": \"x10\", \"domain\": [0.2675, 0.465], \"gridcolor\": \"#E1E5ED\", \"showgrid\": false, \"tickfont\": {\"color\": \"#4D5663\"}, \"title\": {\"font\": {\"color\": \"#4D5663\"}, \"text\": \"\"}, \"zerolinecolor\": \"#E1E5ED\"}, \"yaxis11\": {\"anchor\": \"x11\", \"domain\": [0.2675, 0.465], \"gridcolor\": \"#E1E5ED\", \"showgrid\": false, \"tickfont\": {\"color\": \"#4D5663\"}, \"title\": {\"font\": {\"color\": \"#4D5663\"}, \"text\": \"\"}, \"zerolinecolor\": \"#E1E5ED\"}, \"yaxis12\": {\"anchor\": \"x12\", \"domain\": [0.2675, 0.465], \"gridcolor\": \"#E1E5ED\", \"showgrid\": false, \"tickfont\": {\"color\": \"#4D5663\"}, \"title\": {\"font\": {\"color\": \"#4D5663\"}, \"text\": \"\"}, \"zerolinecolor\": \"#E1E5ED\"}, \"yaxis13\": {\"anchor\": \"x13\", \"domain\": [0.0, 0.1975], \"gridcolor\": \"#E1E5ED\", \"showgrid\": false, \"tickfont\": {\"color\": \"#4D5663\"}, \"title\": {\"font\": {\"color\": \"#4D5663\"}, \"text\": \"\"}, \"zerolinecolor\": \"#E1E5ED\"}, \"yaxis14\": {\"anchor\": \"x14\", \"domain\": [0.0, 0.1975], \"gridcolor\": \"#E1E5ED\", \"showgrid\": false, \"tickfont\": {\"color\": \"#4D5663\"}, \"title\": {\"font\": {\"color\": \"#4D5663\"}, \"text\": \"\"}, \"zerolinecolor\": \"#E1E5ED\"}, \"yaxis15\": {\"anchor\": \"x15\", \"domain\": [0.0, 0.1975], \"gridcolor\": \"#E1E5ED\", \"showgrid\": false, \"tickfont\": {\"color\": \"#4D5663\"}, \"title\": {\"font\": {\"color\": \"#4D5663\"}, \"text\": \"\"}, \"zerolinecolor\": \"#E1E5ED\"}, \"yaxis16\": {\"anchor\": \"x16\", \"domain\": [0.0, 0.1975], \"gridcolor\": \"#E1E5ED\", \"showgrid\": false, \"tickfont\": {\"color\": \"#4D5663\"}, \"title\": {\"font\": {\"color\": \"#4D5663\"}, \"text\": \"\"}, \"zerolinecolor\": \"#E1E5ED\"}, \"yaxis2\": {\"anchor\": \"x2\", \"domain\": [0.8025, 1.0], \"gridcolor\": \"#E1E5ED\", \"showgrid\": false, \"tickfont\": {\"color\": \"#4D5663\"}, \"title\": {\"font\": {\"color\": \"#4D5663\"}, \"text\": \"\"}, \"zerolinecolor\": \"#E1E5ED\"}, \"yaxis3\": {\"anchor\": \"x3\", \"domain\": [0.8025, 1.0], \"gridcolor\": \"#E1E5ED\", \"showgrid\": false, \"tickfont\": {\"color\": \"#4D5663\"}, \"title\": {\"font\": {\"color\": \"#4D5663\"}, \"text\": \"\"}, \"zerolinecolor\": \"#E1E5ED\"}, \"yaxis4\": {\"anchor\": \"x4\", \"domain\": [0.8025, 1.0], \"gridcolor\": \"#E1E5ED\", \"showgrid\": false, \"tickfont\": {\"color\": \"#4D5663\"}, \"title\": {\"font\": {\"color\": \"#4D5663\"}, \"text\": \"\"}, \"zerolinecolor\": \"#E1E5ED\"}, \"yaxis5\": {\"anchor\": \"x5\", \"domain\": [0.535, 0.7325], \"gridcolor\": \"#E1E5ED\", \"showgrid\": false, \"tickfont\": {\"color\": \"#4D5663\"}, \"title\": {\"font\": {\"color\": \"#4D5663\"}, \"text\": \"\"}, \"zerolinecolor\": \"#E1E5ED\"}, \"yaxis6\": {\"anchor\": \"x6\", \"domain\": [0.535, 0.7325], \"gridcolor\": \"#E1E5ED\", \"showgrid\": false, \"tickfont\": {\"color\": \"#4D5663\"}, \"title\": {\"font\": {\"color\": \"#4D5663\"}, \"text\": \"\"}, \"zerolinecolor\": \"#E1E5ED\"}, \"yaxis7\": {\"anchor\": \"x7\", \"domain\": [0.535, 0.7325], \"gridcolor\": \"#E1E5ED\", \"showgrid\": false, \"tickfont\": {\"color\": \"#4D5663\"}, \"title\": {\"font\": {\"color\": \"#4D5663\"}, \"text\": \"\"}, \"zerolinecolor\": \"#E1E5ED\"}, \"yaxis8\": {\"anchor\": \"x8\", \"domain\": [0.535, 0.7325], \"gridcolor\": \"#E1E5ED\", \"showgrid\": false, \"tickfont\": {\"color\": \"#4D5663\"}, \"title\": {\"font\": {\"color\": \"#4D5663\"}, \"text\": \"\"}, \"zerolinecolor\": \"#E1E5ED\"}, \"yaxis9\": {\"anchor\": \"x9\", \"domain\": [0.2675, 0.465], \"gridcolor\": \"#E1E5ED\", \"showgrid\": false, \"tickfont\": {\"color\": \"#4D5663\"}, \"title\": {\"font\": {\"color\": \"#4D5663\"}, \"text\": \"\"}, \"zerolinecolor\": \"#E1E5ED\"}},\n",
       "                        {\"showLink\": true, \"linkText\": \"Export to plot.ly\", \"plotlyServerURL\": \"https://plot.ly\", \"responsive\": true}\n",
       "                    ).then(function(){\n",
       "                            \n",
       "var gd = document.getElementById('a8f65fac-13b6-4bad-8727-c285985ffb94');\n",
       "var x = new MutationObserver(function (mutations, observer) {{\n",
       "        var display = window.getComputedStyle(gd).display;\n",
       "        if (!display || display === 'none') {{\n",
       "            console.log([gd, 'removed!']);\n",
       "            Plotly.purge(gd);\n",
       "            observer.disconnect();\n",
       "        }}\n",
       "}});\n",
       "\n",
       "// Listen for the removal of the full notebook cells\n",
       "var notebookContainer = gd.closest('#notebook-container');\n",
       "if (notebookContainer) {{\n",
       "    x.observe(notebookContainer, {childList: true});\n",
       "}}\n",
       "\n",
       "// Listen for the clearing of the current output cell\n",
       "var outputEl = gd.closest('.output');\n",
       "if (outputEl) {{\n",
       "    x.observe(outputEl, {childList: true});\n",
       "}}\n",
       "\n",
       "                        })\n",
       "                };\n",
       "                });\n",
       "            </script>\n",
       "        </div>"
      ]
     },
     "metadata": {},
     "output_type": "display_data"
    }
   ],
   "source": [
    "df.scatter_matrix()"
   ]
  },
  {
   "cell_type": "code",
   "execution_count": 71,
   "metadata": {},
   "outputs": [],
   "source": [
    "data = dict(type=\"choropleth\",locations=[\"AZ\",\"CA\",\"NY\"],locationmode=\"USA-states\",colorscale=\"Greens\",text=['text 1',' text 2','text 3'],z=[1.0,2.0,3.0],colorbar={'title': 'Colorbar Title Goes Here'})"
   ]
  },
  {
   "cell_type": "code",
   "execution_count": 72,
   "metadata": {},
   "outputs": [
    {
     "data": {
      "text/plain": [
       "{'type': 'choropleth',\n",
       " 'locations': ['AZ', 'CA', 'NY'],\n",
       " 'locationmode': 'USA-states',\n",
       " 'colorscale': 'Greens',\n",
       " 'text': ['text 1', ' text 2', 'text 3'],\n",
       " 'z': [1.0, 2.0, 3.0],\n",
       " 'colorbar': {'title': 'Colorbar Title Goes Here'}}"
      ]
     },
     "execution_count": 72,
     "metadata": {},
     "output_type": "execute_result"
    }
   ],
   "source": [
    "data"
   ]
  },
  {
   "cell_type": "code",
   "execution_count": 73,
   "metadata": {},
   "outputs": [],
   "source": [
    "layout = dict(geo={\"scope\":\"usa\"})"
   ]
  },
  {
   "cell_type": "code",
   "execution_count": 74,
   "metadata": {},
   "outputs": [],
   "source": [
    "choromap = go.Figure(data=[data],layout=layout)"
   ]
  },
  {
   "cell_type": "code",
   "execution_count": 81,
   "metadata": {},
   "outputs": [
    {
     "data": {
      "text/plain": [
       "'temp-plot.html'"
      ]
     },
     "execution_count": 81,
     "metadata": {},
     "output_type": "execute_result"
    }
   ],
   "source": [
    "plot(choromap)"
   ]
  },
  {
   "cell_type": "code",
   "execution_count": 79,
   "metadata": {},
   "outputs": [],
   "source": [
    "df = pd.read_csv('2011_US_AGRI_Exports')"
   ]
  },
  {
   "cell_type": "code",
   "execution_count": 80,
   "metadata": {},
   "outputs": [
    {
     "data": {
      "text/html": [
       "<div>\n",
       "<style scoped>\n",
       "    .dataframe tbody tr th:only-of-type {\n",
       "        vertical-align: middle;\n",
       "    }\n",
       "\n",
       "    .dataframe tbody tr th {\n",
       "        vertical-align: top;\n",
       "    }\n",
       "\n",
       "    .dataframe thead th {\n",
       "        text-align: right;\n",
       "    }\n",
       "</style>\n",
       "<table border=\"1\" class=\"dataframe\">\n",
       "  <thead>\n",
       "    <tr style=\"text-align: right;\">\n",
       "      <th></th>\n",
       "      <th>code</th>\n",
       "      <th>state</th>\n",
       "      <th>category</th>\n",
       "      <th>total exports</th>\n",
       "      <th>beef</th>\n",
       "      <th>pork</th>\n",
       "      <th>poultry</th>\n",
       "      <th>dairy</th>\n",
       "      <th>fruits fresh</th>\n",
       "      <th>fruits proc</th>\n",
       "      <th>total fruits</th>\n",
       "      <th>veggies fresh</th>\n",
       "      <th>veggies proc</th>\n",
       "      <th>total veggies</th>\n",
       "      <th>corn</th>\n",
       "      <th>wheat</th>\n",
       "      <th>cotton</th>\n",
       "      <th>text</th>\n",
       "    </tr>\n",
       "  </thead>\n",
       "  <tbody>\n",
       "    <tr>\n",
       "      <th>0</th>\n",
       "      <td>AL</td>\n",
       "      <td>Alabama</td>\n",
       "      <td>state</td>\n",
       "      <td>1390.63</td>\n",
       "      <td>34.4</td>\n",
       "      <td>10.6</td>\n",
       "      <td>481.0</td>\n",
       "      <td>4.06</td>\n",
       "      <td>8.0</td>\n",
       "      <td>17.1</td>\n",
       "      <td>25.11</td>\n",
       "      <td>5.5</td>\n",
       "      <td>8.9</td>\n",
       "      <td>14.33</td>\n",
       "      <td>34.9</td>\n",
       "      <td>70.0</td>\n",
       "      <td>317.61</td>\n",
       "      <td>Alabama&lt;br&gt;Beef 34.4 Dairy 4.06&lt;br&gt;Fruits 25.1...</td>\n",
       "    </tr>\n",
       "    <tr>\n",
       "      <th>1</th>\n",
       "      <td>AK</td>\n",
       "      <td>Alaska</td>\n",
       "      <td>state</td>\n",
       "      <td>13.31</td>\n",
       "      <td>0.2</td>\n",
       "      <td>0.1</td>\n",
       "      <td>0.0</td>\n",
       "      <td>0.19</td>\n",
       "      <td>0.0</td>\n",
       "      <td>0.0</td>\n",
       "      <td>0.00</td>\n",
       "      <td>0.6</td>\n",
       "      <td>1.0</td>\n",
       "      <td>1.56</td>\n",
       "      <td>0.0</td>\n",
       "      <td>0.0</td>\n",
       "      <td>0.00</td>\n",
       "      <td>Alaska&lt;br&gt;Beef 0.2 Dairy 0.19&lt;br&gt;Fruits 0.0 Ve...</td>\n",
       "    </tr>\n",
       "    <tr>\n",
       "      <th>2</th>\n",
       "      <td>AZ</td>\n",
       "      <td>Arizona</td>\n",
       "      <td>state</td>\n",
       "      <td>1463.17</td>\n",
       "      <td>71.3</td>\n",
       "      <td>17.9</td>\n",
       "      <td>0.0</td>\n",
       "      <td>105.48</td>\n",
       "      <td>19.3</td>\n",
       "      <td>41.0</td>\n",
       "      <td>60.27</td>\n",
       "      <td>147.5</td>\n",
       "      <td>239.4</td>\n",
       "      <td>386.91</td>\n",
       "      <td>7.3</td>\n",
       "      <td>48.7</td>\n",
       "      <td>423.95</td>\n",
       "      <td>Arizona&lt;br&gt;Beef 71.3 Dairy 105.48&lt;br&gt;Fruits 60...</td>\n",
       "    </tr>\n",
       "    <tr>\n",
       "      <th>3</th>\n",
       "      <td>AR</td>\n",
       "      <td>Arkansas</td>\n",
       "      <td>state</td>\n",
       "      <td>3586.02</td>\n",
       "      <td>53.2</td>\n",
       "      <td>29.4</td>\n",
       "      <td>562.9</td>\n",
       "      <td>3.53</td>\n",
       "      <td>2.2</td>\n",
       "      <td>4.7</td>\n",
       "      <td>6.88</td>\n",
       "      <td>4.4</td>\n",
       "      <td>7.1</td>\n",
       "      <td>11.45</td>\n",
       "      <td>69.5</td>\n",
       "      <td>114.5</td>\n",
       "      <td>665.44</td>\n",
       "      <td>Arkansas&lt;br&gt;Beef 53.2 Dairy 3.53&lt;br&gt;Fruits 6.8...</td>\n",
       "    </tr>\n",
       "    <tr>\n",
       "      <th>4</th>\n",
       "      <td>CA</td>\n",
       "      <td>California</td>\n",
       "      <td>state</td>\n",
       "      <td>16472.88</td>\n",
       "      <td>228.7</td>\n",
       "      <td>11.1</td>\n",
       "      <td>225.4</td>\n",
       "      <td>929.95</td>\n",
       "      <td>2791.8</td>\n",
       "      <td>5944.6</td>\n",
       "      <td>8736.40</td>\n",
       "      <td>803.2</td>\n",
       "      <td>1303.5</td>\n",
       "      <td>2106.79</td>\n",
       "      <td>34.6</td>\n",
       "      <td>249.3</td>\n",
       "      <td>1064.95</td>\n",
       "      <td>California&lt;br&gt;Beef 228.7 Dairy 929.95&lt;br&gt;Frui...</td>\n",
       "    </tr>\n",
       "  </tbody>\n",
       "</table>\n",
       "</div>"
      ],
      "text/plain": [
       "  code        state category  total exports   beef  pork  poultry   dairy  \\\n",
       "0   AL      Alabama    state        1390.63   34.4  10.6    481.0    4.06   \n",
       "1   AK       Alaska    state          13.31    0.2   0.1      0.0    0.19   \n",
       "2   AZ      Arizona    state        1463.17   71.3  17.9      0.0  105.48   \n",
       "3   AR     Arkansas    state        3586.02   53.2  29.4    562.9    3.53   \n",
       "4   CA   California    state       16472.88  228.7  11.1    225.4  929.95   \n",
       "\n",
       "   fruits fresh  fruits proc  total fruits  veggies fresh  veggies proc  \\\n",
       "0           8.0         17.1         25.11            5.5           8.9   \n",
       "1           0.0          0.0          0.00            0.6           1.0   \n",
       "2          19.3         41.0         60.27          147.5         239.4   \n",
       "3           2.2          4.7          6.88            4.4           7.1   \n",
       "4        2791.8       5944.6       8736.40          803.2        1303.5   \n",
       "\n",
       "   total veggies  corn  wheat   cotton  \\\n",
       "0          14.33  34.9   70.0   317.61   \n",
       "1           1.56   0.0    0.0     0.00   \n",
       "2         386.91   7.3   48.7   423.95   \n",
       "3          11.45  69.5  114.5   665.44   \n",
       "4        2106.79  34.6  249.3  1064.95   \n",
       "\n",
       "                                                text  \n",
       "0  Alabama<br>Beef 34.4 Dairy 4.06<br>Fruits 25.1...  \n",
       "1  Alaska<br>Beef 0.2 Dairy 0.19<br>Fruits 0.0 Ve...  \n",
       "2  Arizona<br>Beef 71.3 Dairy 105.48<br>Fruits 60...  \n",
       "3  Arkansas<br>Beef 53.2 Dairy 3.53<br>Fruits 6.8...  \n",
       "4   California<br>Beef 228.7 Dairy 929.95<br>Frui...  "
      ]
     },
     "execution_count": 80,
     "metadata": {},
     "output_type": "execute_result"
    }
   ],
   "source": [
    "df.head()"
   ]
  },
  {
   "cell_type": "code",
   "execution_count": 86,
   "metadata": {},
   "outputs": [],
   "source": [
    "data = dict(type='choropleth',\n",
    "            colorscale=\"ylorbr\",\n",
    "            locations=df[\"code\"],\n",
    "            locationmode=\"USA-states\",\n",
    "            z=df['total exports'],\n",
    "            text=df['text'],\n",
    "            colorbar={'title':'Millions USD'},\n",
    "            marker = dict(line = dict(color='rgb(255,2555,255)',width=2)))"
   ]
  },
  {
   "cell_type": "code",
   "execution_count": 87,
   "metadata": {},
   "outputs": [
    {
     "data": {
      "text/plain": [
       "{'type': 'choropleth',\n",
       " 'colorscale': 'ylorbr',\n",
       " 'locations': 0     AL\n",
       " 1     AK\n",
       " 2     AZ\n",
       " 3     AR\n",
       " 4     CA\n",
       " 5     CO\n",
       " 6     CT\n",
       " 7     DE\n",
       " 8     FL\n",
       " 9     GA\n",
       " 10    HI\n",
       " 11    ID\n",
       " 12    IL\n",
       " 13    IN\n",
       " 14    IA\n",
       " 15    KS\n",
       " 16    KY\n",
       " 17    LA\n",
       " 18    ME\n",
       " 19    MD\n",
       " 20    MA\n",
       " 21    MI\n",
       " 22    MN\n",
       " 23    MS\n",
       " 24    MO\n",
       " 25    MT\n",
       " 26    NE\n",
       " 27    NV\n",
       " 28    NH\n",
       " 29    NJ\n",
       " 30    NM\n",
       " 31    NY\n",
       " 32    NC\n",
       " 33    ND\n",
       " 34    OH\n",
       " 35    OK\n",
       " 36    OR\n",
       " 37    PA\n",
       " 38    RI\n",
       " 39    SC\n",
       " 40    SD\n",
       " 41    TN\n",
       " 42    TX\n",
       " 43    UT\n",
       " 44    VT\n",
       " 45    VA\n",
       " 46    WA\n",
       " 47    WV\n",
       " 48    WI\n",
       " 49    WY\n",
       " Name: code, dtype: object,\n",
       " 'locationmode': 'USA-states',\n",
       " 'z': 0      1390.63\n",
       " 1        13.31\n",
       " 2      1463.17\n",
       " 3      3586.02\n",
       " 4     16472.88\n",
       " 5      1851.33\n",
       " 6       259.62\n",
       " 7       282.19\n",
       " 8      3764.09\n",
       " 9      2860.84\n",
       " 10      401.84\n",
       " 11     2078.89\n",
       " 12     8709.48\n",
       " 13     5050.23\n",
       " 14    11273.76\n",
       " 15     4589.01\n",
       " 16     1889.15\n",
       " 17     1914.23\n",
       " 18      278.37\n",
       " 19      692.75\n",
       " 20      248.65\n",
       " 21     3164.16\n",
       " 22     7192.33\n",
       " 23     2170.80\n",
       " 24     3933.42\n",
       " 25     1718.00\n",
       " 26     7114.13\n",
       " 27      139.89\n",
       " 28       73.06\n",
       " 29      500.40\n",
       " 30      751.58\n",
       " 31     1488.90\n",
       " 32     3806.05\n",
       " 33     3761.96\n",
       " 34     3979.79\n",
       " 35     1646.41\n",
       " 36     1794.57\n",
       " 37     1969.87\n",
       " 38       31.59\n",
       " 39      929.93\n",
       " 40     3770.19\n",
       " 41     1535.13\n",
       " 42     6648.22\n",
       " 43      453.39\n",
       " 44      180.14\n",
       " 45     1146.48\n",
       " 46     3894.81\n",
       " 47      138.89\n",
       " 48     3090.23\n",
       " 49      349.69\n",
       " Name: total exports, dtype: float64,\n",
       " 'text': 0     Alabama<br>Beef 34.4 Dairy 4.06<br>Fruits 25.1...\n",
       " 1     Alaska<br>Beef 0.2 Dairy 0.19<br>Fruits 0.0 Ve...\n",
       " 2     Arizona<br>Beef 71.3 Dairy 105.48<br>Fruits 60...\n",
       " 3     Arkansas<br>Beef 53.2 Dairy 3.53<br>Fruits 6.8...\n",
       " 4      California<br>Beef 228.7 Dairy 929.95<br>Frui...\n",
       " 5     Colorado<br>Beef 261.4 Dairy 71.94<br>Fruits 1...\n",
       " 6     Connecticut<br>Beef 1.1 Dairy 9.49<br>Fruits 1...\n",
       " 7     Delaware<br>Beef 0.4 Dairy 2.3<br>Fruits 1.53 ...\n",
       " 8     Florida<br>Beef 42.6 Dairy 66.31<br>Fruits 137...\n",
       " 9     Georgia<br>Beef 31.0 Dairy 38.38<br>Fruits 233...\n",
       " 10    Hawaii<br>Beef 4.0 Dairy 1.16<br>Fruits 55.51 ...\n",
       " 11    Idaho<br>Beef 119.8 Dairy 294.6<br>Fruits 21.6...\n",
       " 12    Illinois<br>Beef 53.7 Dairy 45.82<br>Fruits 12...\n",
       " 13    Indiana<br>Beef 21.9 Dairy 89.7<br>Fruits 12.9...\n",
       " 14    Iowa<br>Beef 289.8 Dairy 107.0<br>Fruits 3.24 ...\n",
       " 15    Kansas<br>Beef 659.3 Dairy 65.45<br>Fruits 3.1...\n",
       " 16    Kentucky<br>Beef 54.8 Dairy 28.27<br>Fruits 6....\n",
       " 17    Louisiana<br>Beef 19.8 Dairy 6.02<br>Fruits 17...\n",
       " 18    Maine<br>Beef 1.4 Dairy 16.18<br>Fruits 52.01 ...\n",
       " 19    Maryland<br>Beef 5.6 Dairy 24.81<br>Fruits 12....\n",
       " 20    Massachusetts<br>Beef 0.6 Dairy 5.81<br>Fruits...\n",
       " 21    Michigan<br>Beef 37.7 Dairy 214.82<br>Fruits 2...\n",
       " 22    Minnesota<br>Beef 112.3 Dairy 218.05<br>Fruits...\n",
       " 23    Mississippi<br>Beef 12.8 Dairy 5.45<br>Fruits ...\n",
       " 24    Missouri<br>Beef 137.2 Dairy 34.26<br>Fruits 1...\n",
       " 25    Montana<br>Beef 105.0 Dairy 6.82<br>Fruits 3.3...\n",
       " 26    Nebraska<br>Beef 762.2 Dairy 30.07<br>Fruits 2...\n",
       " 27    Nevada<br>Beef 21.8 Dairy 16.57<br>Fruits 1.19...\n",
       " 28    New Hampshire<br>Beef 0.6 Dairy 7.46<br>Fruits...\n",
       " 29    New Jersey<br>Beef 0.8 Dairy 3.37<br>Fruits 10...\n",
       " 30    New Mexico<br>Beef 117.2 Dairy 191.01<br>Fruit...\n",
       " 31    New York<br>Beef 22.2 Dairy 331.8<br>Fruits 20...\n",
       " 32    North Carolina<br>Beef 24.8 Dairy 24.9<br>Frui...\n",
       " 33    North Dakota<br>Beef 78.5 Dairy 8.14<br>Fruits...\n",
       " 34    Ohio<br>Beef 36.2 Dairy 134.57<br>Fruits 27.21...\n",
       " 35    Oklahoma<br>Beef 337.6 Dairy 24.35<br>Fruits 9...\n",
       " 36    Oregon<br>Beef 58.8 Dairy 63.66<br>Fruits 315....\n",
       " 37    Pennsylvania<br>Beef 50.9 Dairy 280.87<br>Frui...\n",
       " 38    Rhode Island<br>Beef 0.1 Dairy 0.52<br>Fruits ...\n",
       " 39    South Carolina<br>Beef 15.2 Dairy 7.62<br>Frui...\n",
       " 40    South Dakota<br>Beef 193.5 Dairy 46.77<br>Frui...\n",
       " 41    Tennessee<br>Beef 51.1 Dairy 21.18<br>Fruits 6...\n",
       " 42    Texas<br>Beef 961.0 Dairy 240.55<br>Fruits 99....\n",
       " 43    Utah<br>Beef 27.9 Dairy 48.6<br>Fruits 12.34 V...\n",
       " 44    Vermont<br>Beef 6.2 Dairy 65.98<br>Fruits 8.01...\n",
       " 45    Virginia<br>Beef 39.5 Dairy 47.85<br>Fruits 36...\n",
       " 46    Washington<br>Beef 59.2 Dairy 154.18<br>Fruits...\n",
       " 47    West Virginia<br>Beef 12.0 Dairy 3.9<br>Fruits...\n",
       " 48    Wisconsin<br>Beef 107.3 Dairy 633.6<br>Fruits ...\n",
       " 49    Wyoming<br>Beef 75.1 Dairy 2.89<br>Fruits 0.17...\n",
       " Name: text, dtype: object,\n",
       " 'colorbar': {'title': 'Millions USD'},\n",
       " 'marker': {'line': {'color': 'rgb(255,2555,255)', 'width': 2}}}"
      ]
     },
     "execution_count": 87,
     "metadata": {},
     "output_type": "execute_result"
    }
   ],
   "source": [
    "data"
   ]
  },
  {
   "cell_type": "code",
   "execution_count": 94,
   "metadata": {},
   "outputs": [],
   "source": [
    "layout = dict(title=\"2011 US Agriculture Exports By State\", \n",
    "            geo = dict(scope=\"usa\",showlakes=True,lakecolor='rgb(85,173,240)'))"
   ]
  },
  {
   "cell_type": "code",
   "execution_count": 95,
   "metadata": {},
   "outputs": [
    {
     "data": {
      "text/plain": [
       "{'title': '2011 US Agriculture Exports By State',\n",
       " 'geo': {'scope': 'usa', 'showlakes': True, 'lakecolor': 'rgb(85,173,240)'}}"
      ]
     },
     "execution_count": 95,
     "metadata": {},
     "output_type": "execute_result"
    }
   ],
   "source": [
    "layout"
   ]
  },
  {
   "cell_type": "code",
   "execution_count": 96,
   "metadata": {},
   "outputs": [],
   "source": [
    "choromap2 = go.Figure(data=[data],layout=layout)"
   ]
  },
  {
   "cell_type": "code",
   "execution_count": 97,
   "metadata": {},
   "outputs": [
    {
     "data": {
      "application/vnd.plotly.v1+json": {
       "config": {
        "linkText": "Export to plot.ly",
        "plotlyServerURL": "https://plot.ly",
        "showLink": false
       },
       "data": [
        {
         "colorbar": {
          "title": {
           "text": "Millions USD"
          }
         },
         "colorscale": [
          [
           0,
           "rgb(255,255,229)"
          ],
          [
           0.125,
           "rgb(255,247,188)"
          ],
          [
           0.25,
           "rgb(254,227,145)"
          ],
          [
           0.375,
           "rgb(254,196,79)"
          ],
          [
           0.5,
           "rgb(254,153,41)"
          ],
          [
           0.625,
           "rgb(236,112,20)"
          ],
          [
           0.75,
           "rgb(204,76,2)"
          ],
          [
           0.875,
           "rgb(153,52,4)"
          ],
          [
           1,
           "rgb(102,37,6)"
          ]
         ],
         "locationmode": "USA-states",
         "locations": [
          "AL",
          "AK",
          "AZ",
          "AR",
          "CA",
          "CO",
          "CT",
          "DE",
          "FL",
          "GA",
          "HI",
          "ID",
          "IL",
          "IN",
          "IA",
          "KS",
          "KY",
          "LA",
          "ME",
          "MD",
          "MA",
          "MI",
          "MN",
          "MS",
          "MO",
          "MT",
          "NE",
          "NV",
          "NH",
          "NJ",
          "NM",
          "NY",
          "NC",
          "ND",
          "OH",
          "OK",
          "OR",
          "PA",
          "RI",
          "SC",
          "SD",
          "TN",
          "TX",
          "UT",
          "VT",
          "VA",
          "WA",
          "WV",
          "WI",
          "WY"
         ],
         "marker": {
          "line": {
           "color": "rgb(255,2555,255)",
           "width": 2
          }
         },
         "text": [
          "Alabama<br>Beef 34.4 Dairy 4.06<br>Fruits 25.11 Veggies 14.33<br>Wheat 70.0 Corn 34.9",
          "Alaska<br>Beef 0.2 Dairy 0.19<br>Fruits 0.0 Veggies 1.56<br>Wheat 0.0 Corn 0.0",
          "Arizona<br>Beef 71.3 Dairy 105.48<br>Fruits 60.27 Veggies 386.91<br>Wheat 48.7 Corn 7.3",
          "Arkansas<br>Beef 53.2 Dairy 3.53<br>Fruits 6.88 Veggies 11.45<br>Wheat 114.5 Corn 69.5",
          " California<br>Beef 228.7 Dairy 929.95<br>Fruits 8736.4 Veggies 2106.79<br>Wheat 249.3 Corn 34.6",
          "Colorado<br>Beef 261.4 Dairy 71.94<br>Fruits 17.99 Veggies 118.27<br>Wheat 400.5 Corn 183.2",
          "Connecticut<br>Beef 1.1 Dairy 9.49<br>Fruits 13.1 Veggies 11.16<br>Wheat 0.0 Corn 0.0",
          "Delaware<br>Beef 0.4 Dairy 2.3<br>Fruits 1.53 Veggies 20.03<br>Wheat 22.9 Corn 26.9",
          "Florida<br>Beef 42.6 Dairy 66.31<br>Fruits 1371.36 Veggies 450.86<br>Wheat 1.8 Corn 3.5",
          "Georgia<br>Beef 31.0 Dairy 38.38<br>Fruits 233.51 Veggies 154.77<br>Wheat 65.4 Corn 57.8",
          "Hawaii<br>Beef 4.0 Dairy 1.16<br>Fruits 55.51 Veggies 24.83<br>Wheat 0.0 Corn 0.0",
          "Idaho<br>Beef 119.8 Dairy 294.6<br>Fruits 21.64 Veggies 319.19<br>Wheat 568.2 Corn 24.0",
          "Illinois<br>Beef 53.7 Dairy 45.82<br>Fruits 12.53 Veggies 39.95<br>Wheat 223.8 Corn 2228.5",
          "Indiana<br>Beef 21.9 Dairy 89.7<br>Fruits 12.98 Veggies 37.89<br>Wheat 114.0 Corn 1123.2",
          "Iowa<br>Beef 289.8 Dairy 107.0<br>Fruits 3.24 Veggies 7.1<br>Wheat 3.1 Corn 2529.8",
          "Kansas<br>Beef 659.3 Dairy 65.45<br>Fruits 3.11 Veggies 9.32<br>Wheat 1426.5 Corn 457.3",
          "Kentucky<br>Beef 54.8 Dairy 28.27<br>Fruits 6.6 Veggies 0.0<br>Wheat 149.3 Corn 179.1",
          "Louisiana<br>Beef 19.8 Dairy 6.02<br>Fruits 17.83 Veggies 17.25<br>Wheat 78.7 Corn 91.4",
          "Maine<br>Beef 1.4 Dairy 16.18<br>Fruits 52.01 Veggies 62.9<br>Wheat 0.0 Corn 0.0",
          "Maryland<br>Beef 5.6 Dairy 24.81<br>Fruits 12.9 Veggies 20.43<br>Wheat 55.8 Corn 54.1",
          "Massachusetts<br>Beef 0.6 Dairy 5.81<br>Fruits 80.83 Veggies 21.13<br>Wheat 0.0 Corn 0.0",
          "Michigan<br>Beef 37.7 Dairy 214.82<br>Fruits 257.69 Veggies 189.96<br>Wheat 247.0 Corn 381.5",
          "Minnesota<br>Beef 112.3 Dairy 218.05<br>Fruits 7.91 Veggies 120.37<br>Wheat 538.1 Corn 1264.3",
          "Mississippi<br>Beef 12.8 Dairy 5.45<br>Fruits 17.04 Veggies 27.87<br>Wheat 102.2 Corn 110.0",
          "Missouri<br>Beef 137.2 Dairy 34.26<br>Fruits 13.18 Veggies 17.9<br>Wheat 161.7 Corn 428.8",
          "Montana<br>Beef 105.0 Dairy 6.82<br>Fruits 3.3 Veggies 45.27<br>Wheat 1198.1 Corn 5.4",
          "Nebraska<br>Beef 762.2 Dairy 30.07<br>Fruits 2.16 Veggies 53.5<br>Wheat 292.3 Corn 1735.9",
          "Nevada<br>Beef 21.8 Dairy 16.57<br>Fruits 1.19 Veggies 27.93<br>Wheat 5.4 Corn 0.0",
          "New Hampshire<br>Beef 0.6 Dairy 7.46<br>Fruits 7.98 Veggies 4.5<br>Wheat 0.0 Corn 0.0",
          "New Jersey<br>Beef 0.8 Dairy 3.37<br>Fruits 109.45 Veggies 56.54<br>Wheat 6.7 Corn 10.1",
          "New Mexico<br>Beef 117.2 Dairy 191.01<br>Fruits 101.9 Veggies 43.88<br>Wheat 13.9 Corn 11.2",
          "New York<br>Beef 22.2 Dairy 331.8<br>Fruits 202.56 Veggies 143.37<br>Wheat 29.9 Corn 106.1",
          "North Carolina<br>Beef 24.8 Dairy 24.9<br>Fruits 74.47 Veggies 150.45<br>Wheat 200.3 Corn 92.2",
          "North Dakota<br>Beef 78.5 Dairy 8.14<br>Fruits 0.25 Veggies 130.79<br>Wheat 1664.5 Corn 236.1",
          "Ohio<br>Beef 36.2 Dairy 134.57<br>Fruits 27.21 Veggies 53.53<br>Wheat 207.4 Corn 535.1",
          "Oklahoma<br>Beef 337.6 Dairy 24.35<br>Fruits 9.24 Veggies 8.9<br>Wheat 324.8 Corn 27.5",
          "Oregon<br>Beef 58.8 Dairy 63.66<br>Fruits 315.04 Veggies 126.5<br>Wheat 320.3 Corn 11.7",
          "Pennsylvania<br>Beef 50.9 Dairy 280.87<br>Fruits 89.48 Veggies 38.26<br>Wheat 41.0 Corn 112.1",
          "Rhode Island<br>Beef 0.1 Dairy 0.52<br>Fruits 2.83 Veggies 3.02<br>Wheat 0.0 Corn 0.0",
          "South Carolina<br>Beef 15.2 Dairy 7.62<br>Fruits 53.45 Veggies 42.66<br>Wheat 55.3 Corn 32.1",
          "South Dakota<br>Beef 193.5 Dairy 46.77<br>Fruits 0.8 Veggies 4.06<br>Wheat 704.5 Corn 643.6",
          "Tennessee<br>Beef 51.1 Dairy 21.18<br>Fruits 6.23 Veggies 24.67<br>Wheat 100.0 Corn 88.8",
          "Texas<br>Beef 961.0 Dairy 240.55<br>Fruits 99.9 Veggies 115.23<br>Wheat 309.7 Corn 167.2",
          "Utah<br>Beef 27.9 Dairy 48.6<br>Fruits 12.34 Veggies 6.6<br>Wheat 42.8 Corn 5.3",
          "Vermont<br>Beef 6.2 Dairy 65.98<br>Fruits 8.01 Veggies 4.05<br>Wheat 0.0 Corn 0.0",
          "Virginia<br>Beef 39.5 Dairy 47.85<br>Fruits 36.48 Veggies 27.25<br>Wheat 77.5 Corn 39.5",
          "Washington<br>Beef 59.2 Dairy 154.18<br>Fruits 1738.57 Veggies 363.79<br>Wheat 786.3 Corn 29.5",
          "West Virginia<br>Beef 12.0 Dairy 3.9<br>Fruits 11.54 Veggies 0.0<br>Wheat 1.6 Corn 3.5",
          "Wisconsin<br>Beef 107.3 Dairy 633.6<br>Fruits 133.8 Veggies 148.99<br>Wheat 96.7 Corn 460.5",
          "Wyoming<br>Beef 75.1 Dairy 2.89<br>Fruits 0.17 Veggies 10.23<br>Wheat 20.7 Corn 9.0"
         ],
         "type": "choropleth",
         "z": [
          1390.63,
          13.31,
          1463.17,
          3586.02,
          16472.88,
          1851.33,
          259.62,
          282.19,
          3764.09,
          2860.84,
          401.84,
          2078.89,
          8709.48,
          5050.23,
          11273.76,
          4589.01,
          1889.15,
          1914.23,
          278.37,
          692.75,
          248.65,
          3164.16,
          7192.33,
          2170.8,
          3933.42,
          1718,
          7114.13,
          139.89,
          73.06,
          500.4,
          751.58,
          1488.9,
          3806.05,
          3761.96,
          3979.79,
          1646.41,
          1794.57,
          1969.87,
          31.59,
          929.93,
          3770.19,
          1535.13,
          6648.22,
          453.39,
          180.14,
          1146.48,
          3894.81,
          138.89,
          3090.23,
          349.69
         ]
        }
       ],
       "layout": {
        "geo": {
         "lakecolor": "rgb(85,173,240)",
         "scope": "usa",
         "showlakes": true
        },
        "template": {
         "data": {
          "bar": [
           {
            "error_x": {
             "color": "#2a3f5f"
            },
            "error_y": {
             "color": "#2a3f5f"
            },
            "marker": {
             "line": {
              "color": "#E5ECF6",
              "width": 0.5
             }
            },
            "type": "bar"
           }
          ],
          "barpolar": [
           {
            "marker": {
             "line": {
              "color": "#E5ECF6",
              "width": 0.5
             }
            },
            "type": "barpolar"
           }
          ],
          "carpet": [
           {
            "aaxis": {
             "endlinecolor": "#2a3f5f",
             "gridcolor": "white",
             "linecolor": "white",
             "minorgridcolor": "white",
             "startlinecolor": "#2a3f5f"
            },
            "baxis": {
             "endlinecolor": "#2a3f5f",
             "gridcolor": "white",
             "linecolor": "white",
             "minorgridcolor": "white",
             "startlinecolor": "#2a3f5f"
            },
            "type": "carpet"
           }
          ],
          "choropleth": [
           {
            "colorbar": {
             "outlinewidth": 0,
             "ticks": ""
            },
            "type": "choropleth"
           }
          ],
          "contour": [
           {
            "colorbar": {
             "outlinewidth": 0,
             "ticks": ""
            },
            "colorscale": [
             [
              0,
              "#0d0887"
             ],
             [
              0.1111111111111111,
              "#46039f"
             ],
             [
              0.2222222222222222,
              "#7201a8"
             ],
             [
              0.3333333333333333,
              "#9c179e"
             ],
             [
              0.4444444444444444,
              "#bd3786"
             ],
             [
              0.5555555555555556,
              "#d8576b"
             ],
             [
              0.6666666666666666,
              "#ed7953"
             ],
             [
              0.7777777777777778,
              "#fb9f3a"
             ],
             [
              0.8888888888888888,
              "#fdca26"
             ],
             [
              1,
              "#f0f921"
             ]
            ],
            "type": "contour"
           }
          ],
          "contourcarpet": [
           {
            "colorbar": {
             "outlinewidth": 0,
             "ticks": ""
            },
            "type": "contourcarpet"
           }
          ],
          "heatmap": [
           {
            "colorbar": {
             "outlinewidth": 0,
             "ticks": ""
            },
            "colorscale": [
             [
              0,
              "#0d0887"
             ],
             [
              0.1111111111111111,
              "#46039f"
             ],
             [
              0.2222222222222222,
              "#7201a8"
             ],
             [
              0.3333333333333333,
              "#9c179e"
             ],
             [
              0.4444444444444444,
              "#bd3786"
             ],
             [
              0.5555555555555556,
              "#d8576b"
             ],
             [
              0.6666666666666666,
              "#ed7953"
             ],
             [
              0.7777777777777778,
              "#fb9f3a"
             ],
             [
              0.8888888888888888,
              "#fdca26"
             ],
             [
              1,
              "#f0f921"
             ]
            ],
            "type": "heatmap"
           }
          ],
          "heatmapgl": [
           {
            "colorbar": {
             "outlinewidth": 0,
             "ticks": ""
            },
            "colorscale": [
             [
              0,
              "#0d0887"
             ],
             [
              0.1111111111111111,
              "#46039f"
             ],
             [
              0.2222222222222222,
              "#7201a8"
             ],
             [
              0.3333333333333333,
              "#9c179e"
             ],
             [
              0.4444444444444444,
              "#bd3786"
             ],
             [
              0.5555555555555556,
              "#d8576b"
             ],
             [
              0.6666666666666666,
              "#ed7953"
             ],
             [
              0.7777777777777778,
              "#fb9f3a"
             ],
             [
              0.8888888888888888,
              "#fdca26"
             ],
             [
              1,
              "#f0f921"
             ]
            ],
            "type": "heatmapgl"
           }
          ],
          "histogram": [
           {
            "marker": {
             "colorbar": {
              "outlinewidth": 0,
              "ticks": ""
             }
            },
            "type": "histogram"
           }
          ],
          "histogram2d": [
           {
            "colorbar": {
             "outlinewidth": 0,
             "ticks": ""
            },
            "colorscale": [
             [
              0,
              "#0d0887"
             ],
             [
              0.1111111111111111,
              "#46039f"
             ],
             [
              0.2222222222222222,
              "#7201a8"
             ],
             [
              0.3333333333333333,
              "#9c179e"
             ],
             [
              0.4444444444444444,
              "#bd3786"
             ],
             [
              0.5555555555555556,
              "#d8576b"
             ],
             [
              0.6666666666666666,
              "#ed7953"
             ],
             [
              0.7777777777777778,
              "#fb9f3a"
             ],
             [
              0.8888888888888888,
              "#fdca26"
             ],
             [
              1,
              "#f0f921"
             ]
            ],
            "type": "histogram2d"
           }
          ],
          "histogram2dcontour": [
           {
            "colorbar": {
             "outlinewidth": 0,
             "ticks": ""
            },
            "colorscale": [
             [
              0,
              "#0d0887"
             ],
             [
              0.1111111111111111,
              "#46039f"
             ],
             [
              0.2222222222222222,
              "#7201a8"
             ],
             [
              0.3333333333333333,
              "#9c179e"
             ],
             [
              0.4444444444444444,
              "#bd3786"
             ],
             [
              0.5555555555555556,
              "#d8576b"
             ],
             [
              0.6666666666666666,
              "#ed7953"
             ],
             [
              0.7777777777777778,
              "#fb9f3a"
             ],
             [
              0.8888888888888888,
              "#fdca26"
             ],
             [
              1,
              "#f0f921"
             ]
            ],
            "type": "histogram2dcontour"
           }
          ],
          "mesh3d": [
           {
            "colorbar": {
             "outlinewidth": 0,
             "ticks": ""
            },
            "type": "mesh3d"
           }
          ],
          "parcoords": [
           {
            "line": {
             "colorbar": {
              "outlinewidth": 0,
              "ticks": ""
             }
            },
            "type": "parcoords"
           }
          ],
          "pie": [
           {
            "automargin": true,
            "type": "pie"
           }
          ],
          "scatter": [
           {
            "marker": {
             "colorbar": {
              "outlinewidth": 0,
              "ticks": ""
             }
            },
            "type": "scatter"
           }
          ],
          "scatter3d": [
           {
            "line": {
             "colorbar": {
              "outlinewidth": 0,
              "ticks": ""
             }
            },
            "marker": {
             "colorbar": {
              "outlinewidth": 0,
              "ticks": ""
             }
            },
            "type": "scatter3d"
           }
          ],
          "scattercarpet": [
           {
            "marker": {
             "colorbar": {
              "outlinewidth": 0,
              "ticks": ""
             }
            },
            "type": "scattercarpet"
           }
          ],
          "scattergeo": [
           {
            "marker": {
             "colorbar": {
              "outlinewidth": 0,
              "ticks": ""
             }
            },
            "type": "scattergeo"
           }
          ],
          "scattergl": [
           {
            "marker": {
             "colorbar": {
              "outlinewidth": 0,
              "ticks": ""
             }
            },
            "type": "scattergl"
           }
          ],
          "scattermapbox": [
           {
            "marker": {
             "colorbar": {
              "outlinewidth": 0,
              "ticks": ""
             }
            },
            "type": "scattermapbox"
           }
          ],
          "scatterpolar": [
           {
            "marker": {
             "colorbar": {
              "outlinewidth": 0,
              "ticks": ""
             }
            },
            "type": "scatterpolar"
           }
          ],
          "scatterpolargl": [
           {
            "marker": {
             "colorbar": {
              "outlinewidth": 0,
              "ticks": ""
             }
            },
            "type": "scatterpolargl"
           }
          ],
          "scatterternary": [
           {
            "marker": {
             "colorbar": {
              "outlinewidth": 0,
              "ticks": ""
             }
            },
            "type": "scatterternary"
           }
          ],
          "surface": [
           {
            "colorbar": {
             "outlinewidth": 0,
             "ticks": ""
            },
            "colorscale": [
             [
              0,
              "#0d0887"
             ],
             [
              0.1111111111111111,
              "#46039f"
             ],
             [
              0.2222222222222222,
              "#7201a8"
             ],
             [
              0.3333333333333333,
              "#9c179e"
             ],
             [
              0.4444444444444444,
              "#bd3786"
             ],
             [
              0.5555555555555556,
              "#d8576b"
             ],
             [
              0.6666666666666666,
              "#ed7953"
             ],
             [
              0.7777777777777778,
              "#fb9f3a"
             ],
             [
              0.8888888888888888,
              "#fdca26"
             ],
             [
              1,
              "#f0f921"
             ]
            ],
            "type": "surface"
           }
          ],
          "table": [
           {
            "cells": {
             "fill": {
              "color": "#EBF0F8"
             },
             "line": {
              "color": "white"
             }
            },
            "header": {
             "fill": {
              "color": "#C8D4E3"
             },
             "line": {
              "color": "white"
             }
            },
            "type": "table"
           }
          ]
         },
         "layout": {
          "annotationdefaults": {
           "arrowcolor": "#2a3f5f",
           "arrowhead": 0,
           "arrowwidth": 1
          },
          "coloraxis": {
           "colorbar": {
            "outlinewidth": 0,
            "ticks": ""
           }
          },
          "colorscale": {
           "diverging": [
            [
             0,
             "#8e0152"
            ],
            [
             0.1,
             "#c51b7d"
            ],
            [
             0.2,
             "#de77ae"
            ],
            [
             0.3,
             "#f1b6da"
            ],
            [
             0.4,
             "#fde0ef"
            ],
            [
             0.5,
             "#f7f7f7"
            ],
            [
             0.6,
             "#e6f5d0"
            ],
            [
             0.7,
             "#b8e186"
            ],
            [
             0.8,
             "#7fbc41"
            ],
            [
             0.9,
             "#4d9221"
            ],
            [
             1,
             "#276419"
            ]
           ],
           "sequential": [
            [
             0,
             "#0d0887"
            ],
            [
             0.1111111111111111,
             "#46039f"
            ],
            [
             0.2222222222222222,
             "#7201a8"
            ],
            [
             0.3333333333333333,
             "#9c179e"
            ],
            [
             0.4444444444444444,
             "#bd3786"
            ],
            [
             0.5555555555555556,
             "#d8576b"
            ],
            [
             0.6666666666666666,
             "#ed7953"
            ],
            [
             0.7777777777777778,
             "#fb9f3a"
            ],
            [
             0.8888888888888888,
             "#fdca26"
            ],
            [
             1,
             "#f0f921"
            ]
           ],
           "sequentialminus": [
            [
             0,
             "#0d0887"
            ],
            [
             0.1111111111111111,
             "#46039f"
            ],
            [
             0.2222222222222222,
             "#7201a8"
            ],
            [
             0.3333333333333333,
             "#9c179e"
            ],
            [
             0.4444444444444444,
             "#bd3786"
            ],
            [
             0.5555555555555556,
             "#d8576b"
            ],
            [
             0.6666666666666666,
             "#ed7953"
            ],
            [
             0.7777777777777778,
             "#fb9f3a"
            ],
            [
             0.8888888888888888,
             "#fdca26"
            ],
            [
             1,
             "#f0f921"
            ]
           ]
          },
          "colorway": [
           "#636efa",
           "#EF553B",
           "#00cc96",
           "#ab63fa",
           "#FFA15A",
           "#19d3f3",
           "#FF6692",
           "#B6E880",
           "#FF97FF",
           "#FECB52"
          ],
          "font": {
           "color": "#2a3f5f"
          },
          "geo": {
           "bgcolor": "white",
           "lakecolor": "white",
           "landcolor": "#E5ECF6",
           "showlakes": true,
           "showland": true,
           "subunitcolor": "white"
          },
          "hoverlabel": {
           "align": "left"
          },
          "hovermode": "closest",
          "mapbox": {
           "style": "light"
          },
          "paper_bgcolor": "white",
          "plot_bgcolor": "#E5ECF6",
          "polar": {
           "angularaxis": {
            "gridcolor": "white",
            "linecolor": "white",
            "ticks": ""
           },
           "bgcolor": "#E5ECF6",
           "radialaxis": {
            "gridcolor": "white",
            "linecolor": "white",
            "ticks": ""
           }
          },
          "scene": {
           "xaxis": {
            "backgroundcolor": "#E5ECF6",
            "gridcolor": "white",
            "gridwidth": 2,
            "linecolor": "white",
            "showbackground": true,
            "ticks": "",
            "zerolinecolor": "white"
           },
           "yaxis": {
            "backgroundcolor": "#E5ECF6",
            "gridcolor": "white",
            "gridwidth": 2,
            "linecolor": "white",
            "showbackground": true,
            "ticks": "",
            "zerolinecolor": "white"
           },
           "zaxis": {
            "backgroundcolor": "#E5ECF6",
            "gridcolor": "white",
            "gridwidth": 2,
            "linecolor": "white",
            "showbackground": true,
            "ticks": "",
            "zerolinecolor": "white"
           }
          },
          "shapedefaults": {
           "line": {
            "color": "#2a3f5f"
           }
          },
          "ternary": {
           "aaxis": {
            "gridcolor": "white",
            "linecolor": "white",
            "ticks": ""
           },
           "baxis": {
            "gridcolor": "white",
            "linecolor": "white",
            "ticks": ""
           },
           "bgcolor": "#E5ECF6",
           "caxis": {
            "gridcolor": "white",
            "linecolor": "white",
            "ticks": ""
           }
          },
          "title": {
           "x": 0.05
          },
          "xaxis": {
           "automargin": true,
           "gridcolor": "white",
           "linecolor": "white",
           "ticks": "",
           "title": {
            "standoff": 15
           },
           "zerolinecolor": "white",
           "zerolinewidth": 2
          },
          "yaxis": {
           "automargin": true,
           "gridcolor": "white",
           "linecolor": "white",
           "ticks": "",
           "title": {
            "standoff": 15
           },
           "zerolinecolor": "white",
           "zerolinewidth": 2
          }
         }
        },
        "title": {
         "text": "2011 US Agriculture Exports By State"
        }
       }
      },
      "text/html": [
       "<div>\n",
       "        \n",
       "        \n",
       "            <div id=\"f6355bb3-ed91-4afa-9e13-28390a25d27c\" class=\"plotly-graph-div\" style=\"height:525px; width:100%;\"></div>\n",
       "            <script type=\"text/javascript\">\n",
       "                require([\"plotly\"], function(Plotly) {\n",
       "                    window.PLOTLYENV=window.PLOTLYENV || {};\n",
       "                    \n",
       "                if (document.getElementById(\"f6355bb3-ed91-4afa-9e13-28390a25d27c\")) {\n",
       "                    Plotly.newPlot(\n",
       "                        'f6355bb3-ed91-4afa-9e13-28390a25d27c',\n",
       "                        [{\"colorbar\": {\"title\": {\"text\": \"Millions USD\"}}, \"colorscale\": [[0.0, \"rgb(255,255,229)\"], [0.125, \"rgb(255,247,188)\"], [0.25, \"rgb(254,227,145)\"], [0.375, \"rgb(254,196,79)\"], [0.5, \"rgb(254,153,41)\"], [0.625, \"rgb(236,112,20)\"], [0.75, \"rgb(204,76,2)\"], [0.875, \"rgb(153,52,4)\"], [1.0, \"rgb(102,37,6)\"]], \"locationmode\": \"USA-states\", \"locations\": [\"AL\", \"AK\", \"AZ\", \"AR\", \"CA\", \"CO\", \"CT\", \"DE\", \"FL\", \"GA\", \"HI\", \"ID\", \"IL\", \"IN\", \"IA\", \"KS\", \"KY\", \"LA\", \"ME\", \"MD\", \"MA\", \"MI\", \"MN\", \"MS\", \"MO\", \"MT\", \"NE\", \"NV\", \"NH\", \"NJ\", \"NM\", \"NY\", \"NC\", \"ND\", \"OH\", \"OK\", \"OR\", \"PA\", \"RI\", \"SC\", \"SD\", \"TN\", \"TX\", \"UT\", \"VT\", \"VA\", \"WA\", \"WV\", \"WI\", \"WY\"], \"marker\": {\"line\": {\"color\": \"rgb(255,2555,255)\", \"width\": 2}}, \"text\": [\"Alabama<br>Beef 34.4 Dairy 4.06<br>Fruits 25.11 Veggies 14.33<br>Wheat 70.0 Corn 34.9\", \"Alaska<br>Beef 0.2 Dairy 0.19<br>Fruits 0.0 Veggies 1.56<br>Wheat 0.0 Corn 0.0\", \"Arizona<br>Beef 71.3 Dairy 105.48<br>Fruits 60.27 Veggies 386.91<br>Wheat 48.7 Corn 7.3\", \"Arkansas<br>Beef 53.2 Dairy 3.53<br>Fruits 6.88 Veggies 11.45<br>Wheat 114.5 Corn 69.5\", \" California<br>Beef 228.7 Dairy 929.95<br>Fruits 8736.4 Veggies 2106.79<br>Wheat 249.3 Corn 34.6\", \"Colorado<br>Beef 261.4 Dairy 71.94<br>Fruits 17.99 Veggies 118.27<br>Wheat 400.5 Corn 183.2\", \"Connecticut<br>Beef 1.1 Dairy 9.49<br>Fruits 13.1 Veggies 11.16<br>Wheat 0.0 Corn 0.0\", \"Delaware<br>Beef 0.4 Dairy 2.3<br>Fruits 1.53 Veggies 20.03<br>Wheat 22.9 Corn 26.9\", \"Florida<br>Beef 42.6 Dairy 66.31<br>Fruits 1371.36 Veggies 450.86<br>Wheat 1.8 Corn 3.5\", \"Georgia<br>Beef 31.0 Dairy 38.38<br>Fruits 233.51 Veggies 154.77<br>Wheat 65.4 Corn 57.8\", \"Hawaii<br>Beef 4.0 Dairy 1.16<br>Fruits 55.51 Veggies 24.83<br>Wheat 0.0 Corn 0.0\", \"Idaho<br>Beef 119.8 Dairy 294.6<br>Fruits 21.64 Veggies 319.19<br>Wheat 568.2 Corn 24.0\", \"Illinois<br>Beef 53.7 Dairy 45.82<br>Fruits 12.53 Veggies 39.95<br>Wheat 223.8 Corn 2228.5\", \"Indiana<br>Beef 21.9 Dairy 89.7<br>Fruits 12.98 Veggies 37.89<br>Wheat 114.0 Corn 1123.2\", \"Iowa<br>Beef 289.8 Dairy 107.0<br>Fruits 3.24 Veggies 7.1<br>Wheat 3.1 Corn 2529.8\", \"Kansas<br>Beef 659.3 Dairy 65.45<br>Fruits 3.11 Veggies 9.32<br>Wheat 1426.5 Corn 457.3\", \"Kentucky<br>Beef 54.8 Dairy 28.27<br>Fruits 6.6 Veggies 0.0<br>Wheat 149.3 Corn 179.1\", \"Louisiana<br>Beef 19.8 Dairy 6.02<br>Fruits 17.83 Veggies 17.25<br>Wheat 78.7 Corn 91.4\", \"Maine<br>Beef 1.4 Dairy 16.18<br>Fruits 52.01 Veggies 62.9<br>Wheat 0.0 Corn 0.0\", \"Maryland<br>Beef 5.6 Dairy 24.81<br>Fruits 12.9 Veggies 20.43<br>Wheat 55.8 Corn 54.1\", \"Massachusetts<br>Beef 0.6 Dairy 5.81<br>Fruits 80.83 Veggies 21.13<br>Wheat 0.0 Corn 0.0\", \"Michigan<br>Beef 37.7 Dairy 214.82<br>Fruits 257.69 Veggies 189.96<br>Wheat 247.0 Corn 381.5\", \"Minnesota<br>Beef 112.3 Dairy 218.05<br>Fruits 7.91 Veggies 120.37<br>Wheat 538.1 Corn 1264.3\", \"Mississippi<br>Beef 12.8 Dairy 5.45<br>Fruits 17.04 Veggies 27.87<br>Wheat 102.2 Corn 110.0\", \"Missouri<br>Beef 137.2 Dairy 34.26<br>Fruits 13.18 Veggies 17.9<br>Wheat 161.7 Corn 428.8\", \"Montana<br>Beef 105.0 Dairy 6.82<br>Fruits 3.3 Veggies 45.27<br>Wheat 1198.1 Corn 5.4\", \"Nebraska<br>Beef 762.2 Dairy 30.07<br>Fruits 2.16 Veggies 53.5<br>Wheat 292.3 Corn 1735.9\", \"Nevada<br>Beef 21.8 Dairy 16.57<br>Fruits 1.19 Veggies 27.93<br>Wheat 5.4 Corn 0.0\", \"New Hampshire<br>Beef 0.6 Dairy 7.46<br>Fruits 7.98 Veggies 4.5<br>Wheat 0.0 Corn 0.0\", \"New Jersey<br>Beef 0.8 Dairy 3.37<br>Fruits 109.45 Veggies 56.54<br>Wheat 6.7 Corn 10.1\", \"New Mexico<br>Beef 117.2 Dairy 191.01<br>Fruits 101.9 Veggies 43.88<br>Wheat 13.9 Corn 11.2\", \"New York<br>Beef 22.2 Dairy 331.8<br>Fruits 202.56 Veggies 143.37<br>Wheat 29.9 Corn 106.1\", \"North Carolina<br>Beef 24.8 Dairy 24.9<br>Fruits 74.47 Veggies 150.45<br>Wheat 200.3 Corn 92.2\", \"North Dakota<br>Beef 78.5 Dairy 8.14<br>Fruits 0.25 Veggies 130.79<br>Wheat 1664.5 Corn 236.1\", \"Ohio<br>Beef 36.2 Dairy 134.57<br>Fruits 27.21 Veggies 53.53<br>Wheat 207.4 Corn 535.1\", \"Oklahoma<br>Beef 337.6 Dairy 24.35<br>Fruits 9.24 Veggies 8.9<br>Wheat 324.8 Corn 27.5\", \"Oregon<br>Beef 58.8 Dairy 63.66<br>Fruits 315.04 Veggies 126.5<br>Wheat 320.3 Corn 11.7\", \"Pennsylvania<br>Beef 50.9 Dairy 280.87<br>Fruits 89.48 Veggies 38.26<br>Wheat 41.0 Corn 112.1\", \"Rhode Island<br>Beef 0.1 Dairy 0.52<br>Fruits 2.83 Veggies 3.02<br>Wheat 0.0 Corn 0.0\", \"South Carolina<br>Beef 15.2 Dairy 7.62<br>Fruits 53.45 Veggies 42.66<br>Wheat 55.3 Corn 32.1\", \"South Dakota<br>Beef 193.5 Dairy 46.77<br>Fruits 0.8 Veggies 4.06<br>Wheat 704.5 Corn 643.6\", \"Tennessee<br>Beef 51.1 Dairy 21.18<br>Fruits 6.23 Veggies 24.67<br>Wheat 100.0 Corn 88.8\", \"Texas<br>Beef 961.0 Dairy 240.55<br>Fruits 99.9 Veggies 115.23<br>Wheat 309.7 Corn 167.2\", \"Utah<br>Beef 27.9 Dairy 48.6<br>Fruits 12.34 Veggies 6.6<br>Wheat 42.8 Corn 5.3\", \"Vermont<br>Beef 6.2 Dairy 65.98<br>Fruits 8.01 Veggies 4.05<br>Wheat 0.0 Corn 0.0\", \"Virginia<br>Beef 39.5 Dairy 47.85<br>Fruits 36.48 Veggies 27.25<br>Wheat 77.5 Corn 39.5\", \"Washington<br>Beef 59.2 Dairy 154.18<br>Fruits 1738.57 Veggies 363.79<br>Wheat 786.3 Corn 29.5\", \"West Virginia<br>Beef 12.0 Dairy 3.9<br>Fruits 11.54 Veggies 0.0<br>Wheat 1.6 Corn 3.5\", \"Wisconsin<br>Beef 107.3 Dairy 633.6<br>Fruits 133.8 Veggies 148.99<br>Wheat 96.7 Corn 460.5\", \"Wyoming<br>Beef 75.1 Dairy 2.89<br>Fruits 0.17 Veggies 10.23<br>Wheat 20.7 Corn 9.0\"], \"type\": \"choropleth\", \"z\": [1390.63, 13.31, 1463.17, 3586.02, 16472.88, 1851.33, 259.62, 282.19, 3764.09, 2860.84, 401.84, 2078.89, 8709.48, 5050.23, 11273.76, 4589.01, 1889.15, 1914.23, 278.37, 692.75, 248.65, 3164.16, 7192.33, 2170.8, 3933.42, 1718.0, 7114.13, 139.89, 73.06, 500.4, 751.58, 1488.9, 3806.05, 3761.96, 3979.79, 1646.41, 1794.57, 1969.87, 31.59, 929.93, 3770.19, 1535.13, 6648.22, 453.39, 180.14, 1146.48, 3894.81, 138.89, 3090.23, 349.69]}],\n",
       "                        {\"geo\": {\"lakecolor\": \"rgb(85,173,240)\", \"scope\": \"usa\", \"showlakes\": true}, \"template\": {\"data\": {\"bar\": [{\"error_x\": {\"color\": \"#2a3f5f\"}, \"error_y\": {\"color\": \"#2a3f5f\"}, \"marker\": {\"line\": {\"color\": \"#E5ECF6\", \"width\": 0.5}}, \"type\": \"bar\"}], \"barpolar\": [{\"marker\": {\"line\": {\"color\": \"#E5ECF6\", \"width\": 0.5}}, \"type\": \"barpolar\"}], \"carpet\": [{\"aaxis\": {\"endlinecolor\": \"#2a3f5f\", \"gridcolor\": \"white\", \"linecolor\": \"white\", \"minorgridcolor\": \"white\", \"startlinecolor\": \"#2a3f5f\"}, \"baxis\": {\"endlinecolor\": \"#2a3f5f\", \"gridcolor\": \"white\", \"linecolor\": \"white\", \"minorgridcolor\": \"white\", \"startlinecolor\": \"#2a3f5f\"}, \"type\": \"carpet\"}], \"choropleth\": [{\"colorbar\": {\"outlinewidth\": 0, \"ticks\": \"\"}, \"type\": \"choropleth\"}], \"contour\": [{\"colorbar\": {\"outlinewidth\": 0, \"ticks\": \"\"}, \"colorscale\": [[0.0, \"#0d0887\"], [0.1111111111111111, \"#46039f\"], [0.2222222222222222, \"#7201a8\"], [0.3333333333333333, \"#9c179e\"], [0.4444444444444444, \"#bd3786\"], [0.5555555555555556, \"#d8576b\"], [0.6666666666666666, \"#ed7953\"], [0.7777777777777778, \"#fb9f3a\"], [0.8888888888888888, \"#fdca26\"], [1.0, \"#f0f921\"]], \"type\": \"contour\"}], \"contourcarpet\": [{\"colorbar\": {\"outlinewidth\": 0, \"ticks\": \"\"}, \"type\": \"contourcarpet\"}], \"heatmap\": [{\"colorbar\": {\"outlinewidth\": 0, \"ticks\": \"\"}, \"colorscale\": [[0.0, \"#0d0887\"], [0.1111111111111111, \"#46039f\"], [0.2222222222222222, \"#7201a8\"], [0.3333333333333333, \"#9c179e\"], [0.4444444444444444, \"#bd3786\"], [0.5555555555555556, \"#d8576b\"], [0.6666666666666666, \"#ed7953\"], [0.7777777777777778, \"#fb9f3a\"], [0.8888888888888888, \"#fdca26\"], [1.0, \"#f0f921\"]], \"type\": \"heatmap\"}], \"heatmapgl\": [{\"colorbar\": {\"outlinewidth\": 0, \"ticks\": \"\"}, \"colorscale\": [[0.0, \"#0d0887\"], [0.1111111111111111, \"#46039f\"], [0.2222222222222222, \"#7201a8\"], [0.3333333333333333, \"#9c179e\"], [0.4444444444444444, \"#bd3786\"], [0.5555555555555556, \"#d8576b\"], [0.6666666666666666, \"#ed7953\"], [0.7777777777777778, \"#fb9f3a\"], [0.8888888888888888, \"#fdca26\"], [1.0, \"#f0f921\"]], \"type\": \"heatmapgl\"}], \"histogram\": [{\"marker\": {\"colorbar\": {\"outlinewidth\": 0, \"ticks\": \"\"}}, \"type\": \"histogram\"}], \"histogram2d\": [{\"colorbar\": {\"outlinewidth\": 0, \"ticks\": \"\"}, \"colorscale\": [[0.0, \"#0d0887\"], [0.1111111111111111, \"#46039f\"], [0.2222222222222222, \"#7201a8\"], [0.3333333333333333, \"#9c179e\"], [0.4444444444444444, \"#bd3786\"], [0.5555555555555556, \"#d8576b\"], [0.6666666666666666, \"#ed7953\"], [0.7777777777777778, \"#fb9f3a\"], [0.8888888888888888, \"#fdca26\"], [1.0, \"#f0f921\"]], \"type\": \"histogram2d\"}], \"histogram2dcontour\": [{\"colorbar\": {\"outlinewidth\": 0, \"ticks\": \"\"}, \"colorscale\": [[0.0, \"#0d0887\"], [0.1111111111111111, \"#46039f\"], [0.2222222222222222, \"#7201a8\"], [0.3333333333333333, \"#9c179e\"], [0.4444444444444444, \"#bd3786\"], [0.5555555555555556, \"#d8576b\"], [0.6666666666666666, \"#ed7953\"], [0.7777777777777778, \"#fb9f3a\"], [0.8888888888888888, \"#fdca26\"], [1.0, \"#f0f921\"]], \"type\": \"histogram2dcontour\"}], \"mesh3d\": [{\"colorbar\": {\"outlinewidth\": 0, \"ticks\": \"\"}, \"type\": \"mesh3d\"}], \"parcoords\": [{\"line\": {\"colorbar\": {\"outlinewidth\": 0, \"ticks\": \"\"}}, \"type\": \"parcoords\"}], \"pie\": [{\"automargin\": true, \"type\": \"pie\"}], \"scatter\": [{\"marker\": {\"colorbar\": {\"outlinewidth\": 0, \"ticks\": \"\"}}, \"type\": \"scatter\"}], \"scatter3d\": [{\"line\": {\"colorbar\": {\"outlinewidth\": 0, \"ticks\": \"\"}}, \"marker\": {\"colorbar\": {\"outlinewidth\": 0, \"ticks\": \"\"}}, \"type\": \"scatter3d\"}], \"scattercarpet\": [{\"marker\": {\"colorbar\": {\"outlinewidth\": 0, \"ticks\": \"\"}}, \"type\": \"scattercarpet\"}], \"scattergeo\": [{\"marker\": {\"colorbar\": {\"outlinewidth\": 0, \"ticks\": \"\"}}, \"type\": \"scattergeo\"}], \"scattergl\": [{\"marker\": {\"colorbar\": {\"outlinewidth\": 0, \"ticks\": \"\"}}, \"type\": \"scattergl\"}], \"scattermapbox\": [{\"marker\": {\"colorbar\": {\"outlinewidth\": 0, \"ticks\": \"\"}}, \"type\": \"scattermapbox\"}], \"scatterpolar\": [{\"marker\": {\"colorbar\": {\"outlinewidth\": 0, \"ticks\": \"\"}}, \"type\": \"scatterpolar\"}], \"scatterpolargl\": [{\"marker\": {\"colorbar\": {\"outlinewidth\": 0, \"ticks\": \"\"}}, \"type\": \"scatterpolargl\"}], \"scatterternary\": [{\"marker\": {\"colorbar\": {\"outlinewidth\": 0, \"ticks\": \"\"}}, \"type\": \"scatterternary\"}], \"surface\": [{\"colorbar\": {\"outlinewidth\": 0, \"ticks\": \"\"}, \"colorscale\": [[0.0, \"#0d0887\"], [0.1111111111111111, \"#46039f\"], [0.2222222222222222, \"#7201a8\"], [0.3333333333333333, \"#9c179e\"], [0.4444444444444444, \"#bd3786\"], [0.5555555555555556, \"#d8576b\"], [0.6666666666666666, \"#ed7953\"], [0.7777777777777778, \"#fb9f3a\"], [0.8888888888888888, \"#fdca26\"], [1.0, \"#f0f921\"]], \"type\": \"surface\"}], \"table\": [{\"cells\": {\"fill\": {\"color\": \"#EBF0F8\"}, \"line\": {\"color\": \"white\"}}, \"header\": {\"fill\": {\"color\": \"#C8D4E3\"}, \"line\": {\"color\": \"white\"}}, \"type\": \"table\"}]}, \"layout\": {\"annotationdefaults\": {\"arrowcolor\": \"#2a3f5f\", \"arrowhead\": 0, \"arrowwidth\": 1}, \"coloraxis\": {\"colorbar\": {\"outlinewidth\": 0, \"ticks\": \"\"}}, \"colorscale\": {\"diverging\": [[0, \"#8e0152\"], [0.1, \"#c51b7d\"], [0.2, \"#de77ae\"], [0.3, \"#f1b6da\"], [0.4, \"#fde0ef\"], [0.5, \"#f7f7f7\"], [0.6, \"#e6f5d0\"], [0.7, \"#b8e186\"], [0.8, \"#7fbc41\"], [0.9, \"#4d9221\"], [1, \"#276419\"]], \"sequential\": [[0.0, \"#0d0887\"], [0.1111111111111111, \"#46039f\"], [0.2222222222222222, \"#7201a8\"], [0.3333333333333333, \"#9c179e\"], [0.4444444444444444, \"#bd3786\"], [0.5555555555555556, \"#d8576b\"], [0.6666666666666666, \"#ed7953\"], [0.7777777777777778, \"#fb9f3a\"], [0.8888888888888888, \"#fdca26\"], [1.0, \"#f0f921\"]], \"sequentialminus\": [[0.0, \"#0d0887\"], [0.1111111111111111, \"#46039f\"], [0.2222222222222222, \"#7201a8\"], [0.3333333333333333, \"#9c179e\"], [0.4444444444444444, \"#bd3786\"], [0.5555555555555556, \"#d8576b\"], [0.6666666666666666, \"#ed7953\"], [0.7777777777777778, \"#fb9f3a\"], [0.8888888888888888, \"#fdca26\"], [1.0, \"#f0f921\"]]}, \"colorway\": [\"#636efa\", \"#EF553B\", \"#00cc96\", \"#ab63fa\", \"#FFA15A\", \"#19d3f3\", \"#FF6692\", \"#B6E880\", \"#FF97FF\", \"#FECB52\"], \"font\": {\"color\": \"#2a3f5f\"}, \"geo\": {\"bgcolor\": \"white\", \"lakecolor\": \"white\", \"landcolor\": \"#E5ECF6\", \"showlakes\": true, \"showland\": true, \"subunitcolor\": \"white\"}, \"hoverlabel\": {\"align\": \"left\"}, \"hovermode\": \"closest\", \"mapbox\": {\"style\": \"light\"}, \"paper_bgcolor\": \"white\", \"plot_bgcolor\": \"#E5ECF6\", \"polar\": {\"angularaxis\": {\"gridcolor\": \"white\", \"linecolor\": \"white\", \"ticks\": \"\"}, \"bgcolor\": \"#E5ECF6\", \"radialaxis\": {\"gridcolor\": \"white\", \"linecolor\": \"white\", \"ticks\": \"\"}}, \"scene\": {\"xaxis\": {\"backgroundcolor\": \"#E5ECF6\", \"gridcolor\": \"white\", \"gridwidth\": 2, \"linecolor\": \"white\", \"showbackground\": true, \"ticks\": \"\", \"zerolinecolor\": \"white\"}, \"yaxis\": {\"backgroundcolor\": \"#E5ECF6\", \"gridcolor\": \"white\", \"gridwidth\": 2, \"linecolor\": \"white\", \"showbackground\": true, \"ticks\": \"\", \"zerolinecolor\": \"white\"}, \"zaxis\": {\"backgroundcolor\": \"#E5ECF6\", \"gridcolor\": \"white\", \"gridwidth\": 2, \"linecolor\": \"white\", \"showbackground\": true, \"ticks\": \"\", \"zerolinecolor\": \"white\"}}, \"shapedefaults\": {\"line\": {\"color\": \"#2a3f5f\"}}, \"ternary\": {\"aaxis\": {\"gridcolor\": \"white\", \"linecolor\": \"white\", \"ticks\": \"\"}, \"baxis\": {\"gridcolor\": \"white\", \"linecolor\": \"white\", \"ticks\": \"\"}, \"bgcolor\": \"#E5ECF6\", \"caxis\": {\"gridcolor\": \"white\", \"linecolor\": \"white\", \"ticks\": \"\"}}, \"title\": {\"x\": 0.05}, \"xaxis\": {\"automargin\": true, \"gridcolor\": \"white\", \"linecolor\": \"white\", \"ticks\": \"\", \"title\": {\"standoff\": 15}, \"zerolinecolor\": \"white\", \"zerolinewidth\": 2}, \"yaxis\": {\"automargin\": true, \"gridcolor\": \"white\", \"linecolor\": \"white\", \"ticks\": \"\", \"title\": {\"standoff\": 15}, \"zerolinecolor\": \"white\", \"zerolinewidth\": 2}}}, \"title\": {\"text\": \"2011 US Agriculture Exports By State\"}},\n",
       "                        {\"responsive\": true}\n",
       "                    ).then(function(){\n",
       "                            \n",
       "var gd = document.getElementById('f6355bb3-ed91-4afa-9e13-28390a25d27c');\n",
       "var x = new MutationObserver(function (mutations, observer) {{\n",
       "        var display = window.getComputedStyle(gd).display;\n",
       "        if (!display || display === 'none') {{\n",
       "            console.log([gd, 'removed!']);\n",
       "            Plotly.purge(gd);\n",
       "            observer.disconnect();\n",
       "        }}\n",
       "}});\n",
       "\n",
       "// Listen for the removal of the full notebook cells\n",
       "var notebookContainer = gd.closest('#notebook-container');\n",
       "if (notebookContainer) {{\n",
       "    x.observe(notebookContainer, {childList: true});\n",
       "}}\n",
       "\n",
       "// Listen for the clearing of the current output cell\n",
       "var outputEl = gd.closest('.output');\n",
       "if (outputEl) {{\n",
       "    x.observe(outputEl, {childList: true});\n",
       "}}\n",
       "\n",
       "                        })\n",
       "                };\n",
       "                });\n",
       "            </script>\n",
       "        </div>"
      ]
     },
     "metadata": {},
     "output_type": "display_data"
    }
   ],
   "source": [
    "iplot(choromap2)"
   ]
  },
  {
   "cell_type": "code",
   "execution_count": 99,
   "metadata": {},
   "outputs": [],
   "source": [
    "df=pd.read_csv(\"2014_World_GDP\")"
   ]
  },
  {
   "cell_type": "code",
   "execution_count": 100,
   "metadata": {},
   "outputs": [
    {
     "data": {
      "text/html": [
       "<div>\n",
       "<style scoped>\n",
       "    .dataframe tbody tr th:only-of-type {\n",
       "        vertical-align: middle;\n",
       "    }\n",
       "\n",
       "    .dataframe tbody tr th {\n",
       "        vertical-align: top;\n",
       "    }\n",
       "\n",
       "    .dataframe thead th {\n",
       "        text-align: right;\n",
       "    }\n",
       "</style>\n",
       "<table border=\"1\" class=\"dataframe\">\n",
       "  <thead>\n",
       "    <tr style=\"text-align: right;\">\n",
       "      <th></th>\n",
       "      <th>COUNTRY</th>\n",
       "      <th>GDP (BILLIONS)</th>\n",
       "      <th>CODE</th>\n",
       "    </tr>\n",
       "  </thead>\n",
       "  <tbody>\n",
       "    <tr>\n",
       "      <th>0</th>\n",
       "      <td>Afghanistan</td>\n",
       "      <td>21.71</td>\n",
       "      <td>AFG</td>\n",
       "    </tr>\n",
       "    <tr>\n",
       "      <th>1</th>\n",
       "      <td>Albania</td>\n",
       "      <td>13.40</td>\n",
       "      <td>ALB</td>\n",
       "    </tr>\n",
       "    <tr>\n",
       "      <th>2</th>\n",
       "      <td>Algeria</td>\n",
       "      <td>227.80</td>\n",
       "      <td>DZA</td>\n",
       "    </tr>\n",
       "    <tr>\n",
       "      <th>3</th>\n",
       "      <td>American Samoa</td>\n",
       "      <td>0.75</td>\n",
       "      <td>ASM</td>\n",
       "    </tr>\n",
       "    <tr>\n",
       "      <th>4</th>\n",
       "      <td>Andorra</td>\n",
       "      <td>4.80</td>\n",
       "      <td>AND</td>\n",
       "    </tr>\n",
       "  </tbody>\n",
       "</table>\n",
       "</div>"
      ],
      "text/plain": [
       "          COUNTRY  GDP (BILLIONS) CODE\n",
       "0     Afghanistan           21.71  AFG\n",
       "1         Albania           13.40  ALB\n",
       "2         Algeria          227.80  DZA\n",
       "3  American Samoa            0.75  ASM\n",
       "4         Andorra            4.80  AND"
      ]
     },
     "execution_count": 100,
     "metadata": {},
     "output_type": "execute_result"
    }
   ],
   "source": [
    "df.head()"
   ]
  },
  {
   "cell_type": "code",
   "execution_count": 110,
   "metadata": {},
   "outputs": [],
   "source": [
    "data = dict(type=\"choropleth\",\n",
    "           locations=df['CODE'],\n",
    "           z=df['GDP (BILLIONS)'],\n",
    "           text=df['COUNTRY'],\n",
    "           colorbar = {'title': 'GDP in Billions USD'})"
   ]
  },
  {
   "cell_type": "code",
   "execution_count": 111,
   "metadata": {},
   "outputs": [],
   "source": [
    "layout = dict(title=\"2014 Global GDP\",\n",
    "             geo = dict(showframe=False, showlakes=True,\n",
    "                       projection = {'type':'mercator'}))"
   ]
  },
  {
   "cell_type": "code",
   "execution_count": 112,
   "metadata": {},
   "outputs": [],
   "source": [
    "choromap3 = go.Figure(data=[data],layout=layout)"
   ]
  },
  {
   "cell_type": "code",
   "execution_count": 113,
   "metadata": {},
   "outputs": [
    {
     "data": {
      "application/vnd.plotly.v1+json": {
       "config": {
        "linkText": "Export to plot.ly",
        "plotlyServerURL": "https://plot.ly",
        "showLink": false
       },
       "data": [
        {
         "colorbar": {
          "title": {
           "text": "GDP in Billions USD"
          }
         },
         "locations": [
          "AFG",
          "ALB",
          "DZA",
          "ASM",
          "AND",
          "AGO",
          "AIA",
          "ATG",
          "ARG",
          "ARM",
          "ABW",
          "AUS",
          "AUT",
          "AZE",
          "BHM",
          "BHR",
          "BGD",
          "BRB",
          "BLR",
          "BEL",
          "BLZ",
          "BEN",
          "BMU",
          "BTN",
          "BOL",
          "BIH",
          "BWA",
          "BRA",
          "VGB",
          "BRN",
          "BGR",
          "BFA",
          "MMR",
          "BDI",
          "CPV",
          "KHM",
          "CMR",
          "CAN",
          "CYM",
          "CAF",
          "TCD",
          "CHL",
          "CHN",
          "COL",
          "COM",
          "COD",
          "COG",
          "COK",
          "CRI",
          "CIV",
          "HRV",
          "CUB",
          "CUW",
          "CYP",
          "CZE",
          "DNK",
          "DJI",
          "DMA",
          "DOM",
          "ECU",
          "EGY",
          "SLV",
          "GNQ",
          "ERI",
          "EST",
          "ETH",
          "FLK",
          "FRO",
          "FJI",
          "FIN",
          "FRA",
          "PYF",
          "GAB",
          "GMB",
          "GEO",
          "DEU",
          "GHA",
          "GIB",
          "GRC",
          "GRL",
          "GRD",
          "GUM",
          "GTM",
          "GGY",
          "GNB",
          "GIN",
          "GUY",
          "HTI",
          "HND",
          "HKG",
          "HUN",
          "ISL",
          "IND",
          "IDN",
          "IRN",
          "IRQ",
          "IRL",
          "IMN",
          "ISR",
          "ITA",
          "JAM",
          "JPN",
          "JEY",
          "JOR",
          "KAZ",
          "KEN",
          "KIR",
          "KOR",
          "PRK",
          "KSV",
          "KWT",
          "KGZ",
          "LAO",
          "LVA",
          "LBN",
          "LSO",
          "LBR",
          "LBY",
          "LIE",
          "LTU",
          "LUX",
          "MAC",
          "MKD",
          "MDG",
          "MWI",
          "MYS",
          "MDV",
          "MLI",
          "MLT",
          "MHL",
          "MRT",
          "MUS",
          "MEX",
          "FSM",
          "MDA",
          "MCO",
          "MNG",
          "MNE",
          "MAR",
          "MOZ",
          "NAM",
          "NPL",
          "NLD",
          "NCL",
          "NZL",
          "NIC",
          "NGA",
          "NER",
          "NIU",
          "MNP",
          "NOR",
          "OMN",
          "PAK",
          "PLW",
          "PAN",
          "PNG",
          "PRY",
          "PER",
          "PHL",
          "POL",
          "PRT",
          "PRI",
          "QAT",
          "ROU",
          "RUS",
          "RWA",
          "KNA",
          "LCA",
          "MAF",
          "SPM",
          "VCT",
          "WSM",
          "SMR",
          "STP",
          "SAU",
          "SEN",
          "SRB",
          "SYC",
          "SLE",
          "SGP",
          "SXM",
          "SVK",
          "SVN",
          "SLB",
          "SOM",
          "ZAF",
          "SSD",
          "ESP",
          "LKA",
          "SDN",
          "SUR",
          "SWZ",
          "SWE",
          "CHE",
          "SYR",
          "TWN",
          "TJK",
          "TZA",
          "THA",
          "TLS",
          "TGO",
          "TON",
          "TTO",
          "TUN",
          "TUR",
          "TKM",
          "TUV",
          "UGA",
          "UKR",
          "ARE",
          "GBR",
          "USA",
          "URY",
          "UZB",
          "VUT",
          "VEN",
          "VNM",
          "VGB",
          "WBG",
          "YEM",
          "ZMB",
          "ZWE"
         ],
         "text": [
          "Afghanistan",
          "Albania",
          "Algeria",
          "American Samoa",
          "Andorra",
          "Angola",
          "Anguilla",
          "Antigua and Barbuda",
          "Argentina",
          "Armenia",
          "Aruba",
          "Australia",
          "Austria",
          "Azerbaijan",
          "Bahamas, The",
          "Bahrain",
          "Bangladesh",
          "Barbados",
          "Belarus",
          "Belgium",
          "Belize",
          "Benin",
          "Bermuda",
          "Bhutan",
          "Bolivia",
          "Bosnia and Herzegovina",
          "Botswana",
          "Brazil",
          "British Virgin Islands",
          "Brunei",
          "Bulgaria",
          "Burkina Faso",
          "Burma",
          "Burundi",
          "Cabo Verde",
          "Cambodia",
          "Cameroon",
          "Canada",
          "Cayman Islands",
          "Central African Republic",
          "Chad",
          "Chile",
          "China",
          "Colombia",
          "Comoros",
          "Congo, Democratic Republic of the",
          "Congo, Republic of the",
          "Cook Islands",
          "Costa Rica",
          "Cote d'Ivoire",
          "Croatia",
          "Cuba",
          "Curacao",
          "Cyprus",
          "Czech Republic",
          "Denmark",
          "Djibouti",
          "Dominica",
          "Dominican Republic",
          "Ecuador",
          "Egypt",
          "El Salvador",
          "Equatorial Guinea",
          "Eritrea",
          "Estonia",
          "Ethiopia",
          "Falkland Islands (Islas Malvinas)",
          "Faroe Islands",
          "Fiji",
          "Finland",
          "France",
          "French Polynesia",
          "Gabon",
          "Gambia, The",
          "Georgia",
          "Germany",
          "Ghana",
          "Gibraltar",
          "Greece",
          "Greenland",
          "Grenada",
          "Guam",
          "Guatemala",
          "Guernsey",
          "Guinea-Bissau",
          "Guinea",
          "Guyana",
          "Haiti",
          "Honduras",
          "Hong Kong",
          "Hungary",
          "Iceland",
          "India",
          "Indonesia",
          "Iran",
          "Iraq",
          "Ireland",
          "Isle of Man",
          "Israel",
          "Italy",
          "Jamaica",
          "Japan",
          "Jersey",
          "Jordan",
          "Kazakhstan",
          "Kenya",
          "Kiribati",
          "Korea, North",
          "Korea, South",
          "Kosovo",
          "Kuwait",
          "Kyrgyzstan",
          "Laos",
          "Latvia",
          "Lebanon",
          "Lesotho",
          "Liberia",
          "Libya",
          "Liechtenstein",
          "Lithuania",
          "Luxembourg",
          "Macau",
          "Macedonia",
          "Madagascar",
          "Malawi",
          "Malaysia",
          "Maldives",
          "Mali",
          "Malta",
          "Marshall Islands",
          "Mauritania",
          "Mauritius",
          "Mexico",
          "Micronesia, Federated States of",
          "Moldova",
          "Monaco",
          "Mongolia",
          "Montenegro",
          "Morocco",
          "Mozambique",
          "Namibia",
          "Nepal",
          "Netherlands",
          "New Caledonia",
          "New Zealand",
          "Nicaragua",
          "Nigeria",
          "Niger",
          "Niue",
          "Northern Mariana Islands",
          "Norway",
          "Oman",
          "Pakistan",
          "Palau",
          "Panama",
          "Papua New Guinea",
          "Paraguay",
          "Peru",
          "Philippines",
          "Poland",
          "Portugal",
          "Puerto Rico",
          "Qatar",
          "Romania",
          "Russia",
          "Rwanda",
          "Saint Kitts and Nevis",
          "Saint Lucia",
          "Saint Martin",
          "Saint Pierre and Miquelon",
          "Saint Vincent and the Grenadines",
          "Samoa",
          "San Marino",
          "Sao Tome and Principe",
          "Saudi Arabia",
          "Senegal",
          "Serbia",
          "Seychelles",
          "Sierra Leone",
          "Singapore",
          "Sint Maarten",
          "Slovakia",
          "Slovenia",
          "Solomon Islands",
          "Somalia",
          "South Africa",
          "South Sudan",
          "Spain",
          "Sri Lanka",
          "Sudan",
          "Suriname",
          "Swaziland",
          "Sweden",
          "Switzerland",
          "Syria",
          "Taiwan",
          "Tajikistan",
          "Tanzania",
          "Thailand",
          "Timor-Leste",
          "Togo",
          "Tonga",
          "Trinidad and Tobago",
          "Tunisia",
          "Turkey",
          "Turkmenistan",
          "Tuvalu",
          "Uganda",
          "Ukraine",
          "United Arab Emirates",
          "United Kingdom",
          "United States",
          "Uruguay",
          "Uzbekistan",
          "Vanuatu",
          "Venezuela",
          "Vietnam",
          "Virgin Islands",
          "West Bank",
          "Yemen",
          "Zambia",
          "Zimbabwe"
         ],
         "type": "choropleth",
         "z": [
          21.71,
          13.4,
          227.8,
          0.75,
          4.8,
          131.4,
          0.18,
          1.24,
          536.2,
          10.88,
          2.52,
          1483,
          436.1,
          77.91,
          8.65,
          34.05,
          186.6,
          4.28,
          75.25,
          527.8,
          1.67,
          9.24,
          5.2,
          2.09,
          34.08,
          19.55,
          16.3,
          2244,
          1.1,
          17.43,
          55.08,
          13.38,
          65.29,
          3.04,
          1.98,
          16.9,
          32.16,
          1794,
          2.25,
          1.73,
          15.84,
          264.1,
          10360,
          400.1,
          0.72,
          32.67,
          14.11,
          0.18,
          50.46,
          33.96,
          57.18,
          77.15,
          5.6,
          21.34,
          205.6,
          347.2,
          1.58,
          0.51,
          64.05,
          100.5,
          284.9,
          25.14,
          15.4,
          3.87,
          26.36,
          49.86,
          0.16,
          2.32,
          4.17,
          276.3,
          2902,
          7.15,
          20.68,
          0.92,
          16.13,
          3820,
          35.48,
          1.85,
          246.4,
          2.16,
          0.84,
          4.6,
          58.3,
          2.74,
          1.04,
          6.77,
          3.14,
          8.92,
          19.37,
          292.7,
          129.7,
          16.2,
          2048,
          856.1,
          402.7,
          232.2,
          245.8,
          4.08,
          305,
          2129,
          13.92,
          4770,
          5.77,
          36.55,
          225.6,
          62.72,
          0.16,
          28,
          1410,
          5.99,
          179.3,
          7.65,
          11.71,
          32.82,
          47.5,
          2.46,
          2.07,
          49.34,
          5.11,
          48.72,
          63.93,
          51.68,
          10.92,
          11.19,
          4.41,
          336.9,
          2.41,
          12.04,
          10.57,
          0.18,
          4.29,
          12.72,
          1296,
          0.34,
          7.74,
          6.06,
          11.73,
          4.66,
          112.6,
          16.59,
          13.11,
          19.64,
          880.4,
          11.1,
          201,
          11.85,
          594.3,
          8.29,
          0.01,
          1.23,
          511.6,
          80.54,
          237.5,
          0.65,
          44.69,
          16.1,
          31.3,
          208.2,
          284.6,
          552.2,
          228.2,
          93.52,
          212,
          199,
          2057,
          8,
          0.81,
          1.35,
          0.56,
          0.22,
          0.75,
          0.83,
          1.86,
          0.36,
          777.9,
          15.88,
          42.65,
          1.47,
          5.41,
          307.9,
          304.1,
          99.75,
          49.93,
          1.16,
          2.37,
          341.2,
          11.89,
          1400,
          71.57,
          70.03,
          5.27,
          3.84,
          559.1,
          679,
          64.7,
          529.5,
          9.16,
          36.62,
          373.8,
          4.51,
          4.84,
          0.49,
          29.63,
          49.12,
          813.3,
          43.5,
          0.04,
          26.09,
          134.9,
          416.4,
          2848,
          17420,
          55.6,
          63.08,
          0.82,
          209.2,
          187.8,
          5.08,
          6.64,
          45.45,
          25.61,
          13.74
         ]
        }
       ],
       "layout": {
        "geo": {
         "projection": {
          "type": "mercator"
         },
         "showframe": false,
         "showlakes": true
        },
        "template": {
         "data": {
          "bar": [
           {
            "error_x": {
             "color": "#2a3f5f"
            },
            "error_y": {
             "color": "#2a3f5f"
            },
            "marker": {
             "line": {
              "color": "#E5ECF6",
              "width": 0.5
             }
            },
            "type": "bar"
           }
          ],
          "barpolar": [
           {
            "marker": {
             "line": {
              "color": "#E5ECF6",
              "width": 0.5
             }
            },
            "type": "barpolar"
           }
          ],
          "carpet": [
           {
            "aaxis": {
             "endlinecolor": "#2a3f5f",
             "gridcolor": "white",
             "linecolor": "white",
             "minorgridcolor": "white",
             "startlinecolor": "#2a3f5f"
            },
            "baxis": {
             "endlinecolor": "#2a3f5f",
             "gridcolor": "white",
             "linecolor": "white",
             "minorgridcolor": "white",
             "startlinecolor": "#2a3f5f"
            },
            "type": "carpet"
           }
          ],
          "choropleth": [
           {
            "colorbar": {
             "outlinewidth": 0,
             "ticks": ""
            },
            "type": "choropleth"
           }
          ],
          "contour": [
           {
            "colorbar": {
             "outlinewidth": 0,
             "ticks": ""
            },
            "colorscale": [
             [
              0,
              "#0d0887"
             ],
             [
              0.1111111111111111,
              "#46039f"
             ],
             [
              0.2222222222222222,
              "#7201a8"
             ],
             [
              0.3333333333333333,
              "#9c179e"
             ],
             [
              0.4444444444444444,
              "#bd3786"
             ],
             [
              0.5555555555555556,
              "#d8576b"
             ],
             [
              0.6666666666666666,
              "#ed7953"
             ],
             [
              0.7777777777777778,
              "#fb9f3a"
             ],
             [
              0.8888888888888888,
              "#fdca26"
             ],
             [
              1,
              "#f0f921"
             ]
            ],
            "type": "contour"
           }
          ],
          "contourcarpet": [
           {
            "colorbar": {
             "outlinewidth": 0,
             "ticks": ""
            },
            "type": "contourcarpet"
           }
          ],
          "heatmap": [
           {
            "colorbar": {
             "outlinewidth": 0,
             "ticks": ""
            },
            "colorscale": [
             [
              0,
              "#0d0887"
             ],
             [
              0.1111111111111111,
              "#46039f"
             ],
             [
              0.2222222222222222,
              "#7201a8"
             ],
             [
              0.3333333333333333,
              "#9c179e"
             ],
             [
              0.4444444444444444,
              "#bd3786"
             ],
             [
              0.5555555555555556,
              "#d8576b"
             ],
             [
              0.6666666666666666,
              "#ed7953"
             ],
             [
              0.7777777777777778,
              "#fb9f3a"
             ],
             [
              0.8888888888888888,
              "#fdca26"
             ],
             [
              1,
              "#f0f921"
             ]
            ],
            "type": "heatmap"
           }
          ],
          "heatmapgl": [
           {
            "colorbar": {
             "outlinewidth": 0,
             "ticks": ""
            },
            "colorscale": [
             [
              0,
              "#0d0887"
             ],
             [
              0.1111111111111111,
              "#46039f"
             ],
             [
              0.2222222222222222,
              "#7201a8"
             ],
             [
              0.3333333333333333,
              "#9c179e"
             ],
             [
              0.4444444444444444,
              "#bd3786"
             ],
             [
              0.5555555555555556,
              "#d8576b"
             ],
             [
              0.6666666666666666,
              "#ed7953"
             ],
             [
              0.7777777777777778,
              "#fb9f3a"
             ],
             [
              0.8888888888888888,
              "#fdca26"
             ],
             [
              1,
              "#f0f921"
             ]
            ],
            "type": "heatmapgl"
           }
          ],
          "histogram": [
           {
            "marker": {
             "colorbar": {
              "outlinewidth": 0,
              "ticks": ""
             }
            },
            "type": "histogram"
           }
          ],
          "histogram2d": [
           {
            "colorbar": {
             "outlinewidth": 0,
             "ticks": ""
            },
            "colorscale": [
             [
              0,
              "#0d0887"
             ],
             [
              0.1111111111111111,
              "#46039f"
             ],
             [
              0.2222222222222222,
              "#7201a8"
             ],
             [
              0.3333333333333333,
              "#9c179e"
             ],
             [
              0.4444444444444444,
              "#bd3786"
             ],
             [
              0.5555555555555556,
              "#d8576b"
             ],
             [
              0.6666666666666666,
              "#ed7953"
             ],
             [
              0.7777777777777778,
              "#fb9f3a"
             ],
             [
              0.8888888888888888,
              "#fdca26"
             ],
             [
              1,
              "#f0f921"
             ]
            ],
            "type": "histogram2d"
           }
          ],
          "histogram2dcontour": [
           {
            "colorbar": {
             "outlinewidth": 0,
             "ticks": ""
            },
            "colorscale": [
             [
              0,
              "#0d0887"
             ],
             [
              0.1111111111111111,
              "#46039f"
             ],
             [
              0.2222222222222222,
              "#7201a8"
             ],
             [
              0.3333333333333333,
              "#9c179e"
             ],
             [
              0.4444444444444444,
              "#bd3786"
             ],
             [
              0.5555555555555556,
              "#d8576b"
             ],
             [
              0.6666666666666666,
              "#ed7953"
             ],
             [
              0.7777777777777778,
              "#fb9f3a"
             ],
             [
              0.8888888888888888,
              "#fdca26"
             ],
             [
              1,
              "#f0f921"
             ]
            ],
            "type": "histogram2dcontour"
           }
          ],
          "mesh3d": [
           {
            "colorbar": {
             "outlinewidth": 0,
             "ticks": ""
            },
            "type": "mesh3d"
           }
          ],
          "parcoords": [
           {
            "line": {
             "colorbar": {
              "outlinewidth": 0,
              "ticks": ""
             }
            },
            "type": "parcoords"
           }
          ],
          "pie": [
           {
            "automargin": true,
            "type": "pie"
           }
          ],
          "scatter": [
           {
            "marker": {
             "colorbar": {
              "outlinewidth": 0,
              "ticks": ""
             }
            },
            "type": "scatter"
           }
          ],
          "scatter3d": [
           {
            "line": {
             "colorbar": {
              "outlinewidth": 0,
              "ticks": ""
             }
            },
            "marker": {
             "colorbar": {
              "outlinewidth": 0,
              "ticks": ""
             }
            },
            "type": "scatter3d"
           }
          ],
          "scattercarpet": [
           {
            "marker": {
             "colorbar": {
              "outlinewidth": 0,
              "ticks": ""
             }
            },
            "type": "scattercarpet"
           }
          ],
          "scattergeo": [
           {
            "marker": {
             "colorbar": {
              "outlinewidth": 0,
              "ticks": ""
             }
            },
            "type": "scattergeo"
           }
          ],
          "scattergl": [
           {
            "marker": {
             "colorbar": {
              "outlinewidth": 0,
              "ticks": ""
             }
            },
            "type": "scattergl"
           }
          ],
          "scattermapbox": [
           {
            "marker": {
             "colorbar": {
              "outlinewidth": 0,
              "ticks": ""
             }
            },
            "type": "scattermapbox"
           }
          ],
          "scatterpolar": [
           {
            "marker": {
             "colorbar": {
              "outlinewidth": 0,
              "ticks": ""
             }
            },
            "type": "scatterpolar"
           }
          ],
          "scatterpolargl": [
           {
            "marker": {
             "colorbar": {
              "outlinewidth": 0,
              "ticks": ""
             }
            },
            "type": "scatterpolargl"
           }
          ],
          "scatterternary": [
           {
            "marker": {
             "colorbar": {
              "outlinewidth": 0,
              "ticks": ""
             }
            },
            "type": "scatterternary"
           }
          ],
          "surface": [
           {
            "colorbar": {
             "outlinewidth": 0,
             "ticks": ""
            },
            "colorscale": [
             [
              0,
              "#0d0887"
             ],
             [
              0.1111111111111111,
              "#46039f"
             ],
             [
              0.2222222222222222,
              "#7201a8"
             ],
             [
              0.3333333333333333,
              "#9c179e"
             ],
             [
              0.4444444444444444,
              "#bd3786"
             ],
             [
              0.5555555555555556,
              "#d8576b"
             ],
             [
              0.6666666666666666,
              "#ed7953"
             ],
             [
              0.7777777777777778,
              "#fb9f3a"
             ],
             [
              0.8888888888888888,
              "#fdca26"
             ],
             [
              1,
              "#f0f921"
             ]
            ],
            "type": "surface"
           }
          ],
          "table": [
           {
            "cells": {
             "fill": {
              "color": "#EBF0F8"
             },
             "line": {
              "color": "white"
             }
            },
            "header": {
             "fill": {
              "color": "#C8D4E3"
             },
             "line": {
              "color": "white"
             }
            },
            "type": "table"
           }
          ]
         },
         "layout": {
          "annotationdefaults": {
           "arrowcolor": "#2a3f5f",
           "arrowhead": 0,
           "arrowwidth": 1
          },
          "coloraxis": {
           "colorbar": {
            "outlinewidth": 0,
            "ticks": ""
           }
          },
          "colorscale": {
           "diverging": [
            [
             0,
             "#8e0152"
            ],
            [
             0.1,
             "#c51b7d"
            ],
            [
             0.2,
             "#de77ae"
            ],
            [
             0.3,
             "#f1b6da"
            ],
            [
             0.4,
             "#fde0ef"
            ],
            [
             0.5,
             "#f7f7f7"
            ],
            [
             0.6,
             "#e6f5d0"
            ],
            [
             0.7,
             "#b8e186"
            ],
            [
             0.8,
             "#7fbc41"
            ],
            [
             0.9,
             "#4d9221"
            ],
            [
             1,
             "#276419"
            ]
           ],
           "sequential": [
            [
             0,
             "#0d0887"
            ],
            [
             0.1111111111111111,
             "#46039f"
            ],
            [
             0.2222222222222222,
             "#7201a8"
            ],
            [
             0.3333333333333333,
             "#9c179e"
            ],
            [
             0.4444444444444444,
             "#bd3786"
            ],
            [
             0.5555555555555556,
             "#d8576b"
            ],
            [
             0.6666666666666666,
             "#ed7953"
            ],
            [
             0.7777777777777778,
             "#fb9f3a"
            ],
            [
             0.8888888888888888,
             "#fdca26"
            ],
            [
             1,
             "#f0f921"
            ]
           ],
           "sequentialminus": [
            [
             0,
             "#0d0887"
            ],
            [
             0.1111111111111111,
             "#46039f"
            ],
            [
             0.2222222222222222,
             "#7201a8"
            ],
            [
             0.3333333333333333,
             "#9c179e"
            ],
            [
             0.4444444444444444,
             "#bd3786"
            ],
            [
             0.5555555555555556,
             "#d8576b"
            ],
            [
             0.6666666666666666,
             "#ed7953"
            ],
            [
             0.7777777777777778,
             "#fb9f3a"
            ],
            [
             0.8888888888888888,
             "#fdca26"
            ],
            [
             1,
             "#f0f921"
            ]
           ]
          },
          "colorway": [
           "#636efa",
           "#EF553B",
           "#00cc96",
           "#ab63fa",
           "#FFA15A",
           "#19d3f3",
           "#FF6692",
           "#B6E880",
           "#FF97FF",
           "#FECB52"
          ],
          "font": {
           "color": "#2a3f5f"
          },
          "geo": {
           "bgcolor": "white",
           "lakecolor": "white",
           "landcolor": "#E5ECF6",
           "showlakes": true,
           "showland": true,
           "subunitcolor": "white"
          },
          "hoverlabel": {
           "align": "left"
          },
          "hovermode": "closest",
          "mapbox": {
           "style": "light"
          },
          "paper_bgcolor": "white",
          "plot_bgcolor": "#E5ECF6",
          "polar": {
           "angularaxis": {
            "gridcolor": "white",
            "linecolor": "white",
            "ticks": ""
           },
           "bgcolor": "#E5ECF6",
           "radialaxis": {
            "gridcolor": "white",
            "linecolor": "white",
            "ticks": ""
           }
          },
          "scene": {
           "xaxis": {
            "backgroundcolor": "#E5ECF6",
            "gridcolor": "white",
            "gridwidth": 2,
            "linecolor": "white",
            "showbackground": true,
            "ticks": "",
            "zerolinecolor": "white"
           },
           "yaxis": {
            "backgroundcolor": "#E5ECF6",
            "gridcolor": "white",
            "gridwidth": 2,
            "linecolor": "white",
            "showbackground": true,
            "ticks": "",
            "zerolinecolor": "white"
           },
           "zaxis": {
            "backgroundcolor": "#E5ECF6",
            "gridcolor": "white",
            "gridwidth": 2,
            "linecolor": "white",
            "showbackground": true,
            "ticks": "",
            "zerolinecolor": "white"
           }
          },
          "shapedefaults": {
           "line": {
            "color": "#2a3f5f"
           }
          },
          "ternary": {
           "aaxis": {
            "gridcolor": "white",
            "linecolor": "white",
            "ticks": ""
           },
           "baxis": {
            "gridcolor": "white",
            "linecolor": "white",
            "ticks": ""
           },
           "bgcolor": "#E5ECF6",
           "caxis": {
            "gridcolor": "white",
            "linecolor": "white",
            "ticks": ""
           }
          },
          "title": {
           "x": 0.05
          },
          "xaxis": {
           "automargin": true,
           "gridcolor": "white",
           "linecolor": "white",
           "ticks": "",
           "title": {
            "standoff": 15
           },
           "zerolinecolor": "white",
           "zerolinewidth": 2
          },
          "yaxis": {
           "automargin": true,
           "gridcolor": "white",
           "linecolor": "white",
           "ticks": "",
           "title": {
            "standoff": 15
           },
           "zerolinecolor": "white",
           "zerolinewidth": 2
          }
         }
        },
        "title": {
         "text": "2014 Global GDP"
        }
       }
      },
      "text/html": [
       "<div>\n",
       "        \n",
       "        \n",
       "            <div id=\"fdb18bd0-d892-4eee-9b45-909f5c2b5359\" class=\"plotly-graph-div\" style=\"height:525px; width:100%;\"></div>\n",
       "            <script type=\"text/javascript\">\n",
       "                require([\"plotly\"], function(Plotly) {\n",
       "                    window.PLOTLYENV=window.PLOTLYENV || {};\n",
       "                    \n",
       "                if (document.getElementById(\"fdb18bd0-d892-4eee-9b45-909f5c2b5359\")) {\n",
       "                    Plotly.newPlot(\n",
       "                        'fdb18bd0-d892-4eee-9b45-909f5c2b5359',\n",
       "                        [{\"colorbar\": {\"title\": {\"text\": \"GDP in Billions USD\"}}, \"locations\": [\"AFG\", \"ALB\", \"DZA\", \"ASM\", \"AND\", \"AGO\", \"AIA\", \"ATG\", \"ARG\", \"ARM\", \"ABW\", \"AUS\", \"AUT\", \"AZE\", \"BHM\", \"BHR\", \"BGD\", \"BRB\", \"BLR\", \"BEL\", \"BLZ\", \"BEN\", \"BMU\", \"BTN\", \"BOL\", \"BIH\", \"BWA\", \"BRA\", \"VGB\", \"BRN\", \"BGR\", \"BFA\", \"MMR\", \"BDI\", \"CPV\", \"KHM\", \"CMR\", \"CAN\", \"CYM\", \"CAF\", \"TCD\", \"CHL\", \"CHN\", \"COL\", \"COM\", \"COD\", \"COG\", \"COK\", \"CRI\", \"CIV\", \"HRV\", \"CUB\", \"CUW\", \"CYP\", \"CZE\", \"DNK\", \"DJI\", \"DMA\", \"DOM\", \"ECU\", \"EGY\", \"SLV\", \"GNQ\", \"ERI\", \"EST\", \"ETH\", \"FLK\", \"FRO\", \"FJI\", \"FIN\", \"FRA\", \"PYF\", \"GAB\", \"GMB\", \"GEO\", \"DEU\", \"GHA\", \"GIB\", \"GRC\", \"GRL\", \"GRD\", \"GUM\", \"GTM\", \"GGY\", \"GNB\", \"GIN\", \"GUY\", \"HTI\", \"HND\", \"HKG\", \"HUN\", \"ISL\", \"IND\", \"IDN\", \"IRN\", \"IRQ\", \"IRL\", \"IMN\", \"ISR\", \"ITA\", \"JAM\", \"JPN\", \"JEY\", \"JOR\", \"KAZ\", \"KEN\", \"KIR\", \"KOR\", \"PRK\", \"KSV\", \"KWT\", \"KGZ\", \"LAO\", \"LVA\", \"LBN\", \"LSO\", \"LBR\", \"LBY\", \"LIE\", \"LTU\", \"LUX\", \"MAC\", \"MKD\", \"MDG\", \"MWI\", \"MYS\", \"MDV\", \"MLI\", \"MLT\", \"MHL\", \"MRT\", \"MUS\", \"MEX\", \"FSM\", \"MDA\", \"MCO\", \"MNG\", \"MNE\", \"MAR\", \"MOZ\", \"NAM\", \"NPL\", \"NLD\", \"NCL\", \"NZL\", \"NIC\", \"NGA\", \"NER\", \"NIU\", \"MNP\", \"NOR\", \"OMN\", \"PAK\", \"PLW\", \"PAN\", \"PNG\", \"PRY\", \"PER\", \"PHL\", \"POL\", \"PRT\", \"PRI\", \"QAT\", \"ROU\", \"RUS\", \"RWA\", \"KNA\", \"LCA\", \"MAF\", \"SPM\", \"VCT\", \"WSM\", \"SMR\", \"STP\", \"SAU\", \"SEN\", \"SRB\", \"SYC\", \"SLE\", \"SGP\", \"SXM\", \"SVK\", \"SVN\", \"SLB\", \"SOM\", \"ZAF\", \"SSD\", \"ESP\", \"LKA\", \"SDN\", \"SUR\", \"SWZ\", \"SWE\", \"CHE\", \"SYR\", \"TWN\", \"TJK\", \"TZA\", \"THA\", \"TLS\", \"TGO\", \"TON\", \"TTO\", \"TUN\", \"TUR\", \"TKM\", \"TUV\", \"UGA\", \"UKR\", \"ARE\", \"GBR\", \"USA\", \"URY\", \"UZB\", \"VUT\", \"VEN\", \"VNM\", \"VGB\", \"WBG\", \"YEM\", \"ZMB\", \"ZWE\"], \"text\": [\"Afghanistan\", \"Albania\", \"Algeria\", \"American Samoa\", \"Andorra\", \"Angola\", \"Anguilla\", \"Antigua and Barbuda\", \"Argentina\", \"Armenia\", \"Aruba\", \"Australia\", \"Austria\", \"Azerbaijan\", \"Bahamas, The\", \"Bahrain\", \"Bangladesh\", \"Barbados\", \"Belarus\", \"Belgium\", \"Belize\", \"Benin\", \"Bermuda\", \"Bhutan\", \"Bolivia\", \"Bosnia and Herzegovina\", \"Botswana\", \"Brazil\", \"British Virgin Islands\", \"Brunei\", \"Bulgaria\", \"Burkina Faso\", \"Burma\", \"Burundi\", \"Cabo Verde\", \"Cambodia\", \"Cameroon\", \"Canada\", \"Cayman Islands\", \"Central African Republic\", \"Chad\", \"Chile\", \"China\", \"Colombia\", \"Comoros\", \"Congo, Democratic Republic of the\", \"Congo, Republic of the\", \"Cook Islands\", \"Costa Rica\", \"Cote d'Ivoire\", \"Croatia\", \"Cuba\", \"Curacao\", \"Cyprus\", \"Czech Republic\", \"Denmark\", \"Djibouti\", \"Dominica\", \"Dominican Republic\", \"Ecuador\", \"Egypt\", \"El Salvador\", \"Equatorial Guinea\", \"Eritrea\", \"Estonia\", \"Ethiopia\", \"Falkland Islands (Islas Malvinas)\", \"Faroe Islands\", \"Fiji\", \"Finland\", \"France\", \"French Polynesia\", \"Gabon\", \"Gambia, The\", \"Georgia\", \"Germany\", \"Ghana\", \"Gibraltar\", \"Greece\", \"Greenland\", \"Grenada\", \"Guam\", \"Guatemala\", \"Guernsey\", \"Guinea-Bissau\", \"Guinea\", \"Guyana\", \"Haiti\", \"Honduras\", \"Hong Kong\", \"Hungary\", \"Iceland\", \"India\", \"Indonesia\", \"Iran\", \"Iraq\", \"Ireland\", \"Isle of Man\", \"Israel\", \"Italy\", \"Jamaica\", \"Japan\", \"Jersey\", \"Jordan\", \"Kazakhstan\", \"Kenya\", \"Kiribati\", \"Korea, North\", \"Korea, South\", \"Kosovo\", \"Kuwait\", \"Kyrgyzstan\", \"Laos\", \"Latvia\", \"Lebanon\", \"Lesotho\", \"Liberia\", \"Libya\", \"Liechtenstein\", \"Lithuania\", \"Luxembourg\", \"Macau\", \"Macedonia\", \"Madagascar\", \"Malawi\", \"Malaysia\", \"Maldives\", \"Mali\", \"Malta\", \"Marshall Islands\", \"Mauritania\", \"Mauritius\", \"Mexico\", \"Micronesia, Federated States of\", \"Moldova\", \"Monaco\", \"Mongolia\", \"Montenegro\", \"Morocco\", \"Mozambique\", \"Namibia\", \"Nepal\", \"Netherlands\", \"New Caledonia\", \"New Zealand\", \"Nicaragua\", \"Nigeria\", \"Niger\", \"Niue\", \"Northern Mariana Islands\", \"Norway\", \"Oman\", \"Pakistan\", \"Palau\", \"Panama\", \"Papua New Guinea\", \"Paraguay\", \"Peru\", \"Philippines\", \"Poland\", \"Portugal\", \"Puerto Rico\", \"Qatar\", \"Romania\", \"Russia\", \"Rwanda\", \"Saint Kitts and Nevis\", \"Saint Lucia\", \"Saint Martin\", \"Saint Pierre and Miquelon\", \"Saint Vincent and the Grenadines\", \"Samoa\", \"San Marino\", \"Sao Tome and Principe\", \"Saudi Arabia\", \"Senegal\", \"Serbia\", \"Seychelles\", \"Sierra Leone\", \"Singapore\", \"Sint Maarten\", \"Slovakia\", \"Slovenia\", \"Solomon Islands\", \"Somalia\", \"South Africa\", \"South Sudan\", \"Spain\", \"Sri Lanka\", \"Sudan\", \"Suriname\", \"Swaziland\", \"Sweden\", \"Switzerland\", \"Syria\", \"Taiwan\", \"Tajikistan\", \"Tanzania\", \"Thailand\", \"Timor-Leste\", \"Togo\", \"Tonga\", \"Trinidad and Tobago\", \"Tunisia\", \"Turkey\", \"Turkmenistan\", \"Tuvalu\", \"Uganda\", \"Ukraine\", \"United Arab Emirates\", \"United Kingdom\", \"United States\", \"Uruguay\", \"Uzbekistan\", \"Vanuatu\", \"Venezuela\", \"Vietnam\", \"Virgin Islands\", \"West Bank\", \"Yemen\", \"Zambia\", \"Zimbabwe\"], \"type\": \"choropleth\", \"z\": [21.71, 13.4, 227.8, 0.75, 4.8, 131.4, 0.18, 1.24, 536.2, 10.88, 2.52, 1483.0, 436.1, 77.91, 8.65, 34.05, 186.6, 4.28, 75.25, 527.8, 1.67, 9.24, 5.2, 2.09, 34.08, 19.55, 16.3, 2244.0, 1.1, 17.43, 55.08, 13.38, 65.29, 3.04, 1.98, 16.9, 32.16, 1794.0, 2.25, 1.73, 15.84, 264.1, 10360.0, 400.1, 0.72, 32.67, 14.11, 0.18, 50.46, 33.96, 57.18, 77.15, 5.6, 21.34, 205.6, 347.2, 1.58, 0.51, 64.05, 100.5, 284.9, 25.14, 15.4, 3.87, 26.36, 49.86, 0.16, 2.32, 4.17, 276.3, 2902.0, 7.15, 20.68, 0.92, 16.13, 3820.0, 35.48, 1.85, 246.4, 2.16, 0.84, 4.6, 58.3, 2.74, 1.04, 6.77, 3.14, 8.92, 19.37, 292.7, 129.7, 16.2, 2048.0, 856.1, 402.7, 232.2, 245.8, 4.08, 305.0, 2129.0, 13.92, 4770.0, 5.77, 36.55, 225.6, 62.72, 0.16, 28.0, 1410.0, 5.99, 179.3, 7.65, 11.71, 32.82, 47.5, 2.46, 2.07, 49.34, 5.11, 48.72, 63.93, 51.68, 10.92, 11.19, 4.41, 336.9, 2.41, 12.04, 10.57, 0.18, 4.29, 12.72, 1296.0, 0.34, 7.74, 6.06, 11.73, 4.66, 112.6, 16.59, 13.11, 19.64, 880.4, 11.1, 201.0, 11.85, 594.3, 8.29, 0.01, 1.23, 511.6, 80.54, 237.5, 0.65, 44.69, 16.1, 31.3, 208.2, 284.6, 552.2, 228.2, 93.52, 212.0, 199.0, 2057.0, 8.0, 0.81, 1.35, 0.56, 0.22, 0.75, 0.83, 1.86, 0.36, 777.9, 15.88, 42.65, 1.47, 5.41, 307.9, 304.1, 99.75, 49.93, 1.16, 2.37, 341.2, 11.89, 1400.0, 71.57, 70.03, 5.27, 3.84, 559.1, 679.0, 64.7, 529.5, 9.16, 36.62, 373.8, 4.51, 4.84, 0.49, 29.63, 49.12, 813.3, 43.5, 0.04, 26.09, 134.9, 416.4, 2848.0, 17420.0, 55.6, 63.08, 0.82, 209.2, 187.8, 5.08, 6.64, 45.45, 25.61, 13.74]}],\n",
       "                        {\"geo\": {\"projection\": {\"type\": \"mercator\"}, \"showframe\": false, \"showlakes\": true}, \"template\": {\"data\": {\"bar\": [{\"error_x\": {\"color\": \"#2a3f5f\"}, \"error_y\": {\"color\": \"#2a3f5f\"}, \"marker\": {\"line\": {\"color\": \"#E5ECF6\", \"width\": 0.5}}, \"type\": \"bar\"}], \"barpolar\": [{\"marker\": {\"line\": {\"color\": \"#E5ECF6\", \"width\": 0.5}}, \"type\": \"barpolar\"}], \"carpet\": [{\"aaxis\": {\"endlinecolor\": \"#2a3f5f\", \"gridcolor\": \"white\", \"linecolor\": \"white\", \"minorgridcolor\": \"white\", \"startlinecolor\": \"#2a3f5f\"}, \"baxis\": {\"endlinecolor\": \"#2a3f5f\", \"gridcolor\": \"white\", \"linecolor\": \"white\", \"minorgridcolor\": \"white\", \"startlinecolor\": \"#2a3f5f\"}, \"type\": \"carpet\"}], \"choropleth\": [{\"colorbar\": {\"outlinewidth\": 0, \"ticks\": \"\"}, \"type\": \"choropleth\"}], \"contour\": [{\"colorbar\": {\"outlinewidth\": 0, \"ticks\": \"\"}, \"colorscale\": [[0.0, \"#0d0887\"], [0.1111111111111111, \"#46039f\"], [0.2222222222222222, \"#7201a8\"], [0.3333333333333333, \"#9c179e\"], [0.4444444444444444, \"#bd3786\"], [0.5555555555555556, \"#d8576b\"], [0.6666666666666666, \"#ed7953\"], [0.7777777777777778, \"#fb9f3a\"], [0.8888888888888888, \"#fdca26\"], [1.0, \"#f0f921\"]], \"type\": \"contour\"}], \"contourcarpet\": [{\"colorbar\": {\"outlinewidth\": 0, \"ticks\": \"\"}, \"type\": \"contourcarpet\"}], \"heatmap\": [{\"colorbar\": {\"outlinewidth\": 0, \"ticks\": \"\"}, \"colorscale\": [[0.0, \"#0d0887\"], [0.1111111111111111, \"#46039f\"], [0.2222222222222222, \"#7201a8\"], [0.3333333333333333, \"#9c179e\"], [0.4444444444444444, \"#bd3786\"], [0.5555555555555556, \"#d8576b\"], [0.6666666666666666, \"#ed7953\"], [0.7777777777777778, \"#fb9f3a\"], [0.8888888888888888, \"#fdca26\"], [1.0, \"#f0f921\"]], \"type\": \"heatmap\"}], \"heatmapgl\": [{\"colorbar\": {\"outlinewidth\": 0, \"ticks\": \"\"}, \"colorscale\": [[0.0, \"#0d0887\"], [0.1111111111111111, \"#46039f\"], [0.2222222222222222, \"#7201a8\"], [0.3333333333333333, \"#9c179e\"], [0.4444444444444444, \"#bd3786\"], [0.5555555555555556, \"#d8576b\"], [0.6666666666666666, \"#ed7953\"], [0.7777777777777778, \"#fb9f3a\"], [0.8888888888888888, \"#fdca26\"], [1.0, \"#f0f921\"]], \"type\": \"heatmapgl\"}], \"histogram\": [{\"marker\": {\"colorbar\": {\"outlinewidth\": 0, \"ticks\": \"\"}}, \"type\": \"histogram\"}], \"histogram2d\": [{\"colorbar\": {\"outlinewidth\": 0, \"ticks\": \"\"}, \"colorscale\": [[0.0, \"#0d0887\"], [0.1111111111111111, \"#46039f\"], [0.2222222222222222, \"#7201a8\"], [0.3333333333333333, \"#9c179e\"], [0.4444444444444444, \"#bd3786\"], [0.5555555555555556, \"#d8576b\"], [0.6666666666666666, \"#ed7953\"], [0.7777777777777778, \"#fb9f3a\"], [0.8888888888888888, \"#fdca26\"], [1.0, \"#f0f921\"]], \"type\": \"histogram2d\"}], \"histogram2dcontour\": [{\"colorbar\": {\"outlinewidth\": 0, \"ticks\": \"\"}, \"colorscale\": [[0.0, \"#0d0887\"], [0.1111111111111111, \"#46039f\"], [0.2222222222222222, \"#7201a8\"], [0.3333333333333333, \"#9c179e\"], [0.4444444444444444, \"#bd3786\"], [0.5555555555555556, \"#d8576b\"], [0.6666666666666666, \"#ed7953\"], [0.7777777777777778, \"#fb9f3a\"], [0.8888888888888888, \"#fdca26\"], [1.0, \"#f0f921\"]], \"type\": \"histogram2dcontour\"}], \"mesh3d\": [{\"colorbar\": {\"outlinewidth\": 0, \"ticks\": \"\"}, \"type\": \"mesh3d\"}], \"parcoords\": [{\"line\": {\"colorbar\": {\"outlinewidth\": 0, \"ticks\": \"\"}}, \"type\": \"parcoords\"}], \"pie\": [{\"automargin\": true, \"type\": \"pie\"}], \"scatter\": [{\"marker\": {\"colorbar\": {\"outlinewidth\": 0, \"ticks\": \"\"}}, \"type\": \"scatter\"}], \"scatter3d\": [{\"line\": {\"colorbar\": {\"outlinewidth\": 0, \"ticks\": \"\"}}, \"marker\": {\"colorbar\": {\"outlinewidth\": 0, \"ticks\": \"\"}}, \"type\": \"scatter3d\"}], \"scattercarpet\": [{\"marker\": {\"colorbar\": {\"outlinewidth\": 0, \"ticks\": \"\"}}, \"type\": \"scattercarpet\"}], \"scattergeo\": [{\"marker\": {\"colorbar\": {\"outlinewidth\": 0, \"ticks\": \"\"}}, \"type\": \"scattergeo\"}], \"scattergl\": [{\"marker\": {\"colorbar\": {\"outlinewidth\": 0, \"ticks\": \"\"}}, \"type\": \"scattergl\"}], \"scattermapbox\": [{\"marker\": {\"colorbar\": {\"outlinewidth\": 0, \"ticks\": \"\"}}, \"type\": \"scattermapbox\"}], \"scatterpolar\": [{\"marker\": {\"colorbar\": {\"outlinewidth\": 0, \"ticks\": \"\"}}, \"type\": \"scatterpolar\"}], \"scatterpolargl\": [{\"marker\": {\"colorbar\": {\"outlinewidth\": 0, \"ticks\": \"\"}}, \"type\": \"scatterpolargl\"}], \"scatterternary\": [{\"marker\": {\"colorbar\": {\"outlinewidth\": 0, \"ticks\": \"\"}}, \"type\": \"scatterternary\"}], \"surface\": [{\"colorbar\": {\"outlinewidth\": 0, \"ticks\": \"\"}, \"colorscale\": [[0.0, \"#0d0887\"], [0.1111111111111111, \"#46039f\"], [0.2222222222222222, \"#7201a8\"], [0.3333333333333333, \"#9c179e\"], [0.4444444444444444, \"#bd3786\"], [0.5555555555555556, \"#d8576b\"], [0.6666666666666666, \"#ed7953\"], [0.7777777777777778, \"#fb9f3a\"], [0.8888888888888888, \"#fdca26\"], [1.0, \"#f0f921\"]], \"type\": \"surface\"}], \"table\": [{\"cells\": {\"fill\": {\"color\": \"#EBF0F8\"}, \"line\": {\"color\": \"white\"}}, \"header\": {\"fill\": {\"color\": \"#C8D4E3\"}, \"line\": {\"color\": \"white\"}}, \"type\": \"table\"}]}, \"layout\": {\"annotationdefaults\": {\"arrowcolor\": \"#2a3f5f\", \"arrowhead\": 0, \"arrowwidth\": 1}, \"coloraxis\": {\"colorbar\": {\"outlinewidth\": 0, \"ticks\": \"\"}}, \"colorscale\": {\"diverging\": [[0, \"#8e0152\"], [0.1, \"#c51b7d\"], [0.2, \"#de77ae\"], [0.3, \"#f1b6da\"], [0.4, \"#fde0ef\"], [0.5, \"#f7f7f7\"], [0.6, \"#e6f5d0\"], [0.7, \"#b8e186\"], [0.8, \"#7fbc41\"], [0.9, \"#4d9221\"], [1, \"#276419\"]], \"sequential\": [[0.0, \"#0d0887\"], [0.1111111111111111, \"#46039f\"], [0.2222222222222222, \"#7201a8\"], [0.3333333333333333, \"#9c179e\"], [0.4444444444444444, \"#bd3786\"], [0.5555555555555556, \"#d8576b\"], [0.6666666666666666, \"#ed7953\"], [0.7777777777777778, \"#fb9f3a\"], [0.8888888888888888, \"#fdca26\"], [1.0, \"#f0f921\"]], \"sequentialminus\": [[0.0, \"#0d0887\"], [0.1111111111111111, \"#46039f\"], [0.2222222222222222, \"#7201a8\"], [0.3333333333333333, \"#9c179e\"], [0.4444444444444444, \"#bd3786\"], [0.5555555555555556, \"#d8576b\"], [0.6666666666666666, \"#ed7953\"], [0.7777777777777778, \"#fb9f3a\"], [0.8888888888888888, \"#fdca26\"], [1.0, \"#f0f921\"]]}, \"colorway\": [\"#636efa\", \"#EF553B\", \"#00cc96\", \"#ab63fa\", \"#FFA15A\", \"#19d3f3\", \"#FF6692\", \"#B6E880\", \"#FF97FF\", \"#FECB52\"], \"font\": {\"color\": \"#2a3f5f\"}, \"geo\": {\"bgcolor\": \"white\", \"lakecolor\": \"white\", \"landcolor\": \"#E5ECF6\", \"showlakes\": true, \"showland\": true, \"subunitcolor\": \"white\"}, \"hoverlabel\": {\"align\": \"left\"}, \"hovermode\": \"closest\", \"mapbox\": {\"style\": \"light\"}, \"paper_bgcolor\": \"white\", \"plot_bgcolor\": \"#E5ECF6\", \"polar\": {\"angularaxis\": {\"gridcolor\": \"white\", \"linecolor\": \"white\", \"ticks\": \"\"}, \"bgcolor\": \"#E5ECF6\", \"radialaxis\": {\"gridcolor\": \"white\", \"linecolor\": \"white\", \"ticks\": \"\"}}, \"scene\": {\"xaxis\": {\"backgroundcolor\": \"#E5ECF6\", \"gridcolor\": \"white\", \"gridwidth\": 2, \"linecolor\": \"white\", \"showbackground\": true, \"ticks\": \"\", \"zerolinecolor\": \"white\"}, \"yaxis\": {\"backgroundcolor\": \"#E5ECF6\", \"gridcolor\": \"white\", \"gridwidth\": 2, \"linecolor\": \"white\", \"showbackground\": true, \"ticks\": \"\", \"zerolinecolor\": \"white\"}, \"zaxis\": {\"backgroundcolor\": \"#E5ECF6\", \"gridcolor\": \"white\", \"gridwidth\": 2, \"linecolor\": \"white\", \"showbackground\": true, \"ticks\": \"\", \"zerolinecolor\": \"white\"}}, \"shapedefaults\": {\"line\": {\"color\": \"#2a3f5f\"}}, \"ternary\": {\"aaxis\": {\"gridcolor\": \"white\", \"linecolor\": \"white\", \"ticks\": \"\"}, \"baxis\": {\"gridcolor\": \"white\", \"linecolor\": \"white\", \"ticks\": \"\"}, \"bgcolor\": \"#E5ECF6\", \"caxis\": {\"gridcolor\": \"white\", \"linecolor\": \"white\", \"ticks\": \"\"}}, \"title\": {\"x\": 0.05}, \"xaxis\": {\"automargin\": true, \"gridcolor\": \"white\", \"linecolor\": \"white\", \"ticks\": \"\", \"title\": {\"standoff\": 15}, \"zerolinecolor\": \"white\", \"zerolinewidth\": 2}, \"yaxis\": {\"automargin\": true, \"gridcolor\": \"white\", \"linecolor\": \"white\", \"ticks\": \"\", \"title\": {\"standoff\": 15}, \"zerolinecolor\": \"white\", \"zerolinewidth\": 2}}}, \"title\": {\"text\": \"2014 Global GDP\"}},\n",
       "                        {\"responsive\": true}\n",
       "                    ).then(function(){\n",
       "                            \n",
       "var gd = document.getElementById('fdb18bd0-d892-4eee-9b45-909f5c2b5359');\n",
       "var x = new MutationObserver(function (mutations, observer) {{\n",
       "        var display = window.getComputedStyle(gd).display;\n",
       "        if (!display || display === 'none') {{\n",
       "            console.log([gd, 'removed!']);\n",
       "            Plotly.purge(gd);\n",
       "            observer.disconnect();\n",
       "        }}\n",
       "}});\n",
       "\n",
       "// Listen for the removal of the full notebook cells\n",
       "var notebookContainer = gd.closest('#notebook-container');\n",
       "if (notebookContainer) {{\n",
       "    x.observe(notebookContainer, {childList: true});\n",
       "}}\n",
       "\n",
       "// Listen for the clearing of the current output cell\n",
       "var outputEl = gd.closest('.output');\n",
       "if (outputEl) {{\n",
       "    x.observe(outputEl, {childList: true});\n",
       "}}\n",
       "\n",
       "                        })\n",
       "                };\n",
       "                });\n",
       "            </script>\n",
       "        </div>"
      ]
     },
     "metadata": {},
     "output_type": "display_data"
    }
   ],
   "source": [
    "iplot(choromap3)"
   ]
  },
  {
   "cell_type": "code",
   "execution_count": null,
   "metadata": {},
   "outputs": [],
   "source": []
  }
 ],
 "metadata": {
  "kernelspec": {
   "display_name": "Python 3",
   "language": "python",
   "name": "python3"
  },
  "language_info": {
   "codemirror_mode": {
    "name": "ipython",
    "version": 3
   },
   "file_extension": ".py",
   "mimetype": "text/x-python",
   "name": "python",
   "nbconvert_exporter": "python",
   "pygments_lexer": "ipython3",
   "version": "3.7.6"
  }
 },
 "nbformat": 4,
 "nbformat_minor": 4
}
